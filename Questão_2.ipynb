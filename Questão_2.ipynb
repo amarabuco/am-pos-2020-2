{
  "nbformat": 4,
  "nbformat_minor": 0,
  "metadata": {
    "colab": {
      "name": "Questão 2",
      "provenance": [],
      "collapsed_sections": [],
      "toc_visible": true,
      "authorship_tag": "ABX9TyNGz60xNeSnN3bNMSnYVtr6",
      "include_colab_link": true
    },
    "kernelspec": {
      "display_name": "Python 3",
      "name": "python3"
    }
  },
  "cells": [
    {
      "cell_type": "markdown",
      "metadata": {
        "id": "view-in-github",
        "colab_type": "text"
      },
      "source": [
        "<a href=\"https://colab.research.google.com/github/amarabuco/am-pos-2020-2/blob/main/Quest%C3%A3o_2.ipynb\" target=\"_parent\"><img src=\"https://colab.research.google.com/assets/colab-badge.svg\" alt=\"Open In Colab\"/></a>"
      ]
    },
    {
      "cell_type": "markdown",
      "metadata": {
        "id": "0ZKMm2ZxgX-l"
      },
      "source": [
        "### Questão 2 - Enunciado\n",
        "\n",
        "Considere novamente os dados \"banknote authentication Data Set\".\n",
        "* a) Use **validação cruzada estratificada “10-folds”** para avaliar e comparar os classificadores combinados descritos abaixo. Quando necessario, retire do conjunto de aprendizagem, **um conjunto de validação (20%)** para fazer ajuste de parametros e depois treine o modelo novamente com os conjuntos aprendizagem + validação. Use amostragem estratificada.\n",
        "* b) Obtenha uma estimativa pontual e um intervalo de confiança para cada metrica de avaliação do classificador **(Taxa de erro, precisão, cobertura, F-measure);**\n",
        "* c) Usar o **Friedman test (teste não parametrico)** para comparar os classificadores;\n",
        "Considere os seguintes classificadores:\n",
        "* i) **Classificador bayesiano gaussiano**: considere a seguinte regra de decisão: afetar o exemplo xk à classe ωl se P(ωl |xk) = 2 max i=1 P(ωi|xk) com P(ωi|xk) = p(xk|ωi)P(ωi) Pc r=1 p(xk|ωr )P(ωr ) (1 ≤ l ≤ 2)\n",
        "** a) Use a estimativa de maxima verossimilhança para P(ωi)\n",
        "** b) Para cada classe ωi (i = 1, 2) use a seguinte estimativa de máxima verossimilhança de \n",
        "p(xk|ωi) = p(xk|ωi, θi) , supondo uma normal multivariada:\n",
        "p(xk|ωi, θi) = (2π) − d 2 (|Σ−1i|)12 exp n− 12(xk − μi)tr Σ−1i(xk − μi)o, onde\n",
        "θi = μi Σi, Σi = diag(σ2i1, . . . , σ2id ) μi = 1n Pn k=1 xk, σ 2ij = 1n Pn k=1(xkj − μij )2 (1 ≤ j ≤ d)\n",
        "* ii) Treine um **classificador bayesiano baseados em k-vizinhos**. Normalize os dados e use a distância Euclidiana para definir a vizinhança. Use conjunto de validação para fixar o o número de vizinhos k.\n",
        "* iii) Treine um **classificador bayesiano baseado em janela de Parzen**. Use a função de kernel multivariada produto com um mesmo h para todas as dimensões e a função de kernel Gaussiana unidimensional. Use conjunto de validação para fixar o parâmetro h. \n",
        "* iv) Treine um **classificador baseado em regressão logistica** com os 4 atributos numericos x1 , x2 , x3 , x4.\n",
        "* v) Treine um **classificador baseado em regressão logistica** com os 4 atributos numericos x1 , x2 , x3 , x4 originais e mais 4 atributos suplementares x5 = x 2 1 , x6 = √x2 , x7 = log(x3 ), x8 = 1 x4. Use regularização.\n",
        "Use conjunto de validação para fixar o parâmetro de regularização.\n",
        "* vi) Treine um **classificador usando a regra do voto majoritario** usando os classificadores i) a v)."
      ]
    },
    {
      "cell_type": "markdown",
      "metadata": {
        "id": "fqcvUm52jUps"
      },
      "source": [
        "---\n",
        "### Links\n",
        "\n",
        "1. [Validação cruzada estratificada “10-folds”](https://scikit-learn.org/stable/modules/cross_validation.html#k-fold)\n",
        "2. [Taxa de erro, precisão, cobertura, F-measure](https://scikit-learn.org/stable/modules/model_evaluation.html#classification-metrics)\n",
        "3. [Classificador bayesiano gaussiano](https://scikit-learn.org/stable/modules/naive_bayes.html#gaussian-naive-bayes)\n",
        "4. [Classificador bayesiano baseados em k-vizinhos](https://scikit-learn.org/stable/modules/neighbors.html#nearest-neighbors-classification)\n",
        "5. [Classificador bayesiano baseado em janela de Parzen](https://docs.scipy.org/doc/scipy-0.13.0/reference/generated/scipy.signal.parzen.html)\n",
        "6. [Classificador baseado em regressão logistica](https://scikit-learn.org/stable/modules/linear_model.html#logistic-regression)\n",
        "7. [classificador usando a regra do voto majoritario](https://scikit-learn.org/stable/modules/ensemble.html#voting-classifier)\n",
        "8.  [Friedman test](https://docs.scipy.org/doc/scipy/reference/generated/scipy.stats.friedmanchisquare.html)\n",
        "\n"
      ]
    },
    {
      "cell_type": "markdown",
      "metadata": {
        "id": "4plFSZPyoRRy"
      },
      "source": [
        "# ANALYSIS"
      ]
    },
    {
      "cell_type": "markdown",
      "metadata": {
        "id": "q3zhqApH4BeC"
      },
      "source": [
        "### Imports"
      ]
    },
    {
      "cell_type": "code",
      "metadata": {
        "colab": {
          "base_uri": "https://localhost:8080/"
        },
        "id": "wm9mzyzJdOn7",
        "outputId": "9aa24874-b7c9-4d04-a652-6eefb2d864b7"
      },
      "source": [
        "!pip install scikit-posthocs"
      ],
      "execution_count": 97,
      "outputs": [
        {
          "output_type": "stream",
          "text": [
            "Requirement already satisfied: scikit-posthocs in /usr/local/lib/python3.7/dist-packages (0.6.7)\n",
            "Requirement already satisfied: numpy in /usr/local/lib/python3.7/dist-packages (from scikit-posthocs) (1.19.5)\n",
            "Requirement already satisfied: matplotlib in /usr/local/lib/python3.7/dist-packages (from scikit-posthocs) (3.2.2)\n",
            "Requirement already satisfied: statsmodels in /usr/local/lib/python3.7/dist-packages (from scikit-posthocs) (0.10.2)\n",
            "Requirement already satisfied: scipy in /usr/local/lib/python3.7/dist-packages (from scikit-posthocs) (1.4.1)\n",
            "Requirement already satisfied: seaborn in /usr/local/lib/python3.7/dist-packages (from scikit-posthocs) (0.11.1)\n",
            "Requirement already satisfied: pandas>=0.20.0 in /usr/local/lib/python3.7/dist-packages (from scikit-posthocs) (1.1.5)\n",
            "Requirement already satisfied: python-dateutil>=2.1 in /usr/local/lib/python3.7/dist-packages (from matplotlib->scikit-posthocs) (2.8.1)\n",
            "Requirement already satisfied: kiwisolver>=1.0.1 in /usr/local/lib/python3.7/dist-packages (from matplotlib->scikit-posthocs) (1.3.1)\n",
            "Requirement already satisfied: pyparsing!=2.0.4,!=2.1.2,!=2.1.6,>=2.0.1 in /usr/local/lib/python3.7/dist-packages (from matplotlib->scikit-posthocs) (2.4.7)\n",
            "Requirement already satisfied: cycler>=0.10 in /usr/local/lib/python3.7/dist-packages (from matplotlib->scikit-posthocs) (0.10.0)\n",
            "Requirement already satisfied: patsy>=0.4.0 in /usr/local/lib/python3.7/dist-packages (from statsmodels->scikit-posthocs) (0.5.1)\n",
            "Requirement already satisfied: pytz>=2017.2 in /usr/local/lib/python3.7/dist-packages (from pandas>=0.20.0->scikit-posthocs) (2018.9)\n",
            "Requirement already satisfied: six>=1.5 in /usr/local/lib/python3.7/dist-packages (from python-dateutil>=2.1->matplotlib->scikit-posthocs) (1.15.0)\n"
          ],
          "name": "stdout"
        }
      ]
    },
    {
      "cell_type": "code",
      "metadata": {
        "id": "Npw7_BrzwThk"
      },
      "source": [
        "import numpy as np\n",
        "import pandas as pd\n",
        "import math\n",
        "\n",
        "#pre-processing\n",
        "from sklearn.preprocessing import Normalizer, FunctionTransformer, MinMaxScaler, StandardScaler\n",
        "from sklearn.model_selection import train_test_split, cross_validate, StratifiedKFold, GridSearchCV, ParameterGrid\n",
        "from sklearn.pipeline import Pipeline, FeatureUnion\n",
        "from sklearn.compose import ColumnTransformer\n",
        "\n",
        "#classifiers\n",
        "from sklearn.naive_bayes import GaussianNB\n",
        "from sklearn.neighbors import KNeighborsClassifier\n",
        "from sklearn.neighbors.kde import KernelDensity\n",
        "from sklearn.base import BaseEstimator, ClassifierMixin\n",
        "from sklearn.linear_model import LogisticRegression\n",
        "from sklearn.ensemble import VotingClassifier\n",
        "\n",
        "#metrics\n",
        "import sklearn.metrics\n",
        "from sklearn.metrics import accuracy_score, precision_score, recall_score, f1_score\n",
        "from scipy.stats import friedmanchisquare\n",
        "import scikit_posthocs as sp\n",
        "\n",
        "#charts\n",
        "import matplotlib.pyplot as plt\n",
        "from sklearn.metrics import plot_confusion_matrix, confusion_matrix, ConfusionMatrixDisplay\n",
        "import seaborn as sns\n",
        "sns.set_theme()"
      ],
      "execution_count": 98,
      "outputs": []
    },
    {
      "cell_type": "markdown",
      "metadata": {
        "id": "qXUBHLSU4DYi"
      },
      "source": [
        "### Input"
      ]
    },
    {
      "cell_type": "code",
      "metadata": {
        "id": "6LiA2f034DvI"
      },
      "source": [
        "df = pd.read_table(\"https://archive.ics.uci.edu/ml/machine-learning-databases/00267/data_banknote_authentication.txt\", names=['var','skew','curt','entr','class'], sep=\",\")"
      ],
      "execution_count": 99,
      "outputs": []
    },
    {
      "cell_type": "code",
      "metadata": {
        "id": "3sLvVONyOEfc"
      },
      "source": [
        "classes = df.groupby('class').describe().T"
      ],
      "execution_count": 100,
      "outputs": []
    },
    {
      "cell_type": "markdown",
      "metadata": {
        "id": "f8LtQXPKUFh0"
      },
      "source": [
        "### Describe"
      ]
    },
    {
      "cell_type": "code",
      "metadata": {
        "colab": {
          "base_uri": "https://localhost:8080/",
          "height": 1000
        },
        "id": "gvdu098am2Sc",
        "outputId": "b7a909ac-097e-447d-d030-74b7f2bfe8ea"
      },
      "source": [
        "pd.DataFrame(classes)"
      ],
      "execution_count": 101,
      "outputs": [
        {
          "output_type": "execute_result",
          "data": {
            "text/html": [
              "<div>\n",
              "<style scoped>\n",
              "    .dataframe tbody tr th:only-of-type {\n",
              "        vertical-align: middle;\n",
              "    }\n",
              "\n",
              "    .dataframe tbody tr th {\n",
              "        vertical-align: top;\n",
              "    }\n",
              "\n",
              "    .dataframe thead th {\n",
              "        text-align: right;\n",
              "    }\n",
              "</style>\n",
              "<table border=\"1\" class=\"dataframe\">\n",
              "  <thead>\n",
              "    <tr style=\"text-align: right;\">\n",
              "      <th></th>\n",
              "      <th>class</th>\n",
              "      <th>0</th>\n",
              "      <th>1</th>\n",
              "    </tr>\n",
              "  </thead>\n",
              "  <tbody>\n",
              "    <tr>\n",
              "      <th rowspan=\"8\" valign=\"top\">var</th>\n",
              "      <th>count</th>\n",
              "      <td>762.000000</td>\n",
              "      <td>610.000000</td>\n",
              "    </tr>\n",
              "    <tr>\n",
              "      <th>mean</th>\n",
              "      <td>2.276686</td>\n",
              "      <td>-1.868443</td>\n",
              "    </tr>\n",
              "    <tr>\n",
              "      <th>std</th>\n",
              "      <td>2.019348</td>\n",
              "      <td>1.881183</td>\n",
              "    </tr>\n",
              "    <tr>\n",
              "      <th>min</th>\n",
              "      <td>-4.285900</td>\n",
              "      <td>-7.042100</td>\n",
              "    </tr>\n",
              "    <tr>\n",
              "      <th>25%</th>\n",
              "      <td>0.883345</td>\n",
              "      <td>-3.061450</td>\n",
              "    </tr>\n",
              "    <tr>\n",
              "      <th>50%</th>\n",
              "      <td>2.553100</td>\n",
              "      <td>-1.806100</td>\n",
              "    </tr>\n",
              "    <tr>\n",
              "      <th>75%</th>\n",
              "      <td>3.884450</td>\n",
              "      <td>-0.541770</td>\n",
              "    </tr>\n",
              "    <tr>\n",
              "      <th>max</th>\n",
              "      <td>6.824800</td>\n",
              "      <td>2.391700</td>\n",
              "    </tr>\n",
              "    <tr>\n",
              "      <th rowspan=\"8\" valign=\"top\">skew</th>\n",
              "      <th>count</th>\n",
              "      <td>762.000000</td>\n",
              "      <td>610.000000</td>\n",
              "    </tr>\n",
              "    <tr>\n",
              "      <th>mean</th>\n",
              "      <td>4.256627</td>\n",
              "      <td>-0.993576</td>\n",
              "    </tr>\n",
              "    <tr>\n",
              "      <th>std</th>\n",
              "      <td>5.138792</td>\n",
              "      <td>5.404884</td>\n",
              "    </tr>\n",
              "    <tr>\n",
              "      <th>min</th>\n",
              "      <td>-6.932100</td>\n",
              "      <td>-13.773100</td>\n",
              "    </tr>\n",
              "    <tr>\n",
              "      <th>25%</th>\n",
              "      <td>0.450063</td>\n",
              "      <td>-5.810025</td>\n",
              "    </tr>\n",
              "    <tr>\n",
              "      <th>50%</th>\n",
              "      <td>5.668800</td>\n",
              "      <td>0.172775</td>\n",
              "    </tr>\n",
              "    <tr>\n",
              "      <th>75%</th>\n",
              "      <td>8.691975</td>\n",
              "      <td>3.189275</td>\n",
              "    </tr>\n",
              "    <tr>\n",
              "      <th>max</th>\n",
              "      <td>12.951600</td>\n",
              "      <td>9.601400</td>\n",
              "    </tr>\n",
              "    <tr>\n",
              "      <th rowspan=\"8\" valign=\"top\">curt</th>\n",
              "      <th>count</th>\n",
              "      <td>762.000000</td>\n",
              "      <td>610.000000</td>\n",
              "    </tr>\n",
              "    <tr>\n",
              "      <th>mean</th>\n",
              "      <td>0.796718</td>\n",
              "      <td>2.148271</td>\n",
              "    </tr>\n",
              "    <tr>\n",
              "      <th>std</th>\n",
              "      <td>3.239894</td>\n",
              "      <td>5.261811</td>\n",
              "    </tr>\n",
              "    <tr>\n",
              "      <th>min</th>\n",
              "      <td>-4.941700</td>\n",
              "      <td>-5.286100</td>\n",
              "    </tr>\n",
              "    <tr>\n",
              "      <th>25%</th>\n",
              "      <td>-1.709700</td>\n",
              "      <td>-1.357500</td>\n",
              "    </tr>\n",
              "    <tr>\n",
              "      <th>50%</th>\n",
              "      <td>0.700605</td>\n",
              "      <td>0.373720</td>\n",
              "    </tr>\n",
              "    <tr>\n",
              "      <th>75%</th>\n",
              "      <td>2.652925</td>\n",
              "      <td>5.626350</td>\n",
              "    </tr>\n",
              "    <tr>\n",
              "      <th>max</th>\n",
              "      <td>8.829400</td>\n",
              "      <td>17.927400</td>\n",
              "    </tr>\n",
              "    <tr>\n",
              "      <th rowspan=\"8\" valign=\"top\">entr</th>\n",
              "      <th>count</th>\n",
              "      <td>762.000000</td>\n",
              "      <td>610.000000</td>\n",
              "    </tr>\n",
              "    <tr>\n",
              "      <th>mean</th>\n",
              "      <td>-1.147640</td>\n",
              "      <td>-1.246641</td>\n",
              "    </tr>\n",
              "    <tr>\n",
              "      <th>std</th>\n",
              "      <td>2.125077</td>\n",
              "      <td>2.070984</td>\n",
              "    </tr>\n",
              "    <tr>\n",
              "      <th>min</th>\n",
              "      <td>-8.548200</td>\n",
              "      <td>-7.588700</td>\n",
              "    </tr>\n",
              "    <tr>\n",
              "      <th>25%</th>\n",
              "      <td>-2.228250</td>\n",
              "      <td>-2.458375</td>\n",
              "    </tr>\n",
              "    <tr>\n",
              "      <th>50%</th>\n",
              "      <td>-0.552380</td>\n",
              "      <td>-0.661650</td>\n",
              "    </tr>\n",
              "    <tr>\n",
              "      <th>75%</th>\n",
              "      <td>0.423258</td>\n",
              "      <td>0.341790</td>\n",
              "    </tr>\n",
              "    <tr>\n",
              "      <th>max</th>\n",
              "      <td>2.449500</td>\n",
              "      <td>2.135300</td>\n",
              "    </tr>\n",
              "  </tbody>\n",
              "</table>\n",
              "</div>"
            ],
            "text/plain": [
              "class                0           1\n",
              "var  count  762.000000  610.000000\n",
              "     mean     2.276686   -1.868443\n",
              "     std      2.019348    1.881183\n",
              "     min     -4.285900   -7.042100\n",
              "     25%      0.883345   -3.061450\n",
              "     50%      2.553100   -1.806100\n",
              "     75%      3.884450   -0.541770\n",
              "     max      6.824800    2.391700\n",
              "skew count  762.000000  610.000000\n",
              "     mean     4.256627   -0.993576\n",
              "     std      5.138792    5.404884\n",
              "     min     -6.932100  -13.773100\n",
              "     25%      0.450063   -5.810025\n",
              "     50%      5.668800    0.172775\n",
              "     75%      8.691975    3.189275\n",
              "     max     12.951600    9.601400\n",
              "curt count  762.000000  610.000000\n",
              "     mean     0.796718    2.148271\n",
              "     std      3.239894    5.261811\n",
              "     min     -4.941700   -5.286100\n",
              "     25%     -1.709700   -1.357500\n",
              "     50%      0.700605    0.373720\n",
              "     75%      2.652925    5.626350\n",
              "     max      8.829400   17.927400\n",
              "entr count  762.000000  610.000000\n",
              "     mean    -1.147640   -1.246641\n",
              "     std      2.125077    2.070984\n",
              "     min     -8.548200   -7.588700\n",
              "     25%     -2.228250   -2.458375\n",
              "     50%     -0.552380   -0.661650\n",
              "     75%      0.423258    0.341790\n",
              "     max      2.449500    2.135300"
            ]
          },
          "metadata": {
            "tags": []
          },
          "execution_count": 101
        }
      ]
    },
    {
      "cell_type": "markdown",
      "metadata": {
        "id": "PU9ywUGjT8h9"
      },
      "source": [
        "### Correlations"
      ]
    },
    {
      "cell_type": "code",
      "metadata": {
        "colab": {
          "base_uri": "https://localhost:8080/",
          "height": 328
        },
        "id": "GKUoayaxTrw2",
        "outputId": "26052e42-9a68-4a27-93bb-a4fae3abf150"
      },
      "source": [
        "df.groupby('class').corr()"
      ],
      "execution_count": 102,
      "outputs": [
        {
          "output_type": "execute_result",
          "data": {
            "text/html": [
              "<div>\n",
              "<style scoped>\n",
              "    .dataframe tbody tr th:only-of-type {\n",
              "        vertical-align: middle;\n",
              "    }\n",
              "\n",
              "    .dataframe tbody tr th {\n",
              "        vertical-align: top;\n",
              "    }\n",
              "\n",
              "    .dataframe thead th {\n",
              "        text-align: right;\n",
              "    }\n",
              "</style>\n",
              "<table border=\"1\" class=\"dataframe\">\n",
              "  <thead>\n",
              "    <tr style=\"text-align: right;\">\n",
              "      <th></th>\n",
              "      <th></th>\n",
              "      <th>var</th>\n",
              "      <th>skew</th>\n",
              "      <th>curt</th>\n",
              "      <th>entr</th>\n",
              "    </tr>\n",
              "    <tr>\n",
              "      <th>class</th>\n",
              "      <th></th>\n",
              "      <th></th>\n",
              "      <th></th>\n",
              "      <th></th>\n",
              "      <th></th>\n",
              "    </tr>\n",
              "  </thead>\n",
              "  <tbody>\n",
              "    <tr>\n",
              "      <th rowspan=\"4\" valign=\"top\">0</th>\n",
              "      <th>var</th>\n",
              "      <td>1.000000</td>\n",
              "      <td>-0.226662</td>\n",
              "      <td>-0.329991</td>\n",
              "      <td>0.416110</td>\n",
              "    </tr>\n",
              "    <tr>\n",
              "      <th>skew</th>\n",
              "      <td>-0.226662</td>\n",
              "      <td>1.000000</td>\n",
              "      <td>-0.750740</td>\n",
              "      <td>-0.674411</td>\n",
              "    </tr>\n",
              "    <tr>\n",
              "      <th>curt</th>\n",
              "      <td>-0.329991</td>\n",
              "      <td>-0.750740</td>\n",
              "      <td>1.000000</td>\n",
              "      <td>0.414543</td>\n",
              "    </tr>\n",
              "    <tr>\n",
              "      <th>entr</th>\n",
              "      <td>0.416110</td>\n",
              "      <td>-0.674411</td>\n",
              "      <td>0.414543</td>\n",
              "      <td>1.000000</td>\n",
              "    </tr>\n",
              "    <tr>\n",
              "      <th rowspan=\"4\" valign=\"top\">1</th>\n",
              "      <th>var</th>\n",
              "      <td>1.000000</td>\n",
              "      <td>0.073689</td>\n",
              "      <td>-0.473867</td>\n",
              "      <td>0.324043</td>\n",
              "    </tr>\n",
              "    <tr>\n",
              "      <th>skew</th>\n",
              "      <td>0.073689</td>\n",
              "      <td>1.000000</td>\n",
              "      <td>-0.887664</td>\n",
              "      <td>-0.508938</td>\n",
              "    </tr>\n",
              "    <tr>\n",
              "      <th>curt</th>\n",
              "      <td>-0.473867</td>\n",
              "      <td>-0.887664</td>\n",
              "      <td>1.000000</td>\n",
              "      <td>0.276017</td>\n",
              "    </tr>\n",
              "    <tr>\n",
              "      <th>entr</th>\n",
              "      <td>0.324043</td>\n",
              "      <td>-0.508938</td>\n",
              "      <td>0.276017</td>\n",
              "      <td>1.000000</td>\n",
              "    </tr>\n",
              "  </tbody>\n",
              "</table>\n",
              "</div>"
            ],
            "text/plain": [
              "                 var      skew      curt      entr\n",
              "class                                             \n",
              "0     var   1.000000 -0.226662 -0.329991  0.416110\n",
              "      skew -0.226662  1.000000 -0.750740 -0.674411\n",
              "      curt -0.329991 -0.750740  1.000000  0.414543\n",
              "      entr  0.416110 -0.674411  0.414543  1.000000\n",
              "1     var   1.000000  0.073689 -0.473867  0.324043\n",
              "      skew  0.073689  1.000000 -0.887664 -0.508938\n",
              "      curt -0.473867 -0.887664  1.000000  0.276017\n",
              "      entr  0.324043 -0.508938  0.276017  1.000000"
            ]
          },
          "metadata": {
            "tags": []
          },
          "execution_count": 102
        }
      ]
    },
    {
      "cell_type": "markdown",
      "metadata": {
        "id": "pfTCorpDUMYL"
      },
      "source": [
        "### Visualization"
      ]
    },
    {
      "cell_type": "code",
      "metadata": {
        "colab": {
          "base_uri": "https://localhost:8080/",
          "height": 349
        },
        "id": "hAzCacG6O1Y0",
        "outputId": "e1d525c1-370d-456e-b8de-86e02df44f6c"
      },
      "source": [
        "classes.loc[[('var','mean'),('skew','mean'),('curt','mean'),('entr','mean')]].plot.bar()"
      ],
      "execution_count": 103,
      "outputs": [
        {
          "output_type": "execute_result",
          "data": {
            "text/plain": [
              "<matplotlib.axes._subplots.AxesSubplot at 0x7fbe6d9c4350>"
            ]
          },
          "metadata": {
            "tags": []
          },
          "execution_count": 103
        },
        {
          "output_type": "display_data",
          "data": {
            "image/png": "[encoded data removed]",
            "text/plain": [
              "<Figure size 432x288 with 1 Axes>"
            ]
          },
          "metadata": {
            "tags": []
          }
        }
      ]
    },
    {
      "cell_type": "code",
      "metadata": {
        "colab": {
          "base_uri": "https://localhost:8080/",
          "height": 335
        },
        "id": "q2CoxLOTR6IG",
        "outputId": "31f50ddf-83fa-46d4-c296-dc49ed70c06d"
      },
      "source": [
        "classes.loc[[('var','std'),('skew','std'),('curt','std'),('entr','std')]].plot.bar()"
      ],
      "execution_count": 104,
      "outputs": [
        {
          "output_type": "execute_result",
          "data": {
            "text/plain": [
              "<matplotlib.axes._subplots.AxesSubplot at 0x7fbe6d9ab290>"
            ]
          },
          "metadata": {
            "tags": []
          },
          "execution_count": 104
        },
        {
          "output_type": "display_data",
          "data": {
            "image/png": "[encoded data removed]",
            "text/plain": [
              "<Figure size 432x288 with 1 Axes>"
            ]
          },
          "metadata": {
            "tags": []
          }
        }
      ]
    },
    {
      "cell_type": "code",
      "metadata": {
        "colab": {
          "base_uri": "https://localhost:8080/",
          "height": 695
        },
        "id": "CgD5ib8ISkOn",
        "outputId": "527fd80d-f962-4b1c-9031-804b594ee6c8"
      },
      "source": [
        "df.groupby('class').plot.box(figsize=(10,5))"
      ],
      "execution_count": 105,
      "outputs": [
        {
          "output_type": "execute_result",
          "data": {
            "text/plain": [
              "class\n",
              "0    AxesSubplot(0.125,0.125;0.775x0.755)\n",
              "1    AxesSubplot(0.125,0.125;0.775x0.755)\n",
              "dtype: object"
            ]
          },
          "metadata": {
            "tags": []
          },
          "execution_count": 105
        },
        {
          "output_type": "display_data",
          "data": {
            "image/png": "[encoded data removed]",
            "text/plain": [
              "<Figure size 720x360 with 1 Axes>"
            ]
          },
          "metadata": {
            "tags": []
          }
        },
        {
          "output_type": "display_data",
          "data": {
            "image/png": "[encoded data removed]",
            "text/plain": [
              "<Figure size 720x360 with 1 Axes>"
            ]
          },
          "metadata": {
            "tags": []
          }
        }
      ]
    },
    {
      "cell_type": "code",
      "metadata": {
        "colab": {
          "base_uri": "https://localhost:8080/",
          "height": 786
        },
        "id": "ZEqoKHHMUmlF",
        "outputId": "88dd2c61-516b-45cd-dad0-330ce6afd1f8"
      },
      "source": [
        "df.boxplot(by='class', figsize=(8,8))"
      ],
      "execution_count": 106,
      "outputs": [
        {
          "output_type": "stream",
          "text": [
            "/usr/local/lib/python3.7/dist-packages/numpy/core/_asarray.py:83: VisibleDeprecationWarning: Creating an ndarray from ragged nested sequences (which is a list-or-tuple of lists-or-tuples-or ndarrays with different lengths or shapes) is deprecated. If you meant to do this, you must specify 'dtype=object' when creating the ndarray\n",
            "  return array(a, dtype, copy=False, order=order)\n",
            "/usr/local/lib/python3.7/dist-packages/numpy/core/_asarray.py:83: VisibleDeprecationWarning: Creating an ndarray from ragged nested sequences (which is a list-or-tuple of lists-or-tuples-or ndarrays with different lengths or shapes) is deprecated. If you meant to do this, you must specify 'dtype=object' when creating the ndarray\n",
            "  return array(a, dtype, copy=False, order=order)\n",
            "/usr/local/lib/python3.7/dist-packages/numpy/core/_asarray.py:83: VisibleDeprecationWarning: Creating an ndarray from ragged nested sequences (which is a list-or-tuple of lists-or-tuples-or ndarrays with different lengths or shapes) is deprecated. If you meant to do this, you must specify 'dtype=object' when creating the ndarray\n",
            "  return array(a, dtype, copy=False, order=order)\n",
            "/usr/local/lib/python3.7/dist-packages/numpy/core/_asarray.py:83: VisibleDeprecationWarning: Creating an ndarray from ragged nested sequences (which is a list-or-tuple of lists-or-tuples-or ndarrays with different lengths or shapes) is deprecated. If you meant to do this, you must specify 'dtype=object' when creating the ndarray\n",
            "  return array(a, dtype, copy=False, order=order)\n"
          ],
          "name": "stderr"
        },
        {
          "output_type": "execute_result",
          "data": {
            "text/plain": [
              "array([[<matplotlib.axes._subplots.AxesSubplot object at 0x7fbe6d751e90>,\n",
              "        <matplotlib.axes._subplots.AxesSubplot object at 0x7fbe6d775ad0>],\n",
              "       [<matplotlib.axes._subplots.AxesSubplot object at 0x7fbe6d751310>,\n",
              "        <matplotlib.axes._subplots.AxesSubplot object at 0x7fbe6d6e4dd0>]],\n",
              "      dtype=object)"
            ]
          },
          "metadata": {
            "tags": []
          },
          "execution_count": 106
        },
        {
          "output_type": "display_data",
          "data": {
            "image/png": "[encoded data removed]",
            "text/plain": [
              "<Figure size 576x576 with 4 Axes>"
            ]
          },
          "metadata": {
            "tags": []
          }
        }
      ]
    },
    {
      "cell_type": "code",
      "metadata": {
        "id": "QtLsrLjCT6NB"
      },
      "source": [
        "df1 = df.loc[df['class'] == 1]\n",
        "df2 = df.loc[df['class'] == 0]"
      ],
      "execution_count": 107,
      "outputs": []
    },
    {
      "cell_type": "code",
      "metadata": {
        "colab": {
          "base_uri": "https://localhost:8080/",
          "height": 519
        },
        "id": "WblYwfl_-cRI",
        "outputId": "af42fc62-c88c-47be-8418-7ac55e3698aa"
      },
      "source": [
        "plt.figure(figsize=(8,8))\n",
        "ax1 = plt.subplot(111)\n",
        "ax1.scatter(df1['var'],df1['skew'],c='#0000ff',marker='1')\n",
        "ax1.scatter(df2['var'],df2['skew'],c='#ff0000',marker='.',alpha=0.4)\n",
        "ax1.set_xlabel('var')\n",
        "ax1.set_ylabel('skew')\n",
        "ax1.legend([1,0])"
      ],
      "execution_count": 108,
      "outputs": [
        {
          "output_type": "execute_result",
          "data": {
            "text/plain": [
              "<matplotlib.legend.Legend at 0x7fbe6d503090>"
            ]
          },
          "metadata": {
            "tags": []
          },
          "execution_count": 108
        },
        {
          "output_type": "display_data",
          "data": {
            "image/png": "[encoded data removed]",
            "text/plain": [
              "<Figure size 576x576 with 1 Axes>"
            ]
          },
          "metadata": {
            "tags": []
          }
        }
      ]
    },
    {
      "cell_type": "code",
      "metadata": {
        "colab": {
          "base_uri": "https://localhost:8080/",
          "height": 356
        },
        "id": "PSYz73qZonrK",
        "outputId": "3804d65a-6401-4703-ca7c-aeb19fe6ba65"
      },
      "source": [
        "plt.figure(figsize=(14,5))\n",
        "ax1, ax2, ax3, ax4 = plt.subplot(141), plt.subplot(142), plt.subplot(143), plt.subplot(144)\n",
        "ax1.scatter(df1['var'],df1['skew'],c='#0000ff',marker='1')\n",
        "ax1.scatter(df2['var'],df2['skew'],c='#ff0000',marker='.',alpha=0.4)\n",
        "ax1.set_xlabel('var')\n",
        "ax1.set_ylabel('skew')\n",
        "ax1.legend([1,0])\n",
        "ax2.scatter(df1['var'],df1['curt'],c='#0000ff',marker='1')\n",
        "ax2.scatter(df2['var'],df2['curt'],c='#ff0000',marker='.',alpha=0.4)\n",
        "ax2.set_xlabel('var')\n",
        "ax2.set_ylabel('curt')\n",
        "ax2.legend([1,0])\n",
        "ax3.scatter(df1['skew'],df1['curt'],c='#0000ff',marker='1')\n",
        "ax3.scatter(df2['skew'],df2['curt'],c='#ff0000',marker='.',alpha=0.4)\n",
        "ax3.set_xlabel('skew')\n",
        "ax3.set_ylabel('curt')\n",
        "ax3.legend([1,0])\n",
        "ax4.scatter(df1['var'],df1['entr'],c='#0000ff',marker='1')\n",
        "ax4.scatter(df2['var'],df2['entr'],c='#ff0000',marker='.',alpha=0.4)\n",
        "ax4.set_xlabel('var')\n",
        "ax4.set_ylabel('entr')\n",
        "ax4.legend([1,0])"
      ],
      "execution_count": 109,
      "outputs": [
        {
          "output_type": "execute_result",
          "data": {
            "text/plain": [
              "<matplotlib.legend.Legend at 0x7fbe6d3f6450>"
            ]
          },
          "metadata": {
            "tags": []
          },
          "execution_count": 109
        },
        {
          "output_type": "display_data",
          "data": {
            "image/png": "[encoded data removed]",
            "text/plain": [
              "<Figure size 1008x360 with 4 Axes>"
            ]
          },
          "metadata": {
            "tags": []
          }
        }
      ]
    },
    {
      "cell_type": "code",
      "metadata": {
        "colab": {
          "base_uri": "https://localhost:8080/",
          "height": 292
        },
        "id": "5VW5MCuf5afP",
        "outputId": "f08bed03-5b0a-4502-e6a0-e69aeae49707"
      },
      "source": [
        "m1 = pd.plotting.scatter_matrix(df1[df.columns[0:-1]], alpha=0.4)"
      ],
      "execution_count": 110,
      "outputs": [
        {
          "output_type": "display_data",
          "data": {
            "image/png": "[encoded data removed]",
            "text/plain": [
              "<Figure size 432x288 with 16 Axes>"
            ]
          },
          "metadata": {
            "tags": []
          }
        }
      ]
    },
    {
      "cell_type": "code",
      "metadata": {
        "colab": {
          "base_uri": "https://localhost:8080/",
          "height": 287
        },
        "id": "ycKWjvUS7CPT",
        "outputId": "fc03130d-c1fd-4879-c7d2-34eb8ef5dc88"
      },
      "source": [
        "m2 = pd.plotting.scatter_matrix(df2[df.columns[0:-1]], alpha=0.4)"
      ],
      "execution_count": 111,
      "outputs": [
        {
          "output_type": "display_data",
          "data": {
            "image/png": "[encoded data removed]",
            "text/plain": [
              "<Figure size 432x288 with 16 Axes>"
            ]
          },
          "metadata": {
            "tags": []
          }
        }
      ]
    },
    {
      "cell_type": "code",
      "metadata": {
        "id": "shJrIYvchJOh"
      },
      "source": [
        "X = df[df.columns[0:4]]\n",
        "y = df[df.columns[4:5]]"
      ],
      "execution_count": 112,
      "outputs": []
    },
    {
      "cell_type": "markdown",
      "metadata": {
        "id": "3XuC_2Y9XADt"
      },
      "source": [
        "### Metrics"
      ]
    },
    {
      "cell_type": "code",
      "metadata": {
        "id": "NjwQuwF_bHeJ"
      },
      "source": [
        "scoring = {\n",
        "          'acc' : 'accuracy',\n",
        "          'prec': 'precision',\n",
        "          'rec': 'recall',\n",
        "          'f1': 'f1',\n",
        "           }"
      ],
      "execution_count": 113,
      "outputs": []
    },
    {
      "cell_type": "markdown",
      "metadata": {
        "id": "_VO_IZrHe91G"
      },
      "source": [
        "# MODELS"
      ]
    },
    {
      "cell_type": "markdown",
      "metadata": {
        "id": "XwbVq0xVP8Cu"
      },
      "source": [
        "### Conjunto de validação"
      ]
    },
    {
      "cell_type": "code",
      "metadata": {
        "id": "pspf7W7Oh5BP"
      },
      "source": [
        "X_train, X_val, y_train, y_val = train_test_split(X, y, test_size=0.2, random_state=43)"
      ],
      "execution_count": 114,
      "outputs": []
    },
    {
      "cell_type": "markdown",
      "metadata": {
        "id": "Mtc30Gw1QAgL"
      },
      "source": [
        "### Conjuntos de estratificadas"
      ]
    },
    {
      "cell_type": "code",
      "metadata": {
        "colab": {
          "base_uri": "https://localhost:8080/"
        },
        "id": "lwXw1Doqe2-E",
        "outputId": "efee7843-df8e-477d-9ff4-b19ff33badec"
      },
      "source": [
        "skf = StratifiedKFold(n_splits=10)\n",
        "skf.get_n_splits(X, y)"
      ],
      "execution_count": 115,
      "outputs": [
        {
          "output_type": "execute_result",
          "data": {
            "text/plain": [
              "10"
            ]
          },
          "metadata": {
            "tags": []
          },
          "execution_count": 115
        }
      ]
    },
    {
      "cell_type": "code",
      "metadata": {
        "id": "VotAxMpgpRwA"
      },
      "source": [
        "scores_clf = {}"
      ],
      "execution_count": 116,
      "outputs": []
    },
    {
      "cell_type": "markdown",
      "metadata": {
        "id": "0Q4zcJCem5lL"
      },
      "source": [
        "## NAIVE BAYES"
      ]
    },
    {
      "cell_type": "markdown",
      "metadata": {
        "id": "guRS4KYzMIUP"
      },
      "source": [
        ""
      ]
    },
    {
      "cell_type": "markdown",
      "metadata": {
        "id": "sQn0JiklAxzu"
      },
      "source": [
        "* i) **Classificador bayesiano gaussiano**: considere a seguinte regra de decisão: ![Captura de Tela 2020-12-18 às 7.55.24 PM.png](data:image/png;base64,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)"
      ]
    },
    {
      "cell_type": "code",
      "metadata": {
        "id": "Fr2sx7ejexVD"
      },
      "source": [
        "naives = GaussianNB()"
      ],
      "execution_count": 117,
      "outputs": []
    },
    {
      "cell_type": "code",
      "metadata": {
        "colab": {
          "base_uri": "https://localhost:8080/"
        },
        "id": "ormK8x5B19iz",
        "outputId": "cda66069-e3b0-4a97-9374-a390f3f48231"
      },
      "source": [
        "naives.get_params()"
      ],
      "execution_count": 118,
      "outputs": [
        {
          "output_type": "execute_result",
          "data": {
            "text/plain": [
              "{'priors': None, 'var_smoothing': 1e-09}"
            ]
          },
          "metadata": {
            "tags": []
          },
          "execution_count": 118
        }
      ]
    },
    {
      "cell_type": "code",
      "metadata": {
        "id": "jEAZerMCfDkw"
      },
      "source": [
        "folds = skf"
      ],
      "execution_count": 119,
      "outputs": []
    },
    {
      "cell_type": "code",
      "metadata": {
        "colab": {
          "base_uri": "https://localhost:8080/",
          "height": 359
        },
        "id": "WAQrhIAkMjtT",
        "outputId": "2a1970ac-5119-4767-9a89-efdb2aa45903"
      },
      "source": [
        "scores_nb = cross_validate(naives, X, np.ravel(y), scoring=scoring,\n",
        "                        cv=folds, return_train_score=True)\n",
        "\n",
        "pd.DataFrame(scores_nb).agg(['mean','std']).T"
      ],
      "execution_count": 120,
      "outputs": [
        {
          "output_type": "execute_result",
          "data": {
            "text/html": [
              "<div>\n",
              "<style scoped>\n",
              "    .dataframe tbody tr th:only-of-type {\n",
              "        vertical-align: middle;\n",
              "    }\n",
              "\n",
              "    .dataframe tbody tr th {\n",
              "        vertical-align: top;\n",
              "    }\n",
              "\n",
              "    .dataframe thead th {\n",
              "        text-align: right;\n",
              "    }\n",
              "</style>\n",
              "<table border=\"1\" class=\"dataframe\">\n",
              "  <thead>\n",
              "    <tr style=\"text-align: right;\">\n",
              "      <th></th>\n",
              "      <th>mean</th>\n",
              "      <th>std</th>\n",
              "    </tr>\n",
              "  </thead>\n",
              "  <tbody>\n",
              "    <tr>\n",
              "      <th>fit_time</th>\n",
              "      <td>0.002078</td>\n",
              "      <td>0.000681</td>\n",
              "    </tr>\n",
              "    <tr>\n",
              "      <th>score_time</th>\n",
              "      <td>0.004067</td>\n",
              "      <td>0.002767</td>\n",
              "    </tr>\n",
              "    <tr>\n",
              "      <th>test_acc</th>\n",
              "      <td>0.841077</td>\n",
              "      <td>0.040212</td>\n",
              "    </tr>\n",
              "    <tr>\n",
              "      <th>train_acc</th>\n",
              "      <td>0.841350</td>\n",
              "      <td>0.002765</td>\n",
              "    </tr>\n",
              "    <tr>\n",
              "      <th>test_prec</th>\n",
              "      <td>0.840844</td>\n",
              "      <td>0.033399</td>\n",
              "    </tr>\n",
              "    <tr>\n",
              "      <th>train_prec</th>\n",
              "      <td>0.842526</td>\n",
              "      <td>0.004713</td>\n",
              "    </tr>\n",
              "    <tr>\n",
              "      <th>test_rec</th>\n",
              "      <td>0.791803</td>\n",
              "      <td>0.075738</td>\n",
              "    </tr>\n",
              "    <tr>\n",
              "      <th>train_rec</th>\n",
              "      <td>0.791075</td>\n",
              "      <td>0.007825</td>\n",
              "    </tr>\n",
              "    <tr>\n",
              "      <th>test_f1</th>\n",
              "      <td>0.814474</td>\n",
              "      <td>0.052278</td>\n",
              "    </tr>\n",
              "    <tr>\n",
              "      <th>train_f1</th>\n",
              "      <td>0.815957</td>\n",
              "      <td>0.003725</td>\n",
              "    </tr>\n",
              "  </tbody>\n",
              "</table>\n",
              "</div>"
            ],
            "text/plain": [
              "                mean       std\n",
              "fit_time    0.002078  0.000681\n",
              "score_time  0.004067  0.002767\n",
              "test_acc    0.841077  0.040212\n",
              "train_acc   0.841350  0.002765\n",
              "test_prec   0.840844  0.033399\n",
              "train_prec  0.842526  0.004713\n",
              "test_rec    0.791803  0.075738\n",
              "train_rec   0.791075  0.007825\n",
              "test_f1     0.814474  0.052278\n",
              "train_f1    0.815957  0.003725"
            ]
          },
          "metadata": {
            "tags": []
          },
          "execution_count": 120
        }
      ]
    },
    {
      "cell_type": "markdown",
      "metadata": {
        "id": "RwqkoUJ9mp1-"
      },
      "source": [
        "## KNN"
      ]
    },
    {
      "cell_type": "markdown",
      "metadata": {
        "id": "qNQD06HBCtxi"
      },
      "source": [
        "* ii) Treine um **classificador bayesiano baseados em k-vizinhos**. Normalize os dados e use a distância Euclidiana para definir a vizinhança. Use conjunto de validação para fixar o o número de vizinhos k.\n"
      ]
    },
    {
      "cell_type": "markdown",
      "metadata": {
        "id": "fbbd2Y8iIsbJ"
      },
      "source": [
        "*Normalization is the process of scaling individual samples to have unit norm. This process can be useful if you plan to use a quadratic form such as the dot-product or any other kernel to quantify the similarity of any pair of samples.*\n",
        "\n"
      ]
    },
    {
      "cell_type": "markdown",
      "metadata": {
        "id": "WSwZzWxZl2aK"
      },
      "source": [
        "**Normalization**"
      ]
    },
    {
      "cell_type": "code",
      "metadata": {
        "id": "Ew8OKYjaIJ40"
      },
      "source": [
        "scaler = StandardScaler().fit(X)\n",
        "X_norm = scaler.transform(X)\n",
        "X_val_norm = scaler.transform(X_val)"
      ],
      "execution_count": 121,
      "outputs": []
    },
    {
      "cell_type": "markdown",
      "metadata": {
        "id": "ofxkSxaFdZo1"
      },
      "source": [
        "*scikit-learn implements two different nearest neighbors classifiers: KNeighborsClassifier implements learning based on the  nearest neighbors of each query point, where  is an integer value specified by the user.*\n",
        "\n",
        "*The basic nearest neighbors classification uses uniform weights: that is, the value assigned to a query point is computed from a simple majority vote of the nearest neighbors. Under some circumstances, it is better to weight the neighbors such that nearer neighbors contribute more to the fit. This can be accomplished through the weights keyword. The default value, weights = 'uniform', assigns uniform weights to each neighbor. weights = 'distance' assigns weights proportional to the inverse of the distance from the query point. Alternatively, a user-defined function of the distance can be supplied to compute the weights.*\n"
      ]
    },
    {
      "cell_type": "markdown",
      "metadata": {
        "id": "aZR0w__el5Y6"
      },
      "source": [
        "**K search**"
      ]
    },
    {
      "cell_type": "code",
      "metadata": {
        "id": "31mtL6e2L_wo"
      },
      "source": [
        "param_grid = [{'n_neighbors':range(1,11,2), 'weights':['uniform', 'distance'], 'metric':['euclidean','manhattan','chebyshev']}]"
      ],
      "execution_count": 122,
      "outputs": []
    },
    {
      "cell_type": "code",
      "metadata": {
        "id": "0O2Lahm8TTcF"
      },
      "source": [
        "knn_val = KNeighborsClassifier()"
      ],
      "execution_count": 123,
      "outputs": []
    },
    {
      "cell_type": "code",
      "metadata": {
        "id": "3JU7jORzScE-"
      },
      "source": [
        "clf = GridSearchCV(knn_val, param_grid, scoring=scoring, refit='f1')"
      ],
      "execution_count": 124,
      "outputs": []
    },
    {
      "cell_type": "code",
      "metadata": {
        "colab": {
          "base_uri": "https://localhost:8080/"
        },
        "id": "A82JZVskT1P1",
        "outputId": "caabc319-e612-4879-aaa5-5a9f409bd4c8"
      },
      "source": [
        "clf.fit(X_val_norm,np.ravel(y_val))"
      ],
      "execution_count": 125,
      "outputs": [
        {
          "output_type": "execute_result",
          "data": {
            "text/plain": [
              "GridSearchCV(cv=None, error_score=nan,\n",
              "             estimator=KNeighborsClassifier(algorithm='auto', leaf_size=30,\n",
              "                                            metric='minkowski',\n",
              "                                            metric_params=None, n_jobs=None,\n",
              "                                            n_neighbors=5, p=2,\n",
              "                                            weights='uniform'),\n",
              "             iid='deprecated', n_jobs=None,\n",
              "             param_grid=[{'metric': ['euclidean', 'manhattan', 'chebyshev'],\n",
              "                          'n_neighbors': range(1, 11, 2),\n",
              "                          'weights': ['uniform', 'distance']}],\n",
              "             pre_dispatch='2*n_jobs', refit='f1', return_train_score=False,\n",
              "             scoring={'acc': 'accuracy', 'f1': 'f1', 'prec': 'precision',\n",
              "                      'rec': 'recall'},\n",
              "             verbose=0)"
            ]
          },
          "metadata": {
            "tags": []
          },
          "execution_count": 125
        }
      ]
    },
    {
      "cell_type": "code",
      "metadata": {
        "id": "MVdkcgjaimAo"
      },
      "source": [
        "params_index = pd.MultiIndex.from_frame(pd.DataFrame(list(ParameterGrid(param_grid))))"
      ],
      "execution_count": 126,
      "outputs": []
    },
    {
      "cell_type": "code",
      "metadata": {
        "colab": {
          "base_uri": "https://localhost:8080/",
          "height": 979
        },
        "id": "-S5ujK1wiIyx",
        "outputId": "c44860b7-fb7e-4c89-aa9e-43d20b124a59"
      },
      "source": [
        "pd.Series(clf.cv_results_['mean_test_f1'], index=params_index).reset_index()"
      ],
      "execution_count": 127,
      "outputs": [
        {
          "output_type": "execute_result",
          "data": {
            "text/html": [
              "<div>\n",
              "<style scoped>\n",
              "    .dataframe tbody tr th:only-of-type {\n",
              "        vertical-align: middle;\n",
              "    }\n",
              "\n",
              "    .dataframe tbody tr th {\n",
              "        vertical-align: top;\n",
              "    }\n",
              "\n",
              "    .dataframe thead th {\n",
              "        text-align: right;\n",
              "    }\n",
              "</style>\n",
              "<table border=\"1\" class=\"dataframe\">\n",
              "  <thead>\n",
              "    <tr style=\"text-align: right;\">\n",
              "      <th></th>\n",
              "      <th>metric</th>\n",
              "      <th>n_neighbors</th>\n",
              "      <th>weights</th>\n",
              "      <th>0</th>\n",
              "    </tr>\n",
              "  </thead>\n",
              "  <tbody>\n",
              "    <tr>\n",
              "      <th>0</th>\n",
              "      <td>euclidean</td>\n",
              "      <td>1</td>\n",
              "      <td>uniform</td>\n",
              "      <td>0.988386</td>\n",
              "    </tr>\n",
              "    <tr>\n",
              "      <th>1</th>\n",
              "      <td>euclidean</td>\n",
              "      <td>1</td>\n",
              "      <td>distance</td>\n",
              "      <td>0.988386</td>\n",
              "    </tr>\n",
              "    <tr>\n",
              "      <th>2</th>\n",
              "      <td>euclidean</td>\n",
              "      <td>3</td>\n",
              "      <td>uniform</td>\n",
              "      <td>0.988386</td>\n",
              "    </tr>\n",
              "    <tr>\n",
              "      <th>3</th>\n",
              "      <td>euclidean</td>\n",
              "      <td>3</td>\n",
              "      <td>distance</td>\n",
              "      <td>0.988386</td>\n",
              "    </tr>\n",
              "    <tr>\n",
              "      <th>4</th>\n",
              "      <td>euclidean</td>\n",
              "      <td>5</td>\n",
              "      <td>uniform</td>\n",
              "      <td>0.988386</td>\n",
              "    </tr>\n",
              "    <tr>\n",
              "      <th>5</th>\n",
              "      <td>euclidean</td>\n",
              "      <td>5</td>\n",
              "      <td>distance</td>\n",
              "      <td>0.988386</td>\n",
              "    </tr>\n",
              "    <tr>\n",
              "      <th>6</th>\n",
              "      <td>euclidean</td>\n",
              "      <td>7</td>\n",
              "      <td>uniform</td>\n",
              "      <td>0.984758</td>\n",
              "    </tr>\n",
              "    <tr>\n",
              "      <th>7</th>\n",
              "      <td>euclidean</td>\n",
              "      <td>7</td>\n",
              "      <td>distance</td>\n",
              "      <td>0.988386</td>\n",
              "    </tr>\n",
              "    <tr>\n",
              "      <th>8</th>\n",
              "      <td>euclidean</td>\n",
              "      <td>9</td>\n",
              "      <td>uniform</td>\n",
              "      <td>0.988386</td>\n",
              "    </tr>\n",
              "    <tr>\n",
              "      <th>9</th>\n",
              "      <td>euclidean</td>\n",
              "      <td>9</td>\n",
              "      <td>distance</td>\n",
              "      <td>0.988386</td>\n",
              "    </tr>\n",
              "    <tr>\n",
              "      <th>10</th>\n",
              "      <td>manhattan</td>\n",
              "      <td>1</td>\n",
              "      <td>uniform</td>\n",
              "      <td>0.992157</td>\n",
              "    </tr>\n",
              "    <tr>\n",
              "      <th>11</th>\n",
              "      <td>manhattan</td>\n",
              "      <td>1</td>\n",
              "      <td>distance</td>\n",
              "      <td>0.992157</td>\n",
              "    </tr>\n",
              "    <tr>\n",
              "      <th>12</th>\n",
              "      <td>manhattan</td>\n",
              "      <td>3</td>\n",
              "      <td>uniform</td>\n",
              "      <td>0.988386</td>\n",
              "    </tr>\n",
              "    <tr>\n",
              "      <th>13</th>\n",
              "      <td>manhattan</td>\n",
              "      <td>3</td>\n",
              "      <td>distance</td>\n",
              "      <td>0.988386</td>\n",
              "    </tr>\n",
              "    <tr>\n",
              "      <th>14</th>\n",
              "      <td>manhattan</td>\n",
              "      <td>5</td>\n",
              "      <td>uniform</td>\n",
              "      <td>0.992157</td>\n",
              "    </tr>\n",
              "    <tr>\n",
              "      <th>15</th>\n",
              "      <td>manhattan</td>\n",
              "      <td>5</td>\n",
              "      <td>distance</td>\n",
              "      <td>0.992157</td>\n",
              "    </tr>\n",
              "    <tr>\n",
              "      <th>16</th>\n",
              "      <td>manhattan</td>\n",
              "      <td>7</td>\n",
              "      <td>uniform</td>\n",
              "      <td>0.984758</td>\n",
              "    </tr>\n",
              "    <tr>\n",
              "      <th>17</th>\n",
              "      <td>manhattan</td>\n",
              "      <td>7</td>\n",
              "      <td>distance</td>\n",
              "      <td>0.984758</td>\n",
              "    </tr>\n",
              "    <tr>\n",
              "      <th>18</th>\n",
              "      <td>manhattan</td>\n",
              "      <td>9</td>\n",
              "      <td>uniform</td>\n",
              "      <td>0.977065</td>\n",
              "    </tr>\n",
              "    <tr>\n",
              "      <th>19</th>\n",
              "      <td>manhattan</td>\n",
              "      <td>9</td>\n",
              "      <td>distance</td>\n",
              "      <td>0.984758</td>\n",
              "    </tr>\n",
              "    <tr>\n",
              "      <th>20</th>\n",
              "      <td>chebyshev</td>\n",
              "      <td>1</td>\n",
              "      <td>uniform</td>\n",
              "      <td>0.984308</td>\n",
              "    </tr>\n",
              "    <tr>\n",
              "      <th>21</th>\n",
              "      <td>chebyshev</td>\n",
              "      <td>1</td>\n",
              "      <td>distance</td>\n",
              "      <td>0.984308</td>\n",
              "    </tr>\n",
              "    <tr>\n",
              "      <th>22</th>\n",
              "      <td>chebyshev</td>\n",
              "      <td>3</td>\n",
              "      <td>uniform</td>\n",
              "      <td>0.988386</td>\n",
              "    </tr>\n",
              "    <tr>\n",
              "      <th>23</th>\n",
              "      <td>chebyshev</td>\n",
              "      <td>3</td>\n",
              "      <td>distance</td>\n",
              "      <td>0.988386</td>\n",
              "    </tr>\n",
              "    <tr>\n",
              "      <th>24</th>\n",
              "      <td>chebyshev</td>\n",
              "      <td>5</td>\n",
              "      <td>uniform</td>\n",
              "      <td>0.988386</td>\n",
              "    </tr>\n",
              "    <tr>\n",
              "      <th>25</th>\n",
              "      <td>chebyshev</td>\n",
              "      <td>5</td>\n",
              "      <td>distance</td>\n",
              "      <td>0.988386</td>\n",
              "    </tr>\n",
              "    <tr>\n",
              "      <th>26</th>\n",
              "      <td>chebyshev</td>\n",
              "      <td>7</td>\n",
              "      <td>uniform</td>\n",
              "      <td>0.984308</td>\n",
              "    </tr>\n",
              "    <tr>\n",
              "      <th>27</th>\n",
              "      <td>chebyshev</td>\n",
              "      <td>7</td>\n",
              "      <td>distance</td>\n",
              "      <td>0.984308</td>\n",
              "    </tr>\n",
              "    <tr>\n",
              "      <th>28</th>\n",
              "      <td>chebyshev</td>\n",
              "      <td>9</td>\n",
              "      <td>uniform</td>\n",
              "      <td>0.980063</td>\n",
              "    </tr>\n",
              "    <tr>\n",
              "      <th>29</th>\n",
              "      <td>chebyshev</td>\n",
              "      <td>9</td>\n",
              "      <td>distance</td>\n",
              "      <td>0.980063</td>\n",
              "    </tr>\n",
              "  </tbody>\n",
              "</table>\n",
              "</div>"
            ],
            "text/plain": [
              "       metric  n_neighbors   weights         0\n",
              "0   euclidean            1   uniform  0.988386\n",
              "1   euclidean            1  distance  0.988386\n",
              "2   euclidean            3   uniform  0.988386\n",
              "3   euclidean            3  distance  0.988386\n",
              "4   euclidean            5   uniform  0.988386\n",
              "5   euclidean            5  distance  0.988386\n",
              "6   euclidean            7   uniform  0.984758\n",
              "7   euclidean            7  distance  0.988386\n",
              "8   euclidean            9   uniform  0.988386\n",
              "9   euclidean            9  distance  0.988386\n",
              "10  manhattan            1   uniform  0.992157\n",
              "11  manhattan            1  distance  0.992157\n",
              "12  manhattan            3   uniform  0.988386\n",
              "13  manhattan            3  distance  0.988386\n",
              "14  manhattan            5   uniform  0.992157\n",
              "15  manhattan            5  distance  0.992157\n",
              "16  manhattan            7   uniform  0.984758\n",
              "17  manhattan            7  distance  0.984758\n",
              "18  manhattan            9   uniform  0.977065\n",
              "19  manhattan            9  distance  0.984758\n",
              "20  chebyshev            1   uniform  0.984308\n",
              "21  chebyshev            1  distance  0.984308\n",
              "22  chebyshev            3   uniform  0.988386\n",
              "23  chebyshev            3  distance  0.988386\n",
              "24  chebyshev            5   uniform  0.988386\n",
              "25  chebyshev            5  distance  0.988386\n",
              "26  chebyshev            7   uniform  0.984308\n",
              "27  chebyshev            7  distance  0.984308\n",
              "28  chebyshev            9   uniform  0.980063\n",
              "29  chebyshev            9  distance  0.980063"
            ]
          },
          "metadata": {
            "tags": []
          },
          "execution_count": 127
        }
      ]
    },
    {
      "cell_type": "code",
      "metadata": {
        "colab": {
          "base_uri": "https://localhost:8080/"
        },
        "id": "-IxR_MlMLm_z",
        "outputId": "5421ffa7-5e49-45cc-b8f6-4e031a7184a7"
      },
      "source": [
        "clf.best_params_"
      ],
      "execution_count": 128,
      "outputs": [
        {
          "output_type": "execute_result",
          "data": {
            "text/plain": [
              "{'metric': 'manhattan', 'n_neighbors': 1, 'weights': 'uniform'}"
            ]
          },
          "metadata": {
            "tags": []
          },
          "execution_count": 128
        }
      ]
    },
    {
      "cell_type": "code",
      "metadata": {
        "colab": {
          "base_uri": "https://localhost:8080/"
        },
        "id": "qP923pjbL63g",
        "outputId": "d9639354-f4d9-4e23-ccc3-1266560dad9d"
      },
      "source": [
        "clf.best_score_"
      ],
      "execution_count": 129,
      "outputs": [
        {
          "output_type": "execute_result",
          "data": {
            "text/plain": [
              "0.9921568627450981"
            ]
          },
          "metadata": {
            "tags": []
          },
          "execution_count": 129
        }
      ]
    },
    {
      "cell_type": "code",
      "metadata": {
        "id": "tS3AhEVvYKB9",
        "colab": {
          "base_uri": "https://localhost:8080/"
        },
        "outputId": "7f66d897-59bc-4a6f-e625-664ac8570b88"
      },
      "source": [
        "clf.best_estimator_.get_params()"
      ],
      "execution_count": 130,
      "outputs": [
        {
          "output_type": "execute_result",
          "data": {
            "text/plain": [
              "{'algorithm': 'auto',\n",
              " 'leaf_size': 30,\n",
              " 'metric': 'manhattan',\n",
              " 'metric_params': None,\n",
              " 'n_jobs': None,\n",
              " 'n_neighbors': 1,\n",
              " 'p': 2,\n",
              " 'weights': 'uniform'}"
            ]
          },
          "metadata": {
            "tags": []
          },
          "execution_count": 130
        }
      ]
    },
    {
      "cell_type": "markdown",
      "metadata": {
        "id": "EkI_bg3qmDHA"
      },
      "source": [
        "#### Pipeline"
      ]
    },
    {
      "cell_type": "code",
      "metadata": {
        "id": "GrRyUGHsctIB"
      },
      "source": [
        "kpipe = Pipeline([('scaler', MinMaxScaler()), ('KNN', clf.best_estimator_)])"
      ],
      "execution_count": 131,
      "outputs": []
    },
    {
      "cell_type": "code",
      "metadata": {
        "colab": {
          "base_uri": "https://localhost:8080/",
          "height": 359
        },
        "id": "I-lgnLifaPes",
        "outputId": "9f2fccb0-3dda-49e5-f069-afe930a445c9"
      },
      "source": [
        "scores_knn = cross_validate(kpipe, X, np.ravel(y), scoring=scoring,\n",
        "                        cv=folds, return_train_score=True)\n",
        "\n",
        "pd.DataFrame(scores_knn).agg(['mean','std']).T"
      ],
      "execution_count": 132,
      "outputs": [
        {
          "output_type": "execute_result",
          "data": {
            "text/html": [
              "<div>\n",
              "<style scoped>\n",
              "    .dataframe tbody tr th:only-of-type {\n",
              "        vertical-align: middle;\n",
              "    }\n",
              "\n",
              "    .dataframe tbody tr th {\n",
              "        vertical-align: top;\n",
              "    }\n",
              "\n",
              "    .dataframe thead th {\n",
              "        text-align: right;\n",
              "    }\n",
              "</style>\n",
              "<table border=\"1\" class=\"dataframe\">\n",
              "  <thead>\n",
              "    <tr style=\"text-align: right;\">\n",
              "      <th></th>\n",
              "      <th>mean</th>\n",
              "      <th>std</th>\n",
              "    </tr>\n",
              "  </thead>\n",
              "  <tbody>\n",
              "    <tr>\n",
              "      <th>fit_time</th>\n",
              "      <td>0.003884</td>\n",
              "      <td>0.002023</td>\n",
              "    </tr>\n",
              "    <tr>\n",
              "      <th>score_time</th>\n",
              "      <td>0.010021</td>\n",
              "      <td>0.005552</td>\n",
              "    </tr>\n",
              "    <tr>\n",
              "      <th>test_acc</th>\n",
              "      <td>0.998540</td>\n",
              "      <td>0.003078</td>\n",
              "    </tr>\n",
              "    <tr>\n",
              "      <th>train_acc</th>\n",
              "      <td>1.000000</td>\n",
              "      <td>0.000000</td>\n",
              "    </tr>\n",
              "    <tr>\n",
              "      <th>test_prec</th>\n",
              "      <td>0.996774</td>\n",
              "      <td>0.006801</td>\n",
              "    </tr>\n",
              "    <tr>\n",
              "      <th>train_prec</th>\n",
              "      <td>1.000000</td>\n",
              "      <td>0.000000</td>\n",
              "    </tr>\n",
              "    <tr>\n",
              "      <th>test_rec</th>\n",
              "      <td>1.000000</td>\n",
              "      <td>0.000000</td>\n",
              "    </tr>\n",
              "    <tr>\n",
              "      <th>train_rec</th>\n",
              "      <td>1.000000</td>\n",
              "      <td>0.000000</td>\n",
              "    </tr>\n",
              "    <tr>\n",
              "      <th>test_f1</th>\n",
              "      <td>0.998374</td>\n",
              "      <td>0.003428</td>\n",
              "    </tr>\n",
              "    <tr>\n",
              "      <th>train_f1</th>\n",
              "      <td>1.000000</td>\n",
              "      <td>0.000000</td>\n",
              "    </tr>\n",
              "  </tbody>\n",
              "</table>\n",
              "</div>"
            ],
            "text/plain": [
              "                mean       std\n",
              "fit_time    0.003884  0.002023\n",
              "score_time  0.010021  0.005552\n",
              "test_acc    0.998540  0.003078\n",
              "train_acc   1.000000  0.000000\n",
              "test_prec   0.996774  0.006801\n",
              "train_prec  1.000000  0.000000\n",
              "test_rec    1.000000  0.000000\n",
              "train_rec   1.000000  0.000000\n",
              "test_f1     0.998374  0.003428\n",
              "train_f1    1.000000  0.000000"
            ]
          },
          "metadata": {
            "tags": []
          },
          "execution_count": 132
        }
      ]
    },
    {
      "cell_type": "markdown",
      "metadata": {
        "id": "q9VYxlPVoi9F"
      },
      "source": [
        "## PARZEN"
      ]
    },
    {
      "cell_type": "markdown",
      "metadata": {
        "id": "Dvx2Z-2cCtu2"
      },
      "source": [
        "* iii) Treine um **classificador bayesiano baseado em janela de Parzen**. Use a função de kernel multivariada produto com um mesmo h para todas as dimensões e a função de kernel Gaussiana unidimensional. Use conjunto de validação para fixar o parâmetro h. "
      ]
    },
    {
      "cell_type": "code",
      "metadata": {
        "id": "6IPM2cZJxhNM"
      },
      "source": [
        "class ParzenClassifier(BaseEstimator, ClassifierMixin):\n",
        "    \"\"\"Bayesian generative classification based on KDE\n",
        "    \n",
        "    Parameters\n",
        "    ----------\n",
        "    bandwidth : float\n",
        "        the kernel bandwidth within each class\n",
        "    kernel : str\n",
        "        the kernel name, passed to KernelDensity\n",
        "    \"\"\"\n",
        "    def __init__(self, bandwidth=1.0, kernel='gaussian'):\n",
        "        self.bandwidth = bandwidth\n",
        "        self.kernel = kernel\n",
        "        \n",
        "    def fit(self, X, y):\n",
        "        self.classes_ = np.sort(np.unique(y))\n",
        "        training_sets = [X[y == yi] for yi in self.classes_]\n",
        "        self.models_ = [KernelDensity(bandwidth=self.bandwidth,\n",
        "                                      kernel=self.kernel).fit(Xi)\n",
        "                        for Xi in training_sets]\n",
        "        self.logpriors_ = [np.log(Xi.shape[0] / X.shape[0])\n",
        "                           for Xi in training_sets]\n",
        "        return self\n",
        "        \n",
        "    def predict_proba(self, X):\n",
        "        logprobs = np.array([model.score_samples(X)\n",
        "                             for model in self.models_]).T\n",
        "        result = np.exp(logprobs + self.logpriors_)\n",
        "        return result / result.sum(1, keepdims=True)\n",
        "        \n",
        "    def predict(self, X):\n",
        "        return self.classes_[np.argmax(self.predict_proba(X), 1)]"
      ],
      "execution_count": 133,
      "outputs": []
    },
    {
      "cell_type": "code",
      "metadata": {
        "id": "L2Bn1glj8pr3"
      },
      "source": [
        "param_grid = [{'bandwidth':[0.01,0.1,0.125,0.15,0.25,0.5,1,2,3]}]"
      ],
      "execution_count": 134,
      "outputs": []
    },
    {
      "cell_type": "code",
      "metadata": {
        "id": "7_cjVd5Z7ZmV"
      },
      "source": [
        "parzen = ParzenClassifier()"
      ],
      "execution_count": 135,
      "outputs": []
    },
    {
      "cell_type": "code",
      "metadata": {
        "id": "IPf7L36E9CKw"
      },
      "source": [
        "clf = GridSearchCV(parzen, param_grid, scoring=scoring, refit='f1')"
      ],
      "execution_count": 136,
      "outputs": []
    },
    {
      "cell_type": "code",
      "metadata": {
        "colab": {
          "base_uri": "https://localhost:8080/"
        },
        "id": "H0-YYe8j9IZy",
        "outputId": "2f678e67-a674-477c-d00e-0755ee255f3c"
      },
      "source": [
        "clf.fit(X_val_norm,np.ravel(y_val))"
      ],
      "execution_count": 137,
      "outputs": [
        {
          "output_type": "stream",
          "text": [
            "/usr/local/lib/python3.7/dist-packages/ipykernel_launcher.py:29: RuntimeWarning: invalid value encountered in true_divide\n",
            "/usr/local/lib/python3.7/dist-packages/ipykernel_launcher.py:29: RuntimeWarning: invalid value encountered in true_divide\n",
            "/usr/local/lib/python3.7/dist-packages/ipykernel_launcher.py:29: RuntimeWarning: invalid value encountered in true_divide\n",
            "/usr/local/lib/python3.7/dist-packages/ipykernel_launcher.py:29: RuntimeWarning: invalid value encountered in true_divide\n",
            "/usr/local/lib/python3.7/dist-packages/ipykernel_launcher.py:29: RuntimeWarning: invalid value encountered in true_divide\n"
          ],
          "name": "stderr"
        },
        {
          "output_type": "execute_result",
          "data": {
            "text/plain": [
              "GridSearchCV(cv=None, error_score=nan,\n",
              "             estimator=ParzenClassifier(bandwidth=1.0, kernel='gaussian'),\n",
              "             iid='deprecated', n_jobs=None,\n",
              "             param_grid=[{'bandwidth': [0.01, 0.1, 0.125, 0.15, 0.25, 0.5, 1, 2,\n",
              "                                        3]}],\n",
              "             pre_dispatch='2*n_jobs', refit='f1', return_train_score=False,\n",
              "             scoring={'acc': 'accuracy', 'f1': 'f1', 'prec': 'precision',\n",
              "                      'rec': 'recall'},\n",
              "             verbose=0)"
            ]
          },
          "metadata": {
            "tags": []
          },
          "execution_count": 137
        }
      ]
    },
    {
      "cell_type": "code",
      "metadata": {
        "colab": {
          "base_uri": "https://localhost:8080/"
        },
        "id": "ocg_x9C5bKZM",
        "outputId": "8f6d030d-3e25-4d4e-a1fc-724119bb9a7e"
      },
      "source": [
        "list(zip(clf.cv_results_['params'],clf.cv_results_['mean_test_f1']))"
      ],
      "execution_count": 138,
      "outputs": [
        {
          "output_type": "execute_result",
          "data": {
            "text/plain": [
              "[({'bandwidth': 0.01}, 0.8591404483208228),\n",
              " ({'bandwidth': 0.1}, 0.9883861236802414),\n",
              " ({'bandwidth': 0.125}, 0.9883861236802414),\n",
              " ({'bandwidth': 0.15}, 0.9883861236802414),\n",
              " ({'bandwidth': 0.25}, 0.9883861236802414),\n",
              " ({'bandwidth': 0.5}, 0.9883861236802414),\n",
              " ({'bandwidth': 1}, 0.9290599146368859),\n",
              " ({'bandwidth': 2}, 0.7735890946769406),\n",
              " ({'bandwidth': 3}, 0.4757251082251083)]"
            ]
          },
          "metadata": {
            "tags": []
          },
          "execution_count": 138
        }
      ]
    },
    {
      "cell_type": "code",
      "metadata": {
        "colab": {
          "base_uri": "https://localhost:8080/",
          "height": 328
        },
        "id": "GA7BbsuSn6gO",
        "outputId": "62210e14-3979-449b-868c-21472078d6b4"
      },
      "source": [
        "pd.Series(clf.cv_results_['mean_test_f1'], index=pd.DataFrame(clf.cv_results_['params'])['bandwidth']).reset_index()\n"
      ],
      "execution_count": 139,
      "outputs": [
        {
          "output_type": "execute_result",
          "data": {
            "text/html": [
              "<div>\n",
              "<style scoped>\n",
              "    .dataframe tbody tr th:only-of-type {\n",
              "        vertical-align: middle;\n",
              "    }\n",
              "\n",
              "    .dataframe tbody tr th {\n",
              "        vertical-align: top;\n",
              "    }\n",
              "\n",
              "    .dataframe thead th {\n",
              "        text-align: right;\n",
              "    }\n",
              "</style>\n",
              "<table border=\"1\" class=\"dataframe\">\n",
              "  <thead>\n",
              "    <tr style=\"text-align: right;\">\n",
              "      <th></th>\n",
              "      <th>bandwidth</th>\n",
              "      <th>0</th>\n",
              "    </tr>\n",
              "  </thead>\n",
              "  <tbody>\n",
              "    <tr>\n",
              "      <th>0</th>\n",
              "      <td>0.010</td>\n",
              "      <td>0.859140</td>\n",
              "    </tr>\n",
              "    <tr>\n",
              "      <th>1</th>\n",
              "      <td>0.100</td>\n",
              "      <td>0.988386</td>\n",
              "    </tr>\n",
              "    <tr>\n",
              "      <th>2</th>\n",
              "      <td>0.125</td>\n",
              "      <td>0.988386</td>\n",
              "    </tr>\n",
              "    <tr>\n",
              "      <th>3</th>\n",
              "      <td>0.150</td>\n",
              "      <td>0.988386</td>\n",
              "    </tr>\n",
              "    <tr>\n",
              "      <th>4</th>\n",
              "      <td>0.250</td>\n",
              "      <td>0.988386</td>\n",
              "    </tr>\n",
              "    <tr>\n",
              "      <th>5</th>\n",
              "      <td>0.500</td>\n",
              "      <td>0.988386</td>\n",
              "    </tr>\n",
              "    <tr>\n",
              "      <th>6</th>\n",
              "      <td>1.000</td>\n",
              "      <td>0.929060</td>\n",
              "    </tr>\n",
              "    <tr>\n",
              "      <th>7</th>\n",
              "      <td>2.000</td>\n",
              "      <td>0.773589</td>\n",
              "    </tr>\n",
              "    <tr>\n",
              "      <th>8</th>\n",
              "      <td>3.000</td>\n",
              "      <td>0.475725</td>\n",
              "    </tr>\n",
              "  </tbody>\n",
              "</table>\n",
              "</div>"
            ],
            "text/plain": [
              "   bandwidth         0\n",
              "0      0.010  0.859140\n",
              "1      0.100  0.988386\n",
              "2      0.125  0.988386\n",
              "3      0.150  0.988386\n",
              "4      0.250  0.988386\n",
              "5      0.500  0.988386\n",
              "6      1.000  0.929060\n",
              "7      2.000  0.773589\n",
              "8      3.000  0.475725"
            ]
          },
          "metadata": {
            "tags": []
          },
          "execution_count": 139
        }
      ]
    },
    {
      "cell_type": "code",
      "metadata": {
        "id": "oVYsBJ1o9QPZ"
      },
      "source": [
        "h = clf.best_params_['bandwidth']"
      ],
      "execution_count": 140,
      "outputs": []
    },
    {
      "cell_type": "code",
      "metadata": {
        "colab": {
          "base_uri": "https://localhost:8080/"
        },
        "id": "YasaoeXCWnn8",
        "outputId": "4f04f0e3-c769-48be-c973-3597884e5dab"
      },
      "source": [
        "h"
      ],
      "execution_count": 141,
      "outputs": [
        {
          "output_type": "execute_result",
          "data": {
            "text/plain": [
              "0.1"
            ]
          },
          "metadata": {
            "tags": []
          },
          "execution_count": 141
        }
      ]
    },
    {
      "cell_type": "code",
      "metadata": {
        "id": "Ud7eISj_Ndq2"
      },
      "source": [
        "parzen = ParzenClassifier(bandwidth=h)"
      ],
      "execution_count": 142,
      "outputs": []
    },
    {
      "cell_type": "code",
      "metadata": {
        "colab": {
          "base_uri": "https://localhost:8080/"
        },
        "id": "300FL8jw1yZo",
        "outputId": "ac66e544-f14d-4060-a612-57ef66e9811f"
      },
      "source": [
        "parzen.get_params()"
      ],
      "execution_count": 143,
      "outputs": [
        {
          "output_type": "execute_result",
          "data": {
            "text/plain": [
              "{'bandwidth': 0.1, 'kernel': 'gaussian'}"
            ]
          },
          "metadata": {
            "tags": []
          },
          "execution_count": 143
        }
      ]
    },
    {
      "cell_type": "code",
      "metadata": {
        "colab": {
          "base_uri": "https://localhost:8080/",
          "height": 396
        },
        "id": "6nJhvZ5A79oc",
        "outputId": "1f37194b-cf09-45da-a774-6d1d71288e7d"
      },
      "source": [
        "scores_parz = cross_validate(parzen, X, np.ravel(y), scoring=scoring,\n",
        "                        cv=folds, return_train_score=True)\n",
        "pd.DataFrame(scores_parz).agg(['mean','std']).T"
      ],
      "execution_count": 144,
      "outputs": [
        {
          "output_type": "stream",
          "text": [
            "/usr/local/lib/python3.7/dist-packages/ipykernel_launcher.py:29: RuntimeWarning: invalid value encountered in true_divide\n"
          ],
          "name": "stderr"
        },
        {
          "output_type": "execute_result",
          "data": {
            "text/html": [
              "<div>\n",
              "<style scoped>\n",
              "    .dataframe tbody tr th:only-of-type {\n",
              "        vertical-align: middle;\n",
              "    }\n",
              "\n",
              "    .dataframe tbody tr th {\n",
              "        vertical-align: top;\n",
              "    }\n",
              "\n",
              "    .dataframe thead th {\n",
              "        text-align: right;\n",
              "    }\n",
              "</style>\n",
              "<table border=\"1\" class=\"dataframe\">\n",
              "  <thead>\n",
              "    <tr style=\"text-align: right;\">\n",
              "      <th></th>\n",
              "      <th>mean</th>\n",
              "      <th>std</th>\n",
              "    </tr>\n",
              "  </thead>\n",
              "  <tbody>\n",
              "    <tr>\n",
              "      <th>fit_time</th>\n",
              "      <td>0.003126</td>\n",
              "      <td>0.000810</td>\n",
              "    </tr>\n",
              "    <tr>\n",
              "      <th>score_time</th>\n",
              "      <td>0.009109</td>\n",
              "      <td>0.002432</td>\n",
              "    </tr>\n",
              "    <tr>\n",
              "      <th>test_acc</th>\n",
              "      <td>1.000000</td>\n",
              "      <td>0.000000</td>\n",
              "    </tr>\n",
              "    <tr>\n",
              "      <th>train_acc</th>\n",
              "      <td>1.000000</td>\n",
              "      <td>0.000000</td>\n",
              "    </tr>\n",
              "    <tr>\n",
              "      <th>test_prec</th>\n",
              "      <td>1.000000</td>\n",
              "      <td>0.000000</td>\n",
              "    </tr>\n",
              "    <tr>\n",
              "      <th>train_prec</th>\n",
              "      <td>1.000000</td>\n",
              "      <td>0.000000</td>\n",
              "    </tr>\n",
              "    <tr>\n",
              "      <th>test_rec</th>\n",
              "      <td>1.000000</td>\n",
              "      <td>0.000000</td>\n",
              "    </tr>\n",
              "    <tr>\n",
              "      <th>train_rec</th>\n",
              "      <td>1.000000</td>\n",
              "      <td>0.000000</td>\n",
              "    </tr>\n",
              "    <tr>\n",
              "      <th>test_f1</th>\n",
              "      <td>1.000000</td>\n",
              "      <td>0.000000</td>\n",
              "    </tr>\n",
              "    <tr>\n",
              "      <th>train_f1</th>\n",
              "      <td>1.000000</td>\n",
              "      <td>0.000000</td>\n",
              "    </tr>\n",
              "  </tbody>\n",
              "</table>\n",
              "</div>"
            ],
            "text/plain": [
              "                mean       std\n",
              "fit_time    0.003126  0.000810\n",
              "score_time  0.009109  0.002432\n",
              "test_acc    1.000000  0.000000\n",
              "train_acc   1.000000  0.000000\n",
              "test_prec   1.000000  0.000000\n",
              "train_prec  1.000000  0.000000\n",
              "test_rec    1.000000  0.000000\n",
              "train_rec   1.000000  0.000000\n",
              "test_f1     1.000000  0.000000\n",
              "train_f1    1.000000  0.000000"
            ]
          },
          "metadata": {
            "tags": []
          },
          "execution_count": 144
        }
      ]
    },
    {
      "cell_type": "markdown",
      "metadata": {
        "id": "iu9H39IZotdn"
      },
      "source": [
        "## LOGISTIC REGRESSION 1"
      ]
    },
    {
      "cell_type": "markdown",
      "metadata": {
        "id": "WA-bR6XOCtsR"
      },
      "source": [
        "* iv) Treine um **classificador baseado em regressão logistica** com os 4 atributos numericos x1 , x2 , x3 , x4."
      ]
    },
    {
      "cell_type": "markdown",
      "metadata": {
        "id": "52uiN5OamFf7"
      },
      "source": [
        "**Train/Evaluation**"
      ]
    },
    {
      "cell_type": "code",
      "metadata": {
        "id": "gDOlJJ6CDj9t"
      },
      "source": [
        "logistic1 = LogisticRegression(penalty='none')"
      ],
      "execution_count": 145,
      "outputs": []
    },
    {
      "cell_type": "code",
      "metadata": {
        "colab": {
          "base_uri": "https://localhost:8080/"
        },
        "id": "ZkDG5LYj1vjg",
        "outputId": "fca52592-278f-4ddd-b12e-311d04c6f8d4"
      },
      "source": [
        "logistic1.get_params()"
      ],
      "execution_count": 146,
      "outputs": [
        {
          "output_type": "execute_result",
          "data": {
            "text/plain": [
              "{'C': 1.0,\n",
              " 'class_weight': None,\n",
              " 'dual': False,\n",
              " 'fit_intercept': True,\n",
              " 'intercept_scaling': 1,\n",
              " 'l1_ratio': None,\n",
              " 'max_iter': 100,\n",
              " 'multi_class': 'auto',\n",
              " 'n_jobs': None,\n",
              " 'penalty': 'none',\n",
              " 'random_state': None,\n",
              " 'solver': 'lbfgs',\n",
              " 'tol': 0.0001,\n",
              " 'verbose': 0,\n",
              " 'warm_start': False}"
            ]
          },
          "metadata": {
            "tags": []
          },
          "execution_count": 146
        }
      ]
    },
    {
      "cell_type": "code",
      "metadata": {
        "colab": {
          "base_uri": "https://localhost:8080/",
          "height": 359
        },
        "id": "4G1uFLvlk9cD",
        "outputId": "fb749adc-9b0c-4090-c64e-7c5fbe7f8375"
      },
      "source": [
        "scores_log = cross_validate(logistic1, X, np.ravel(y), scoring=scoring,\n",
        "                        cv=folds, return_train_score=True)\n",
        "pd.DataFrame(scores_log).agg(['mean','std']).T"
      ],
      "execution_count": 147,
      "outputs": [
        {
          "output_type": "execute_result",
          "data": {
            "text/html": [
              "<div>\n",
              "<style scoped>\n",
              "    .dataframe tbody tr th:only-of-type {\n",
              "        vertical-align: middle;\n",
              "    }\n",
              "\n",
              "    .dataframe tbody tr th {\n",
              "        vertical-align: top;\n",
              "    }\n",
              "\n",
              "    .dataframe thead th {\n",
              "        text-align: right;\n",
              "    }\n",
              "</style>\n",
              "<table border=\"1\" class=\"dataframe\">\n",
              "  <thead>\n",
              "    <tr style=\"text-align: right;\">\n",
              "      <th></th>\n",
              "      <th>mean</th>\n",
              "      <th>std</th>\n",
              "    </tr>\n",
              "  </thead>\n",
              "  <tbody>\n",
              "    <tr>\n",
              "      <th>fit_time</th>\n",
              "      <td>0.011124</td>\n",
              "      <td>0.003323</td>\n",
              "    </tr>\n",
              "    <tr>\n",
              "      <th>score_time</th>\n",
              "      <td>0.003557</td>\n",
              "      <td>0.001017</td>\n",
              "    </tr>\n",
              "    <tr>\n",
              "      <th>test_acc</th>\n",
              "      <td>0.988337</td>\n",
              "      <td>0.010989</td>\n",
              "    </tr>\n",
              "    <tr>\n",
              "      <th>train_acc</th>\n",
              "      <td>0.991092</td>\n",
              "      <td>0.001708</td>\n",
              "    </tr>\n",
              "    <tr>\n",
              "      <th>test_prec</th>\n",
              "      <td>0.985806</td>\n",
              "      <td>0.019914</td>\n",
              "    </tr>\n",
              "    <tr>\n",
              "      <th>train_prec</th>\n",
              "      <td>0.989810</td>\n",
              "      <td>0.002965</td>\n",
              "    </tr>\n",
              "    <tr>\n",
              "      <th>test_rec</th>\n",
              "      <td>0.988525</td>\n",
              "      <td>0.021926</td>\n",
              "    </tr>\n",
              "    <tr>\n",
              "      <th>train_rec</th>\n",
              "      <td>0.990164</td>\n",
              "      <td>0.001760</td>\n",
              "    </tr>\n",
              "    <tr>\n",
              "      <th>test_f1</th>\n",
              "      <td>0.986891</td>\n",
              "      <td>0.012370</td>\n",
              "    </tr>\n",
              "    <tr>\n",
              "      <th>train_f1</th>\n",
              "      <td>0.989985</td>\n",
              "      <td>0.001909</td>\n",
              "    </tr>\n",
              "  </tbody>\n",
              "</table>\n",
              "</div>"
            ],
            "text/plain": [
              "                mean       std\n",
              "fit_time    0.011124  0.003323\n",
              "score_time  0.003557  0.001017\n",
              "test_acc    0.988337  0.010989\n",
              "train_acc   0.991092  0.001708\n",
              "test_prec   0.985806  0.019914\n",
              "train_prec  0.989810  0.002965\n",
              "test_rec    0.988525  0.021926\n",
              "train_rec   0.990164  0.001760\n",
              "test_f1     0.986891  0.012370\n",
              "train_f1    0.989985  0.001909"
            ]
          },
          "metadata": {
            "tags": []
          },
          "execution_count": 147
        }
      ]
    },
    {
      "cell_type": "markdown",
      "metadata": {
        "id": "IjmzAw6vmbEX"
      },
      "source": [
        "## LOGISTIC REGRESSION 2"
      ]
    },
    {
      "cell_type": "markdown",
      "metadata": {
        "id": "OUzgCasvCtcj"
      },
      "source": [
        "* v) Treine um **classificador baseado em regressão logistica** com os 4 atributos numericos x1 , x2 , x3 , x4 originais e mais 4 atributos suplementares x<sub>5</sub> = x<sub>1</sub><sup>2</sup>  , x<sub>6</sub> = √x<sub>2</sub> , x<sub>7</sub> = log(x<sub>3</sub> ), x<sub>8</sub> = 1/x<sub>4</sub>. Use regularização. Use conjunto de validação para fixar o parâmetro de regularização."
      ]
    },
    {
      "cell_type": "markdown",
      "metadata": {
        "id": "7ELVtgemljp8"
      },
      "source": [
        "**New features**"
      ]
    },
    {
      "cell_type": "code",
      "metadata": {
        "id": "nCfbVkiohPjM"
      },
      "source": [
        "cols = X.columns"
      ],
      "execution_count": 148,
      "outputs": []
    },
    {
      "cell_type": "code",
      "metadata": {
        "colab": {
          "base_uri": "https://localhost:8080/"
        },
        "id": "2QfGKPfRigmk",
        "outputId": "a8793bb0-d5ca-4da7-9a55-00b6437b19b0"
      },
      "source": [
        "cols"
      ],
      "execution_count": 149,
      "outputs": [
        {
          "output_type": "execute_result",
          "data": {
            "text/plain": [
              "Index(['var', 'skew', 'curt', 'entr'], dtype='object')"
            ]
          },
          "metadata": {
            "tags": []
          },
          "execution_count": 149
        }
      ]
    },
    {
      "cell_type": "code",
      "metadata": {
        "id": "eIoBoBJIhDVt"
      },
      "source": [
        "X_new = X.copy()"
      ],
      "execution_count": 150,
      "outputs": []
    },
    {
      "cell_type": "code",
      "metadata": {
        "id": "CzP3FBXjhMUj"
      },
      "source": [
        "X_new['x5'] = X_new[cols[0]]**2\n",
        "X_new['x6'] = abs(X_new[cols[1]])**(1/2)\n",
        "X_new['x7'] = X_new[cols[2]].apply(lambda x: math.log(abs(x)))\n",
        "X_new['x8'] = 1/(X_new[cols[3]])"
      ],
      "execution_count": 151,
      "outputs": []
    },
    {
      "cell_type": "markdown",
      "metadata": {
        "id": "lQsLooJyliP-"
      },
      "source": [
        "**Regularization**"
      ]
    },
    {
      "cell_type": "code",
      "metadata": {
        "id": "beIIhA1GrS9X"
      },
      "source": [
        "X_new_train, X_new_val, y_train, y_val = train_test_split(X_new, y, test_size=0.2, random_state=43)"
      ],
      "execution_count": 152,
      "outputs": []
    },
    {
      "cell_type": "code",
      "metadata": {
        "id": "7Ha3stFJnAQR"
      },
      "source": [
        "param_grid = [{'penalty':['l1'], 'solver':['liblinear','saga'], 'C':[0.001,0.01,0.1,1,10,100,1000]}, {'penalty':['l2'], 'solver':['newton-cg','sag','lbfgs'], 'C':[0.001,0.01,0.1,1,10,100,1000]}, {'penalty':['elasticnet'], 'solver':['saga'], 'l1_ratio':[0.25,0.5,0.75], 'C':[0.001,0.01,0.1,1,10,100,1000]}]"
      ],
      "execution_count": 153,
      "outputs": []
    },
    {
      "cell_type": "code",
      "metadata": {
        "colab": {
          "base_uri": "https://localhost:8080/"
        },
        "id": "CT8I-llcQkbV",
        "outputId": "e9a65028-1747-40c7-eac0-2d6a5c3a7daf"
      },
      "source": [
        "param_grid"
      ],
      "execution_count": 154,
      "outputs": [
        {
          "output_type": "execute_result",
          "data": {
            "text/plain": [
              "[{'C': [0.001, 0.01, 0.1, 1, 10, 100, 1000],\n",
              "  'penalty': ['l1'],\n",
              "  'solver': ['liblinear', 'saga']},\n",
              " {'C': [0.001, 0.01, 0.1, 1, 10, 100, 1000],\n",
              "  'penalty': ['l2'],\n",
              "  'solver': ['newton-cg', 'sag', 'lbfgs']},\n",
              " {'C': [0.001, 0.01, 0.1, 1, 10, 100, 1000],\n",
              "  'l1_ratio': [0.25, 0.5, 0.75],\n",
              "  'penalty': ['elasticnet'],\n",
              "  'solver': ['saga']}]"
            ]
          },
          "metadata": {
            "tags": []
          },
          "execution_count": 154
        }
      ]
    },
    {
      "cell_type": "code",
      "metadata": {
        "id": "gzlVKLXOp85B"
      },
      "source": [
        "log_val = LogisticRegression()"
      ],
      "execution_count": 155,
      "outputs": []
    },
    {
      "cell_type": "code",
      "metadata": {
        "id": "rpXsqm6hpqyI"
      },
      "source": [
        "clf = GridSearchCV(log_val, param_grid, scoring=scoring, refit='f1')"
      ],
      "execution_count": 156,
      "outputs": []
    },
    {
      "cell_type": "code",
      "metadata": {
        "colab": {
          "base_uri": "https://localhost:8080/"
        },
        "id": "QgAkyU7mqnmd",
        "outputId": "0b3eb511-cc34-4f6c-bcde-f85e1ddaa714"
      },
      "source": [
        "clf.fit(X_new_val,np.ravel(y_val))"
      ],
      "execution_count": 157,
      "outputs": [
        {
          "output_type": "stream",
          "text": [
            "/usr/local/lib/python3.7/dist-packages/sklearn/metrics/_classification.py:1272: UndefinedMetricWarning: Precision is ill-defined and being set to 0.0 due to no predicted samples. Use `zero_division` parameter to control this behavior.\n",
            "  _warn_prf(average, modifier, msg_start, len(result))\n",
            "/usr/local/lib/python3.7/dist-packages/sklearn/metrics/_classification.py:1272: UndefinedMetricWarning: Precision is ill-defined and being set to 0.0 due to no predicted samples. Use `zero_division` parameter to control this behavior.\n",
            "  _warn_prf(average, modifier, msg_start, len(result))\n",
            "/usr/local/lib/python3.7/dist-packages/sklearn/metrics/_classification.py:1272: UndefinedMetricWarning: Precision is ill-defined and being set to 0.0 due to no predicted samples. Use `zero_division` parameter to control this behavior.\n",
            "  _warn_prf(average, modifier, msg_start, len(result))\n",
            "/usr/local/lib/python3.7/dist-packages/sklearn/metrics/_classification.py:1272: UndefinedMetricWarning: Precision is ill-defined and being set to 0.0 due to no predicted samples. Use `zero_division` parameter to control this behavior.\n",
            "  _warn_prf(average, modifier, msg_start, len(result))\n",
            "/usr/local/lib/python3.7/dist-packages/sklearn/metrics/_classification.py:1272: UndefinedMetricWarning: Precision is ill-defined and being set to 0.0 due to no predicted samples. Use `zero_division` parameter to control this behavior.\n",
            "  _warn_prf(average, modifier, msg_start, len(result))\n",
            "/usr/local/lib/python3.7/dist-packages/sklearn/metrics/_classification.py:1272: UndefinedMetricWarning: Precision is ill-defined and being set to 0.0 due to no predicted samples. Use `zero_division` parameter to control this behavior.\n",
            "  _warn_prf(average, modifier, msg_start, len(result))\n",
            "/usr/local/lib/python3.7/dist-packages/sklearn/metrics/_classification.py:1272: UndefinedMetricWarning: Precision is ill-defined and being set to 0.0 due to no predicted samples. Use `zero_division` parameter to control this behavior.\n",
            "  _warn_prf(average, modifier, msg_start, len(result))\n",
            "/usr/local/lib/python3.7/dist-packages/sklearn/metrics/_classification.py:1272: UndefinedMetricWarning: Precision is ill-defined and being set to 0.0 due to no predicted samples. Use `zero_division` parameter to control this behavior.\n",
            "  _warn_prf(average, modifier, msg_start, len(result))\n",
            "/usr/local/lib/python3.7/dist-packages/sklearn/metrics/_classification.py:1272: UndefinedMetricWarning: Precision is ill-defined and being set to 0.0 due to no predicted samples. Use `zero_division` parameter to control this behavior.\n",
            "  _warn_prf(average, modifier, msg_start, len(result))\n",
            "/usr/local/lib/python3.7/dist-packages/sklearn/linear_model/_sag.py:330: ConvergenceWarning: The max_iter was reached which means the coef_ did not converge\n",
            "  \"the coef_ did not converge\", ConvergenceWarning)\n",
            "/usr/local/lib/python3.7/dist-packages/sklearn/linear_model/_sag.py:330: ConvergenceWarning: The max_iter was reached which means the coef_ did not converge\n",
            "  \"the coef_ did not converge\", ConvergenceWarning)\n",
            "/usr/local/lib/python3.7/dist-packages/sklearn/linear_model/_sag.py:330: ConvergenceWarning: The max_iter was reached which means the coef_ did not converge\n",
            "  \"the coef_ did not converge\", ConvergenceWarning)\n",
            "/usr/local/lib/python3.7/dist-packages/sklearn/linear_model/_sag.py:330: ConvergenceWarning: The max_iter was reached which means the coef_ did not converge\n",
            "  \"the coef_ did not converge\", ConvergenceWarning)\n",
            "/usr/local/lib/python3.7/dist-packages/sklearn/linear_model/_sag.py:330: ConvergenceWarning: The max_iter was reached which means the coef_ did not converge\n",
            "  \"the coef_ did not converge\", ConvergenceWarning)\n",
            "/usr/local/lib/python3.7/dist-packages/sklearn/linear_model/_sag.py:330: ConvergenceWarning: The max_iter was reached which means the coef_ did not converge\n",
            "  \"the coef_ did not converge\", ConvergenceWarning)\n",
            "/usr/local/lib/python3.7/dist-packages/sklearn/linear_model/_sag.py:330: ConvergenceWarning: The max_iter was reached which means the coef_ did not converge\n",
            "  \"the coef_ did not converge\", ConvergenceWarning)\n",
            "/usr/local/lib/python3.7/dist-packages/sklearn/linear_model/_sag.py:330: ConvergenceWarning: The max_iter was reached which means the coef_ did not converge\n",
            "  \"the coef_ did not converge\", ConvergenceWarning)\n",
            "/usr/local/lib/python3.7/dist-packages/sklearn/linear_model/_sag.py:330: ConvergenceWarning: The max_iter was reached which means the coef_ did not converge\n",
            "  \"the coef_ did not converge\", ConvergenceWarning)\n",
            "/usr/local/lib/python3.7/dist-packages/sklearn/linear_model/_sag.py:330: ConvergenceWarning: The max_iter was reached which means the coef_ did not converge\n",
            "  \"the coef_ did not converge\", ConvergenceWarning)\n",
            "/usr/local/lib/python3.7/dist-packages/sklearn/linear_model/_sag.py:330: ConvergenceWarning: The max_iter was reached which means the coef_ did not converge\n",
            "  \"the coef_ did not converge\", ConvergenceWarning)\n",
            "/usr/local/lib/python3.7/dist-packages/sklearn/linear_model/_sag.py:330: ConvergenceWarning: The max_iter was reached which means the coef_ did not converge\n",
            "  \"the coef_ did not converge\", ConvergenceWarning)\n",
            "/usr/local/lib/python3.7/dist-packages/sklearn/linear_model/_sag.py:330: ConvergenceWarning: The max_iter was reached which means the coef_ did not converge\n",
            "  \"the coef_ did not converge\", ConvergenceWarning)\n",
            "/usr/local/lib/python3.7/dist-packages/sklearn/linear_model/_sag.py:330: ConvergenceWarning: The max_iter was reached which means the coef_ did not converge\n",
            "  \"the coef_ did not converge\", ConvergenceWarning)\n",
            "/usr/local/lib/python3.7/dist-packages/sklearn/linear_model/_sag.py:330: ConvergenceWarning: The max_iter was reached which means the coef_ did not converge\n",
            "  \"the coef_ did not converge\", ConvergenceWarning)\n",
            "/usr/local/lib/python3.7/dist-packages/sklearn/linear_model/_sag.py:330: ConvergenceWarning: The max_iter was reached which means the coef_ did not converge\n",
            "  \"the coef_ did not converge\", ConvergenceWarning)\n",
            "/usr/local/lib/python3.7/dist-packages/sklearn/linear_model/_sag.py:330: ConvergenceWarning: The max_iter was reached which means the coef_ did not converge\n",
            "  \"the coef_ did not converge\", ConvergenceWarning)\n",
            "/usr/local/lib/python3.7/dist-packages/sklearn/linear_model/_sag.py:330: ConvergenceWarning: The max_iter was reached which means the coef_ did not converge\n",
            "  \"the coef_ did not converge\", ConvergenceWarning)\n",
            "/usr/local/lib/python3.7/dist-packages/sklearn/linear_model/_sag.py:330: ConvergenceWarning: The max_iter was reached which means the coef_ did not converge\n",
            "  \"the coef_ did not converge\", ConvergenceWarning)\n",
            "/usr/local/lib/python3.7/dist-packages/sklearn/linear_model/_sag.py:330: ConvergenceWarning: The max_iter was reached which means the coef_ did not converge\n",
            "  \"the coef_ did not converge\", ConvergenceWarning)\n",
            "/usr/local/lib/python3.7/dist-packages/sklearn/linear_model/_sag.py:330: ConvergenceWarning: The max_iter was reached which means the coef_ did not converge\n",
            "  \"the coef_ did not converge\", ConvergenceWarning)\n",
            "/usr/local/lib/python3.7/dist-packages/sklearn/linear_model/_sag.py:330: ConvergenceWarning: The max_iter was reached which means the coef_ did not converge\n",
            "  \"the coef_ did not converge\", ConvergenceWarning)\n",
            "/usr/local/lib/python3.7/dist-packages/sklearn/linear_model/_sag.py:330: ConvergenceWarning: The max_iter was reached which means the coef_ did not converge\n",
            "  \"the coef_ did not converge\", ConvergenceWarning)\n",
            "/usr/local/lib/python3.7/dist-packages/sklearn/linear_model/_sag.py:330: ConvergenceWarning: The max_iter was reached which means the coef_ did not converge\n",
            "  \"the coef_ did not converge\", ConvergenceWarning)\n",
            "/usr/local/lib/python3.7/dist-packages/sklearn/linear_model/_sag.py:330: ConvergenceWarning: The max_iter was reached which means the coef_ did not converge\n",
            "  \"the coef_ did not converge\", ConvergenceWarning)\n",
            "/usr/local/lib/python3.7/dist-packages/sklearn/linear_model/_sag.py:330: ConvergenceWarning: The max_iter was reached which means the coef_ did not converge\n",
            "  \"the coef_ did not converge\", ConvergenceWarning)\n",
            "/usr/local/lib/python3.7/dist-packages/sklearn/linear_model/_sag.py:330: ConvergenceWarning: The max_iter was reached which means the coef_ did not converge\n",
            "  \"the coef_ did not converge\", ConvergenceWarning)\n",
            "/usr/local/lib/python3.7/dist-packages/sklearn/linear_model/_sag.py:330: ConvergenceWarning: The max_iter was reached which means the coef_ did not converge\n",
            "  \"the coef_ did not converge\", ConvergenceWarning)\n",
            "/usr/local/lib/python3.7/dist-packages/sklearn/linear_model/_sag.py:330: ConvergenceWarning: The max_iter was reached which means the coef_ did not converge\n",
            "  \"the coef_ did not converge\", ConvergenceWarning)\n",
            "/usr/local/lib/python3.7/dist-packages/sklearn/linear_model/_sag.py:330: ConvergenceWarning: The max_iter was reached which means the coef_ did not converge\n",
            "  \"the coef_ did not converge\", ConvergenceWarning)\n",
            "/usr/local/lib/python3.7/dist-packages/sklearn/linear_model/_sag.py:330: ConvergenceWarning: The max_iter was reached which means the coef_ did not converge\n",
            "  \"the coef_ did not converge\", ConvergenceWarning)\n",
            "/usr/local/lib/python3.7/dist-packages/sklearn/linear_model/_sag.py:330: ConvergenceWarning: The max_iter was reached which means the coef_ did not converge\n",
            "  \"the coef_ did not converge\", ConvergenceWarning)\n",
            "/usr/local/lib/python3.7/dist-packages/sklearn/linear_model/_sag.py:330: ConvergenceWarning: The max_iter was reached which means the coef_ did not converge\n",
            "  \"the coef_ did not converge\", ConvergenceWarning)\n",
            "/usr/local/lib/python3.7/dist-packages/sklearn/linear_model/_sag.py:330: ConvergenceWarning: The max_iter was reached which means the coef_ did not converge\n",
            "  \"the coef_ did not converge\", ConvergenceWarning)\n",
            "/usr/local/lib/python3.7/dist-packages/sklearn/linear_model/_sag.py:330: ConvergenceWarning: The max_iter was reached which means the coef_ did not converge\n",
            "  \"the coef_ did not converge\", ConvergenceWarning)\n",
            "/usr/local/lib/python3.7/dist-packages/sklearn/linear_model/_sag.py:330: ConvergenceWarning: The max_iter was reached which means the coef_ did not converge\n",
            "  \"the coef_ did not converge\", ConvergenceWarning)\n",
            "/usr/local/lib/python3.7/dist-packages/sklearn/linear_model/_sag.py:330: ConvergenceWarning: The max_iter was reached which means the coef_ did not converge\n",
            "  \"the coef_ did not converge\", ConvergenceWarning)\n",
            "/usr/local/lib/python3.7/dist-packages/sklearn/linear_model/_sag.py:330: ConvergenceWarning: The max_iter was reached which means the coef_ did not converge\n",
            "  \"the coef_ did not converge\", ConvergenceWarning)\n",
            "/usr/local/lib/python3.7/dist-packages/sklearn/linear_model/_sag.py:330: ConvergenceWarning: The max_iter was reached which means the coef_ did not converge\n",
            "  \"the coef_ did not converge\", ConvergenceWarning)\n",
            "/usr/local/lib/python3.7/dist-packages/sklearn/linear_model/_sag.py:330: ConvergenceWarning: The max_iter was reached which means the coef_ did not converge\n",
            "  \"the coef_ did not converge\", ConvergenceWarning)\n",
            "/usr/local/lib/python3.7/dist-packages/sklearn/linear_model/_sag.py:330: ConvergenceWarning: The max_iter was reached which means the coef_ did not converge\n",
            "  \"the coef_ did not converge\", ConvergenceWarning)\n",
            "/usr/local/lib/python3.7/dist-packages/sklearn/linear_model/_sag.py:330: ConvergenceWarning: The max_iter was reached which means the coef_ did not converge\n",
            "  \"the coef_ did not converge\", ConvergenceWarning)\n",
            "/usr/local/lib/python3.7/dist-packages/sklearn/linear_model/_sag.py:330: ConvergenceWarning: The max_iter was reached which means the coef_ did not converge\n",
            "  \"the coef_ did not converge\", ConvergenceWarning)\n",
            "/usr/local/lib/python3.7/dist-packages/sklearn/linear_model/_sag.py:330: ConvergenceWarning: The max_iter was reached which means the coef_ did not converge\n",
            "  \"the coef_ did not converge\", ConvergenceWarning)\n",
            "/usr/local/lib/python3.7/dist-packages/sklearn/linear_model/_sag.py:330: ConvergenceWarning: The max_iter was reached which means the coef_ did not converge\n",
            "  \"the coef_ did not converge\", ConvergenceWarning)\n",
            "/usr/local/lib/python3.7/dist-packages/sklearn/linear_model/_sag.py:330: ConvergenceWarning: The max_iter was reached which means the coef_ did not converge\n",
            "  \"the coef_ did not converge\", ConvergenceWarning)\n",
            "/usr/local/lib/python3.7/dist-packages/sklearn/linear_model/_sag.py:330: ConvergenceWarning: The max_iter was reached which means the coef_ did not converge\n",
            "  \"the coef_ did not converge\", ConvergenceWarning)\n",
            "/usr/local/lib/python3.7/dist-packages/sklearn/linear_model/_sag.py:330: ConvergenceWarning: The max_iter was reached which means the coef_ did not converge\n",
            "  \"the coef_ did not converge\", ConvergenceWarning)\n",
            "/usr/local/lib/python3.7/dist-packages/sklearn/linear_model/_sag.py:330: ConvergenceWarning: The max_iter was reached which means the coef_ did not converge\n",
            "  \"the coef_ did not converge\", ConvergenceWarning)\n",
            "/usr/local/lib/python3.7/dist-packages/sklearn/linear_model/_sag.py:330: ConvergenceWarning: The max_iter was reached which means the coef_ did not converge\n",
            "  \"the coef_ did not converge\", ConvergenceWarning)\n",
            "/usr/local/lib/python3.7/dist-packages/sklearn/linear_model/_sag.py:330: ConvergenceWarning: The max_iter was reached which means the coef_ did not converge\n",
            "  \"the coef_ did not converge\", ConvergenceWarning)\n",
            "/usr/local/lib/python3.7/dist-packages/sklearn/linear_model/_sag.py:330: ConvergenceWarning: The max_iter was reached which means the coef_ did not converge\n",
            "  \"the coef_ did not converge\", ConvergenceWarning)\n",
            "/usr/local/lib/python3.7/dist-packages/sklearn/linear_model/_sag.py:330: ConvergenceWarning: The max_iter was reached which means the coef_ did not converge\n",
            "  \"the coef_ did not converge\", ConvergenceWarning)\n",
            "/usr/local/lib/python3.7/dist-packages/sklearn/linear_model/_sag.py:330: ConvergenceWarning: The max_iter was reached which means the coef_ did not converge\n",
            "  \"the coef_ did not converge\", ConvergenceWarning)\n",
            "/usr/local/lib/python3.7/dist-packages/sklearn/linear_model/_sag.py:330: ConvergenceWarning: The max_iter was reached which means the coef_ did not converge\n",
            "  \"the coef_ did not converge\", ConvergenceWarning)\n",
            "/usr/local/lib/python3.7/dist-packages/sklearn/linear_model/_sag.py:330: ConvergenceWarning: The max_iter was reached which means the coef_ did not converge\n",
            "  \"the coef_ did not converge\", ConvergenceWarning)\n",
            "/usr/local/lib/python3.7/dist-packages/sklearn/linear_model/_sag.py:330: ConvergenceWarning: The max_iter was reached which means the coef_ did not converge\n",
            "  \"the coef_ did not converge\", ConvergenceWarning)\n",
            "/usr/local/lib/python3.7/dist-packages/sklearn/linear_model/_sag.py:330: ConvergenceWarning: The max_iter was reached which means the coef_ did not converge\n",
            "  \"the coef_ did not converge\", ConvergenceWarning)\n",
            "/usr/local/lib/python3.7/dist-packages/sklearn/linear_model/_sag.py:330: ConvergenceWarning: The max_iter was reached which means the coef_ did not converge\n",
            "  \"the coef_ did not converge\", ConvergenceWarning)\n",
            "/usr/local/lib/python3.7/dist-packages/sklearn/linear_model/_sag.py:330: ConvergenceWarning: The max_iter was reached which means the coef_ did not converge\n",
            "  \"the coef_ did not converge\", ConvergenceWarning)\n",
            "/usr/local/lib/python3.7/dist-packages/sklearn/linear_model/_sag.py:330: ConvergenceWarning: The max_iter was reached which means the coef_ did not converge\n",
            "  \"the coef_ did not converge\", ConvergenceWarning)\n",
            "/usr/local/lib/python3.7/dist-packages/sklearn/linear_model/_sag.py:330: ConvergenceWarning: The max_iter was reached which means the coef_ did not converge\n",
            "  \"the coef_ did not converge\", ConvergenceWarning)\n",
            "/usr/local/lib/python3.7/dist-packages/sklearn/linear_model/_sag.py:330: ConvergenceWarning: The max_iter was reached which means the coef_ did not converge\n",
            "  \"the coef_ did not converge\", ConvergenceWarning)\n",
            "/usr/local/lib/python3.7/dist-packages/sklearn/linear_model/_sag.py:330: ConvergenceWarning: The max_iter was reached which means the coef_ did not converge\n",
            "  \"the coef_ did not converge\", ConvergenceWarning)\n",
            "/usr/local/lib/python3.7/dist-packages/sklearn/linear_model/_sag.py:330: ConvergenceWarning: The max_iter was reached which means the coef_ did not converge\n",
            "  \"the coef_ did not converge\", ConvergenceWarning)\n",
            "/usr/local/lib/python3.7/dist-packages/sklearn/linear_model/_sag.py:330: ConvergenceWarning: The max_iter was reached which means the coef_ did not converge\n",
            "  \"the coef_ did not converge\", ConvergenceWarning)\n",
            "/usr/local/lib/python3.7/dist-packages/sklearn/linear_model/_sag.py:330: ConvergenceWarning: The max_iter was reached which means the coef_ did not converge\n",
            "  \"the coef_ did not converge\", ConvergenceWarning)\n",
            "/usr/local/lib/python3.7/dist-packages/sklearn/linear_model/_sag.py:330: ConvergenceWarning: The max_iter was reached which means the coef_ did not converge\n",
            "  \"the coef_ did not converge\", ConvergenceWarning)\n",
            "/usr/local/lib/python3.7/dist-packages/sklearn/linear_model/_sag.py:330: ConvergenceWarning: The max_iter was reached which means the coef_ did not converge\n",
            "  \"the coef_ did not converge\", ConvergenceWarning)\n",
            "/usr/local/lib/python3.7/dist-packages/sklearn/metrics/_classification.py:1272: UndefinedMetricWarning: Precision is ill-defined and being set to 0.0 due to no predicted samples. Use `zero_division` parameter to control this behavior.\n",
            "  _warn_prf(average, modifier, msg_start, len(result))\n",
            "/usr/local/lib/python3.7/dist-packages/sklearn/metrics/_classification.py:1272: UndefinedMetricWarning: Precision is ill-defined and being set to 0.0 due to no predicted samples. Use `zero_division` parameter to control this behavior.\n",
            "  _warn_prf(average, modifier, msg_start, len(result))\n",
            "/usr/local/lib/python3.7/dist-packages/sklearn/metrics/_classification.py:1272: UndefinedMetricWarning: Precision is ill-defined and being set to 0.0 due to no predicted samples. Use `zero_division` parameter to control this behavior.\n",
            "  _warn_prf(average, modifier, msg_start, len(result))\n",
            "/usr/local/lib/python3.7/dist-packages/sklearn/metrics/_classification.py:1272: UndefinedMetricWarning: Precision is ill-defined and being set to 0.0 due to no predicted samples. Use `zero_division` parameter to control this behavior.\n",
            "  _warn_prf(average, modifier, msg_start, len(result))\n",
            "/usr/local/lib/python3.7/dist-packages/sklearn/metrics/_classification.py:1272: UndefinedMetricWarning: Precision is ill-defined and being set to 0.0 due to no predicted samples. Use `zero_division` parameter to control this behavior.\n",
            "  _warn_prf(average, modifier, msg_start, len(result))\n",
            "/usr/local/lib/python3.7/dist-packages/sklearn/metrics/_classification.py:1272: UndefinedMetricWarning: Precision is ill-defined and being set to 0.0 due to no predicted samples. Use `zero_division` parameter to control this behavior.\n",
            "  _warn_prf(average, modifier, msg_start, len(result))\n",
            "/usr/local/lib/python3.7/dist-packages/sklearn/metrics/_classification.py:1272: UndefinedMetricWarning: Precision is ill-defined and being set to 0.0 due to no predicted samples. Use `zero_division` parameter to control this behavior.\n",
            "  _warn_prf(average, modifier, msg_start, len(result))\n",
            "/usr/local/lib/python3.7/dist-packages/sklearn/metrics/_classification.py:1272: UndefinedMetricWarning: Precision is ill-defined and being set to 0.0 due to no predicted samples. Use `zero_division` parameter to control this behavior.\n",
            "  _warn_prf(average, modifier, msg_start, len(result))\n",
            "/usr/local/lib/python3.7/dist-packages/sklearn/linear_model/_sag.py:330: ConvergenceWarning: The max_iter was reached which means the coef_ did not converge\n",
            "  \"the coef_ did not converge\", ConvergenceWarning)\n",
            "/usr/local/lib/python3.7/dist-packages/sklearn/linear_model/_sag.py:330: ConvergenceWarning: The max_iter was reached which means the coef_ did not converge\n",
            "  \"the coef_ did not converge\", ConvergenceWarning)\n",
            "/usr/local/lib/python3.7/dist-packages/sklearn/linear_model/_sag.py:330: ConvergenceWarning: The max_iter was reached which means the coef_ did not converge\n",
            "  \"the coef_ did not converge\", ConvergenceWarning)\n",
            "/usr/local/lib/python3.7/dist-packages/sklearn/linear_model/_sag.py:330: ConvergenceWarning: The max_iter was reached which means the coef_ did not converge\n",
            "  \"the coef_ did not converge\", ConvergenceWarning)\n",
            "/usr/local/lib/python3.7/dist-packages/sklearn/linear_model/_sag.py:330: ConvergenceWarning: The max_iter was reached which means the coef_ did not converge\n",
            "  \"the coef_ did not converge\", ConvergenceWarning)\n",
            "/usr/local/lib/python3.7/dist-packages/sklearn/linear_model/_sag.py:330: ConvergenceWarning: The max_iter was reached which means the coef_ did not converge\n",
            "  \"the coef_ did not converge\", ConvergenceWarning)\n",
            "/usr/local/lib/python3.7/dist-packages/sklearn/linear_model/_sag.py:330: ConvergenceWarning: The max_iter was reached which means the coef_ did not converge\n",
            "  \"the coef_ did not converge\", ConvergenceWarning)\n",
            "/usr/local/lib/python3.7/dist-packages/sklearn/linear_model/_sag.py:330: ConvergenceWarning: The max_iter was reached which means the coef_ did not converge\n",
            "  \"the coef_ did not converge\", ConvergenceWarning)\n",
            "/usr/local/lib/python3.7/dist-packages/sklearn/linear_model/_sag.py:330: ConvergenceWarning: The max_iter was reached which means the coef_ did not converge\n",
            "  \"the coef_ did not converge\", ConvergenceWarning)\n",
            "/usr/local/lib/python3.7/dist-packages/sklearn/linear_model/_sag.py:330: ConvergenceWarning: The max_iter was reached which means the coef_ did not converge\n",
            "  \"the coef_ did not converge\", ConvergenceWarning)\n",
            "/usr/local/lib/python3.7/dist-packages/sklearn/linear_model/_sag.py:330: ConvergenceWarning: The max_iter was reached which means the coef_ did not converge\n",
            "  \"the coef_ did not converge\", ConvergenceWarning)\n",
            "/usr/local/lib/python3.7/dist-packages/sklearn/linear_model/_sag.py:330: ConvergenceWarning: The max_iter was reached which means the coef_ did not converge\n",
            "  \"the coef_ did not converge\", ConvergenceWarning)\n",
            "/usr/local/lib/python3.7/dist-packages/sklearn/linear_model/_sag.py:330: ConvergenceWarning: The max_iter was reached which means the coef_ did not converge\n",
            "  \"the coef_ did not converge\", ConvergenceWarning)\n",
            "/usr/local/lib/python3.7/dist-packages/sklearn/linear_model/_sag.py:330: ConvergenceWarning: The max_iter was reached which means the coef_ did not converge\n",
            "  \"the coef_ did not converge\", ConvergenceWarning)\n",
            "/usr/local/lib/python3.7/dist-packages/sklearn/linear_model/_sag.py:330: ConvergenceWarning: The max_iter was reached which means the coef_ did not converge\n",
            "  \"the coef_ did not converge\", ConvergenceWarning)\n",
            "/usr/local/lib/python3.7/dist-packages/sklearn/linear_model/_sag.py:330: ConvergenceWarning: The max_iter was reached which means the coef_ did not converge\n",
            "  \"the coef_ did not converge\", ConvergenceWarning)\n",
            "/usr/local/lib/python3.7/dist-packages/sklearn/linear_model/_sag.py:330: ConvergenceWarning: The max_iter was reached which means the coef_ did not converge\n",
            "  \"the coef_ did not converge\", ConvergenceWarning)\n",
            "/usr/local/lib/python3.7/dist-packages/sklearn/linear_model/_sag.py:330: ConvergenceWarning: The max_iter was reached which means the coef_ did not converge\n",
            "  \"the coef_ did not converge\", ConvergenceWarning)\n",
            "/usr/local/lib/python3.7/dist-packages/sklearn/linear_model/_sag.py:330: ConvergenceWarning: The max_iter was reached which means the coef_ did not converge\n",
            "  \"the coef_ did not converge\", ConvergenceWarning)\n",
            "/usr/local/lib/python3.7/dist-packages/sklearn/linear_model/_sag.py:330: ConvergenceWarning: The max_iter was reached which means the coef_ did not converge\n",
            "  \"the coef_ did not converge\", ConvergenceWarning)\n",
            "/usr/local/lib/python3.7/dist-packages/sklearn/linear_model/_sag.py:330: ConvergenceWarning: The max_iter was reached which means the coef_ did not converge\n",
            "  \"the coef_ did not converge\", ConvergenceWarning)\n",
            "/usr/local/lib/python3.7/dist-packages/sklearn/linear_model/_sag.py:330: ConvergenceWarning: The max_iter was reached which means the coef_ did not converge\n",
            "  \"the coef_ did not converge\", ConvergenceWarning)\n",
            "/usr/local/lib/python3.7/dist-packages/sklearn/linear_model/_sag.py:330: ConvergenceWarning: The max_iter was reached which means the coef_ did not converge\n",
            "  \"the coef_ did not converge\", ConvergenceWarning)\n",
            "/usr/local/lib/python3.7/dist-packages/sklearn/linear_model/_sag.py:330: ConvergenceWarning: The max_iter was reached which means the coef_ did not converge\n",
            "  \"the coef_ did not converge\", ConvergenceWarning)\n",
            "/usr/local/lib/python3.7/dist-packages/sklearn/linear_model/_sag.py:330: ConvergenceWarning: The max_iter was reached which means the coef_ did not converge\n",
            "  \"the coef_ did not converge\", ConvergenceWarning)\n",
            "/usr/local/lib/python3.7/dist-packages/sklearn/linear_model/_sag.py:330: ConvergenceWarning: The max_iter was reached which means the coef_ did not converge\n",
            "  \"the coef_ did not converge\", ConvergenceWarning)\n",
            "/usr/local/lib/python3.7/dist-packages/sklearn/linear_model/_sag.py:330: ConvergenceWarning: The max_iter was reached which means the coef_ did not converge\n",
            "  \"the coef_ did not converge\", ConvergenceWarning)\n",
            "/usr/local/lib/python3.7/dist-packages/sklearn/linear_model/_sag.py:330: ConvergenceWarning: The max_iter was reached which means the coef_ did not converge\n",
            "  \"the coef_ did not converge\", ConvergenceWarning)\n",
            "/usr/local/lib/python3.7/dist-packages/sklearn/linear_model/_sag.py:330: ConvergenceWarning: The max_iter was reached which means the coef_ did not converge\n",
            "  \"the coef_ did not converge\", ConvergenceWarning)\n",
            "/usr/local/lib/python3.7/dist-packages/sklearn/linear_model/_sag.py:330: ConvergenceWarning: The max_iter was reached which means the coef_ did not converge\n",
            "  \"the coef_ did not converge\", ConvergenceWarning)\n",
            "/usr/local/lib/python3.7/dist-packages/sklearn/linear_model/_sag.py:330: ConvergenceWarning: The max_iter was reached which means the coef_ did not converge\n",
            "  \"the coef_ did not converge\", ConvergenceWarning)\n",
            "/usr/local/lib/python3.7/dist-packages/sklearn/linear_model/_sag.py:330: ConvergenceWarning: The max_iter was reached which means the coef_ did not converge\n",
            "  \"the coef_ did not converge\", ConvergenceWarning)\n",
            "/usr/local/lib/python3.7/dist-packages/sklearn/linear_model/_sag.py:330: ConvergenceWarning: The max_iter was reached which means the coef_ did not converge\n",
            "  \"the coef_ did not converge\", ConvergenceWarning)\n",
            "/usr/local/lib/python3.7/dist-packages/sklearn/linear_model/_sag.py:330: ConvergenceWarning: The max_iter was reached which means the coef_ did not converge\n",
            "  \"the coef_ did not converge\", ConvergenceWarning)\n",
            "/usr/local/lib/python3.7/dist-packages/sklearn/linear_model/_sag.py:330: ConvergenceWarning: The max_iter was reached which means the coef_ did not converge\n",
            "  \"the coef_ did not converge\", ConvergenceWarning)\n",
            "/usr/local/lib/python3.7/dist-packages/sklearn/linear_model/_sag.py:330: ConvergenceWarning: The max_iter was reached which means the coef_ did not converge\n",
            "  \"the coef_ did not converge\", ConvergenceWarning)\n",
            "/usr/local/lib/python3.7/dist-packages/sklearn/linear_model/_sag.py:330: ConvergenceWarning: The max_iter was reached which means the coef_ did not converge\n",
            "  \"the coef_ did not converge\", ConvergenceWarning)\n",
            "/usr/local/lib/python3.7/dist-packages/sklearn/linear_model/_sag.py:330: ConvergenceWarning: The max_iter was reached which means the coef_ did not converge\n",
            "  \"the coef_ did not converge\", ConvergenceWarning)\n",
            "/usr/local/lib/python3.7/dist-packages/sklearn/linear_model/_sag.py:330: ConvergenceWarning: The max_iter was reached which means the coef_ did not converge\n",
            "  \"the coef_ did not converge\", ConvergenceWarning)\n",
            "/usr/local/lib/python3.7/dist-packages/sklearn/linear_model/_sag.py:330: ConvergenceWarning: The max_iter was reached which means the coef_ did not converge\n",
            "  \"the coef_ did not converge\", ConvergenceWarning)\n",
            "/usr/local/lib/python3.7/dist-packages/sklearn/linear_model/_sag.py:330: ConvergenceWarning: The max_iter was reached which means the coef_ did not converge\n",
            "  \"the coef_ did not converge\", ConvergenceWarning)\n",
            "/usr/local/lib/python3.7/dist-packages/sklearn/linear_model/_sag.py:330: ConvergenceWarning: The max_iter was reached which means the coef_ did not converge\n",
            "  \"the coef_ did not converge\", ConvergenceWarning)\n",
            "/usr/local/lib/python3.7/dist-packages/sklearn/linear_model/_sag.py:330: ConvergenceWarning: The max_iter was reached which means the coef_ did not converge\n",
            "  \"the coef_ did not converge\", ConvergenceWarning)\n",
            "/usr/local/lib/python3.7/dist-packages/sklearn/linear_model/_sag.py:330: ConvergenceWarning: The max_iter was reached which means the coef_ did not converge\n",
            "  \"the coef_ did not converge\", ConvergenceWarning)\n",
            "/usr/local/lib/python3.7/dist-packages/sklearn/linear_model/_sag.py:330: ConvergenceWarning: The max_iter was reached which means the coef_ did not converge\n",
            "  \"the coef_ did not converge\", ConvergenceWarning)\n",
            "/usr/local/lib/python3.7/dist-packages/sklearn/linear_model/_sag.py:330: ConvergenceWarning: The max_iter was reached which means the coef_ did not converge\n",
            "  \"the coef_ did not converge\", ConvergenceWarning)\n",
            "/usr/local/lib/python3.7/dist-packages/sklearn/linear_model/_sag.py:330: ConvergenceWarning: The max_iter was reached which means the coef_ did not converge\n",
            "  \"the coef_ did not converge\", ConvergenceWarning)\n",
            "/usr/local/lib/python3.7/dist-packages/sklearn/linear_model/_sag.py:330: ConvergenceWarning: The max_iter was reached which means the coef_ did not converge\n",
            "  \"the coef_ did not converge\", ConvergenceWarning)\n",
            "/usr/local/lib/python3.7/dist-packages/sklearn/linear_model/_sag.py:330: ConvergenceWarning: The max_iter was reached which means the coef_ did not converge\n",
            "  \"the coef_ did not converge\", ConvergenceWarning)\n",
            "/usr/local/lib/python3.7/dist-packages/sklearn/linear_model/_sag.py:330: ConvergenceWarning: The max_iter was reached which means the coef_ did not converge\n",
            "  \"the coef_ did not converge\", ConvergenceWarning)\n",
            "/usr/local/lib/python3.7/dist-packages/sklearn/linear_model/_sag.py:330: ConvergenceWarning: The max_iter was reached which means the coef_ did not converge\n",
            "  \"the coef_ did not converge\", ConvergenceWarning)\n",
            "/usr/local/lib/python3.7/dist-packages/sklearn/linear_model/_sag.py:330: ConvergenceWarning: The max_iter was reached which means the coef_ did not converge\n",
            "  \"the coef_ did not converge\", ConvergenceWarning)\n",
            "/usr/local/lib/python3.7/dist-packages/sklearn/linear_model/_sag.py:330: ConvergenceWarning: The max_iter was reached which means the coef_ did not converge\n",
            "  \"the coef_ did not converge\", ConvergenceWarning)\n",
            "/usr/local/lib/python3.7/dist-packages/sklearn/linear_model/_sag.py:330: ConvergenceWarning: The max_iter was reached which means the coef_ did not converge\n",
            "  \"the coef_ did not converge\", ConvergenceWarning)\n",
            "/usr/local/lib/python3.7/dist-packages/sklearn/linear_model/_sag.py:330: ConvergenceWarning: The max_iter was reached which means the coef_ did not converge\n",
            "  \"the coef_ did not converge\", ConvergenceWarning)\n",
            "/usr/local/lib/python3.7/dist-packages/sklearn/linear_model/_sag.py:330: ConvergenceWarning: The max_iter was reached which means the coef_ did not converge\n",
            "  \"the coef_ did not converge\", ConvergenceWarning)\n",
            "/usr/local/lib/python3.7/dist-packages/sklearn/linear_model/_sag.py:330: ConvergenceWarning: The max_iter was reached which means the coef_ did not converge\n",
            "  \"the coef_ did not converge\", ConvergenceWarning)\n",
            "/usr/local/lib/python3.7/dist-packages/sklearn/linear_model/_sag.py:330: ConvergenceWarning: The max_iter was reached which means the coef_ did not converge\n",
            "  \"the coef_ did not converge\", ConvergenceWarning)\n",
            "/usr/local/lib/python3.7/dist-packages/sklearn/linear_model/_sag.py:330: ConvergenceWarning: The max_iter was reached which means the coef_ did not converge\n",
            "  \"the coef_ did not converge\", ConvergenceWarning)\n",
            "/usr/local/lib/python3.7/dist-packages/sklearn/linear_model/_sag.py:330: ConvergenceWarning: The max_iter was reached which means the coef_ did not converge\n",
            "  \"the coef_ did not converge\", ConvergenceWarning)\n",
            "/usr/local/lib/python3.7/dist-packages/sklearn/linear_model/_sag.py:330: ConvergenceWarning: The max_iter was reached which means the coef_ did not converge\n",
            "  \"the coef_ did not converge\", ConvergenceWarning)\n",
            "/usr/local/lib/python3.7/dist-packages/sklearn/linear_model/_sag.py:330: ConvergenceWarning: The max_iter was reached which means the coef_ did not converge\n",
            "  \"the coef_ did not converge\", ConvergenceWarning)\n",
            "/usr/local/lib/python3.7/dist-packages/sklearn/linear_model/_sag.py:330: ConvergenceWarning: The max_iter was reached which means the coef_ did not converge\n",
            "  \"the coef_ did not converge\", ConvergenceWarning)\n",
            "/usr/local/lib/python3.7/dist-packages/sklearn/linear_model/_sag.py:330: ConvergenceWarning: The max_iter was reached which means the coef_ did not converge\n",
            "  \"the coef_ did not converge\", ConvergenceWarning)\n",
            "/usr/local/lib/python3.7/dist-packages/sklearn/linear_model/_sag.py:330: ConvergenceWarning: The max_iter was reached which means the coef_ did not converge\n",
            "  \"the coef_ did not converge\", ConvergenceWarning)\n",
            "/usr/local/lib/python3.7/dist-packages/sklearn/linear_model/_sag.py:330: ConvergenceWarning: The max_iter was reached which means the coef_ did not converge\n",
            "  \"the coef_ did not converge\", ConvergenceWarning)\n",
            "/usr/local/lib/python3.7/dist-packages/sklearn/linear_model/_sag.py:330: ConvergenceWarning: The max_iter was reached which means the coef_ did not converge\n",
            "  \"the coef_ did not converge\", ConvergenceWarning)\n",
            "/usr/local/lib/python3.7/dist-packages/sklearn/linear_model/_sag.py:330: ConvergenceWarning: The max_iter was reached which means the coef_ did not converge\n",
            "  \"the coef_ did not converge\", ConvergenceWarning)\n",
            "/usr/local/lib/python3.7/dist-packages/sklearn/linear_model/_sag.py:330: ConvergenceWarning: The max_iter was reached which means the coef_ did not converge\n",
            "  \"the coef_ did not converge\", ConvergenceWarning)\n",
            "/usr/local/lib/python3.7/dist-packages/sklearn/linear_model/_sag.py:330: ConvergenceWarning: The max_iter was reached which means the coef_ did not converge\n",
            "  \"the coef_ did not converge\", ConvergenceWarning)\n",
            "/usr/local/lib/python3.7/dist-packages/sklearn/linear_model/_sag.py:330: ConvergenceWarning: The max_iter was reached which means the coef_ did not converge\n",
            "  \"the coef_ did not converge\", ConvergenceWarning)\n",
            "/usr/local/lib/python3.7/dist-packages/sklearn/linear_model/_sag.py:330: ConvergenceWarning: The max_iter was reached which means the coef_ did not converge\n",
            "  \"the coef_ did not converge\", ConvergenceWarning)\n",
            "/usr/local/lib/python3.7/dist-packages/sklearn/linear_model/_sag.py:330: ConvergenceWarning: The max_iter was reached which means the coef_ did not converge\n",
            "  \"the coef_ did not converge\", ConvergenceWarning)\n",
            "/usr/local/lib/python3.7/dist-packages/sklearn/linear_model/_sag.py:330: ConvergenceWarning: The max_iter was reached which means the coef_ did not converge\n",
            "  \"the coef_ did not converge\", ConvergenceWarning)\n",
            "/usr/local/lib/python3.7/dist-packages/sklearn/linear_model/_sag.py:330: ConvergenceWarning: The max_iter was reached which means the coef_ did not converge\n",
            "  \"the coef_ did not converge\", ConvergenceWarning)\n",
            "/usr/local/lib/python3.7/dist-packages/sklearn/linear_model/_sag.py:330: ConvergenceWarning: The max_iter was reached which means the coef_ did not converge\n",
            "  \"the coef_ did not converge\", ConvergenceWarning)\n",
            "/usr/local/lib/python3.7/dist-packages/sklearn/linear_model/_sag.py:330: ConvergenceWarning: The max_iter was reached which means the coef_ did not converge\n",
            "  \"the coef_ did not converge\", ConvergenceWarning)\n",
            "/usr/local/lib/python3.7/dist-packages/sklearn/linear_model/_sag.py:330: ConvergenceWarning: The max_iter was reached which means the coef_ did not converge\n",
            "  \"the coef_ did not converge\", ConvergenceWarning)\n",
            "/usr/local/lib/python3.7/dist-packages/sklearn/linear_model/_sag.py:330: ConvergenceWarning: The max_iter was reached which means the coef_ did not converge\n",
            "  \"the coef_ did not converge\", ConvergenceWarning)\n",
            "/usr/local/lib/python3.7/dist-packages/sklearn/linear_model/_sag.py:330: ConvergenceWarning: The max_iter was reached which means the coef_ did not converge\n",
            "  \"the coef_ did not converge\", ConvergenceWarning)\n",
            "/usr/local/lib/python3.7/dist-packages/sklearn/linear_model/_sag.py:330: ConvergenceWarning: The max_iter was reached which means the coef_ did not converge\n",
            "  \"the coef_ did not converge\", ConvergenceWarning)\n",
            "/usr/local/lib/python3.7/dist-packages/sklearn/linear_model/_sag.py:330: ConvergenceWarning: The max_iter was reached which means the coef_ did not converge\n",
            "  \"the coef_ did not converge\", ConvergenceWarning)\n",
            "/usr/local/lib/python3.7/dist-packages/sklearn/linear_model/_sag.py:330: ConvergenceWarning: The max_iter was reached which means the coef_ did not converge\n",
            "  \"the coef_ did not converge\", ConvergenceWarning)\n",
            "/usr/local/lib/python3.7/dist-packages/sklearn/linear_model/_sag.py:330: ConvergenceWarning: The max_iter was reached which means the coef_ did not converge\n",
            "  \"the coef_ did not converge\", ConvergenceWarning)\n",
            "/usr/local/lib/python3.7/dist-packages/sklearn/linear_model/_sag.py:330: ConvergenceWarning: The max_iter was reached which means the coef_ did not converge\n",
            "  \"the coef_ did not converge\", ConvergenceWarning)\n",
            "/usr/local/lib/python3.7/dist-packages/sklearn/linear_model/_sag.py:330: ConvergenceWarning: The max_iter was reached which means the coef_ did not converge\n",
            "  \"the coef_ did not converge\", ConvergenceWarning)\n",
            "/usr/local/lib/python3.7/dist-packages/sklearn/linear_model/_sag.py:330: ConvergenceWarning: The max_iter was reached which means the coef_ did not converge\n",
            "  \"the coef_ did not converge\", ConvergenceWarning)\n",
            "/usr/local/lib/python3.7/dist-packages/sklearn/linear_model/_sag.py:330: ConvergenceWarning: The max_iter was reached which means the coef_ did not converge\n",
            "  \"the coef_ did not converge\", ConvergenceWarning)\n",
            "/usr/local/lib/python3.7/dist-packages/sklearn/linear_model/_sag.py:330: ConvergenceWarning: The max_iter was reached which means the coef_ did not converge\n",
            "  \"the coef_ did not converge\", ConvergenceWarning)\n",
            "/usr/local/lib/python3.7/dist-packages/sklearn/linear_model/_sag.py:330: ConvergenceWarning: The max_iter was reached which means the coef_ did not converge\n",
            "  \"the coef_ did not converge\", ConvergenceWarning)\n"
          ],
          "name": "stderr"
        },
        {
          "output_type": "execute_result",
          "data": {
            "text/plain": [
              "GridSearchCV(cv=None, error_score=nan,\n",
              "             estimator=LogisticRegression(C=1.0, class_weight=None, dual=False,\n",
              "                                          fit_intercept=True,\n",
              "                                          intercept_scaling=1, l1_ratio=None,\n",
              "                                          max_iter=100, multi_class='auto',\n",
              "                                          n_jobs=None, penalty='l2',\n",
              "                                          random_state=None, solver='lbfgs',\n",
              "                                          tol=0.0001, verbose=0,\n",
              "                                          warm_start=False),\n",
              "             iid='deprecated', n_jobs=None,\n",
              "             param_grid=[{'C': [0.001, 0.01, 0.1, 1, 10,...\n",
              "                          'penalty': ['l1'], 'solver': ['liblinear', 'saga']},\n",
              "                         {'C': [0.001, 0.01, 0.1, 1, 10, 100, 1000],\n",
              "                          'penalty': ['l2'],\n",
              "                          'solver': ['newton-cg', 'sag', 'lbfgs']},\n",
              "                         {'C': [0.001, 0.01, 0.1, 1, 10, 100, 1000],\n",
              "                          'l1_ratio': [0.25, 0.5, 0.75],\n",
              "                          'penalty': ['elasticnet'], 'solver': ['saga']}],\n",
              "             pre_dispatch='2*n_jobs', refit='f1', return_train_score=False,\n",
              "             scoring={'acc': 'accuracy', 'f1': 'f1', 'prec': 'precision',\n",
              "                      'rec': 'recall'},\n",
              "             verbose=0)"
            ]
          },
          "metadata": {
            "tags": []
          },
          "execution_count": 157
        }
      ]
    },
    {
      "cell_type": "code",
      "metadata": {
        "colab": {
          "base_uri": "https://localhost:8080/"
        },
        "id": "wzct2tr-JaFR",
        "outputId": "3c49a1f7-a6e0-42e8-f59e-0af5236c70b7"
      },
      "source": [
        "clf.best_params_"
      ],
      "execution_count": 158,
      "outputs": [
        {
          "output_type": "execute_result",
          "data": {
            "text/plain": [
              "{'C': 10, 'penalty': 'l1', 'solver': 'liblinear'}"
            ]
          },
          "metadata": {
            "tags": []
          },
          "execution_count": 158
        }
      ]
    },
    {
      "cell_type": "code",
      "metadata": {
        "colab": {
          "base_uri": "https://localhost:8080/"
        },
        "id": "JGsc7k8gTAyH",
        "outputId": "645cddf2-0343-4533-8beb-640c5f5353d8"
      },
      "source": [
        "clf.best_score_"
      ],
      "execution_count": 159,
      "outputs": [
        {
          "output_type": "execute_result",
          "data": {
            "text/plain": [
              "0.9919967987194879"
            ]
          },
          "metadata": {
            "tags": []
          },
          "execution_count": 159
        }
      ]
    },
    {
      "cell_type": "code",
      "metadata": {
        "id": "gtISN56Fr6aP"
      },
      "source": [
        "params_index = pd.MultiIndex.from_frame(pd.DataFrame(list(ParameterGrid(param_grid))))"
      ],
      "execution_count": 160,
      "outputs": []
    },
    {
      "cell_type": "code",
      "metadata": {
        "colab": {
          "base_uri": "https://localhost:8080/",
          "height": 1000
        },
        "id": "_HEqbFyQsVe7",
        "outputId": "36f2d582-16b1-4c36-f21c-40cc017bacb0"
      },
      "source": [
        "pd.Series(clf.cv_results_['mean_test_f1'], index=params_index).reset_index()"
      ],
      "execution_count": 161,
      "outputs": [
        {
          "output_type": "execute_result",
          "data": {
            "text/html": [
              "<div>\n",
              "<style scoped>\n",
              "    .dataframe tbody tr th:only-of-type {\n",
              "        vertical-align: middle;\n",
              "    }\n",
              "\n",
              "    .dataframe tbody tr th {\n",
              "        vertical-align: top;\n",
              "    }\n",
              "\n",
              "    .dataframe thead th {\n",
              "        text-align: right;\n",
              "    }\n",
              "</style>\n",
              "<table border=\"1\" class=\"dataframe\">\n",
              "  <thead>\n",
              "    <tr style=\"text-align: right;\">\n",
              "      <th></th>\n",
              "      <th>C</th>\n",
              "      <th>penalty</th>\n",
              "      <th>solver</th>\n",
              "      <th>l1_ratio</th>\n",
              "      <th>0</th>\n",
              "    </tr>\n",
              "  </thead>\n",
              "  <tbody>\n",
              "    <tr>\n",
              "      <th>0</th>\n",
              "      <td>0.001</td>\n",
              "      <td>l1</td>\n",
              "      <td>liblinear</td>\n",
              "      <td>NaN</td>\n",
              "      <td>0.000000</td>\n",
              "    </tr>\n",
              "    <tr>\n",
              "      <th>1</th>\n",
              "      <td>0.001</td>\n",
              "      <td>l1</td>\n",
              "      <td>saga</td>\n",
              "      <td>NaN</td>\n",
              "      <td>0.125000</td>\n",
              "    </tr>\n",
              "    <tr>\n",
              "      <th>2</th>\n",
              "      <td>0.010</td>\n",
              "      <td>l1</td>\n",
              "      <td>liblinear</td>\n",
              "      <td>NaN</td>\n",
              "      <td>0.852819</td>\n",
              "    </tr>\n",
              "    <tr>\n",
              "      <th>3</th>\n",
              "      <td>0.010</td>\n",
              "      <td>l1</td>\n",
              "      <td>saga</td>\n",
              "      <td>NaN</td>\n",
              "      <td>0.705315</td>\n",
              "    </tr>\n",
              "    <tr>\n",
              "      <th>4</th>\n",
              "      <td>0.100</td>\n",
              "      <td>l1</td>\n",
              "      <td>liblinear</td>\n",
              "      <td>NaN</td>\n",
              "      <td>0.975327</td>\n",
              "    </tr>\n",
              "    <tr>\n",
              "      <th>5</th>\n",
              "      <td>0.100</td>\n",
              "      <td>l1</td>\n",
              "      <td>saga</td>\n",
              "      <td>NaN</td>\n",
              "      <td>0.730282</td>\n",
              "    </tr>\n",
              "    <tr>\n",
              "      <th>6</th>\n",
              "      <td>1.000</td>\n",
              "      <td>l1</td>\n",
              "      <td>liblinear</td>\n",
              "      <td>NaN</td>\n",
              "      <td>0.987902</td>\n",
              "    </tr>\n",
              "    <tr>\n",
              "      <th>7</th>\n",
              "      <td>1.000</td>\n",
              "      <td>l1</td>\n",
              "      <td>saga</td>\n",
              "      <td>NaN</td>\n",
              "      <td>0.735724</td>\n",
              "    </tr>\n",
              "    <tr>\n",
              "      <th>8</th>\n",
              "      <td>10.000</td>\n",
              "      <td>l1</td>\n",
              "      <td>liblinear</td>\n",
              "      <td>NaN</td>\n",
              "      <td>0.991997</td>\n",
              "    </tr>\n",
              "    <tr>\n",
              "      <th>9</th>\n",
              "      <td>10.000</td>\n",
              "      <td>l1</td>\n",
              "      <td>saga</td>\n",
              "      <td>NaN</td>\n",
              "      <td>0.730282</td>\n",
              "    </tr>\n",
              "    <tr>\n",
              "      <th>10</th>\n",
              "      <td>100.000</td>\n",
              "      <td>l1</td>\n",
              "      <td>liblinear</td>\n",
              "      <td>NaN</td>\n",
              "      <td>0.991997</td>\n",
              "    </tr>\n",
              "    <tr>\n",
              "      <th>11</th>\n",
              "      <td>100.000</td>\n",
              "      <td>l1</td>\n",
              "      <td>saga</td>\n",
              "      <td>NaN</td>\n",
              "      <td>0.735724</td>\n",
              "    </tr>\n",
              "    <tr>\n",
              "      <th>12</th>\n",
              "      <td>1000.000</td>\n",
              "      <td>l1</td>\n",
              "      <td>liblinear</td>\n",
              "      <td>NaN</td>\n",
              "      <td>0.991997</td>\n",
              "    </tr>\n",
              "    <tr>\n",
              "      <th>13</th>\n",
              "      <td>1000.000</td>\n",
              "      <td>l1</td>\n",
              "      <td>saga</td>\n",
              "      <td>NaN</td>\n",
              "      <td>0.735724</td>\n",
              "    </tr>\n",
              "    <tr>\n",
              "      <th>14</th>\n",
              "      <td>0.001</td>\n",
              "      <td>l2</td>\n",
              "      <td>newton-cg</td>\n",
              "      <td>NaN</td>\n",
              "      <td>0.853621</td>\n",
              "    </tr>\n",
              "    <tr>\n",
              "      <th>15</th>\n",
              "      <td>0.001</td>\n",
              "      <td>l2</td>\n",
              "      <td>sag</td>\n",
              "      <td>NaN</td>\n",
              "      <td>0.756896</td>\n",
              "    </tr>\n",
              "    <tr>\n",
              "      <th>16</th>\n",
              "      <td>0.001</td>\n",
              "      <td>l2</td>\n",
              "      <td>lbfgs</td>\n",
              "      <td>NaN</td>\n",
              "      <td>0.853621</td>\n",
              "    </tr>\n",
              "    <tr>\n",
              "      <th>17</th>\n",
              "      <td>0.010</td>\n",
              "      <td>l2</td>\n",
              "      <td>newton-cg</td>\n",
              "      <td>NaN</td>\n",
              "      <td>0.965440</td>\n",
              "    </tr>\n",
              "    <tr>\n",
              "      <th>18</th>\n",
              "      <td>0.010</td>\n",
              "      <td>l2</td>\n",
              "      <td>sag</td>\n",
              "      <td>NaN</td>\n",
              "      <td>0.839743</td>\n",
              "    </tr>\n",
              "    <tr>\n",
              "      <th>19</th>\n",
              "      <td>0.010</td>\n",
              "      <td>l2</td>\n",
              "      <td>lbfgs</td>\n",
              "      <td>NaN</td>\n",
              "      <td>0.965440</td>\n",
              "    </tr>\n",
              "    <tr>\n",
              "      <th>20</th>\n",
              "      <td>0.100</td>\n",
              "      <td>l2</td>\n",
              "      <td>newton-cg</td>\n",
              "      <td>NaN</td>\n",
              "      <td>0.976772</td>\n",
              "    </tr>\n",
              "    <tr>\n",
              "      <th>21</th>\n",
              "      <td>0.100</td>\n",
              "      <td>l2</td>\n",
              "      <td>sag</td>\n",
              "      <td>NaN</td>\n",
              "      <td>0.843259</td>\n",
              "    </tr>\n",
              "    <tr>\n",
              "      <th>22</th>\n",
              "      <td>0.100</td>\n",
              "      <td>l2</td>\n",
              "      <td>lbfgs</td>\n",
              "      <td>NaN</td>\n",
              "      <td>0.976772</td>\n",
              "    </tr>\n",
              "    <tr>\n",
              "      <th>23</th>\n",
              "      <td>1.000</td>\n",
              "      <td>l2</td>\n",
              "      <td>newton-cg</td>\n",
              "      <td>NaN</td>\n",
              "      <td>0.980543</td>\n",
              "    </tr>\n",
              "    <tr>\n",
              "      <th>24</th>\n",
              "      <td>1.000</td>\n",
              "      <td>l2</td>\n",
              "      <td>sag</td>\n",
              "      <td>NaN</td>\n",
              "      <td>0.843259</td>\n",
              "    </tr>\n",
              "    <tr>\n",
              "      <th>25</th>\n",
              "      <td>1.000</td>\n",
              "      <td>l2</td>\n",
              "      <td>lbfgs</td>\n",
              "      <td>NaN</td>\n",
              "      <td>0.980543</td>\n",
              "    </tr>\n",
              "    <tr>\n",
              "      <th>26</th>\n",
              "      <td>10.000</td>\n",
              "      <td>l2</td>\n",
              "      <td>newton-cg</td>\n",
              "      <td>NaN</td>\n",
              "      <td>0.991997</td>\n",
              "    </tr>\n",
              "    <tr>\n",
              "      <th>27</th>\n",
              "      <td>10.000</td>\n",
              "      <td>l2</td>\n",
              "      <td>sag</td>\n",
              "      <td>NaN</td>\n",
              "      <td>0.843259</td>\n",
              "    </tr>\n",
              "    <tr>\n",
              "      <th>28</th>\n",
              "      <td>10.000</td>\n",
              "      <td>l2</td>\n",
              "      <td>lbfgs</td>\n",
              "      <td>NaN</td>\n",
              "      <td>0.991997</td>\n",
              "    </tr>\n",
              "    <tr>\n",
              "      <th>29</th>\n",
              "      <td>100.000</td>\n",
              "      <td>l2</td>\n",
              "      <td>newton-cg</td>\n",
              "      <td>NaN</td>\n",
              "      <td>0.991997</td>\n",
              "    </tr>\n",
              "    <tr>\n",
              "      <th>30</th>\n",
              "      <td>100.000</td>\n",
              "      <td>l2</td>\n",
              "      <td>sag</td>\n",
              "      <td>NaN</td>\n",
              "      <td>0.843259</td>\n",
              "    </tr>\n",
              "    <tr>\n",
              "      <th>31</th>\n",
              "      <td>100.000</td>\n",
              "      <td>l2</td>\n",
              "      <td>lbfgs</td>\n",
              "      <td>NaN</td>\n",
              "      <td>0.991997</td>\n",
              "    </tr>\n",
              "    <tr>\n",
              "      <th>32</th>\n",
              "      <td>1000.000</td>\n",
              "      <td>l2</td>\n",
              "      <td>newton-cg</td>\n",
              "      <td>NaN</td>\n",
              "      <td>0.991997</td>\n",
              "    </tr>\n",
              "    <tr>\n",
              "      <th>33</th>\n",
              "      <td>1000.000</td>\n",
              "      <td>l2</td>\n",
              "      <td>sag</td>\n",
              "      <td>NaN</td>\n",
              "      <td>0.846333</td>\n",
              "    </tr>\n",
              "    <tr>\n",
              "      <th>34</th>\n",
              "      <td>1000.000</td>\n",
              "      <td>l2</td>\n",
              "      <td>lbfgs</td>\n",
              "      <td>NaN</td>\n",
              "      <td>0.991997</td>\n",
              "    </tr>\n",
              "    <tr>\n",
              "      <th>35</th>\n",
              "      <td>0.001</td>\n",
              "      <td>elasticnet</td>\n",
              "      <td>saga</td>\n",
              "      <td>0.25</td>\n",
              "      <td>0.481123</td>\n",
              "    </tr>\n",
              "    <tr>\n",
              "      <th>36</th>\n",
              "      <td>0.001</td>\n",
              "      <td>elasticnet</td>\n",
              "      <td>saga</td>\n",
              "      <td>0.50</td>\n",
              "      <td>0.068046</td>\n",
              "    </tr>\n",
              "    <tr>\n",
              "      <th>37</th>\n",
              "      <td>0.001</td>\n",
              "      <td>elasticnet</td>\n",
              "      <td>saga</td>\n",
              "      <td>0.75</td>\n",
              "      <td>0.000000</td>\n",
              "    </tr>\n",
              "    <tr>\n",
              "      <th>38</th>\n",
              "      <td>0.010</td>\n",
              "      <td>elasticnet</td>\n",
              "      <td>saga</td>\n",
              "      <td>0.25</td>\n",
              "      <td>0.720560</td>\n",
              "    </tr>\n",
              "    <tr>\n",
              "      <th>39</th>\n",
              "      <td>0.010</td>\n",
              "      <td>elasticnet</td>\n",
              "      <td>saga</td>\n",
              "      <td>0.50</td>\n",
              "      <td>0.708415</td>\n",
              "    </tr>\n",
              "    <tr>\n",
              "      <th>40</th>\n",
              "      <td>0.010</td>\n",
              "      <td>elasticnet</td>\n",
              "      <td>saga</td>\n",
              "      <td>0.75</td>\n",
              "      <td>0.708483</td>\n",
              "    </tr>\n",
              "    <tr>\n",
              "      <th>41</th>\n",
              "      <td>0.100</td>\n",
              "      <td>elasticnet</td>\n",
              "      <td>saga</td>\n",
              "      <td>0.25</td>\n",
              "      <td>0.724608</td>\n",
              "    </tr>\n",
              "    <tr>\n",
              "      <th>42</th>\n",
              "      <td>0.100</td>\n",
              "      <td>elasticnet</td>\n",
              "      <td>saga</td>\n",
              "      <td>0.50</td>\n",
              "      <td>0.730282</td>\n",
              "    </tr>\n",
              "    <tr>\n",
              "      <th>43</th>\n",
              "      <td>0.100</td>\n",
              "      <td>elasticnet</td>\n",
              "      <td>saga</td>\n",
              "      <td>0.75</td>\n",
              "      <td>0.730282</td>\n",
              "    </tr>\n",
              "    <tr>\n",
              "      <th>44</th>\n",
              "      <td>1.000</td>\n",
              "      <td>elasticnet</td>\n",
              "      <td>saga</td>\n",
              "      <td>0.25</td>\n",
              "      <td>0.735724</td>\n",
              "    </tr>\n",
              "    <tr>\n",
              "      <th>45</th>\n",
              "      <td>1.000</td>\n",
              "      <td>elasticnet</td>\n",
              "      <td>saga</td>\n",
              "      <td>0.50</td>\n",
              "      <td>0.730282</td>\n",
              "    </tr>\n",
              "    <tr>\n",
              "      <th>46</th>\n",
              "      <td>1.000</td>\n",
              "      <td>elasticnet</td>\n",
              "      <td>saga</td>\n",
              "      <td>0.75</td>\n",
              "      <td>0.735724</td>\n",
              "    </tr>\n",
              "    <tr>\n",
              "      <th>47</th>\n",
              "      <td>10.000</td>\n",
              "      <td>elasticnet</td>\n",
              "      <td>saga</td>\n",
              "      <td>0.25</td>\n",
              "      <td>0.730282</td>\n",
              "    </tr>\n",
              "    <tr>\n",
              "      <th>48</th>\n",
              "      <td>10.000</td>\n",
              "      <td>elasticnet</td>\n",
              "      <td>saga</td>\n",
              "      <td>0.50</td>\n",
              "      <td>0.730282</td>\n",
              "    </tr>\n",
              "    <tr>\n",
              "      <th>49</th>\n",
              "      <td>10.000</td>\n",
              "      <td>elasticnet</td>\n",
              "      <td>saga</td>\n",
              "      <td>0.75</td>\n",
              "      <td>0.730282</td>\n",
              "    </tr>\n",
              "    <tr>\n",
              "      <th>50</th>\n",
              "      <td>100.000</td>\n",
              "      <td>elasticnet</td>\n",
              "      <td>saga</td>\n",
              "      <td>0.25</td>\n",
              "      <td>0.730282</td>\n",
              "    </tr>\n",
              "    <tr>\n",
              "      <th>51</th>\n",
              "      <td>100.000</td>\n",
              "      <td>elasticnet</td>\n",
              "      <td>saga</td>\n",
              "      <td>0.50</td>\n",
              "      <td>0.724608</td>\n",
              "    </tr>\n",
              "    <tr>\n",
              "      <th>52</th>\n",
              "      <td>100.000</td>\n",
              "      <td>elasticnet</td>\n",
              "      <td>saga</td>\n",
              "      <td>0.75</td>\n",
              "      <td>0.730282</td>\n",
              "    </tr>\n",
              "    <tr>\n",
              "      <th>53</th>\n",
              "      <td>1000.000</td>\n",
              "      <td>elasticnet</td>\n",
              "      <td>saga</td>\n",
              "      <td>0.25</td>\n",
              "      <td>0.735724</td>\n",
              "    </tr>\n",
              "    <tr>\n",
              "      <th>54</th>\n",
              "      <td>1000.000</td>\n",
              "      <td>elasticnet</td>\n",
              "      <td>saga</td>\n",
              "      <td>0.50</td>\n",
              "      <td>0.730282</td>\n",
              "    </tr>\n",
              "    <tr>\n",
              "      <th>55</th>\n",
              "      <td>1000.000</td>\n",
              "      <td>elasticnet</td>\n",
              "      <td>saga</td>\n",
              "      <td>0.75</td>\n",
              "      <td>0.735724</td>\n",
              "    </tr>\n",
              "  </tbody>\n",
              "</table>\n",
              "</div>"
            ],
            "text/plain": [
              "           C     penalty     solver  l1_ratio         0\n",
              "0      0.001          l1  liblinear       NaN  0.000000\n",
              "1      0.001          l1       saga       NaN  0.125000\n",
              "2      0.010          l1  liblinear       NaN  0.852819\n",
              "3      0.010          l1       saga       NaN  0.705315\n",
              "4      0.100          l1  liblinear       NaN  0.975327\n",
              "5      0.100          l1       saga       NaN  0.730282\n",
              "6      1.000          l1  liblinear       NaN  0.987902\n",
              "7      1.000          l1       saga       NaN  0.735724\n",
              "8     10.000          l1  liblinear       NaN  0.991997\n",
              "9     10.000          l1       saga       NaN  0.730282\n",
              "10   100.000          l1  liblinear       NaN  0.991997\n",
              "11   100.000          l1       saga       NaN  0.735724\n",
              "12  1000.000          l1  liblinear       NaN  0.991997\n",
              "13  1000.000          l1       saga       NaN  0.735724\n",
              "14     0.001          l2  newton-cg       NaN  0.853621\n",
              "15     0.001          l2        sag       NaN  0.756896\n",
              "16     0.001          l2      lbfgs       NaN  0.853621\n",
              "17     0.010          l2  newton-cg       NaN  0.965440\n",
              "18     0.010          l2        sag       NaN  0.839743\n",
              "19     0.010          l2      lbfgs       NaN  0.965440\n",
              "20     0.100          l2  newton-cg       NaN  0.976772\n",
              "21     0.100          l2        sag       NaN  0.843259\n",
              "22     0.100          l2      lbfgs       NaN  0.976772\n",
              "23     1.000          l2  newton-cg       NaN  0.980543\n",
              "24     1.000          l2        sag       NaN  0.843259\n",
              "25     1.000          l2      lbfgs       NaN  0.980543\n",
              "26    10.000          l2  newton-cg       NaN  0.991997\n",
              "27    10.000          l2        sag       NaN  0.843259\n",
              "28    10.000          l2      lbfgs       NaN  0.991997\n",
              "29   100.000          l2  newton-cg       NaN  0.991997\n",
              "30   100.000          l2        sag       NaN  0.843259\n",
              "31   100.000          l2      lbfgs       NaN  0.991997\n",
              "32  1000.000          l2  newton-cg       NaN  0.991997\n",
              "33  1000.000          l2        sag       NaN  0.846333\n",
              "34  1000.000          l2      lbfgs       NaN  0.991997\n",
              "35     0.001  elasticnet       saga      0.25  0.481123\n",
              "36     0.001  elasticnet       saga      0.50  0.068046\n",
              "37     0.001  elasticnet       saga      0.75  0.000000\n",
              "38     0.010  elasticnet       saga      0.25  0.720560\n",
              "39     0.010  elasticnet       saga      0.50  0.708415\n",
              "40     0.010  elasticnet       saga      0.75  0.708483\n",
              "41     0.100  elasticnet       saga      0.25  0.724608\n",
              "42     0.100  elasticnet       saga      0.50  0.730282\n",
              "43     0.100  elasticnet       saga      0.75  0.730282\n",
              "44     1.000  elasticnet       saga      0.25  0.735724\n",
              "45     1.000  elasticnet       saga      0.50  0.730282\n",
              "46     1.000  elasticnet       saga      0.75  0.735724\n",
              "47    10.000  elasticnet       saga      0.25  0.730282\n",
              "48    10.000  elasticnet       saga      0.50  0.730282\n",
              "49    10.000  elasticnet       saga      0.75  0.730282\n",
              "50   100.000  elasticnet       saga      0.25  0.730282\n",
              "51   100.000  elasticnet       saga      0.50  0.724608\n",
              "52   100.000  elasticnet       saga      0.75  0.730282\n",
              "53  1000.000  elasticnet       saga      0.25  0.735724\n",
              "54  1000.000  elasticnet       saga      0.50  0.730282\n",
              "55  1000.000  elasticnet       saga      0.75  0.735724"
            ]
          },
          "metadata": {
            "tags": []
          },
          "execution_count": 161
        }
      ]
    },
    {
      "cell_type": "code",
      "metadata": {
        "colab": {
          "base_uri": "https://localhost:8080/"
        },
        "id": "IUehnK__Hrs1",
        "outputId": "b440a37c-23c4-4af4-fb65-f09a83f04a03"
      },
      "source": [
        "list(zip(clf.cv_results_['params'],clf.cv_results_['mean_test_f1']))"
      ],
      "execution_count": 162,
      "outputs": [
        {
          "output_type": "execute_result",
          "data": {
            "text/plain": [
              "[({'C': 0.001, 'penalty': 'l1', 'solver': 'liblinear'}, 0.0),\n",
              " ({'C': 0.001, 'penalty': 'l1', 'solver': 'saga'}, 0.125),\n",
              " ({'C': 0.01, 'penalty': 'l1', 'solver': 'liblinear'}, 0.8528187202080023),\n",
              " ({'C': 0.01, 'penalty': 'l1', 'solver': 'saga'}, 0.7053154483513919),\n",
              " ({'C': 0.1, 'penalty': 'l1', 'solver': 'liblinear'}, 0.975326513584157),\n",
              " ({'C': 0.1, 'penalty': 'l1', 'solver': 'saga'}, 0.7302815675035574),\n",
              " ({'C': 1, 'penalty': 'l1', 'solver': 'liblinear'}, 0.987901543596162),\n",
              " ({'C': 1, 'penalty': 'l1', 'solver': 'saga'}, 0.7357237443743058),\n",
              " ({'C': 10, 'penalty': 'l1', 'solver': 'liblinear'}, 0.9919967987194879),\n",
              " ({'C': 10, 'penalty': 'l1', 'solver': 'saga'}, 0.7302815675035574),\n",
              " ({'C': 100, 'penalty': 'l1', 'solver': 'liblinear'}, 0.9919967987194879),\n",
              " ({'C': 100, 'penalty': 'l1', 'solver': 'saga'}, 0.7357237443743058),\n",
              " ({'C': 1000, 'penalty': 'l1', 'solver': 'liblinear'}, 0.9919967987194879),\n",
              " ({'C': 1000, 'penalty': 'l1', 'solver': 'saga'}, 0.7357237443743058),\n",
              " ({'C': 0.001, 'penalty': 'l2', 'solver': 'newton-cg'}, 0.8536214396572455),\n",
              " ({'C': 0.001, 'penalty': 'l2', 'solver': 'sag'}, 0.7568964059196616),\n",
              " ({'C': 0.001, 'penalty': 'l2', 'solver': 'lbfgs'}, 0.8536214396572455),\n",
              " ({'C': 0.01, 'penalty': 'l2', 'solver': 'newton-cg'}, 0.9654397677793904),\n",
              " ({'C': 0.01, 'penalty': 'l2', 'solver': 'sag'}, 0.8397433147240173),\n",
              " ({'C': 0.01, 'penalty': 'l2', 'solver': 'lbfgs'}, 0.9654397677793904),\n",
              " ({'C': 0.1, 'penalty': 'l2', 'solver': 'newton-cg'}, 0.9767722473604825),\n",
              " ({'C': 0.1, 'penalty': 'l2', 'solver': 'sag'}, 0.8432585783687907),\n",
              " ({'C': 0.1, 'penalty': 'l2', 'solver': 'lbfgs'}, 0.9767722473604825),\n",
              " ({'C': 1, 'penalty': 'l2', 'solver': 'newton-cg'}, 0.9805429864253392),\n",
              " ({'C': 1, 'penalty': 'l2', 'solver': 'sag'}, 0.8432585783687907),\n",
              " ({'C': 1, 'penalty': 'l2', 'solver': 'lbfgs'}, 0.9805429864253392),\n",
              " ({'C': 10, 'penalty': 'l2', 'solver': 'newton-cg'}, 0.9919967987194879),\n",
              " ({'C': 10, 'penalty': 'l2', 'solver': 'sag'}, 0.8432585783687907),\n",
              " ({'C': 10, 'penalty': 'l2', 'solver': 'lbfgs'}, 0.9919967987194879),\n",
              " ({'C': 100, 'penalty': 'l2', 'solver': 'newton-cg'}, 0.9919967987194879),\n",
              " ({'C': 100, 'penalty': 'l2', 'solver': 'sag'}, 0.8432585783687907),\n",
              " ({'C': 100, 'penalty': 'l2', 'solver': 'lbfgs'}, 0.9919967987194879),\n",
              " ({'C': 1000, 'penalty': 'l2', 'solver': 'newton-cg'}, 0.9919967987194879),\n",
              " ({'C': 1000, 'penalty': 'l2', 'solver': 'sag'}, 0.8463333512548843),\n",
              " ({'C': 1000, 'penalty': 'l2', 'solver': 'lbfgs'}, 0.9919967987194879),\n",
              " ({'C': 0.001, 'l1_ratio': 0.25, 'penalty': 'elasticnet', 'solver': 'saga'},\n",
              "  0.48112347348875995),\n",
              " ({'C': 0.001, 'l1_ratio': 0.5, 'penalty': 'elasticnet', 'solver': 'saga'},\n",
              "  0.06804597701149426),\n",
              " ({'C': 0.001, 'l1_ratio': 0.75, 'penalty': 'elasticnet', 'solver': 'saga'},\n",
              "  0.0),\n",
              " ({'C': 0.01, 'l1_ratio': 0.25, 'penalty': 'elasticnet', 'solver': 'saga'},\n",
              "  0.7205604790681832),\n",
              " ({'C': 0.01, 'l1_ratio': 0.5, 'penalty': 'elasticnet', 'solver': 'saga'},\n",
              "  0.7084152501264043),\n",
              " ({'C': 0.01, 'l1_ratio': 0.75, 'penalty': 'elasticnet', 'solver': 'saga'},\n",
              "  0.7084828691658716),\n",
              " ({'C': 0.1, 'l1_ratio': 0.25, 'penalty': 'elasticnet', 'solver': 'saga'},\n",
              "  0.7246078086383093),\n",
              " ({'C': 0.1, 'l1_ratio': 0.5, 'penalty': 'elasticnet', 'solver': 'saga'},\n",
              "  0.7302815675035574),\n",
              " ({'C': 0.1, 'l1_ratio': 0.75, 'penalty': 'elasticnet', 'solver': 'saga'},\n",
              "  0.7302815675035574),\n",
              " ({'C': 1, 'l1_ratio': 0.25, 'penalty': 'elasticnet', 'solver': 'saga'},\n",
              "  0.7357237443743058),\n",
              " ({'C': 1, 'l1_ratio': 0.5, 'penalty': 'elasticnet', 'solver': 'saga'},\n",
              "  0.7302815675035574),\n",
              " ({'C': 1, 'l1_ratio': 0.75, 'penalty': 'elasticnet', 'solver': 'saga'},\n",
              "  0.7357237443743058),\n",
              " ({'C': 10, 'l1_ratio': 0.25, 'penalty': 'elasticnet', 'solver': 'saga'},\n",
              "  0.7302815675035574),\n",
              " ({'C': 10, 'l1_ratio': 0.5, 'penalty': 'elasticnet', 'solver': 'saga'},\n",
              "  0.7302815675035574),\n",
              " ({'C': 10, 'l1_ratio': 0.75, 'penalty': 'elasticnet', 'solver': 'saga'},\n",
              "  0.7302815675035574),\n",
              " ({'C': 100, 'l1_ratio': 0.25, 'penalty': 'elasticnet', 'solver': 'saga'},\n",
              "  0.7302815675035574),\n",
              " ({'C': 100, 'l1_ratio': 0.5, 'penalty': 'elasticnet', 'solver': 'saga'},\n",
              "  0.7246078086383093),\n",
              " ({'C': 100, 'l1_ratio': 0.75, 'penalty': 'elasticnet', 'solver': 'saga'},\n",
              "  0.7302815675035574),\n",
              " ({'C': 1000, 'l1_ratio': 0.25, 'penalty': 'elasticnet', 'solver': 'saga'},\n",
              "  0.7357237443743058),\n",
              " ({'C': 1000, 'l1_ratio': 0.5, 'penalty': 'elasticnet', 'solver': 'saga'},\n",
              "  0.7302815675035574),\n",
              " ({'C': 1000, 'l1_ratio': 0.75, 'penalty': 'elasticnet', 'solver': 'saga'},\n",
              "  0.7357237443743058)]"
            ]
          },
          "metadata": {
            "tags": []
          },
          "execution_count": 162
        }
      ]
    },
    {
      "cell_type": "markdown",
      "metadata": {
        "id": "QPF5-7YynBfJ"
      },
      "source": [
        "Train/Evaluation"
      ]
    },
    {
      "cell_type": "code",
      "metadata": {
        "colab": {
          "base_uri": "https://localhost:8080/",
          "height": 419
        },
        "id": "wqMOJa5GtBoB",
        "outputId": "2e3be4bc-6c5f-4556-9542-354f8d107752"
      },
      "source": [
        "X"
      ],
      "execution_count": 163,
      "outputs": [
        {
          "output_type": "execute_result",
          "data": {
            "text/html": [
              "<div>\n",
              "<style scoped>\n",
              "    .dataframe tbody tr th:only-of-type {\n",
              "        vertical-align: middle;\n",
              "    }\n",
              "\n",
              "    .dataframe tbody tr th {\n",
              "        vertical-align: top;\n",
              "    }\n",
              "\n",
              "    .dataframe thead th {\n",
              "        text-align: right;\n",
              "    }\n",
              "</style>\n",
              "<table border=\"1\" class=\"dataframe\">\n",
              "  <thead>\n",
              "    <tr style=\"text-align: right;\">\n",
              "      <th></th>\n",
              "      <th>var</th>\n",
              "      <th>skew</th>\n",
              "      <th>curt</th>\n",
              "      <th>entr</th>\n",
              "    </tr>\n",
              "  </thead>\n",
              "  <tbody>\n",
              "    <tr>\n",
              "      <th>0</th>\n",
              "      <td>3.62160</td>\n",
              "      <td>8.66610</td>\n",
              "      <td>-2.8073</td>\n",
              "      <td>-0.44699</td>\n",
              "    </tr>\n",
              "    <tr>\n",
              "      <th>1</th>\n",
              "      <td>4.54590</td>\n",
              "      <td>8.16740</td>\n",
              "      <td>-2.4586</td>\n",
              "      <td>-1.46210</td>\n",
              "    </tr>\n",
              "    <tr>\n",
              "      <th>2</th>\n",
              "      <td>3.86600</td>\n",
              "      <td>-2.63830</td>\n",
              "      <td>1.9242</td>\n",
              "      <td>0.10645</td>\n",
              "    </tr>\n",
              "    <tr>\n",
              "      <th>3</th>\n",
              "      <td>3.45660</td>\n",
              "      <td>9.52280</td>\n",
              "      <td>-4.0112</td>\n",
              "      <td>-3.59440</td>\n",
              "    </tr>\n",
              "    <tr>\n",
              "      <th>4</th>\n",
              "      <td>0.32924</td>\n",
              "      <td>-4.45520</td>\n",
              "      <td>4.5718</td>\n",
              "      <td>-0.98880</td>\n",
              "    </tr>\n",
              "    <tr>\n",
              "      <th>...</th>\n",
              "      <td>...</td>\n",
              "      <td>...</td>\n",
              "      <td>...</td>\n",
              "      <td>...</td>\n",
              "    </tr>\n",
              "    <tr>\n",
              "      <th>1367</th>\n",
              "      <td>0.40614</td>\n",
              "      <td>1.34920</td>\n",
              "      <td>-1.4501</td>\n",
              "      <td>-0.55949</td>\n",
              "    </tr>\n",
              "    <tr>\n",
              "      <th>1368</th>\n",
              "      <td>-1.38870</td>\n",
              "      <td>-4.87730</td>\n",
              "      <td>6.4774</td>\n",
              "      <td>0.34179</td>\n",
              "    </tr>\n",
              "    <tr>\n",
              "      <th>1369</th>\n",
              "      <td>-3.75030</td>\n",
              "      <td>-13.45860</td>\n",
              "      <td>17.5932</td>\n",
              "      <td>-2.77710</td>\n",
              "    </tr>\n",
              "    <tr>\n",
              "      <th>1370</th>\n",
              "      <td>-3.56370</td>\n",
              "      <td>-8.38270</td>\n",
              "      <td>12.3930</td>\n",
              "      <td>-1.28230</td>\n",
              "    </tr>\n",
              "    <tr>\n",
              "      <th>1371</th>\n",
              "      <td>-2.54190</td>\n",
              "      <td>-0.65804</td>\n",
              "      <td>2.6842</td>\n",
              "      <td>1.19520</td>\n",
              "    </tr>\n",
              "  </tbody>\n",
              "</table>\n",
              "<p>1372 rows × 4 columns</p>\n",
              "</div>"
            ],
            "text/plain": [
              "          var      skew     curt     entr\n",
              "0     3.62160   8.66610  -2.8073 -0.44699\n",
              "1     4.54590   8.16740  -2.4586 -1.46210\n",
              "2     3.86600  -2.63830   1.9242  0.10645\n",
              "3     3.45660   9.52280  -4.0112 -3.59440\n",
              "4     0.32924  -4.45520   4.5718 -0.98880\n",
              "...       ...       ...      ...      ...\n",
              "1367  0.40614   1.34920  -1.4501 -0.55949\n",
              "1368 -1.38870  -4.87730   6.4774  0.34179\n",
              "1369 -3.75030 -13.45860  17.5932 -2.77710\n",
              "1370 -3.56370  -8.38270  12.3930 -1.28230\n",
              "1371 -2.54190  -0.65804   2.6842  1.19520\n",
              "\n",
              "[1372 rows x 4 columns]"
            ]
          },
          "metadata": {
            "tags": []
          },
          "execution_count": 163
        }
      ]
    },
    {
      "cell_type": "code",
      "metadata": {
        "colab": {
          "base_uri": "https://localhost:8080/"
        },
        "id": "Re29gc094zwZ",
        "outputId": "c98cd2bd-1f4d-496f-e80c-9dd3fe41b068"
      },
      "source": [
        "clf.best_estimator_.get_params()"
      ],
      "execution_count": 164,
      "outputs": [
        {
          "output_type": "execute_result",
          "data": {
            "text/plain": [
              "{'C': 10,\n",
              " 'class_weight': None,\n",
              " 'dual': False,\n",
              " 'fit_intercept': True,\n",
              " 'intercept_scaling': 1,\n",
              " 'l1_ratio': None,\n",
              " 'max_iter': 100,\n",
              " 'multi_class': 'auto',\n",
              " 'n_jobs': None,\n",
              " 'penalty': 'l1',\n",
              " 'random_state': None,\n",
              " 'solver': 'liblinear',\n",
              " 'tol': 0.0001,\n",
              " 'verbose': 0,\n",
              " 'warm_start': False}"
            ]
          },
          "metadata": {
            "tags": []
          },
          "execution_count": 164
        }
      ]
    },
    {
      "cell_type": "markdown",
      "metadata": {
        "id": "wihlOTOmSv-1"
      },
      "source": [
        "#### Pipeline"
      ]
    },
    {
      "cell_type": "code",
      "metadata": {
        "id": "qTJw1M9xDNsR"
      },
      "source": [
        "copyTransformer = FunctionTransformer(lambda x : x*1, validate=True,)\n",
        "absTransformer = FunctionTransformer(np.abs, validate=True,)\n",
        "squareTransformer = FunctionTransformer(np.square, validate=True,)\n",
        "rootTransformer = FunctionTransformer(np.sqrt, validate=True)\n",
        "logTransformer = FunctionTransformer(np.log, validate=True)\n",
        "invTransformer = FunctionTransformer(np.reciprocal, validate=True)"
      ],
      "execution_count": 165,
      "outputs": []
    },
    {
      "cell_type": "code",
      "metadata": {
        "id": "k84JhLp77tUi"
      },
      "source": [
        "coltransf = ColumnTransformer([\n",
        "('varcopy', copyTransformer,['var']),\n",
        "('skewcopy', copyTransformer,['skew']),\n",
        "('curtcopy', copyTransformer,['curt']),\n",
        "('entrcopy', copyTransformer,['entr']),\n",
        "('var2', squareTransformer,['var']),\n",
        "('skew2', Pipeline([\n",
        "  ('abs', absTransformer),\n",
        "  ('root', rootTransformer)\n",
        "]) ,['skew']),\n",
        "('curt2', Pipeline([\n",
        "  ('abs', absTransformer),\n",
        "  ('log', logTransformer)\n",
        "]),['curt']),\n",
        "('entr2', invTransformer,['entr'])\n",
        "  ])"
      ],
      "execution_count": 166,
      "outputs": []
    },
    {
      "cell_type": "code",
      "metadata": {
        "colab": {
          "base_uri": "https://localhost:8080/"
        },
        "id": "6A5VTSTa70l4",
        "outputId": "c44f56bd-b9bc-49db-be88-35bb3ae8000b"
      },
      "source": [
        "coltransf.fit_transform(X)[0:2]"
      ],
      "execution_count": 167,
      "outputs": [
        {
          "output_type": "execute_result",
          "data": {
            "text/plain": [
              "array([[ 3.6216    ,  8.6661    , -2.8073    , -0.44699   , 13.11598656,\n",
              "         2.94382404,  1.03222317, -2.23718651],\n",
              "       [ 4.5459    ,  8.1674    , -2.4586    , -1.4621    , 20.66520681,\n",
              "         2.85786634,  0.89959208, -0.68394775]])"
            ]
          },
          "metadata": {
            "tags": []
          },
          "execution_count": 167
        }
      ]
    },
    {
      "cell_type": "code",
      "metadata": {
        "id": "vxgS-Zltuxti"
      },
      "source": [
        "lpipe = Pipeline([('coltransformer',coltransf),('logistic2', clf.best_estimator_)]) "
      ],
      "execution_count": 168,
      "outputs": []
    },
    {
      "cell_type": "code",
      "metadata": {
        "colab": {
          "base_uri": "https://localhost:8080/",
          "height": 359
        },
        "id": "orlxMxv9lYRn",
        "outputId": "9efadba1-20c2-48f0-942f-672c408b8811"
      },
      "source": [
        "scores_log2 = cross_validate(lpipe, X, np.ravel(y), scoring=scoring,\n",
        "                        cv=folds, return_train_score=True)\n",
        "pd.DataFrame(scores_log2).agg(['mean','std']).T"
      ],
      "execution_count": 169,
      "outputs": [
        {
          "output_type": "execute_result",
          "data": {
            "text/html": [
              "<div>\n",
              "<style scoped>\n",
              "    .dataframe tbody tr th:only-of-type {\n",
              "        vertical-align: middle;\n",
              "    }\n",
              "\n",
              "    .dataframe tbody tr th {\n",
              "        vertical-align: top;\n",
              "    }\n",
              "\n",
              "    .dataframe thead th {\n",
              "        text-align: right;\n",
              "    }\n",
              "</style>\n",
              "<table border=\"1\" class=\"dataframe\">\n",
              "  <thead>\n",
              "    <tr style=\"text-align: right;\">\n",
              "      <th></th>\n",
              "      <th>mean</th>\n",
              "      <th>std</th>\n",
              "    </tr>\n",
              "  </thead>\n",
              "  <tbody>\n",
              "    <tr>\n",
              "      <th>fit_time</th>\n",
              "      <td>0.108017</td>\n",
              "      <td>0.008431</td>\n",
              "    </tr>\n",
              "    <tr>\n",
              "      <th>score_time</th>\n",
              "      <td>0.013363</td>\n",
              "      <td>0.002752</td>\n",
              "    </tr>\n",
              "    <tr>\n",
              "      <th>test_acc</th>\n",
              "      <td>0.997810</td>\n",
              "      <td>0.003526</td>\n",
              "    </tr>\n",
              "    <tr>\n",
              "      <th>train_acc</th>\n",
              "      <td>1.000000</td>\n",
              "      <td>0.000000</td>\n",
              "    </tr>\n",
              "    <tr>\n",
              "      <th>test_prec</th>\n",
              "      <td>0.996774</td>\n",
              "      <td>0.006801</td>\n",
              "    </tr>\n",
              "    <tr>\n",
              "      <th>train_prec</th>\n",
              "      <td>1.000000</td>\n",
              "      <td>0.000000</td>\n",
              "    </tr>\n",
              "    <tr>\n",
              "      <th>test_rec</th>\n",
              "      <td>0.998361</td>\n",
              "      <td>0.005184</td>\n",
              "    </tr>\n",
              "    <tr>\n",
              "      <th>train_rec</th>\n",
              "      <td>1.000000</td>\n",
              "      <td>0.000000</td>\n",
              "    </tr>\n",
              "    <tr>\n",
              "      <th>test_f1</th>\n",
              "      <td>0.997548</td>\n",
              "      <td>0.003949</td>\n",
              "    </tr>\n",
              "    <tr>\n",
              "      <th>train_f1</th>\n",
              "      <td>1.000000</td>\n",
              "      <td>0.000000</td>\n",
              "    </tr>\n",
              "  </tbody>\n",
              "</table>\n",
              "</div>"
            ],
            "text/plain": [
              "                mean       std\n",
              "fit_time    0.108017  0.008431\n",
              "score_time  0.013363  0.002752\n",
              "test_acc    0.997810  0.003526\n",
              "train_acc   1.000000  0.000000\n",
              "test_prec   0.996774  0.006801\n",
              "train_prec  1.000000  0.000000\n",
              "test_rec    0.998361  0.005184\n",
              "train_rec   1.000000  0.000000\n",
              "test_f1     0.997548  0.003949\n",
              "train_f1    1.000000  0.000000"
            ]
          },
          "metadata": {
            "tags": []
          },
          "execution_count": 169
        }
      ]
    },
    {
      "cell_type": "markdown",
      "metadata": {
        "id": "YoJG397hmvfa"
      },
      "source": [
        "## ENSEMBLE\n"
      ]
    },
    {
      "cell_type": "markdown",
      "metadata": {
        "id": "DS2-gr7TC_i2"
      },
      "source": [
        "\n",
        "* vi) Treine um **classificador usando a regra do voto majoritario** usando os classificadores i) a v)."
      ]
    },
    {
      "cell_type": "code",
      "metadata": {
        "id": "ol6GvINRDdMF"
      },
      "source": [
        "base_models = [['NB',naives],['KNN',kpipe],['Parzen',parzen],['Log1',logistic1],['Log2',lpipe]]"
      ],
      "execution_count": 170,
      "outputs": []
    },
    {
      "cell_type": "code",
      "metadata": {
        "id": "5tutAHmHoVmv"
      },
      "source": [
        "eclf = VotingClassifier(estimators=base_models, voting='hard')"
      ],
      "execution_count": 171,
      "outputs": []
    },
    {
      "cell_type": "code",
      "metadata": {
        "colab": {
          "base_uri": "https://localhost:8080/",
          "height": 359
        },
        "id": "InqG0KPtcQWi",
        "outputId": "1d7115b7-8141-4337-e43b-41fdaaa57a3c"
      },
      "source": [
        "scores_eclf = cross_validate(eclf, X_train, np.ravel(y_train), scoring=scoring,\n",
        "                      cv=folds, return_train_score=True)\n",
        "pd.DataFrame(scores_eclf).agg(['mean','std']).T"
      ],
      "execution_count": 172,
      "outputs": [
        {
          "output_type": "execute_result",
          "data": {
            "text/html": [
              "<div>\n",
              "<style scoped>\n",
              "    .dataframe tbody tr th:only-of-type {\n",
              "        vertical-align: middle;\n",
              "    }\n",
              "\n",
              "    .dataframe tbody tr th {\n",
              "        vertical-align: top;\n",
              "    }\n",
              "\n",
              "    .dataframe thead th {\n",
              "        text-align: right;\n",
              "    }\n",
              "</style>\n",
              "<table border=\"1\" class=\"dataframe\">\n",
              "  <thead>\n",
              "    <tr style=\"text-align: right;\">\n",
              "      <th></th>\n",
              "      <th>mean</th>\n",
              "      <th>std</th>\n",
              "    </tr>\n",
              "  </thead>\n",
              "  <tbody>\n",
              "    <tr>\n",
              "      <th>fit_time</th>\n",
              "      <td>0.096663</td>\n",
              "      <td>0.005422</td>\n",
              "    </tr>\n",
              "    <tr>\n",
              "      <th>score_time</th>\n",
              "      <td>0.023922</td>\n",
              "      <td>0.000790</td>\n",
              "    </tr>\n",
              "    <tr>\n",
              "      <th>test_acc</th>\n",
              "      <td>1.000000</td>\n",
              "      <td>0.000000</td>\n",
              "    </tr>\n",
              "    <tr>\n",
              "      <th>train_acc</th>\n",
              "      <td>1.000000</td>\n",
              "      <td>0.000000</td>\n",
              "    </tr>\n",
              "    <tr>\n",
              "      <th>test_prec</th>\n",
              "      <td>1.000000</td>\n",
              "      <td>0.000000</td>\n",
              "    </tr>\n",
              "    <tr>\n",
              "      <th>train_prec</th>\n",
              "      <td>1.000000</td>\n",
              "      <td>0.000000</td>\n",
              "    </tr>\n",
              "    <tr>\n",
              "      <th>test_rec</th>\n",
              "      <td>1.000000</td>\n",
              "      <td>0.000000</td>\n",
              "    </tr>\n",
              "    <tr>\n",
              "      <th>train_rec</th>\n",
              "      <td>1.000000</td>\n",
              "      <td>0.000000</td>\n",
              "    </tr>\n",
              "    <tr>\n",
              "      <th>test_f1</th>\n",
              "      <td>1.000000</td>\n",
              "      <td>0.000000</td>\n",
              "    </tr>\n",
              "    <tr>\n",
              "      <th>train_f1</th>\n",
              "      <td>1.000000</td>\n",
              "      <td>0.000000</td>\n",
              "    </tr>\n",
              "  </tbody>\n",
              "</table>\n",
              "</div>"
            ],
            "text/plain": [
              "                mean       std\n",
              "fit_time    0.096663  0.005422\n",
              "score_time  0.023922  0.000790\n",
              "test_acc    1.000000  0.000000\n",
              "train_acc   1.000000  0.000000\n",
              "test_prec   1.000000  0.000000\n",
              "train_prec  1.000000  0.000000\n",
              "test_rec    1.000000  0.000000\n",
              "train_rec   1.000000  0.000000\n",
              "test_f1     1.000000  0.000000\n",
              "train_f1    1.000000  0.000000"
            ]
          },
          "metadata": {
            "tags": []
          },
          "execution_count": 172
        }
      ]
    },
    {
      "cell_type": "markdown",
      "metadata": {
        "id": "AWXDUZsMNNM7"
      },
      "source": [
        "# FRIEDMAN TEST"
      ]
    },
    {
      "cell_type": "code",
      "metadata": {
        "id": "zNs5zzAzOU5X"
      },
      "source": [
        "scores_test = {}\n",
        "scores_test['nb'] = scores_nb\n",
        "scores_test['knn'] = scores_knn\n",
        "scores_test['parz'] = scores_parz\n",
        "scores_test['log'] = scores_log\n",
        "scores_test['log2'] = scores_log2\n",
        "scores_test['eclf'] = scores_eclf"
      ],
      "execution_count": 173,
      "outputs": []
    },
    {
      "cell_type": "code",
      "metadata": {
        "id": "zTLvfI9C8UyM"
      },
      "source": [
        "df_score = pd.DataFrame(scores_test).applymap(lambda x: x.mean()).drop(['fit_time','score_time'])\n",
        "df_score_std = pd.DataFrame(scores_test).applymap(lambda x: x.std()).drop(['fit_time','score_time'])\n",
        "df_score_ic = pd.DataFrame(scores_test).applymap(lambda x: \"{:.0%} - {:.0%}\".format(x.mean() - 1.96 * x.std(),x.mean()+1.96 * x.std())).drop(['fit_time','score_time'])"
      ],
      "execution_count": 174,
      "outputs": []
    },
    {
      "cell_type": "code",
      "metadata": {
        "id": "Q6GtEAfN9NM5"
      },
      "source": [
        "chart_index = ['train_acc','test_acc', 'train_prec', 'test_prec', 'train_rec','test_rec',  'train_f1' ,'test_f1']"
      ],
      "execution_count": 175,
      "outputs": []
    },
    {
      "cell_type": "code",
      "metadata": {
        "colab": {
          "base_uri": "https://localhost:8080/",
          "height": 297
        },
        "id": "FY8Dw3tl8mI7",
        "outputId": "84036837-31cd-4bb1-92db-a9aea35722fd"
      },
      "source": [
        "df_score.reindex(['train_acc','test_acc', 'train_prec', 'test_prec', 'train_rec','test_rec',  'train_f1' ,'test_f1'])"
      ],
      "execution_count": 176,
      "outputs": [
        {
          "output_type": "execute_result",
          "data": {
            "text/html": [
              "<div>\n",
              "<style scoped>\n",
              "    .dataframe tbody tr th:only-of-type {\n",
              "        vertical-align: middle;\n",
              "    }\n",
              "\n",
              "    .dataframe tbody tr th {\n",
              "        vertical-align: top;\n",
              "    }\n",
              "\n",
              "    .dataframe thead th {\n",
              "        text-align: right;\n",
              "    }\n",
              "</style>\n",
              "<table border=\"1\" class=\"dataframe\">\n",
              "  <thead>\n",
              "    <tr style=\"text-align: right;\">\n",
              "      <th></th>\n",
              "      <th>nb</th>\n",
              "      <th>knn</th>\n",
              "      <th>parz</th>\n",
              "      <th>log</th>\n",
              "      <th>log2</th>\n",
              "      <th>eclf</th>\n",
              "    </tr>\n",
              "  </thead>\n",
              "  <tbody>\n",
              "    <tr>\n",
              "      <th>train_acc</th>\n",
              "      <td>0.841350</td>\n",
              "      <td>1.000000</td>\n",
              "      <td>1.0</td>\n",
              "      <td>0.991092</td>\n",
              "      <td>1.000000</td>\n",
              "      <td>1.0</td>\n",
              "    </tr>\n",
              "    <tr>\n",
              "      <th>test_acc</th>\n",
              "      <td>0.841077</td>\n",
              "      <td>0.998540</td>\n",
              "      <td>1.0</td>\n",
              "      <td>0.988337</td>\n",
              "      <td>0.997810</td>\n",
              "      <td>1.0</td>\n",
              "    </tr>\n",
              "    <tr>\n",
              "      <th>train_prec</th>\n",
              "      <td>0.842526</td>\n",
              "      <td>1.000000</td>\n",
              "      <td>1.0</td>\n",
              "      <td>0.989810</td>\n",
              "      <td>1.000000</td>\n",
              "      <td>1.0</td>\n",
              "    </tr>\n",
              "    <tr>\n",
              "      <th>test_prec</th>\n",
              "      <td>0.840844</td>\n",
              "      <td>0.996774</td>\n",
              "      <td>1.0</td>\n",
              "      <td>0.985806</td>\n",
              "      <td>0.996774</td>\n",
              "      <td>1.0</td>\n",
              "    </tr>\n",
              "    <tr>\n",
              "      <th>train_rec</th>\n",
              "      <td>0.791075</td>\n",
              "      <td>1.000000</td>\n",
              "      <td>1.0</td>\n",
              "      <td>0.990164</td>\n",
              "      <td>1.000000</td>\n",
              "      <td>1.0</td>\n",
              "    </tr>\n",
              "    <tr>\n",
              "      <th>test_rec</th>\n",
              "      <td>0.791803</td>\n",
              "      <td>1.000000</td>\n",
              "      <td>1.0</td>\n",
              "      <td>0.988525</td>\n",
              "      <td>0.998361</td>\n",
              "      <td>1.0</td>\n",
              "    </tr>\n",
              "    <tr>\n",
              "      <th>train_f1</th>\n",
              "      <td>0.815957</td>\n",
              "      <td>1.000000</td>\n",
              "      <td>1.0</td>\n",
              "      <td>0.989985</td>\n",
              "      <td>1.000000</td>\n",
              "      <td>1.0</td>\n",
              "    </tr>\n",
              "    <tr>\n",
              "      <th>test_f1</th>\n",
              "      <td>0.814474</td>\n",
              "      <td>0.998374</td>\n",
              "      <td>1.0</td>\n",
              "      <td>0.986891</td>\n",
              "      <td>0.997548</td>\n",
              "      <td>1.0</td>\n",
              "    </tr>\n",
              "  </tbody>\n",
              "</table>\n",
              "</div>"
            ],
            "text/plain": [
              "                  nb       knn  parz       log      log2  eclf\n",
              "train_acc   0.841350  1.000000   1.0  0.991092  1.000000   1.0\n",
              "test_acc    0.841077  0.998540   1.0  0.988337  0.997810   1.0\n",
              "train_prec  0.842526  1.000000   1.0  0.989810  1.000000   1.0\n",
              "test_prec   0.840844  0.996774   1.0  0.985806  0.996774   1.0\n",
              "train_rec   0.791075  1.000000   1.0  0.990164  1.000000   1.0\n",
              "test_rec    0.791803  1.000000   1.0  0.988525  0.998361   1.0\n",
              "train_f1    0.815957  1.000000   1.0  0.989985  1.000000   1.0\n",
              "test_f1     0.814474  0.998374   1.0  0.986891  0.997548   1.0"
            ]
          },
          "metadata": {
            "tags": []
          },
          "execution_count": 176
        }
      ]
    },
    {
      "cell_type": "code",
      "metadata": {
        "id": "Xc47ZItv7Q15"
      },
      "source": [
        "#df_score.reindex([ 'train_acc','test_acc', 'train_prec', 'test_prec', 'train_rec','test_rec',  'train_f1' ,'test_f1']).T.plot.bar(figsize=(18,6), fontsize=20)\n",
        "#ax.legend(loc='best')"
      ],
      "execution_count": 177,
      "outputs": []
    },
    {
      "cell_type": "code",
      "metadata": {
        "colab": {
          "base_uri": "https://localhost:8080/",
          "height": 235
        },
        "id": "ITcIb5z6LZX5",
        "outputId": "30a57055-9641-4a3f-bb93-ada5b3b40198"
      },
      "source": [
        "df_score.T[['train_acc','test_acc']]"
      ],
      "execution_count": 178,
      "outputs": [
        {
          "output_type": "execute_result",
          "data": {
            "text/html": [
              "<div>\n",
              "<style scoped>\n",
              "    .dataframe tbody tr th:only-of-type {\n",
              "        vertical-align: middle;\n",
              "    }\n",
              "\n",
              "    .dataframe tbody tr th {\n",
              "        vertical-align: top;\n",
              "    }\n",
              "\n",
              "    .dataframe thead th {\n",
              "        text-align: right;\n",
              "    }\n",
              "</style>\n",
              "<table border=\"1\" class=\"dataframe\">\n",
              "  <thead>\n",
              "    <tr style=\"text-align: right;\">\n",
              "      <th></th>\n",
              "      <th>train_acc</th>\n",
              "      <th>test_acc</th>\n",
              "    </tr>\n",
              "  </thead>\n",
              "  <tbody>\n",
              "    <tr>\n",
              "      <th>nb</th>\n",
              "      <td>0.841350</td>\n",
              "      <td>0.841077</td>\n",
              "    </tr>\n",
              "    <tr>\n",
              "      <th>knn</th>\n",
              "      <td>1.000000</td>\n",
              "      <td>0.998540</td>\n",
              "    </tr>\n",
              "    <tr>\n",
              "      <th>parz</th>\n",
              "      <td>1.000000</td>\n",
              "      <td>1.000000</td>\n",
              "    </tr>\n",
              "    <tr>\n",
              "      <th>log</th>\n",
              "      <td>0.991092</td>\n",
              "      <td>0.988337</td>\n",
              "    </tr>\n",
              "    <tr>\n",
              "      <th>log2</th>\n",
              "      <td>1.000000</td>\n",
              "      <td>0.997810</td>\n",
              "    </tr>\n",
              "    <tr>\n",
              "      <th>eclf</th>\n",
              "      <td>1.000000</td>\n",
              "      <td>1.000000</td>\n",
              "    </tr>\n",
              "  </tbody>\n",
              "</table>\n",
              "</div>"
            ],
            "text/plain": [
              "      train_acc  test_acc\n",
              "nb     0.841350  0.841077\n",
              "knn    1.000000  0.998540\n",
              "parz   1.000000  1.000000\n",
              "log    0.991092  0.988337\n",
              "log2   1.000000  0.997810\n",
              "eclf   1.000000  1.000000"
            ]
          },
          "metadata": {
            "tags": []
          },
          "execution_count": 178
        }
      ]
    },
    {
      "cell_type": "code",
      "metadata": {
        "colab": {
          "base_uri": "https://localhost:8080/",
          "height": 478
        },
        "id": "SpBDMJ45AicI",
        "outputId": "f7d700dc-8b65-4b14-cd3c-d46b3231120f"
      },
      "source": [
        "plt.figure(figsize=(16,8))\n",
        "ax1, ax2, ax3, ax4 = plt.subplot(221), plt.subplot(222), plt.subplot(223), plt.subplot(224)\n",
        "ax1.bar(np.arange(len(df_score.columns)), df_score.T['train_acc'], width=0.35, color=\"#1B62A4\")\n",
        "ax1.bar(np.arange(len(df_score.columns))+0.35,  df_score.T['test_acc'], width=0.35, color=\"#FC6A0F\")\n",
        "ax1.set_xticks(np.arange(len(df_score.columns)))\n",
        "ax1.set_xticklabels(df_score.columns)\n",
        "ax1.set_title('Acurácia')\n",
        "\n",
        "ax2.bar(np.arange(len(df_score.columns)), df_score.T['train_prec'], width=0.35, color=\"#1B62A4\", label='train_prec')\n",
        "ax2.bar(np.arange(len(df_score.columns))+0.35,  df_score.T['test_prec'], width=0.35, color=\"#FC6A0F\", label='test_prec')\n",
        "ax2.set_xticks(np.arange(len(df_score.columns)))\n",
        "ax2.set_xticklabels(df_score.columns)\n",
        "ax2.set_title('Precisão')\n",
        "\n",
        "ax3.bar(np.arange(len(df_score.columns)), df_score.T['train_rec'], width=0.35, color=\"#1B62A4\", label='train_rec')\n",
        "ax3.bar(np.arange(len(df_score.columns))+0.35,  df_score.T['test_rec'], width=0.35, color=\"#FC6A0F\", label='test_rec')\n",
        "ax3.set_xticks(np.arange(len(df_score.columns)))\n",
        "ax3.set_xticklabels(df_score.columns)\n",
        "ax3.set_title('Cobertura')\n",
        "\n",
        "ax4.bar(np.arange(len(df_score.columns)), df_score.T['train_f1'], width=0.35, color=\"#1B62A4\", label='train_f1')\n",
        "ax4.bar(np.arange(len(df_score.columns))+0.35,  df_score.T['test_f1'], width=0.35, color=\"#FC6A0F\", label='test_f1')\n",
        "ax4.set_xticks(np.arange(len(df_score.columns)))\n",
        "ax4.set_xticklabels(df_score.columns)\n",
        "ax4.set_title('F1')\n",
        "\n",
        "#df_score.T[['train_acc','test_acc']].plot.bar()\n",
        "#ax4.legend(['train_acc','test_acc'])\n"
      ],
      "execution_count": 179,
      "outputs": [
        {
          "output_type": "execute_result",
          "data": {
            "text/plain": [
              "Text(0.5, 1.0, 'F1')"
            ]
          },
          "metadata": {
            "tags": []
          },
          "execution_count": 179
        },
        {
          "output_type": "display_data",
          "data": {
            "image/png": "[encoded data removed]",
            "text/plain": [
              "<Figure size 1152x576 with 4 Axes>"
            ]
          },
          "metadata": {
            "tags": []
          }
        }
      ]
    },
    {
      "cell_type": "code",
      "metadata": {
        "colab": {
          "base_uri": "https://localhost:8080/",
          "height": 475
        },
        "id": "NSGaowqXY6bR",
        "outputId": "41690f8a-6b72-4610-e207-a5547b99e035"
      },
      "source": [
        "plt.figure(figsize=(16,8))\n",
        "ax1, ax2, ax3, ax4 = plt.subplot(221), plt.subplot(222), plt.subplot(223), plt.subplot(224)\n",
        "ax1.bar(np.arange(len(df_score.columns)), df_score_std.T['train_acc'], width=0.35, color=\"#1B62A4\")\n",
        "ax1.bar(np.arange(len(df_score.columns))+0.35,  df_score_std.T['test_acc'], width=0.35, color=\"#FC6A0F\")\n",
        "ax1.set_xticks(np.arange(len(df_score.columns)))\n",
        "ax1.set_xticklabels(df_score.columns)\n",
        "ax1.set_title('Acurácia')\n",
        "\n",
        "ax2.bar(np.arange(len(df_score.columns)), df_score_std.T['train_prec'], width=0.35, color=\"#1B62A4\", label='train_prec')\n",
        "ax2.bar(np.arange(len(df_score.columns))+0.35,  df_score_std.T['test_prec'], width=0.35, color=\"#FC6A0F\", label='test_prec')\n",
        "ax2.set_xticks(np.arange(len(df_score.columns)))\n",
        "ax2.set_xticklabels(df_score.columns)\n",
        "ax2.set_title('Precisão')\n",
        "\n",
        "ax3.bar(np.arange(len(df_score.columns)), df_score_std.T['train_rec'], width=0.35, color=\"#1B62A4\", label='train_rec')\n",
        "ax3.bar(np.arange(len(df_score.columns))+0.35,  df_score_std.T['test_rec'], width=0.35, color=\"#FC6A0F\", label='test_rec')\n",
        "ax3.set_xticks(np.arange(len(df_score.columns)))\n",
        "ax3.set_xticklabels(df_score.columns)\n",
        "ax3.set_title('Cobertura')\n",
        "\n",
        "ax4.bar(np.arange(len(df_score.columns)), df_score_std.T['train_f1'], width=0.35, color=\"#1B62A4\", label='train_f1')\n",
        "ax4.bar(np.arange(len(df_score.columns))+0.35,  df_score_std.T['test_f1'], width=0.35, color=\"#FC6A0F\", label='test_f1')\n",
        "ax4.set_xticks(np.arange(len(df_score.columns)))\n",
        "ax4.set_xticklabels(df_score.columns)\n",
        "ax4.set_title('F1')\n"
      ],
      "execution_count": 180,
      "outputs": [
        {
          "output_type": "execute_result",
          "data": {
            "text/plain": [
              "Text(0.5, 1.0, 'F1')"
            ]
          },
          "metadata": {
            "tags": []
          },
          "execution_count": 180
        },
        {
          "output_type": "display_data",
          "data": {
            "image/png": "[encoded data removed]",
            "text/plain": [
              "<Figure size 1152x576 with 4 Axes>"
            ]
          },
          "metadata": {
            "tags": []
          }
        }
      ]
    },
    {
      "cell_type": "code",
      "metadata": {
        "colab": {
          "base_uri": "https://localhost:8080/",
          "height": 297
        },
        "id": "VbM8j5wHaEwI",
        "outputId": "c5b0597b-2345-4717-b46e-09a96d4b0c04"
      },
      "source": [
        "df_score_ic"
      ],
      "execution_count": 181,
      "outputs": [
        {
          "output_type": "execute_result",
          "data": {
            "text/html": [
              "<div>\n",
              "<style scoped>\n",
              "    .dataframe tbody tr th:only-of-type {\n",
              "        vertical-align: middle;\n",
              "    }\n",
              "\n",
              "    .dataframe tbody tr th {\n",
              "        vertical-align: top;\n",
              "    }\n",
              "\n",
              "    .dataframe thead th {\n",
              "        text-align: right;\n",
              "    }\n",
              "</style>\n",
              "<table border=\"1\" class=\"dataframe\">\n",
              "  <thead>\n",
              "    <tr style=\"text-align: right;\">\n",
              "      <th></th>\n",
              "      <th>nb</th>\n",
              "      <th>knn</th>\n",
              "      <th>parz</th>\n",
              "      <th>log</th>\n",
              "      <th>log2</th>\n",
              "      <th>eclf</th>\n",
              "    </tr>\n",
              "  </thead>\n",
              "  <tbody>\n",
              "    <tr>\n",
              "      <th>test_acc</th>\n",
              "      <td>77% - 92%</td>\n",
              "      <td>99% - 100%</td>\n",
              "      <td>100% - 100%</td>\n",
              "      <td>97% - 101%</td>\n",
              "      <td>99% - 100%</td>\n",
              "      <td>100% - 100%</td>\n",
              "    </tr>\n",
              "    <tr>\n",
              "      <th>train_acc</th>\n",
              "      <td>84% - 85%</td>\n",
              "      <td>100% - 100%</td>\n",
              "      <td>100% - 100%</td>\n",
              "      <td>99% - 99%</td>\n",
              "      <td>100% - 100%</td>\n",
              "      <td>100% - 100%</td>\n",
              "    </tr>\n",
              "    <tr>\n",
              "      <th>test_prec</th>\n",
              "      <td>78% - 90%</td>\n",
              "      <td>98% - 101%</td>\n",
              "      <td>100% - 100%</td>\n",
              "      <td>95% - 102%</td>\n",
              "      <td>98% - 101%</td>\n",
              "      <td>100% - 100%</td>\n",
              "    </tr>\n",
              "    <tr>\n",
              "      <th>train_prec</th>\n",
              "      <td>83% - 85%</td>\n",
              "      <td>100% - 100%</td>\n",
              "      <td>100% - 100%</td>\n",
              "      <td>98% - 100%</td>\n",
              "      <td>100% - 100%</td>\n",
              "      <td>100% - 100%</td>\n",
              "    </tr>\n",
              "    <tr>\n",
              "      <th>test_rec</th>\n",
              "      <td>65% - 93%</td>\n",
              "      <td>100% - 100%</td>\n",
              "      <td>100% - 100%</td>\n",
              "      <td>95% - 103%</td>\n",
              "      <td>99% - 101%</td>\n",
              "      <td>100% - 100%</td>\n",
              "    </tr>\n",
              "    <tr>\n",
              "      <th>train_rec</th>\n",
              "      <td>78% - 81%</td>\n",
              "      <td>100% - 100%</td>\n",
              "      <td>100% - 100%</td>\n",
              "      <td>99% - 99%</td>\n",
              "      <td>100% - 100%</td>\n",
              "      <td>100% - 100%</td>\n",
              "    </tr>\n",
              "    <tr>\n",
              "      <th>test_f1</th>\n",
              "      <td>72% - 91%</td>\n",
              "      <td>99% - 100%</td>\n",
              "      <td>100% - 100%</td>\n",
              "      <td>96% - 101%</td>\n",
              "      <td>99% - 100%</td>\n",
              "      <td>100% - 100%</td>\n",
              "    </tr>\n",
              "    <tr>\n",
              "      <th>train_f1</th>\n",
              "      <td>81% - 82%</td>\n",
              "      <td>100% - 100%</td>\n",
              "      <td>100% - 100%</td>\n",
              "      <td>99% - 99%</td>\n",
              "      <td>100% - 100%</td>\n",
              "      <td>100% - 100%</td>\n",
              "    </tr>\n",
              "  </tbody>\n",
              "</table>\n",
              "</div>"
            ],
            "text/plain": [
              "                   nb          knn  ...         log2         eclf\n",
              "test_acc    77% - 92%   99% - 100%  ...   99% - 100%  100% - 100%\n",
              "train_acc   84% - 85%  100% - 100%  ...  100% - 100%  100% - 100%\n",
              "test_prec   78% - 90%   98% - 101%  ...   98% - 101%  100% - 100%\n",
              "train_prec  83% - 85%  100% - 100%  ...  100% - 100%  100% - 100%\n",
              "test_rec    65% - 93%  100% - 100%  ...   99% - 101%  100% - 100%\n",
              "train_rec   78% - 81%  100% - 100%  ...  100% - 100%  100% - 100%\n",
              "test_f1     72% - 91%   99% - 100%  ...   99% - 100%  100% - 100%\n",
              "train_f1    81% - 82%  100% - 100%  ...  100% - 100%  100% - 100%\n",
              "\n",
              "[8 rows x 6 columns]"
            ]
          },
          "metadata": {
            "tags": []
          },
          "execution_count": 181
        }
      ]
    },
    {
      "cell_type": "code",
      "metadata": {
        "colab": {
          "base_uri": "https://localhost:8080/"
        },
        "id": "JjmCcSicPKn-",
        "outputId": "69d75810-acc3-432a-9fa3-a989134a43cb"
      },
      "source": [
        "result_friedman = {}\n",
        "print('Friedman Test')\n",
        "for k in scoring:\n",
        "\n",
        "  metric = 'test_'+k\n",
        "\n",
        "\n",
        "  stat, p = friedmanchisquare(scores_test['nb'][metric],\n",
        "                              scores_test['knn'][metric],\n",
        "                              scores_test['parz'][metric],\n",
        "                              scores_test['log'][metric],\n",
        "                              scores_test['log2'][metric],\n",
        "                              scores_test['eclf'][metric]\n",
        "                              )\n",
        "  print(metric)\n",
        "  print('stat: ')\n",
        "  print(stat)\n",
        "  print('p: ')\n",
        "  print(p)\n",
        "  print('****')\n",
        "\n",
        "  result_friedman[metric] = {'stat': stat, 'p': p}"
      ],
      "execution_count": 182,
      "outputs": [
        {
          "output_type": "stream",
          "text": [
            "Friedman Test\n",
            "test_acc\n",
            "stat: \n",
            "40.34\n",
            "p: \n",
            "1.2752147264511486e-07\n",
            "****\n",
            "test_prec\n",
            "stat: \n",
            "39.33035714285715\n",
            "p: \n",
            "2.0376026839523167e-07\n",
            "****\n",
            "test_rec\n",
            "stat: \n",
            "42.90322580645159\n",
            "p: \n",
            "3.865774417265495e-08\n",
            "****\n",
            "test_f1\n",
            "stat: \n",
            "40.34\n",
            "p: \n",
            "1.2752147264511486e-07\n",
            "****\n"
          ],
          "name": "stdout"
        }
      ]
    },
    {
      "cell_type": "code",
      "metadata": {
        "colab": {
          "base_uri": "https://localhost:8080/",
          "height": 173
        },
        "id": "HoHU6CRJ-NmV",
        "outputId": "26a6fb44-e1c7-4b86-a556-f3224888179b"
      },
      "source": [
        "pd.DataFrame(result_friedman).T"
      ],
      "execution_count": 183,
      "outputs": [
        {
          "output_type": "execute_result",
          "data": {
            "text/html": [
              "<div>\n",
              "<style scoped>\n",
              "    .dataframe tbody tr th:only-of-type {\n",
              "        vertical-align: middle;\n",
              "    }\n",
              "\n",
              "    .dataframe tbody tr th {\n",
              "        vertical-align: top;\n",
              "    }\n",
              "\n",
              "    .dataframe thead th {\n",
              "        text-align: right;\n",
              "    }\n",
              "</style>\n",
              "<table border=\"1\" class=\"dataframe\">\n",
              "  <thead>\n",
              "    <tr style=\"text-align: right;\">\n",
              "      <th></th>\n",
              "      <th>stat</th>\n",
              "      <th>p</th>\n",
              "    </tr>\n",
              "  </thead>\n",
              "  <tbody>\n",
              "    <tr>\n",
              "      <th>test_acc</th>\n",
              "      <td>40.340000</td>\n",
              "      <td>1.275215e-07</td>\n",
              "    </tr>\n",
              "    <tr>\n",
              "      <th>test_prec</th>\n",
              "      <td>39.330357</td>\n",
              "      <td>2.037603e-07</td>\n",
              "    </tr>\n",
              "    <tr>\n",
              "      <th>test_rec</th>\n",
              "      <td>42.903226</td>\n",
              "      <td>3.865774e-08</td>\n",
              "    </tr>\n",
              "    <tr>\n",
              "      <th>test_f1</th>\n",
              "      <td>40.340000</td>\n",
              "      <td>1.275215e-07</td>\n",
              "    </tr>\n",
              "  </tbody>\n",
              "</table>\n",
              "</div>"
            ],
            "text/plain": [
              "                stat             p\n",
              "test_acc   40.340000  1.275215e-07\n",
              "test_prec  39.330357  2.037603e-07\n",
              "test_rec   42.903226  3.865774e-08\n",
              "test_f1    40.340000  1.275215e-07"
            ]
          },
          "metadata": {
            "tags": []
          },
          "execution_count": 183
        }
      ]
    },
    {
      "cell_type": "code",
      "metadata": {
        "colab": {
          "base_uri": "https://localhost:8080/"
        },
        "id": "qkwhU4Avmi4T",
        "outputId": "60dde253-e21a-492b-8cb7-df56e7821a63"
      },
      "source": [
        "result_nemeneyi = {}\n",
        "print('Nemenyi')\n",
        "for k in scoring:\n",
        "\n",
        "  metric = 'test_'+k\n",
        "\n",
        "  df = pd.DataFrame({\n",
        "      'nb': scores_test['nb'][metric],\n",
        "      'knn': scores_test['knn'][metric],\n",
        "      'parz': scores_test['parz'][metric],\n",
        "      'log': scores_test['log'][metric],\n",
        "      'log2': scores_test['log2'][metric],\n",
        "      'eclf': scores_test['eclf'][metric]\n",
        "  })\n",
        "\n",
        "  p = sp.posthoc_nemenyi_friedman(df)\n",
        "  print(metric)\n",
        "  print('p: ')\n",
        "  print(p)\n",
        "  print('****')\n",
        "  result_nemeneyi[metric] = p\n",
        "  "
      ],
      "execution_count": 184,
      "outputs": [
        {
          "output_type": "stream",
          "text": [
            "Nemenyi\n",
            "test_acc\n",
            "p: \n",
            "            nb       knn      parz       log      log2      eclf\n",
            "nb    1.000000  0.001822  0.001000  0.359078  0.005644  0.001000\n",
            "knn   0.001822  1.000000  0.900000  0.433820  0.900000  0.900000\n",
            "parz  0.001000  0.900000  1.000000  0.181482  0.900000  0.900000\n",
            "log   0.359078  0.433820  0.181482  1.000000  0.611552  0.181482\n",
            "log2  0.005644  0.900000  0.900000  0.611552  1.000000  0.900000\n",
            "eclf  0.001000  0.900000  0.900000  0.181482  0.900000  1.000000\n",
            "****\n",
            "test_prec\n",
            "p: \n",
            "            nb       knn      parz       log      log2      eclf\n",
            "nb    1.000000  0.003632  0.001000  0.139024  0.004535  0.001000\n",
            "knn   0.003632  1.000000  0.900000  0.818648  0.900000  0.900000\n",
            "parz  0.001000  0.900000  1.000000  0.542518  0.900000  0.900000\n",
            "log   0.139024  0.818648  0.542518  1.000000  0.853165  0.542518\n",
            "log2  0.004535  0.900000  0.900000  0.853165  1.000000  0.900000\n",
            "eclf  0.001000  0.900000  0.900000  0.542518  0.900000  1.000000\n",
            "****\n",
            "test_rec\n",
            "p: \n",
            "            nb       knn      parz       log      log2      eclf\n",
            "nb    1.000000  0.001822  0.001822  0.047415  0.004535  0.001822\n",
            "knn   0.001822  1.000000  0.900000  0.900000  0.900000  0.900000\n",
            "parz  0.001822  0.900000  1.000000  0.900000  0.900000  0.900000\n",
            "log   0.047415  0.900000  0.900000  1.000000  0.900000  0.900000\n",
            "log2  0.004535  0.900000  0.900000  0.900000  1.000000  0.900000\n",
            "eclf  0.001822  0.900000  0.900000  0.900000  0.900000  1.000000\n",
            "****\n",
            "test_f1\n",
            "p: \n",
            "            nb       knn      parz       log      log2      eclf\n",
            "nb    1.000000  0.001822  0.001000  0.359078  0.005644  0.001000\n",
            "knn   0.001822  1.000000  0.900000  0.433820  0.900000  0.900000\n",
            "parz  0.001000  0.900000  1.000000  0.181482  0.900000  0.900000\n",
            "log   0.359078  0.433820  0.181482  1.000000  0.611552  0.181482\n",
            "log2  0.005644  0.900000  0.900000  0.611552  1.000000  0.900000\n",
            "eclf  0.001000  0.900000  0.900000  0.181482  0.900000  1.000000\n",
            "****\n"
          ],
          "name": "stdout"
        }
      ]
    },
    {
      "cell_type": "code",
      "metadata": {
        "colab": {
          "base_uri": "https://localhost:8080/",
          "height": 235
        },
        "id": "WaZt8tHFVP13",
        "outputId": "223e6a36-53bc-4285-86e1-04d2aba6fa49"
      },
      "source": [
        "pd.DataFrame(result_nemeneyi['test_acc'])"
      ],
      "execution_count": 185,
      "outputs": [
        {
          "output_type": "execute_result",
          "data": {
            "text/html": [
              "<div>\n",
              "<style scoped>\n",
              "    .dataframe tbody tr th:only-of-type {\n",
              "        vertical-align: middle;\n",
              "    }\n",
              "\n",
              "    .dataframe tbody tr th {\n",
              "        vertical-align: top;\n",
              "    }\n",
              "\n",
              "    .dataframe thead th {\n",
              "        text-align: right;\n",
              "    }\n",
              "</style>\n",
              "<table border=\"1\" class=\"dataframe\">\n",
              "  <thead>\n",
              "    <tr style=\"text-align: right;\">\n",
              "      <th></th>\n",
              "      <th>nb</th>\n",
              "      <th>knn</th>\n",
              "      <th>parz</th>\n",
              "      <th>log</th>\n",
              "      <th>log2</th>\n",
              "      <th>eclf</th>\n",
              "    </tr>\n",
              "  </thead>\n",
              "  <tbody>\n",
              "    <tr>\n",
              "      <th>nb</th>\n",
              "      <td>1.000000</td>\n",
              "      <td>0.001822</td>\n",
              "      <td>0.001000</td>\n",
              "      <td>0.359078</td>\n",
              "      <td>0.005644</td>\n",
              "      <td>0.001000</td>\n",
              "    </tr>\n",
              "    <tr>\n",
              "      <th>knn</th>\n",
              "      <td>0.001822</td>\n",
              "      <td>1.000000</td>\n",
              "      <td>0.900000</td>\n",
              "      <td>0.433820</td>\n",
              "      <td>0.900000</td>\n",
              "      <td>0.900000</td>\n",
              "    </tr>\n",
              "    <tr>\n",
              "      <th>parz</th>\n",
              "      <td>0.001000</td>\n",
              "      <td>0.900000</td>\n",
              "      <td>1.000000</td>\n",
              "      <td>0.181482</td>\n",
              "      <td>0.900000</td>\n",
              "      <td>0.900000</td>\n",
              "    </tr>\n",
              "    <tr>\n",
              "      <th>log</th>\n",
              "      <td>0.359078</td>\n",
              "      <td>0.433820</td>\n",
              "      <td>0.181482</td>\n",
              "      <td>1.000000</td>\n",
              "      <td>0.611552</td>\n",
              "      <td>0.181482</td>\n",
              "    </tr>\n",
              "    <tr>\n",
              "      <th>log2</th>\n",
              "      <td>0.005644</td>\n",
              "      <td>0.900000</td>\n",
              "      <td>0.900000</td>\n",
              "      <td>0.611552</td>\n",
              "      <td>1.000000</td>\n",
              "      <td>0.900000</td>\n",
              "    </tr>\n",
              "    <tr>\n",
              "      <th>eclf</th>\n",
              "      <td>0.001000</td>\n",
              "      <td>0.900000</td>\n",
              "      <td>0.900000</td>\n",
              "      <td>0.181482</td>\n",
              "      <td>0.900000</td>\n",
              "      <td>1.000000</td>\n",
              "    </tr>\n",
              "  </tbody>\n",
              "</table>\n",
              "</div>"
            ],
            "text/plain": [
              "            nb       knn      parz       log      log2      eclf\n",
              "nb    1.000000  0.001822  0.001000  0.359078  0.005644  0.001000\n",
              "knn   0.001822  1.000000  0.900000  0.433820  0.900000  0.900000\n",
              "parz  0.001000  0.900000  1.000000  0.181482  0.900000  0.900000\n",
              "log   0.359078  0.433820  0.181482  1.000000  0.611552  0.181482\n",
              "log2  0.005644  0.900000  0.900000  0.611552  1.000000  0.900000\n",
              "eclf  0.001000  0.900000  0.900000  0.181482  0.900000  1.000000"
            ]
          },
          "metadata": {
            "tags": []
          },
          "execution_count": 185
        }
      ]
    },
    {
      "cell_type": "code",
      "metadata": {
        "colab": {
          "base_uri": "https://localhost:8080/",
          "height": 235
        },
        "id": "Hl-df_T5VhKg",
        "outputId": "285d151b-927b-421b-867f-af604f8666bf"
      },
      "source": [
        "pd.DataFrame(result_nemeneyi['test_prec'])"
      ],
      "execution_count": 186,
      "outputs": [
        {
          "output_type": "execute_result",
          "data": {
            "text/html": [
              "<div>\n",
              "<style scoped>\n",
              "    .dataframe tbody tr th:only-of-type {\n",
              "        vertical-align: middle;\n",
              "    }\n",
              "\n",
              "    .dataframe tbody tr th {\n",
              "        vertical-align: top;\n",
              "    }\n",
              "\n",
              "    .dataframe thead th {\n",
              "        text-align: right;\n",
              "    }\n",
              "</style>\n",
              "<table border=\"1\" class=\"dataframe\">\n",
              "  <thead>\n",
              "    <tr style=\"text-align: right;\">\n",
              "      <th></th>\n",
              "      <th>nb</th>\n",
              "      <th>knn</th>\n",
              "      <th>parz</th>\n",
              "      <th>log</th>\n",
              "      <th>log2</th>\n",
              "      <th>eclf</th>\n",
              "    </tr>\n",
              "  </thead>\n",
              "  <tbody>\n",
              "    <tr>\n",
              "      <th>nb</th>\n",
              "      <td>1.000000</td>\n",
              "      <td>0.003632</td>\n",
              "      <td>0.001000</td>\n",
              "      <td>0.139024</td>\n",
              "      <td>0.004535</td>\n",
              "      <td>0.001000</td>\n",
              "    </tr>\n",
              "    <tr>\n",
              "      <th>knn</th>\n",
              "      <td>0.003632</td>\n",
              "      <td>1.000000</td>\n",
              "      <td>0.900000</td>\n",
              "      <td>0.818648</td>\n",
              "      <td>0.900000</td>\n",
              "      <td>0.900000</td>\n",
              "    </tr>\n",
              "    <tr>\n",
              "      <th>parz</th>\n",
              "      <td>0.001000</td>\n",
              "      <td>0.900000</td>\n",
              "      <td>1.000000</td>\n",
              "      <td>0.542518</td>\n",
              "      <td>0.900000</td>\n",
              "      <td>0.900000</td>\n",
              "    </tr>\n",
              "    <tr>\n",
              "      <th>log</th>\n",
              "      <td>0.139024</td>\n",
              "      <td>0.818648</td>\n",
              "      <td>0.542518</td>\n",
              "      <td>1.000000</td>\n",
              "      <td>0.853165</td>\n",
              "      <td>0.542518</td>\n",
              "    </tr>\n",
              "    <tr>\n",
              "      <th>log2</th>\n",
              "      <td>0.004535</td>\n",
              "      <td>0.900000</td>\n",
              "      <td>0.900000</td>\n",
              "      <td>0.853165</td>\n",
              "      <td>1.000000</td>\n",
              "      <td>0.900000</td>\n",
              "    </tr>\n",
              "    <tr>\n",
              "      <th>eclf</th>\n",
              "      <td>0.001000</td>\n",
              "      <td>0.900000</td>\n",
              "      <td>0.900000</td>\n",
              "      <td>0.542518</td>\n",
              "      <td>0.900000</td>\n",
              "      <td>1.000000</td>\n",
              "    </tr>\n",
              "  </tbody>\n",
              "</table>\n",
              "</div>"
            ],
            "text/plain": [
              "            nb       knn      parz       log      log2      eclf\n",
              "nb    1.000000  0.003632  0.001000  0.139024  0.004535  0.001000\n",
              "knn   0.003632  1.000000  0.900000  0.818648  0.900000  0.900000\n",
              "parz  0.001000  0.900000  1.000000  0.542518  0.900000  0.900000\n",
              "log   0.139024  0.818648  0.542518  1.000000  0.853165  0.542518\n",
              "log2  0.004535  0.900000  0.900000  0.853165  1.000000  0.900000\n",
              "eclf  0.001000  0.900000  0.900000  0.542518  0.900000  1.000000"
            ]
          },
          "metadata": {
            "tags": []
          },
          "execution_count": 186
        }
      ]
    },
    {
      "cell_type": "code",
      "metadata": {
        "colab": {
          "base_uri": "https://localhost:8080/",
          "height": 235
        },
        "id": "FtUBZiTkVg42",
        "outputId": "a7735f57-c040-4bc2-f038-93cf70445151"
      },
      "source": [
        "pd.DataFrame(result_nemeneyi['test_rec'])"
      ],
      "execution_count": 187,
      "outputs": [
        {
          "output_type": "execute_result",
          "data": {
            "text/html": [
              "<div>\n",
              "<style scoped>\n",
              "    .dataframe tbody tr th:only-of-type {\n",
              "        vertical-align: middle;\n",
              "    }\n",
              "\n",
              "    .dataframe tbody tr th {\n",
              "        vertical-align: top;\n",
              "    }\n",
              "\n",
              "    .dataframe thead th {\n",
              "        text-align: right;\n",
              "    }\n",
              "</style>\n",
              "<table border=\"1\" class=\"dataframe\">\n",
              "  <thead>\n",
              "    <tr style=\"text-align: right;\">\n",
              "      <th></th>\n",
              "      <th>nb</th>\n",
              "      <th>knn</th>\n",
              "      <th>parz</th>\n",
              "      <th>log</th>\n",
              "      <th>log2</th>\n",
              "      <th>eclf</th>\n",
              "    </tr>\n",
              "  </thead>\n",
              "  <tbody>\n",
              "    <tr>\n",
              "      <th>nb</th>\n",
              "      <td>1.000000</td>\n",
              "      <td>0.001822</td>\n",
              "      <td>0.001822</td>\n",
              "      <td>0.047415</td>\n",
              "      <td>0.004535</td>\n",
              "      <td>0.001822</td>\n",
              "    </tr>\n",
              "    <tr>\n",
              "      <th>knn</th>\n",
              "      <td>0.001822</td>\n",
              "      <td>1.000000</td>\n",
              "      <td>0.900000</td>\n",
              "      <td>0.900000</td>\n",
              "      <td>0.900000</td>\n",
              "      <td>0.900000</td>\n",
              "    </tr>\n",
              "    <tr>\n",
              "      <th>parz</th>\n",
              "      <td>0.001822</td>\n",
              "      <td>0.900000</td>\n",
              "      <td>1.000000</td>\n",
              "      <td>0.900000</td>\n",
              "      <td>0.900000</td>\n",
              "      <td>0.900000</td>\n",
              "    </tr>\n",
              "    <tr>\n",
              "      <th>log</th>\n",
              "      <td>0.047415</td>\n",
              "      <td>0.900000</td>\n",
              "      <td>0.900000</td>\n",
              "      <td>1.000000</td>\n",
              "      <td>0.900000</td>\n",
              "      <td>0.900000</td>\n",
              "    </tr>\n",
              "    <tr>\n",
              "      <th>log2</th>\n",
              "      <td>0.004535</td>\n",
              "      <td>0.900000</td>\n",
              "      <td>0.900000</td>\n",
              "      <td>0.900000</td>\n",
              "      <td>1.000000</td>\n",
              "      <td>0.900000</td>\n",
              "    </tr>\n",
              "    <tr>\n",
              "      <th>eclf</th>\n",
              "      <td>0.001822</td>\n",
              "      <td>0.900000</td>\n",
              "      <td>0.900000</td>\n",
              "      <td>0.900000</td>\n",
              "      <td>0.900000</td>\n",
              "      <td>1.000000</td>\n",
              "    </tr>\n",
              "  </tbody>\n",
              "</table>\n",
              "</div>"
            ],
            "text/plain": [
              "            nb       knn      parz       log      log2      eclf\n",
              "nb    1.000000  0.001822  0.001822  0.047415  0.004535  0.001822\n",
              "knn   0.001822  1.000000  0.900000  0.900000  0.900000  0.900000\n",
              "parz  0.001822  0.900000  1.000000  0.900000  0.900000  0.900000\n",
              "log   0.047415  0.900000  0.900000  1.000000  0.900000  0.900000\n",
              "log2  0.004535  0.900000  0.900000  0.900000  1.000000  0.900000\n",
              "eclf  0.001822  0.900000  0.900000  0.900000  0.900000  1.000000"
            ]
          },
          "metadata": {
            "tags": []
          },
          "execution_count": 187
        }
      ]
    },
    {
      "cell_type": "code",
      "metadata": {
        "colab": {
          "base_uri": "https://localhost:8080/",
          "height": 235
        },
        "id": "Ze-I6T1hVgYK",
        "outputId": "6be90e4e-acb0-44ab-a3ba-0754d0f5c9d9"
      },
      "source": [
        "pd.DataFrame(result_nemeneyi['test_f1'])"
      ],
      "execution_count": 188,
      "outputs": [
        {
          "output_type": "execute_result",
          "data": {
            "text/html": [
              "<div>\n",
              "<style scoped>\n",
              "    .dataframe tbody tr th:only-of-type {\n",
              "        vertical-align: middle;\n",
              "    }\n",
              "\n",
              "    .dataframe tbody tr th {\n",
              "        vertical-align: top;\n",
              "    }\n",
              "\n",
              "    .dataframe thead th {\n",
              "        text-align: right;\n",
              "    }\n",
              "</style>\n",
              "<table border=\"1\" class=\"dataframe\">\n",
              "  <thead>\n",
              "    <tr style=\"text-align: right;\">\n",
              "      <th></th>\n",
              "      <th>nb</th>\n",
              "      <th>knn</th>\n",
              "      <th>parz</th>\n",
              "      <th>log</th>\n",
              "      <th>log2</th>\n",
              "      <th>eclf</th>\n",
              "    </tr>\n",
              "  </thead>\n",
              "  <tbody>\n",
              "    <tr>\n",
              "      <th>nb</th>\n",
              "      <td>1.000000</td>\n",
              "      <td>0.001822</td>\n",
              "      <td>0.001000</td>\n",
              "      <td>0.359078</td>\n",
              "      <td>0.005644</td>\n",
              "      <td>0.001000</td>\n",
              "    </tr>\n",
              "    <tr>\n",
              "      <th>knn</th>\n",
              "      <td>0.001822</td>\n",
              "      <td>1.000000</td>\n",
              "      <td>0.900000</td>\n",
              "      <td>0.433820</td>\n",
              "      <td>0.900000</td>\n",
              "      <td>0.900000</td>\n",
              "    </tr>\n",
              "    <tr>\n",
              "      <th>parz</th>\n",
              "      <td>0.001000</td>\n",
              "      <td>0.900000</td>\n",
              "      <td>1.000000</td>\n",
              "      <td>0.181482</td>\n",
              "      <td>0.900000</td>\n",
              "      <td>0.900000</td>\n",
              "    </tr>\n",
              "    <tr>\n",
              "      <th>log</th>\n",
              "      <td>0.359078</td>\n",
              "      <td>0.433820</td>\n",
              "      <td>0.181482</td>\n",
              "      <td>1.000000</td>\n",
              "      <td>0.611552</td>\n",
              "      <td>0.181482</td>\n",
              "    </tr>\n",
              "    <tr>\n",
              "      <th>log2</th>\n",
              "      <td>0.005644</td>\n",
              "      <td>0.900000</td>\n",
              "      <td>0.900000</td>\n",
              "      <td>0.611552</td>\n",
              "      <td>1.000000</td>\n",
              "      <td>0.900000</td>\n",
              "    </tr>\n",
              "    <tr>\n",
              "      <th>eclf</th>\n",
              "      <td>0.001000</td>\n",
              "      <td>0.900000</td>\n",
              "      <td>0.900000</td>\n",
              "      <td>0.181482</td>\n",
              "      <td>0.900000</td>\n",
              "      <td>1.000000</td>\n",
              "    </tr>\n",
              "  </tbody>\n",
              "</table>\n",
              "</div>"
            ],
            "text/plain": [
              "            nb       knn      parz       log      log2      eclf\n",
              "nb    1.000000  0.001822  0.001000  0.359078  0.005644  0.001000\n",
              "knn   0.001822  1.000000  0.900000  0.433820  0.900000  0.900000\n",
              "parz  0.001000  0.900000  1.000000  0.181482  0.900000  0.900000\n",
              "log   0.359078  0.433820  0.181482  1.000000  0.611552  0.181482\n",
              "log2  0.005644  0.900000  0.900000  0.611552  1.000000  0.900000\n",
              "eclf  0.001000  0.900000  0.900000  0.181482  0.900000  1.000000"
            ]
          },
          "metadata": {
            "tags": []
          },
          "execution_count": 188
        }
      ]
    }
  ]
}