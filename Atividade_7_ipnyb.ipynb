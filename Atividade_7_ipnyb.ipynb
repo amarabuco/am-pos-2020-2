{
  "nbformat": 4,
  "nbformat_minor": 0,
  "metadata": {
    "colab": {
      "name": "Atividade 7.ipnyb",
      "provenance": [],
      "collapsed_sections": [],
      "toc_visible": true,
      "authorship_tag": "ABX9TyMc/DUeFlFYFT1f0B54bsdn",
      "include_colab_link": true
    },
    "kernelspec": {
      "display_name": "Python 3",
      "name": "python3"
    },
    "language_info": {
      "name": "python"
    }
  },
  "cells": [
    {
      "cell_type": "markdown",
      "metadata": {
        "id": "view-in-github",
        "colab_type": "text"
      },
      "source": [
        "<a href=\"https://colab.research.google.com/github/amarabuco/am-pos-2020-2/blob/main/Atividade_7_ipnyb.ipynb\" target=\"_parent\"><img src=\"https://colab.research.google.com/assets/colab-badge.svg\" alt=\"Open In Colab\"/></a>"
      ]
    },
    {
      "cell_type": "code",
      "metadata": {
        "colab": {
          "base_uri": "https://localhost:8080/",
          "height": 991
        },
        "id": "5PgZQ0rb1md7",
        "outputId": "4a2184f5-139a-4631-c73d-04e5e399c7a8"
      },
      "source": [
        "!pip install lazypredict\n",
        "!pip install -U pandas"
      ],
      "execution_count": null,
      "outputs": [
        {
          "output_type": "stream",
          "text": [
            "Requirement already satisfied: lazypredict in /usr/local/lib/python3.7/dist-packages (0.2.9)\n",
            "Requirement already satisfied: click==7.1.2 in /usr/local/lib/python3.7/dist-packages (from lazypredict) (7.1.2)\n",
            "Requirement already satisfied: lightgbm==2.3.1 in /usr/local/lib/python3.7/dist-packages (from lazypredict) (2.3.1)\n",
            "Requirement already satisfied: numpy==1.19.1 in /usr/local/lib/python3.7/dist-packages (from lazypredict) (1.19.1)\n",
            "Requirement already satisfied: pytest==5.4.3 in /usr/local/lib/python3.7/dist-packages (from lazypredict) (5.4.3)\n",
            "Requirement already satisfied: tqdm==4.56.0 in /usr/local/lib/python3.7/dist-packages (from lazypredict) (4.56.0)\n",
            "Requirement already satisfied: scikit-learn==0.23.1 in /usr/local/lib/python3.7/dist-packages (from lazypredict) (0.23.1)\n",
            "Collecting pandas==1.0.5\n",
            "  Using cached https://files.pythonhosted.org/packages/af/f3/683bf2547a3eaeec15b39cef86f61e921b3b187f250fcd2b5c5fb4386369/pandas-1.0.5-cp37-cp37m-manylinux1_x86_64.whl\n",
            "Requirement already satisfied: scipy==1.5.4 in /usr/local/lib/python3.7/dist-packages (from lazypredict) (1.5.4)\n",
            "Requirement already satisfied: PyYAML==5.3.1 in /usr/local/lib/python3.7/dist-packages (from lazypredict) (5.3.1)\n",
            "Requirement already satisfied: joblib==1.0.0 in /usr/local/lib/python3.7/dist-packages (from lazypredict) (1.0.0)\n",
            "Requirement already satisfied: xgboost==1.1.1 in /usr/local/lib/python3.7/dist-packages (from lazypredict) (1.1.1)\n",
            "Requirement already satisfied: six==1.15.0 in /usr/local/lib/python3.7/dist-packages (from lazypredict) (1.15.0)\n",
            "Requirement already satisfied: packaging in /usr/local/lib/python3.7/dist-packages (from pytest==5.4.3->lazypredict) (20.9)\n",
            "Requirement already satisfied: more-itertools>=4.0.0 in /usr/local/lib/python3.7/dist-packages (from pytest==5.4.3->lazypredict) (8.7.0)\n",
            "Requirement already satisfied: pluggy<1.0,>=0.12 in /usr/local/lib/python3.7/dist-packages (from pytest==5.4.3->lazypredict) (0.13.1)\n",
            "Requirement already satisfied: py>=1.5.0 in /usr/local/lib/python3.7/dist-packages (from pytest==5.4.3->lazypredict) (1.10.0)\n",
            "Requirement already satisfied: importlib-metadata>=0.12; python_version < \"3.8\" in /usr/local/lib/python3.7/dist-packages (from pytest==5.4.3->lazypredict) (3.7.2)\n",
            "Requirement already satisfied: attrs>=17.4.0 in /usr/local/lib/python3.7/dist-packages (from pytest==5.4.3->lazypredict) (20.3.0)\n",
            "Requirement already satisfied: wcwidth in /usr/local/lib/python3.7/dist-packages (from pytest==5.4.3->lazypredict) (0.2.5)\n",
            "Requirement already satisfied: threadpoolctl>=2.0.0 in /usr/local/lib/python3.7/dist-packages (from scikit-learn==0.23.1->lazypredict) (2.1.0)\n",
            "Requirement already satisfied: python-dateutil>=2.6.1 in /usr/local/lib/python3.7/dist-packages (from pandas==1.0.5->lazypredict) (2.8.1)\n",
            "Requirement already satisfied: pytz>=2017.2 in /usr/local/lib/python3.7/dist-packages (from pandas==1.0.5->lazypredict) (2018.9)\n",
            "Requirement already satisfied: pyparsing>=2.0.2 in /usr/local/lib/python3.7/dist-packages (from packaging->pytest==5.4.3->lazypredict) (2.4.7)\n",
            "Requirement already satisfied: zipp>=0.5 in /usr/local/lib/python3.7/dist-packages (from importlib-metadata>=0.12; python_version < \"3.8\"->pytest==5.4.3->lazypredict) (3.4.1)\n",
            "Requirement already satisfied: typing-extensions>=3.6.4; python_version < \"3.8\" in /usr/local/lib/python3.7/dist-packages (from importlib-metadata>=0.12; python_version < \"3.8\"->pytest==5.4.3->lazypredict) (3.7.4.3)\n",
            "\u001b[31mERROR: google-colab 1.0.0 has requirement pandas~=1.1.0; python_version >= \"3.0\", but you'll have pandas 1.0.5 which is incompatible.\u001b[0m\n",
            "Installing collected packages: pandas\n",
            "  Found existing installation: pandas 1.2.3\n",
            "    Uninstalling pandas-1.2.3:\n",
            "      Successfully uninstalled pandas-1.2.3\n",
            "Successfully installed pandas-1.0.5\n"
          ],
          "name": "stdout"
        },
        {
          "output_type": "display_data",
          "data": {
            "application/vnd.colab-display-data+json": {
              "pip_warning": {
                "packages": [
                  "pandas"
                ]
              }
            }
          },
          "metadata": {
            "tags": []
          }
        },
        {
          "output_type": "stream",
          "text": [
            "Collecting pandas\n",
            "  Using cached https://files.pythonhosted.org/packages/f3/d4/3fe3b5bf9886912b64ef040040aec356fa48825e5a829a84c2667afdf952/pandas-1.2.3-cp37-cp37m-manylinux1_x86_64.whl\n",
            "Requirement already satisfied, skipping upgrade: python-dateutil>=2.7.3 in /usr/local/lib/python3.7/dist-packages (from pandas) (2.8.1)\n",
            "Requirement already satisfied, skipping upgrade: pytz>=2017.3 in /usr/local/lib/python3.7/dist-packages (from pandas) (2018.9)\n",
            "Requirement already satisfied, skipping upgrade: numpy>=1.16.5 in /usr/local/lib/python3.7/dist-packages (from pandas) (1.19.1)\n",
            "Requirement already satisfied, skipping upgrade: six>=1.5 in /usr/local/lib/python3.7/dist-packages (from python-dateutil>=2.7.3->pandas) (1.15.0)\n",
            "\u001b[31mERROR: lazypredict 0.2.9 has requirement pandas==1.0.5, but you'll have pandas 1.2.3 which is incompatible.\u001b[0m\n",
            "\u001b[31mERROR: google-colab 1.0.0 has requirement pandas~=1.1.0; python_version >= \"3.0\", but you'll have pandas 1.2.3 which is incompatible.\u001b[0m\n",
            "Installing collected packages: pandas\n",
            "  Found existing installation: pandas 1.0.5\n",
            "    Uninstalling pandas-1.0.5:\n",
            "      Successfully uninstalled pandas-1.0.5\n",
            "Successfully installed pandas-1.2.3\n"
          ],
          "name": "stdout"
        },
        {
          "output_type": "display_data",
          "data": {
            "application/vnd.colab-display-data+json": {
              "pip_warning": {
                "packages": [
                  "pandas"
                ]
              }
            }
          },
          "metadata": {
            "tags": []
          }
        }
      ]
    },
    {
      "cell_type": "markdown",
      "metadata": {
        "id": "ck7G-E2QtSHe"
      },
      "source": [
        ""
      ]
    },
    {
      "cell_type": "markdown",
      "metadata": {
        "id": "LtnLmp1WioWB"
      },
      "source": [
        "# imports"
      ]
    },
    {
      "cell_type": "code",
      "metadata": {
        "id": "moyNOFA10U0X"
      },
      "source": [
        "import numpy as np\n",
        "import pandas as pd\n",
        "import warnings\n",
        "warnings.filterwarnings(\"ignore\")\n",
        "\n",
        "from lazypredict.Supervised import LazyClassifier\n",
        "\n",
        "from sklearn.inspection import permutation_importance\n",
        "from sklearn.linear_model import Ridge\n",
        "from sklearn.metrics import classification_report\n",
        "from sklearn.preprocessing import OrdinalEncoder\n",
        "from sklearn.model_selection import train_test_split, cross_validate, RepeatedKFold\n",
        "\n",
        "\n",
        "from sklearn.decomposition import PCA, KernelPCA\n",
        "\n",
        "import matplotlib.pyplot as plt\n",
        "import seaborn as sns"
      ],
      "execution_count": null,
      "outputs": []
    },
    {
      "cell_type": "markdown",
      "metadata": {
        "id": "Csb4EY1Qvpgp"
      },
      "source": [
        "<img src=\"https://i.pinimg.com/564x/b8/87/19/b887197560425cda6dda72a4f8a1d8ff.jpg\" />"
      ]
    },
    {
      "cell_type": "markdown",
      "metadata": {
        "id": "cwZJpIEHjNLl"
      },
      "source": [
        "# Análise Exploratória"
      ]
    },
    {
      "cell_type": "code",
      "metadata": {
        "id": "WlFgEPbq1ND2"
      },
      "source": [
        "df = pd.read_csv('https://archive.ics.uci.edu/ml/machine-learning-databases/00273/Example_WearableComputing_weight_lifting_exercises_biceps_curl_variations.csv', header=1)"
      ],
      "execution_count": null,
      "outputs": []
    },
    {
      "cell_type": "markdown",
      "metadata": {
        "id": "03waOB53uL1l"
      },
      "source": [
        "Six young health subjects were asked to perform 5 variations of the biceps curl weight lifting exercise. One of the variations is the one predicted by the health professional.\n",
        "\n"
      ]
    },
    {
      "cell_type": "code",
      "metadata": {
        "colab": {
          "base_uri": "https://localhost:8080/",
          "height": 253
        },
        "id": "0Ubb3oSL2cn1",
        "outputId": "c43503e7-95d0-4039-d47c-dfadbd72d5a0"
      },
      "source": [
        "df.head()"
      ],
      "execution_count": null,
      "outputs": [
        {
          "output_type": "execute_result",
          "data": {
            "text/html": [
              "<div>\n",
              "<style scoped>\n",
              "    .dataframe tbody tr th:only-of-type {\n",
              "        vertical-align: middle;\n",
              "    }\n",
              "\n",
              "    .dataframe tbody tr th {\n",
              "        vertical-align: top;\n",
              "    }\n",
              "\n",
              "    .dataframe thead th {\n",
              "        text-align: right;\n",
              "    }\n",
              "</style>\n",
              "<table border=\"1\" class=\"dataframe\">\n",
              "  <thead>\n",
              "    <tr style=\"text-align: right;\">\n",
              "      <th></th>\n",
              "      <th>user_name</th>\n",
              "      <th>raw_timestamp_part_1</th>\n",
              "      <th>raw_timestamp_part_2</th>\n",
              "      <th>cvtd_timestamp</th>\n",
              "      <th>new_window</th>\n",
              "      <th>num_window</th>\n",
              "      <th>roll_belt</th>\n",
              "      <th>pitch_belt</th>\n",
              "      <th>yaw_belt</th>\n",
              "      <th>total_accel_belt</th>\n",
              "      <th>kurtosis_roll_belt</th>\n",
              "      <th>kurtosis_picth_belt</th>\n",
              "      <th>kurtosis_yaw_belt</th>\n",
              "      <th>skewness_roll_belt</th>\n",
              "      <th>skewness_roll_belt.1</th>\n",
              "      <th>skewness_yaw_belt</th>\n",
              "      <th>max_roll_belt</th>\n",
              "      <th>max_picth_belt</th>\n",
              "      <th>max_yaw_belt</th>\n",
              "      <th>min_roll_belt</th>\n",
              "      <th>min_pitch_belt</th>\n",
              "      <th>min_yaw_belt</th>\n",
              "      <th>amplitude_roll_belt</th>\n",
              "      <th>amplitude_pitch_belt</th>\n",
              "      <th>amplitude_yaw_belt</th>\n",
              "      <th>var_total_accel_belt</th>\n",
              "      <th>avg_roll_belt</th>\n",
              "      <th>stddev_roll_belt</th>\n",
              "      <th>var_roll_belt</th>\n",
              "      <th>avg_pitch_belt</th>\n",
              "      <th>stddev_pitch_belt</th>\n",
              "      <th>var_pitch_belt</th>\n",
              "      <th>avg_yaw_belt</th>\n",
              "      <th>stddev_yaw_belt</th>\n",
              "      <th>var_yaw_belt</th>\n",
              "      <th>gyros_belt_x</th>\n",
              "      <th>gyros_belt_y</th>\n",
              "      <th>gyros_belt_z</th>\n",
              "      <th>accel_belt_x</th>\n",
              "      <th>accel_belt_y</th>\n",
              "      <th>...</th>\n",
              "      <th>magnet_dumbbell_z</th>\n",
              "      <th>roll_forearm</th>\n",
              "      <th>pitch_forearm</th>\n",
              "      <th>yaw_forearm</th>\n",
              "      <th>kurtosis_roll_forearm</th>\n",
              "      <th>kurtosis_picth_forearm</th>\n",
              "      <th>kurtosis_yaw_forearm</th>\n",
              "      <th>skewness_roll_forearm</th>\n",
              "      <th>skewness_pitch_forearm</th>\n",
              "      <th>skewness_yaw_forearm</th>\n",
              "      <th>max_roll_forearm</th>\n",
              "      <th>max_picth_forearm</th>\n",
              "      <th>max_yaw_forearm</th>\n",
              "      <th>min_roll_forearm</th>\n",
              "      <th>min_pitch_forearm</th>\n",
              "      <th>min_yaw_forearm</th>\n",
              "      <th>amplitude_roll_forearm</th>\n",
              "      <th>amplitude_pitch_forearm</th>\n",
              "      <th>amplitude_yaw_forearm</th>\n",
              "      <th>total_accel_forearm</th>\n",
              "      <th>var_accel_forearm</th>\n",
              "      <th>avg_roll_forearm</th>\n",
              "      <th>stddev_roll_forearm</th>\n",
              "      <th>var_roll_forearm</th>\n",
              "      <th>avg_pitch_forearm</th>\n",
              "      <th>stddev_pitch_forearm</th>\n",
              "      <th>var_pitch_forearm</th>\n",
              "      <th>avg_yaw_forearm</th>\n",
              "      <th>stddev_yaw_forearm</th>\n",
              "      <th>var_yaw_forearm</th>\n",
              "      <th>gyros_forearm_x</th>\n",
              "      <th>gyros_forearm_y</th>\n",
              "      <th>gyros_forearm_z</th>\n",
              "      <th>accel_forearm_x</th>\n",
              "      <th>accel_forearm_y</th>\n",
              "      <th>accel_forearm_z</th>\n",
              "      <th>magnet_forearm_x</th>\n",
              "      <th>magnet_forearm_y</th>\n",
              "      <th>magnet_forearm_z</th>\n",
              "      <th>classe</th>\n",
              "    </tr>\n",
              "  </thead>\n",
              "  <tbody>\n",
              "    <tr>\n",
              "      <th>0</th>\n",
              "      <td>eurico</td>\n",
              "      <td>1322489729</td>\n",
              "      <td>34670</td>\n",
              "      <td>28/11/2011 14:15</td>\n",
              "      <td>no</td>\n",
              "      <td>1</td>\n",
              "      <td>3.70</td>\n",
              "      <td>41.60</td>\n",
              "      <td>-82.80</td>\n",
              "      <td>3</td>\n",
              "      <td>NaN</td>\n",
              "      <td>NaN</td>\n",
              "      <td>NaN</td>\n",
              "      <td>NaN</td>\n",
              "      <td>NaN</td>\n",
              "      <td>NaN</td>\n",
              "      <td>NaN</td>\n",
              "      <td>NaN</td>\n",
              "      <td>NaN</td>\n",
              "      <td>NaN</td>\n",
              "      <td>NaN</td>\n",
              "      <td>NaN</td>\n",
              "      <td>NaN</td>\n",
              "      <td>NaN</td>\n",
              "      <td>NaN</td>\n",
              "      <td>NaN</td>\n",
              "      <td>NaN</td>\n",
              "      <td>NaN</td>\n",
              "      <td>NaN</td>\n",
              "      <td>NaN</td>\n",
              "      <td>NaN</td>\n",
              "      <td>NaN</td>\n",
              "      <td>NaN</td>\n",
              "      <td>NaN</td>\n",
              "      <td>NaN</td>\n",
              "      <td>2.02</td>\n",
              "      <td>0.18</td>\n",
              "      <td>0.02</td>\n",
              "      <td>-3</td>\n",
              "      <td>-18</td>\n",
              "      <td>...</td>\n",
              "      <td>277</td>\n",
              "      <td>-111.00</td>\n",
              "      <td>26.50</td>\n",
              "      <td>138.00</td>\n",
              "      <td>NaN</td>\n",
              "      <td>NaN</td>\n",
              "      <td>NaN</td>\n",
              "      <td>NaN</td>\n",
              "      <td>NaN</td>\n",
              "      <td>NaN</td>\n",
              "      <td>NaN</td>\n",
              "      <td>NaN</td>\n",
              "      <td>NaN</td>\n",
              "      <td>NaN</td>\n",
              "      <td>NaN</td>\n",
              "      <td>NaN</td>\n",
              "      <td>NaN</td>\n",
              "      <td>NaN</td>\n",
              "      <td>NaN</td>\n",
              "      <td>30</td>\n",
              "      <td>NaN</td>\n",
              "      <td>NaN</td>\n",
              "      <td>NaN</td>\n",
              "      <td>NaN</td>\n",
              "      <td>NaN</td>\n",
              "      <td>NaN</td>\n",
              "      <td>NaN</td>\n",
              "      <td>NaN</td>\n",
              "      <td>NaN</td>\n",
              "      <td>NaN</td>\n",
              "      <td>-0.05</td>\n",
              "      <td>-0.37</td>\n",
              "      <td>-0.43</td>\n",
              "      <td>-170</td>\n",
              "      <td>155</td>\n",
              "      <td>184</td>\n",
              "      <td>-1160</td>\n",
              "      <td>1400</td>\n",
              "      <td>-876</td>\n",
              "      <td>E</td>\n",
              "    </tr>\n",
              "    <tr>\n",
              "      <th>1</th>\n",
              "      <td>eurico</td>\n",
              "      <td>1322489729</td>\n",
              "      <td>62641</td>\n",
              "      <td>28/11/2011 14:15</td>\n",
              "      <td>no</td>\n",
              "      <td>1</td>\n",
              "      <td>3.66</td>\n",
              "      <td>42.80</td>\n",
              "      <td>-82.50</td>\n",
              "      <td>2</td>\n",
              "      <td>NaN</td>\n",
              "      <td>NaN</td>\n",
              "      <td>NaN</td>\n",
              "      <td>NaN</td>\n",
              "      <td>NaN</td>\n",
              "      <td>NaN</td>\n",
              "      <td>NaN</td>\n",
              "      <td>NaN</td>\n",
              "      <td>NaN</td>\n",
              "      <td>NaN</td>\n",
              "      <td>NaN</td>\n",
              "      <td>NaN</td>\n",
              "      <td>NaN</td>\n",
              "      <td>NaN</td>\n",
              "      <td>NaN</td>\n",
              "      <td>NaN</td>\n",
              "      <td>NaN</td>\n",
              "      <td>NaN</td>\n",
              "      <td>NaN</td>\n",
              "      <td>NaN</td>\n",
              "      <td>NaN</td>\n",
              "      <td>NaN</td>\n",
              "      <td>NaN</td>\n",
              "      <td>NaN</td>\n",
              "      <td>NaN</td>\n",
              "      <td>1.96</td>\n",
              "      <td>0.14</td>\n",
              "      <td>0.05</td>\n",
              "      <td>-2</td>\n",
              "      <td>-13</td>\n",
              "      <td>...</td>\n",
              "      <td>281</td>\n",
              "      <td>-112.00</td>\n",
              "      <td>26.20</td>\n",
              "      <td>138.00</td>\n",
              "      <td>NaN</td>\n",
              "      <td>NaN</td>\n",
              "      <td>NaN</td>\n",
              "      <td>NaN</td>\n",
              "      <td>NaN</td>\n",
              "      <td>NaN</td>\n",
              "      <td>NaN</td>\n",
              "      <td>NaN</td>\n",
              "      <td>NaN</td>\n",
              "      <td>NaN</td>\n",
              "      <td>NaN</td>\n",
              "      <td>NaN</td>\n",
              "      <td>NaN</td>\n",
              "      <td>NaN</td>\n",
              "      <td>NaN</td>\n",
              "      <td>31</td>\n",
              "      <td>NaN</td>\n",
              "      <td>NaN</td>\n",
              "      <td>NaN</td>\n",
              "      <td>NaN</td>\n",
              "      <td>NaN</td>\n",
              "      <td>NaN</td>\n",
              "      <td>NaN</td>\n",
              "      <td>NaN</td>\n",
              "      <td>NaN</td>\n",
              "      <td>NaN</td>\n",
              "      <td>-0.06</td>\n",
              "      <td>-0.37</td>\n",
              "      <td>-0.59</td>\n",
              "      <td>-178</td>\n",
              "      <td>164</td>\n",
              "      <td>182</td>\n",
              "      <td>-1150</td>\n",
              "      <td>1410</td>\n",
              "      <td>-871</td>\n",
              "      <td>E</td>\n",
              "    </tr>\n",
              "    <tr>\n",
              "      <th>2</th>\n",
              "      <td>eurico</td>\n",
              "      <td>1322489729</td>\n",
              "      <td>70653</td>\n",
              "      <td>28/11/2011 14:15</td>\n",
              "      <td>no</td>\n",
              "      <td>1</td>\n",
              "      <td>3.58</td>\n",
              "      <td>43.70</td>\n",
              "      <td>-82.30</td>\n",
              "      <td>1</td>\n",
              "      <td>NaN</td>\n",
              "      <td>NaN</td>\n",
              "      <td>NaN</td>\n",
              "      <td>NaN</td>\n",
              "      <td>NaN</td>\n",
              "      <td>NaN</td>\n",
              "      <td>NaN</td>\n",
              "      <td>NaN</td>\n",
              "      <td>NaN</td>\n",
              "      <td>NaN</td>\n",
              "      <td>NaN</td>\n",
              "      <td>NaN</td>\n",
              "      <td>NaN</td>\n",
              "      <td>NaN</td>\n",
              "      <td>NaN</td>\n",
              "      <td>NaN</td>\n",
              "      <td>NaN</td>\n",
              "      <td>NaN</td>\n",
              "      <td>NaN</td>\n",
              "      <td>NaN</td>\n",
              "      <td>NaN</td>\n",
              "      <td>NaN</td>\n",
              "      <td>NaN</td>\n",
              "      <td>NaN</td>\n",
              "      <td>NaN</td>\n",
              "      <td>1.88</td>\n",
              "      <td>0.08</td>\n",
              "      <td>0.05</td>\n",
              "      <td>-2</td>\n",
              "      <td>-6</td>\n",
              "      <td>...</td>\n",
              "      <td>275</td>\n",
              "      <td>-114.00</td>\n",
              "      <td>26.00</td>\n",
              "      <td>137.00</td>\n",
              "      <td>NaN</td>\n",
              "      <td>NaN</td>\n",
              "      <td>NaN</td>\n",
              "      <td>NaN</td>\n",
              "      <td>NaN</td>\n",
              "      <td>NaN</td>\n",
              "      <td>NaN</td>\n",
              "      <td>NaN</td>\n",
              "      <td>NaN</td>\n",
              "      <td>NaN</td>\n",
              "      <td>NaN</td>\n",
              "      <td>NaN</td>\n",
              "      <td>NaN</td>\n",
              "      <td>NaN</td>\n",
              "      <td>NaN</td>\n",
              "      <td>32</td>\n",
              "      <td>NaN</td>\n",
              "      <td>NaN</td>\n",
              "      <td>NaN</td>\n",
              "      <td>NaN</td>\n",
              "      <td>NaN</td>\n",
              "      <td>NaN</td>\n",
              "      <td>NaN</td>\n",
              "      <td>NaN</td>\n",
              "      <td>NaN</td>\n",
              "      <td>NaN</td>\n",
              "      <td>-0.05</td>\n",
              "      <td>-0.27</td>\n",
              "      <td>-0.72</td>\n",
              "      <td>-182</td>\n",
              "      <td>172</td>\n",
              "      <td>185</td>\n",
              "      <td>-1130</td>\n",
              "      <td>1400</td>\n",
              "      <td>-863</td>\n",
              "      <td>E</td>\n",
              "    </tr>\n",
              "    <tr>\n",
              "      <th>3</th>\n",
              "      <td>eurico</td>\n",
              "      <td>1322489729</td>\n",
              "      <td>82654</td>\n",
              "      <td>28/11/2011 14:15</td>\n",
              "      <td>no</td>\n",
              "      <td>1</td>\n",
              "      <td>3.56</td>\n",
              "      <td>44.40</td>\n",
              "      <td>-82.10</td>\n",
              "      <td>1</td>\n",
              "      <td>NaN</td>\n",
              "      <td>NaN</td>\n",
              "      <td>NaN</td>\n",
              "      <td>NaN</td>\n",
              "      <td>NaN</td>\n",
              "      <td>NaN</td>\n",
              "      <td>NaN</td>\n",
              "      <td>NaN</td>\n",
              "      <td>NaN</td>\n",
              "      <td>NaN</td>\n",
              "      <td>NaN</td>\n",
              "      <td>NaN</td>\n",
              "      <td>NaN</td>\n",
              "      <td>NaN</td>\n",
              "      <td>NaN</td>\n",
              "      <td>NaN</td>\n",
              "      <td>NaN</td>\n",
              "      <td>NaN</td>\n",
              "      <td>NaN</td>\n",
              "      <td>NaN</td>\n",
              "      <td>NaN</td>\n",
              "      <td>NaN</td>\n",
              "      <td>NaN</td>\n",
              "      <td>NaN</td>\n",
              "      <td>NaN</td>\n",
              "      <td>1.80</td>\n",
              "      <td>0.03</td>\n",
              "      <td>0.08</td>\n",
              "      <td>-6</td>\n",
              "      <td>-5</td>\n",
              "      <td>...</td>\n",
              "      <td>285</td>\n",
              "      <td>-115.00</td>\n",
              "      <td>25.80</td>\n",
              "      <td>137.00</td>\n",
              "      <td>NaN</td>\n",
              "      <td>NaN</td>\n",
              "      <td>NaN</td>\n",
              "      <td>NaN</td>\n",
              "      <td>NaN</td>\n",
              "      <td>NaN</td>\n",
              "      <td>NaN</td>\n",
              "      <td>NaN</td>\n",
              "      <td>NaN</td>\n",
              "      <td>NaN</td>\n",
              "      <td>NaN</td>\n",
              "      <td>NaN</td>\n",
              "      <td>NaN</td>\n",
              "      <td>NaN</td>\n",
              "      <td>NaN</td>\n",
              "      <td>33</td>\n",
              "      <td>NaN</td>\n",
              "      <td>NaN</td>\n",
              "      <td>NaN</td>\n",
              "      <td>NaN</td>\n",
              "      <td>NaN</td>\n",
              "      <td>NaN</td>\n",
              "      <td>NaN</td>\n",
              "      <td>NaN</td>\n",
              "      <td>NaN</td>\n",
              "      <td>NaN</td>\n",
              "      <td>0.02</td>\n",
              "      <td>-0.24</td>\n",
              "      <td>-0.79</td>\n",
              "      <td>-185</td>\n",
              "      <td>182</td>\n",
              "      <td>188</td>\n",
              "      <td>-1120</td>\n",
              "      <td>1400</td>\n",
              "      <td>-855</td>\n",
              "      <td>E</td>\n",
              "    </tr>\n",
              "    <tr>\n",
              "      <th>4</th>\n",
              "      <td>eurico</td>\n",
              "      <td>1322489729</td>\n",
              "      <td>90637</td>\n",
              "      <td>28/11/2011 14:15</td>\n",
              "      <td>no</td>\n",
              "      <td>1</td>\n",
              "      <td>3.57</td>\n",
              "      <td>45.10</td>\n",
              "      <td>-81.90</td>\n",
              "      <td>1</td>\n",
              "      <td>NaN</td>\n",
              "      <td>NaN</td>\n",
              "      <td>NaN</td>\n",
              "      <td>NaN</td>\n",
              "      <td>NaN</td>\n",
              "      <td>NaN</td>\n",
              "      <td>NaN</td>\n",
              "      <td>NaN</td>\n",
              "      <td>NaN</td>\n",
              "      <td>NaN</td>\n",
              "      <td>NaN</td>\n",
              "      <td>NaN</td>\n",
              "      <td>NaN</td>\n",
              "      <td>NaN</td>\n",
              "      <td>NaN</td>\n",
              "      <td>NaN</td>\n",
              "      <td>NaN</td>\n",
              "      <td>NaN</td>\n",
              "      <td>NaN</td>\n",
              "      <td>NaN</td>\n",
              "      <td>NaN</td>\n",
              "      <td>NaN</td>\n",
              "      <td>NaN</td>\n",
              "      <td>NaN</td>\n",
              "      <td>NaN</td>\n",
              "      <td>1.77</td>\n",
              "      <td>0.00</td>\n",
              "      <td>0.13</td>\n",
              "      <td>-4</td>\n",
              "      <td>-9</td>\n",
              "      <td>...</td>\n",
              "      <td>292</td>\n",
              "      <td>-117.00</td>\n",
              "      <td>25.50</td>\n",
              "      <td>137.00</td>\n",
              "      <td>NaN</td>\n",
              "      <td>NaN</td>\n",
              "      <td>NaN</td>\n",
              "      <td>NaN</td>\n",
              "      <td>NaN</td>\n",
              "      <td>NaN</td>\n",
              "      <td>NaN</td>\n",
              "      <td>NaN</td>\n",
              "      <td>NaN</td>\n",
              "      <td>NaN</td>\n",
              "      <td>NaN</td>\n",
              "      <td>NaN</td>\n",
              "      <td>NaN</td>\n",
              "      <td>NaN</td>\n",
              "      <td>NaN</td>\n",
              "      <td>34</td>\n",
              "      <td>NaN</td>\n",
              "      <td>NaN</td>\n",
              "      <td>NaN</td>\n",
              "      <td>NaN</td>\n",
              "      <td>NaN</td>\n",
              "      <td>NaN</td>\n",
              "      <td>NaN</td>\n",
              "      <td>NaN</td>\n",
              "      <td>NaN</td>\n",
              "      <td>NaN</td>\n",
              "      <td>0.08</td>\n",
              "      <td>-0.27</td>\n",
              "      <td>-0.82</td>\n",
              "      <td>-188</td>\n",
              "      <td>195</td>\n",
              "      <td>188</td>\n",
              "      <td>-1100</td>\n",
              "      <td>1400</td>\n",
              "      <td>-843</td>\n",
              "      <td>E</td>\n",
              "    </tr>\n",
              "  </tbody>\n",
              "</table>\n",
              "<p>5 rows × 159 columns</p>\n",
              "</div>"
            ],
            "text/plain": [
              "  user_name  raw_timestamp_part_1  ...  magnet_forearm_z classe\n",
              "0    eurico            1322489729  ...              -876      E\n",
              "1    eurico            1322489729  ...              -871      E\n",
              "2    eurico            1322489729  ...              -863      E\n",
              "3    eurico            1322489729  ...              -855      E\n",
              "4    eurico            1322489729  ...              -843      E\n",
              "\n",
              "[5 rows x 159 columns]"
            ]
          },
          "metadata": {
            "tags": []
          },
          "execution_count": 58
        }
      ]
    },
    {
      "cell_type": "code",
      "metadata": {
        "colab": {
          "base_uri": "https://localhost:8080/"
        },
        "id": "3xCfep2fklU5",
        "outputId": "d43c0ed2-2fcd-49b5-ebee-0abc807bd689"
      },
      "source": [
        "df.info()"
      ],
      "execution_count": null,
      "outputs": [
        {
          "output_type": "stream",
          "text": [
            "<class 'pandas.core.frame.DataFrame'>\n",
            "RangeIndex: 4024 entries, 0 to 4023\n",
            "Columns: 159 entries, user_name to classe\n",
            "dtypes: float64(103), int64(31), object(25)\n",
            "memory usage: 4.9+ MB\n"
          ],
          "name": "stdout"
        }
      ]
    },
    {
      "cell_type": "markdown",
      "metadata": {
        "id": "dgfQSXjlkgzx"
      },
      "source": [
        "Alta dimensionalidade dos dados 159 colunas, com dados não numéricos e muitos dados ausentes."
      ]
    },
    {
      "cell_type": "code",
      "metadata": {
        "id": "oBjhtCWs2KW6"
      },
      "source": [
        "X = df[df.columns[:-1]]\n",
        "y = df[df.columns[-1]]"
      ],
      "execution_count": null,
      "outputs": []
    },
    {
      "cell_type": "code",
      "metadata": {
        "colab": {
          "base_uri": "https://localhost:8080/"
        },
        "id": "uZOm7a7f5dLB",
        "outputId": "d5ba9136-f681-4eb2-e076-4e84072fe403"
      },
      "source": [
        "y"
      ],
      "execution_count": null,
      "outputs": [
        {
          "output_type": "execute_result",
          "data": {
            "text/plain": [
              "0       E\n",
              "1       E\n",
              "2       E\n",
              "3       E\n",
              "4       E\n",
              "       ..\n",
              "4019    C\n",
              "4020    C\n",
              "4021    C\n",
              "4022    C\n",
              "4023    C\n",
              "Name: classe, Length: 4024, dtype: object"
            ]
          },
          "metadata": {
            "tags": []
          },
          "execution_count": 61
        }
      ]
    },
    {
      "cell_type": "code",
      "metadata": {
        "colab": {
          "base_uri": "https://localhost:8080/"
        },
        "id": "T0wovWpPjKxE",
        "outputId": "05cf7fab-880d-4440-b51d-450b6b3e677f"
      },
      "source": [
        "a = y.value_counts()\n",
        "b = y.value_counts().sum()\n",
        "a.apply(lambda x: x/b)"
      ],
      "execution_count": null,
      "outputs": [
        {
          "output_type": "execute_result",
          "data": {
            "text/plain": [
              "E   0.34\n",
              "A   0.34\n",
              "B   0.22\n",
              "D   0.07\n",
              "C   0.03\n",
              "Name: classe, dtype: float64"
            ]
          },
          "metadata": {
            "tags": []
          },
          "execution_count": 62
        }
      ]
    },
    {
      "cell_type": "code",
      "metadata": {
        "colab": {
          "base_uri": "https://localhost:8080/",
          "height": 280
        },
        "id": "IFiq67QmsxHV",
        "outputId": "31df7143-57e8-40eb-832a-12bc41d9078e"
      },
      "source": [
        "pd.Series(y.value_counts()).plot.bar()"
      ],
      "execution_count": null,
      "outputs": [
        {
          "output_type": "execute_result",
          "data": {
            "text/plain": [
              "<matplotlib.axes._subplots.AxesSubplot at 0x7f34cd2abad0>"
            ]
          },
          "metadata": {
            "tags": []
          },
          "execution_count": 63
        },
        {
          "output_type": "display_data",
          "data": {
            "image/png": "[encoded data removed]",
            "text/plain": [
              "<Figure size 432x288 with 1 Axes>"
            ]
          },
          "metadata": {
            "tags": [],
            "needs_background": "light"
          }
        }
      ]
    },
    {
      "cell_type": "markdown",
      "metadata": {
        "id": "WSofKX-kkf1d"
      },
      "source": [
        "Classes desbalanceadas C (3%) e D (7%) x E (34%) e A (34%)"
      ]
    },
    {
      "cell_type": "markdown",
      "metadata": {
        "id": "ewzl5fMSitWH"
      },
      "source": [
        "# Pré-processamento"
      ]
    },
    {
      "cell_type": "markdown",
      "metadata": {
        "id": "pRiOTwFJlYst"
      },
      "source": [
        "1. Preencher NAN com 0\n",
        "2. Eliminar erros '#DIV/0!\" de planilha\n",
        "3. Eliminar coluna de timestamp por redundância"
      ]
    },
    {
      "cell_type": "code",
      "metadata": {
        "colab": {
          "base_uri": "https://localhost:8080/",
          "height": 439
        },
        "id": "4PdLYqtHBPqU",
        "outputId": "1c9f8b6b-a2a3-4e3a-83ba-031e5e714ef1"
      },
      "source": [
        "X.fillna(0, inplace=True)\n",
        "X.replace({'#DIV/0!':0}, inplace=True)\n",
        "X.drop('cvtd_timestamp', axis=1, inplace=True)\n",
        "X.infer_objects()"
      ],
      "execution_count": null,
      "outputs": [
        {
          "output_type": "execute_result",
          "data": {
            "text/html": [
              "<div>\n",
              "<style scoped>\n",
              "    .dataframe tbody tr th:only-of-type {\n",
              "        vertical-align: middle;\n",
              "    }\n",
              "\n",
              "    .dataframe tbody tr th {\n",
              "        vertical-align: top;\n",
              "    }\n",
              "\n",
              "    .dataframe thead th {\n",
              "        text-align: right;\n",
              "    }\n",
              "</style>\n",
              "<table border=\"1\" class=\"dataframe\">\n",
              "  <thead>\n",
              "    <tr style=\"text-align: right;\">\n",
              "      <th></th>\n",
              "      <th>user_name</th>\n",
              "      <th>raw_timestamp_part_1</th>\n",
              "      <th>raw_timestamp_part_2</th>\n",
              "      <th>new_window</th>\n",
              "      <th>num_window</th>\n",
              "      <th>roll_belt</th>\n",
              "      <th>pitch_belt</th>\n",
              "      <th>yaw_belt</th>\n",
              "      <th>total_accel_belt</th>\n",
              "      <th>kurtosis_roll_belt</th>\n",
              "      <th>kurtosis_picth_belt</th>\n",
              "      <th>kurtosis_yaw_belt</th>\n",
              "      <th>skewness_roll_belt</th>\n",
              "      <th>skewness_roll_belt.1</th>\n",
              "      <th>skewness_yaw_belt</th>\n",
              "      <th>max_roll_belt</th>\n",
              "      <th>max_picth_belt</th>\n",
              "      <th>max_yaw_belt</th>\n",
              "      <th>min_roll_belt</th>\n",
              "      <th>min_pitch_belt</th>\n",
              "      <th>min_yaw_belt</th>\n",
              "      <th>amplitude_roll_belt</th>\n",
              "      <th>amplitude_pitch_belt</th>\n",
              "      <th>amplitude_yaw_belt</th>\n",
              "      <th>var_total_accel_belt</th>\n",
              "      <th>avg_roll_belt</th>\n",
              "      <th>stddev_roll_belt</th>\n",
              "      <th>var_roll_belt</th>\n",
              "      <th>avg_pitch_belt</th>\n",
              "      <th>stddev_pitch_belt</th>\n",
              "      <th>var_pitch_belt</th>\n",
              "      <th>avg_yaw_belt</th>\n",
              "      <th>stddev_yaw_belt</th>\n",
              "      <th>var_yaw_belt</th>\n",
              "      <th>gyros_belt_x</th>\n",
              "      <th>gyros_belt_y</th>\n",
              "      <th>gyros_belt_z</th>\n",
              "      <th>accel_belt_x</th>\n",
              "      <th>accel_belt_y</th>\n",
              "      <th>accel_belt_z</th>\n",
              "      <th>...</th>\n",
              "      <th>magnet_dumbbell_y</th>\n",
              "      <th>magnet_dumbbell_z</th>\n",
              "      <th>roll_forearm</th>\n",
              "      <th>pitch_forearm</th>\n",
              "      <th>yaw_forearm</th>\n",
              "      <th>kurtosis_roll_forearm</th>\n",
              "      <th>kurtosis_picth_forearm</th>\n",
              "      <th>kurtosis_yaw_forearm</th>\n",
              "      <th>skewness_roll_forearm</th>\n",
              "      <th>skewness_pitch_forearm</th>\n",
              "      <th>skewness_yaw_forearm</th>\n",
              "      <th>max_roll_forearm</th>\n",
              "      <th>max_picth_forearm</th>\n",
              "      <th>max_yaw_forearm</th>\n",
              "      <th>min_roll_forearm</th>\n",
              "      <th>min_pitch_forearm</th>\n",
              "      <th>min_yaw_forearm</th>\n",
              "      <th>amplitude_roll_forearm</th>\n",
              "      <th>amplitude_pitch_forearm</th>\n",
              "      <th>amplitude_yaw_forearm</th>\n",
              "      <th>total_accel_forearm</th>\n",
              "      <th>var_accel_forearm</th>\n",
              "      <th>avg_roll_forearm</th>\n",
              "      <th>stddev_roll_forearm</th>\n",
              "      <th>var_roll_forearm</th>\n",
              "      <th>avg_pitch_forearm</th>\n",
              "      <th>stddev_pitch_forearm</th>\n",
              "      <th>var_pitch_forearm</th>\n",
              "      <th>avg_yaw_forearm</th>\n",
              "      <th>stddev_yaw_forearm</th>\n",
              "      <th>var_yaw_forearm</th>\n",
              "      <th>gyros_forearm_x</th>\n",
              "      <th>gyros_forearm_y</th>\n",
              "      <th>gyros_forearm_z</th>\n",
              "      <th>accel_forearm_x</th>\n",
              "      <th>accel_forearm_y</th>\n",
              "      <th>accel_forearm_z</th>\n",
              "      <th>magnet_forearm_x</th>\n",
              "      <th>magnet_forearm_y</th>\n",
              "      <th>magnet_forearm_z</th>\n",
              "    </tr>\n",
              "  </thead>\n",
              "  <tbody>\n",
              "    <tr>\n",
              "      <th>0</th>\n",
              "      <td>eurico</td>\n",
              "      <td>1322489729</td>\n",
              "      <td>34670</td>\n",
              "      <td>no</td>\n",
              "      <td>1</td>\n",
              "      <td>3.70</td>\n",
              "      <td>41.60</td>\n",
              "      <td>-82.80</td>\n",
              "      <td>3</td>\n",
              "      <td>0.00</td>\n",
              "      <td>0</td>\n",
              "      <td>0</td>\n",
              "      <td>0.00</td>\n",
              "      <td>0</td>\n",
              "      <td>0</td>\n",
              "      <td>0.00</td>\n",
              "      <td>0.00</td>\n",
              "      <td>0.00</td>\n",
              "      <td>0.00</td>\n",
              "      <td>0.00</td>\n",
              "      <td>0.00</td>\n",
              "      <td>0.00</td>\n",
              "      <td>0.00</td>\n",
              "      <td>0.00</td>\n",
              "      <td>0.00</td>\n",
              "      <td>0.00</td>\n",
              "      <td>0.00</td>\n",
              "      <td>0.00</td>\n",
              "      <td>0.00</td>\n",
              "      <td>0.00</td>\n",
              "      <td>0.00</td>\n",
              "      <td>0.00</td>\n",
              "      <td>0.00</td>\n",
              "      <td>0.00</td>\n",
              "      <td>2.02</td>\n",
              "      <td>0.18</td>\n",
              "      <td>0.02</td>\n",
              "      <td>-3</td>\n",
              "      <td>-18</td>\n",
              "      <td>22</td>\n",
              "      <td>...</td>\n",
              "      <td>191</td>\n",
              "      <td>277</td>\n",
              "      <td>-111.00</td>\n",
              "      <td>26.50</td>\n",
              "      <td>138.00</td>\n",
              "      <td>0</td>\n",
              "      <td>0</td>\n",
              "      <td>0</td>\n",
              "      <td>0</td>\n",
              "      <td>0</td>\n",
              "      <td>0</td>\n",
              "      <td>0.00</td>\n",
              "      <td>0.00</td>\n",
              "      <td>0</td>\n",
              "      <td>0.00</td>\n",
              "      <td>0.00</td>\n",
              "      <td>0</td>\n",
              "      <td>0.00</td>\n",
              "      <td>0.00</td>\n",
              "      <td>0</td>\n",
              "      <td>30</td>\n",
              "      <td>0.00</td>\n",
              "      <td>0.00</td>\n",
              "      <td>0.00</td>\n",
              "      <td>0.00</td>\n",
              "      <td>0.00</td>\n",
              "      <td>0.00</td>\n",
              "      <td>0.00</td>\n",
              "      <td>0.00</td>\n",
              "      <td>0.00</td>\n",
              "      <td>0.00</td>\n",
              "      <td>-0.05</td>\n",
              "      <td>-0.37</td>\n",
              "      <td>-0.43</td>\n",
              "      <td>-170</td>\n",
              "      <td>155</td>\n",
              "      <td>184</td>\n",
              "      <td>-1160</td>\n",
              "      <td>1400</td>\n",
              "      <td>-876</td>\n",
              "    </tr>\n",
              "    <tr>\n",
              "      <th>1</th>\n",
              "      <td>eurico</td>\n",
              "      <td>1322489729</td>\n",
              "      <td>62641</td>\n",
              "      <td>no</td>\n",
              "      <td>1</td>\n",
              "      <td>3.66</td>\n",
              "      <td>42.80</td>\n",
              "      <td>-82.50</td>\n",
              "      <td>2</td>\n",
              "      <td>0.00</td>\n",
              "      <td>0</td>\n",
              "      <td>0</td>\n",
              "      <td>0.00</td>\n",
              "      <td>0</td>\n",
              "      <td>0</td>\n",
              "      <td>0.00</td>\n",
              "      <td>0.00</td>\n",
              "      <td>0.00</td>\n",
              "      <td>0.00</td>\n",
              "      <td>0.00</td>\n",
              "      <td>0.00</td>\n",
              "      <td>0.00</td>\n",
              "      <td>0.00</td>\n",
              "      <td>0.00</td>\n",
              "      <td>0.00</td>\n",
              "      <td>0.00</td>\n",
              "      <td>0.00</td>\n",
              "      <td>0.00</td>\n",
              "      <td>0.00</td>\n",
              "      <td>0.00</td>\n",
              "      <td>0.00</td>\n",
              "      <td>0.00</td>\n",
              "      <td>0.00</td>\n",
              "      <td>0.00</td>\n",
              "      <td>1.96</td>\n",
              "      <td>0.14</td>\n",
              "      <td>0.05</td>\n",
              "      <td>-2</td>\n",
              "      <td>-13</td>\n",
              "      <td>16</td>\n",
              "      <td>...</td>\n",
              "      <td>184</td>\n",
              "      <td>281</td>\n",
              "      <td>-112.00</td>\n",
              "      <td>26.20</td>\n",
              "      <td>138.00</td>\n",
              "      <td>0</td>\n",
              "      <td>0</td>\n",
              "      <td>0</td>\n",
              "      <td>0</td>\n",
              "      <td>0</td>\n",
              "      <td>0</td>\n",
              "      <td>0.00</td>\n",
              "      <td>0.00</td>\n",
              "      <td>0</td>\n",
              "      <td>0.00</td>\n",
              "      <td>0.00</td>\n",
              "      <td>0</td>\n",
              "      <td>0.00</td>\n",
              "      <td>0.00</td>\n",
              "      <td>0</td>\n",
              "      <td>31</td>\n",
              "      <td>0.00</td>\n",
              "      <td>0.00</td>\n",
              "      <td>0.00</td>\n",
              "      <td>0.00</td>\n",
              "      <td>0.00</td>\n",
              "      <td>0.00</td>\n",
              "      <td>0.00</td>\n",
              "      <td>0.00</td>\n",
              "      <td>0.00</td>\n",
              "      <td>0.00</td>\n",
              "      <td>-0.06</td>\n",
              "      <td>-0.37</td>\n",
              "      <td>-0.59</td>\n",
              "      <td>-178</td>\n",
              "      <td>164</td>\n",
              "      <td>182</td>\n",
              "      <td>-1150</td>\n",
              "      <td>1410</td>\n",
              "      <td>-871</td>\n",
              "    </tr>\n",
              "    <tr>\n",
              "      <th>2</th>\n",
              "      <td>eurico</td>\n",
              "      <td>1322489729</td>\n",
              "      <td>70653</td>\n",
              "      <td>no</td>\n",
              "      <td>1</td>\n",
              "      <td>3.58</td>\n",
              "      <td>43.70</td>\n",
              "      <td>-82.30</td>\n",
              "      <td>1</td>\n",
              "      <td>0.00</td>\n",
              "      <td>0</td>\n",
              "      <td>0</td>\n",
              "      <td>0.00</td>\n",
              "      <td>0</td>\n",
              "      <td>0</td>\n",
              "      <td>0.00</td>\n",
              "      <td>0.00</td>\n",
              "      <td>0.00</td>\n",
              "      <td>0.00</td>\n",
              "      <td>0.00</td>\n",
              "      <td>0.00</td>\n",
              "      <td>0.00</td>\n",
              "      <td>0.00</td>\n",
              "      <td>0.00</td>\n",
              "      <td>0.00</td>\n",
              "      <td>0.00</td>\n",
              "      <td>0.00</td>\n",
              "      <td>0.00</td>\n",
              "      <td>0.00</td>\n",
              "      <td>0.00</td>\n",
              "      <td>0.00</td>\n",
              "      <td>0.00</td>\n",
              "      <td>0.00</td>\n",
              "      <td>0.00</td>\n",
              "      <td>1.88</td>\n",
              "      <td>0.08</td>\n",
              "      <td>0.05</td>\n",
              "      <td>-2</td>\n",
              "      <td>-6</td>\n",
              "      <td>8</td>\n",
              "      <td>...</td>\n",
              "      <td>190</td>\n",
              "      <td>275</td>\n",
              "      <td>-114.00</td>\n",
              "      <td>26.00</td>\n",
              "      <td>137.00</td>\n",
              "      <td>0</td>\n",
              "      <td>0</td>\n",
              "      <td>0</td>\n",
              "      <td>0</td>\n",
              "      <td>0</td>\n",
              "      <td>0</td>\n",
              "      <td>0.00</td>\n",
              "      <td>0.00</td>\n",
              "      <td>0</td>\n",
              "      <td>0.00</td>\n",
              "      <td>0.00</td>\n",
              "      <td>0</td>\n",
              "      <td>0.00</td>\n",
              "      <td>0.00</td>\n",
              "      <td>0</td>\n",
              "      <td>32</td>\n",
              "      <td>0.00</td>\n",
              "      <td>0.00</td>\n",
              "      <td>0.00</td>\n",
              "      <td>0.00</td>\n",
              "      <td>0.00</td>\n",
              "      <td>0.00</td>\n",
              "      <td>0.00</td>\n",
              "      <td>0.00</td>\n",
              "      <td>0.00</td>\n",
              "      <td>0.00</td>\n",
              "      <td>-0.05</td>\n",
              "      <td>-0.27</td>\n",
              "      <td>-0.72</td>\n",
              "      <td>-182</td>\n",
              "      <td>172</td>\n",
              "      <td>185</td>\n",
              "      <td>-1130</td>\n",
              "      <td>1400</td>\n",
              "      <td>-863</td>\n",
              "    </tr>\n",
              "    <tr>\n",
              "      <th>3</th>\n",
              "      <td>eurico</td>\n",
              "      <td>1322489729</td>\n",
              "      <td>82654</td>\n",
              "      <td>no</td>\n",
              "      <td>1</td>\n",
              "      <td>3.56</td>\n",
              "      <td>44.40</td>\n",
              "      <td>-82.10</td>\n",
              "      <td>1</td>\n",
              "      <td>0.00</td>\n",
              "      <td>0</td>\n",
              "      <td>0</td>\n",
              "      <td>0.00</td>\n",
              "      <td>0</td>\n",
              "      <td>0</td>\n",
              "      <td>0.00</td>\n",
              "      <td>0.00</td>\n",
              "      <td>0.00</td>\n",
              "      <td>0.00</td>\n",
              "      <td>0.00</td>\n",
              "      <td>0.00</td>\n",
              "      <td>0.00</td>\n",
              "      <td>0.00</td>\n",
              "      <td>0.00</td>\n",
              "      <td>0.00</td>\n",
              "      <td>0.00</td>\n",
              "      <td>0.00</td>\n",
              "      <td>0.00</td>\n",
              "      <td>0.00</td>\n",
              "      <td>0.00</td>\n",
              "      <td>0.00</td>\n",
              "      <td>0.00</td>\n",
              "      <td>0.00</td>\n",
              "      <td>0.00</td>\n",
              "      <td>1.80</td>\n",
              "      <td>0.03</td>\n",
              "      <td>0.08</td>\n",
              "      <td>-6</td>\n",
              "      <td>-5</td>\n",
              "      <td>7</td>\n",
              "      <td>...</td>\n",
              "      <td>184</td>\n",
              "      <td>285</td>\n",
              "      <td>-115.00</td>\n",
              "      <td>25.80</td>\n",
              "      <td>137.00</td>\n",
              "      <td>0</td>\n",
              "      <td>0</td>\n",
              "      <td>0</td>\n",
              "      <td>0</td>\n",
              "      <td>0</td>\n",
              "      <td>0</td>\n",
              "      <td>0.00</td>\n",
              "      <td>0.00</td>\n",
              "      <td>0</td>\n",
              "      <td>0.00</td>\n",
              "      <td>0.00</td>\n",
              "      <td>0</td>\n",
              "      <td>0.00</td>\n",
              "      <td>0.00</td>\n",
              "      <td>0</td>\n",
              "      <td>33</td>\n",
              "      <td>0.00</td>\n",
              "      <td>0.00</td>\n",
              "      <td>0.00</td>\n",
              "      <td>0.00</td>\n",
              "      <td>0.00</td>\n",
              "      <td>0.00</td>\n",
              "      <td>0.00</td>\n",
              "      <td>0.00</td>\n",
              "      <td>0.00</td>\n",
              "      <td>0.00</td>\n",
              "      <td>0.02</td>\n",
              "      <td>-0.24</td>\n",
              "      <td>-0.79</td>\n",
              "      <td>-185</td>\n",
              "      <td>182</td>\n",
              "      <td>188</td>\n",
              "      <td>-1120</td>\n",
              "      <td>1400</td>\n",
              "      <td>-855</td>\n",
              "    </tr>\n",
              "    <tr>\n",
              "      <th>4</th>\n",
              "      <td>eurico</td>\n",
              "      <td>1322489729</td>\n",
              "      <td>90637</td>\n",
              "      <td>no</td>\n",
              "      <td>1</td>\n",
              "      <td>3.57</td>\n",
              "      <td>45.10</td>\n",
              "      <td>-81.90</td>\n",
              "      <td>1</td>\n",
              "      <td>0.00</td>\n",
              "      <td>0</td>\n",
              "      <td>0</td>\n",
              "      <td>0.00</td>\n",
              "      <td>0</td>\n",
              "      <td>0</td>\n",
              "      <td>0.00</td>\n",
              "      <td>0.00</td>\n",
              "      <td>0.00</td>\n",
              "      <td>0.00</td>\n",
              "      <td>0.00</td>\n",
              "      <td>0.00</td>\n",
              "      <td>0.00</td>\n",
              "      <td>0.00</td>\n",
              "      <td>0.00</td>\n",
              "      <td>0.00</td>\n",
              "      <td>0.00</td>\n",
              "      <td>0.00</td>\n",
              "      <td>0.00</td>\n",
              "      <td>0.00</td>\n",
              "      <td>0.00</td>\n",
              "      <td>0.00</td>\n",
              "      <td>0.00</td>\n",
              "      <td>0.00</td>\n",
              "      <td>0.00</td>\n",
              "      <td>1.77</td>\n",
              "      <td>0.00</td>\n",
              "      <td>0.13</td>\n",
              "      <td>-4</td>\n",
              "      <td>-9</td>\n",
              "      <td>0</td>\n",
              "      <td>...</td>\n",
              "      <td>189</td>\n",
              "      <td>292</td>\n",
              "      <td>-117.00</td>\n",
              "      <td>25.50</td>\n",
              "      <td>137.00</td>\n",
              "      <td>0</td>\n",
              "      <td>0</td>\n",
              "      <td>0</td>\n",
              "      <td>0</td>\n",
              "      <td>0</td>\n",
              "      <td>0</td>\n",
              "      <td>0.00</td>\n",
              "      <td>0.00</td>\n",
              "      <td>0</td>\n",
              "      <td>0.00</td>\n",
              "      <td>0.00</td>\n",
              "      <td>0</td>\n",
              "      <td>0.00</td>\n",
              "      <td>0.00</td>\n",
              "      <td>0</td>\n",
              "      <td>34</td>\n",
              "      <td>0.00</td>\n",
              "      <td>0.00</td>\n",
              "      <td>0.00</td>\n",
              "      <td>0.00</td>\n",
              "      <td>0.00</td>\n",
              "      <td>0.00</td>\n",
              "      <td>0.00</td>\n",
              "      <td>0.00</td>\n",
              "      <td>0.00</td>\n",
              "      <td>0.00</td>\n",
              "      <td>0.08</td>\n",
              "      <td>-0.27</td>\n",
              "      <td>-0.82</td>\n",
              "      <td>-188</td>\n",
              "      <td>195</td>\n",
              "      <td>188</td>\n",
              "      <td>-1100</td>\n",
              "      <td>1400</td>\n",
              "      <td>-843</td>\n",
              "    </tr>\n",
              "    <tr>\n",
              "      <th>...</th>\n",
              "      <td>...</td>\n",
              "      <td>...</td>\n",
              "      <td>...</td>\n",
              "      <td>...</td>\n",
              "      <td>...</td>\n",
              "      <td>...</td>\n",
              "      <td>...</td>\n",
              "      <td>...</td>\n",
              "      <td>...</td>\n",
              "      <td>...</td>\n",
              "      <td>...</td>\n",
              "      <td>...</td>\n",
              "      <td>...</td>\n",
              "      <td>...</td>\n",
              "      <td>...</td>\n",
              "      <td>...</td>\n",
              "      <td>...</td>\n",
              "      <td>...</td>\n",
              "      <td>...</td>\n",
              "      <td>...</td>\n",
              "      <td>...</td>\n",
              "      <td>...</td>\n",
              "      <td>...</td>\n",
              "      <td>...</td>\n",
              "      <td>...</td>\n",
              "      <td>...</td>\n",
              "      <td>...</td>\n",
              "      <td>...</td>\n",
              "      <td>...</td>\n",
              "      <td>...</td>\n",
              "      <td>...</td>\n",
              "      <td>...</td>\n",
              "      <td>...</td>\n",
              "      <td>...</td>\n",
              "      <td>...</td>\n",
              "      <td>...</td>\n",
              "      <td>...</td>\n",
              "      <td>...</td>\n",
              "      <td>...</td>\n",
              "      <td>...</td>\n",
              "      <td>...</td>\n",
              "      <td>...</td>\n",
              "      <td>...</td>\n",
              "      <td>...</td>\n",
              "      <td>...</td>\n",
              "      <td>...</td>\n",
              "      <td>...</td>\n",
              "      <td>...</td>\n",
              "      <td>...</td>\n",
              "      <td>...</td>\n",
              "      <td>...</td>\n",
              "      <td>...</td>\n",
              "      <td>...</td>\n",
              "      <td>...</td>\n",
              "      <td>...</td>\n",
              "      <td>...</td>\n",
              "      <td>...</td>\n",
              "      <td>...</td>\n",
              "      <td>...</td>\n",
              "      <td>...</td>\n",
              "      <td>...</td>\n",
              "      <td>...</td>\n",
              "      <td>...</td>\n",
              "      <td>...</td>\n",
              "      <td>...</td>\n",
              "      <td>...</td>\n",
              "      <td>...</td>\n",
              "      <td>...</td>\n",
              "      <td>...</td>\n",
              "      <td>...</td>\n",
              "      <td>...</td>\n",
              "      <td>...</td>\n",
              "      <td>...</td>\n",
              "      <td>...</td>\n",
              "      <td>...</td>\n",
              "      <td>...</td>\n",
              "      <td>...</td>\n",
              "      <td>...</td>\n",
              "      <td>...</td>\n",
              "      <td>...</td>\n",
              "      <td>...</td>\n",
              "    </tr>\n",
              "    <tr>\n",
              "      <th>4019</th>\n",
              "      <td>pedro</td>\n",
              "      <td>1323095020</td>\n",
              "      <td>748318</td>\n",
              "      <td>no</td>\n",
              "      <td>91</td>\n",
              "      <td>122.00</td>\n",
              "      <td>25.70</td>\n",
              "      <td>-3.25</td>\n",
              "      <td>19</td>\n",
              "      <td>0.00</td>\n",
              "      <td>0</td>\n",
              "      <td>0</td>\n",
              "      <td>0.00</td>\n",
              "      <td>0</td>\n",
              "      <td>0</td>\n",
              "      <td>0.00</td>\n",
              "      <td>0.00</td>\n",
              "      <td>0.00</td>\n",
              "      <td>0.00</td>\n",
              "      <td>0.00</td>\n",
              "      <td>0.00</td>\n",
              "      <td>0.00</td>\n",
              "      <td>0.00</td>\n",
              "      <td>0.00</td>\n",
              "      <td>0.00</td>\n",
              "      <td>0.00</td>\n",
              "      <td>0.00</td>\n",
              "      <td>0.00</td>\n",
              "      <td>0.00</td>\n",
              "      <td>0.00</td>\n",
              "      <td>0.00</td>\n",
              "      <td>0.00</td>\n",
              "      <td>0.00</td>\n",
              "      <td>0.00</td>\n",
              "      <td>-0.35</td>\n",
              "      <td>-0.03</td>\n",
              "      <td>-0.46</td>\n",
              "      <td>-41</td>\n",
              "      <td>69</td>\n",
              "      <td>-167</td>\n",
              "      <td>...</td>\n",
              "      <td>-524</td>\n",
              "      <td>-104</td>\n",
              "      <td>141.00</td>\n",
              "      <td>10.20</td>\n",
              "      <td>85.30</td>\n",
              "      <td>0</td>\n",
              "      <td>0</td>\n",
              "      <td>0</td>\n",
              "      <td>0</td>\n",
              "      <td>0</td>\n",
              "      <td>0</td>\n",
              "      <td>0.00</td>\n",
              "      <td>0.00</td>\n",
              "      <td>0</td>\n",
              "      <td>0.00</td>\n",
              "      <td>0.00</td>\n",
              "      <td>0</td>\n",
              "      <td>0.00</td>\n",
              "      <td>0.00</td>\n",
              "      <td>0</td>\n",
              "      <td>39</td>\n",
              "      <td>0.00</td>\n",
              "      <td>0.00</td>\n",
              "      <td>0.00</td>\n",
              "      <td>0.00</td>\n",
              "      <td>0.00</td>\n",
              "      <td>0.00</td>\n",
              "      <td>0.00</td>\n",
              "      <td>0.00</td>\n",
              "      <td>0.00</td>\n",
              "      <td>0.00</td>\n",
              "      <td>-0.31</td>\n",
              "      <td>2.26</td>\n",
              "      <td>1.07</td>\n",
              "      <td>133</td>\n",
              "      <td>336</td>\n",
              "      <td>-126</td>\n",
              "      <td>-262</td>\n",
              "      <td>793</td>\n",
              "      <td>829</td>\n",
              "    </tr>\n",
              "    <tr>\n",
              "      <th>4020</th>\n",
              "      <td>pedro</td>\n",
              "      <td>1323095020</td>\n",
              "      <td>792346</td>\n",
              "      <td>no</td>\n",
              "      <td>91</td>\n",
              "      <td>122.00</td>\n",
              "      <td>25.70</td>\n",
              "      <td>-3.19</td>\n",
              "      <td>19</td>\n",
              "      <td>0.00</td>\n",
              "      <td>0</td>\n",
              "      <td>0</td>\n",
              "      <td>0.00</td>\n",
              "      <td>0</td>\n",
              "      <td>0</td>\n",
              "      <td>0.00</td>\n",
              "      <td>0.00</td>\n",
              "      <td>0.00</td>\n",
              "      <td>0.00</td>\n",
              "      <td>0.00</td>\n",
              "      <td>0.00</td>\n",
              "      <td>0.00</td>\n",
              "      <td>0.00</td>\n",
              "      <td>0.00</td>\n",
              "      <td>0.00</td>\n",
              "      <td>0.00</td>\n",
              "      <td>0.00</td>\n",
              "      <td>0.00</td>\n",
              "      <td>0.00</td>\n",
              "      <td>0.00</td>\n",
              "      <td>0.00</td>\n",
              "      <td>0.00</td>\n",
              "      <td>0.00</td>\n",
              "      <td>0.00</td>\n",
              "      <td>-0.35</td>\n",
              "      <td>-0.03</td>\n",
              "      <td>-0.46</td>\n",
              "      <td>-42</td>\n",
              "      <td>68</td>\n",
              "      <td>-169</td>\n",
              "      <td>...</td>\n",
              "      <td>-524</td>\n",
              "      <td>-103</td>\n",
              "      <td>142.00</td>\n",
              "      <td>9.03</td>\n",
              "      <td>83.40</td>\n",
              "      <td>0</td>\n",
              "      <td>0</td>\n",
              "      <td>0</td>\n",
              "      <td>0</td>\n",
              "      <td>0</td>\n",
              "      <td>0</td>\n",
              "      <td>0.00</td>\n",
              "      <td>0.00</td>\n",
              "      <td>0</td>\n",
              "      <td>0.00</td>\n",
              "      <td>0.00</td>\n",
              "      <td>0</td>\n",
              "      <td>0.00</td>\n",
              "      <td>0.00</td>\n",
              "      <td>0</td>\n",
              "      <td>39</td>\n",
              "      <td>0.00</td>\n",
              "      <td>0.00</td>\n",
              "      <td>0.00</td>\n",
              "      <td>0.00</td>\n",
              "      <td>0.00</td>\n",
              "      <td>0.00</td>\n",
              "      <td>0.00</td>\n",
              "      <td>0.00</td>\n",
              "      <td>0.00</td>\n",
              "      <td>0.00</td>\n",
              "      <td>-0.29</td>\n",
              "      <td>2.04</td>\n",
              "      <td>1.08</td>\n",
              "      <td>139</td>\n",
              "      <td>333</td>\n",
              "      <td>-132</td>\n",
              "      <td>-224</td>\n",
              "      <td>791</td>\n",
              "      <td>804</td>\n",
              "    </tr>\n",
              "    <tr>\n",
              "      <th>4021</th>\n",
              "      <td>pedro</td>\n",
              "      <td>1323095020</td>\n",
              "      <td>792551</td>\n",
              "      <td>no</td>\n",
              "      <td>91</td>\n",
              "      <td>122.00</td>\n",
              "      <td>25.60</td>\n",
              "      <td>-3.12</td>\n",
              "      <td>19</td>\n",
              "      <td>0.00</td>\n",
              "      <td>0</td>\n",
              "      <td>0</td>\n",
              "      <td>0.00</td>\n",
              "      <td>0</td>\n",
              "      <td>0</td>\n",
              "      <td>0.00</td>\n",
              "      <td>0.00</td>\n",
              "      <td>0.00</td>\n",
              "      <td>0.00</td>\n",
              "      <td>0.00</td>\n",
              "      <td>0.00</td>\n",
              "      <td>0.00</td>\n",
              "      <td>0.00</td>\n",
              "      <td>0.00</td>\n",
              "      <td>0.00</td>\n",
              "      <td>0.00</td>\n",
              "      <td>0.00</td>\n",
              "      <td>0.00</td>\n",
              "      <td>0.00</td>\n",
              "      <td>0.00</td>\n",
              "      <td>0.00</td>\n",
              "      <td>0.00</td>\n",
              "      <td>0.00</td>\n",
              "      <td>0.00</td>\n",
              "      <td>-0.34</td>\n",
              "      <td>-0.03</td>\n",
              "      <td>-0.43</td>\n",
              "      <td>-40</td>\n",
              "      <td>69</td>\n",
              "      <td>-167</td>\n",
              "      <td>...</td>\n",
              "      <td>-529</td>\n",
              "      <td>-103</td>\n",
              "      <td>143.00</td>\n",
              "      <td>7.72</td>\n",
              "      <td>81.60</td>\n",
              "      <td>0</td>\n",
              "      <td>0</td>\n",
              "      <td>0</td>\n",
              "      <td>0</td>\n",
              "      <td>0</td>\n",
              "      <td>0</td>\n",
              "      <td>0.00</td>\n",
              "      <td>0.00</td>\n",
              "      <td>0</td>\n",
              "      <td>0.00</td>\n",
              "      <td>0.00</td>\n",
              "      <td>0</td>\n",
              "      <td>0.00</td>\n",
              "      <td>0.00</td>\n",
              "      <td>0</td>\n",
              "      <td>40</td>\n",
              "      <td>0.00</td>\n",
              "      <td>0.00</td>\n",
              "      <td>0.00</td>\n",
              "      <td>0.00</td>\n",
              "      <td>0.00</td>\n",
              "      <td>0.00</td>\n",
              "      <td>0.00</td>\n",
              "      <td>0.00</td>\n",
              "      <td>0.00</td>\n",
              "      <td>0.00</td>\n",
              "      <td>-0.18</td>\n",
              "      <td>2.06</td>\n",
              "      <td>1.05</td>\n",
              "      <td>147</td>\n",
              "      <td>335</td>\n",
              "      <td>-139</td>\n",
              "      <td>-184</td>\n",
              "      <td>770</td>\n",
              "      <td>759</td>\n",
              "    </tr>\n",
              "    <tr>\n",
              "      <th>4022</th>\n",
              "      <td>pedro</td>\n",
              "      <td>1323095020</td>\n",
              "      <td>856300</td>\n",
              "      <td>no</td>\n",
              "      <td>91</td>\n",
              "      <td>122.00</td>\n",
              "      <td>25.60</td>\n",
              "      <td>-3.06</td>\n",
              "      <td>19</td>\n",
              "      <td>0.00</td>\n",
              "      <td>0</td>\n",
              "      <td>0</td>\n",
              "      <td>0.00</td>\n",
              "      <td>0</td>\n",
              "      <td>0</td>\n",
              "      <td>0.00</td>\n",
              "      <td>0.00</td>\n",
              "      <td>0.00</td>\n",
              "      <td>0.00</td>\n",
              "      <td>0.00</td>\n",
              "      <td>0.00</td>\n",
              "      <td>0.00</td>\n",
              "      <td>0.00</td>\n",
              "      <td>0.00</td>\n",
              "      <td>0.00</td>\n",
              "      <td>0.00</td>\n",
              "      <td>0.00</td>\n",
              "      <td>0.00</td>\n",
              "      <td>0.00</td>\n",
              "      <td>0.00</td>\n",
              "      <td>0.00</td>\n",
              "      <td>0.00</td>\n",
              "      <td>0.00</td>\n",
              "      <td>0.00</td>\n",
              "      <td>-0.34</td>\n",
              "      <td>-0.03</td>\n",
              "      <td>-0.41</td>\n",
              "      <td>-41</td>\n",
              "      <td>70</td>\n",
              "      <td>-169</td>\n",
              "      <td>...</td>\n",
              "      <td>-534</td>\n",
              "      <td>-103</td>\n",
              "      <td>144.00</td>\n",
              "      <td>6.24</td>\n",
              "      <td>79.70</td>\n",
              "      <td>0</td>\n",
              "      <td>0</td>\n",
              "      <td>0</td>\n",
              "      <td>0</td>\n",
              "      <td>0</td>\n",
              "      <td>0</td>\n",
              "      <td>0.00</td>\n",
              "      <td>0.00</td>\n",
              "      <td>0</td>\n",
              "      <td>0.00</td>\n",
              "      <td>0.00</td>\n",
              "      <td>0</td>\n",
              "      <td>0.00</td>\n",
              "      <td>0.00</td>\n",
              "      <td>0</td>\n",
              "      <td>40</td>\n",
              "      <td>0.00</td>\n",
              "      <td>0.00</td>\n",
              "      <td>0.00</td>\n",
              "      <td>0.00</td>\n",
              "      <td>0.00</td>\n",
              "      <td>0.00</td>\n",
              "      <td>0.00</td>\n",
              "      <td>0.00</td>\n",
              "      <td>0.00</td>\n",
              "      <td>0.00</td>\n",
              "      <td>-0.06</td>\n",
              "      <td>2.09</td>\n",
              "      <td>1.02</td>\n",
              "      <td>149</td>\n",
              "      <td>333</td>\n",
              "      <td>-148</td>\n",
              "      <td>-161</td>\n",
              "      <td>768</td>\n",
              "      <td>750</td>\n",
              "    </tr>\n",
              "    <tr>\n",
              "      <th>4023</th>\n",
              "      <td>pedro</td>\n",
              "      <td>1323095020</td>\n",
              "      <td>880307</td>\n",
              "      <td>yes</td>\n",
              "      <td>91</td>\n",
              "      <td>122.00</td>\n",
              "      <td>25.50</td>\n",
              "      <td>-2.94</td>\n",
              "      <td>19</td>\n",
              "      <td>-0.75</td>\n",
              "      <td>1.216445</td>\n",
              "      <td>0</td>\n",
              "      <td>0.00</td>\n",
              "      <td>1.779168</td>\n",
              "      <td>0</td>\n",
              "      <td>-2.90</td>\n",
              "      <td>20.00</td>\n",
              "      <td>-0.70</td>\n",
              "      <td>-4.10</td>\n",
              "      <td>19.00</td>\n",
              "      <td>-0.70</td>\n",
              "      <td>1.12</td>\n",
              "      <td>1.00</td>\n",
              "      <td>0.00</td>\n",
              "      <td>0.10</td>\n",
              "      <td>122.10</td>\n",
              "      <td>0.20</td>\n",
              "      <td>0.10</td>\n",
              "      <td>25.90</td>\n",
              "      <td>0.10</td>\n",
              "      <td>0.00</td>\n",
              "      <td>-3.50</td>\n",
              "      <td>0.30</td>\n",
              "      <td>0.08</td>\n",
              "      <td>-0.34</td>\n",
              "      <td>-0.05</td>\n",
              "      <td>-0.43</td>\n",
              "      <td>-44</td>\n",
              "      <td>70</td>\n",
              "      <td>-169</td>\n",
              "      <td>...</td>\n",
              "      <td>-534</td>\n",
              "      <td>-95</td>\n",
              "      <td>145.00</td>\n",
              "      <td>5.10</td>\n",
              "      <td>78.20</td>\n",
              "      <td>-1.1277</td>\n",
              "      <td>-1.8029</td>\n",
              "      <td>0</td>\n",
              "      <td>-0.5175</td>\n",
              "      <td>-0.0732</td>\n",
              "      <td>0</td>\n",
              "      <td>56.90</td>\n",
              "      <td>176.00</td>\n",
              "      <td>-1.1</td>\n",
              "      <td>5.10</td>\n",
              "      <td>-177.00</td>\n",
              "      <td>-1.1</td>\n",
              "      <td>51.80</td>\n",
              "      <td>353.00</td>\n",
              "      <td>0.00</td>\n",
              "      <td>38</td>\n",
              "      <td>124.18</td>\n",
              "      <td>71.67</td>\n",
              "      <td>139.87</td>\n",
              "      <td>19562.62</td>\n",
              "      <td>36.34</td>\n",
              "      <td>16.62</td>\n",
              "      <td>276.11</td>\n",
              "      <td>5.30</td>\n",
              "      <td>120.28</td>\n",
              "      <td>14468.07</td>\n",
              "      <td>-0.05</td>\n",
              "      <td>1.91</td>\n",
              "      <td>1.12</td>\n",
              "      <td>135</td>\n",
              "      <td>319</td>\n",
              "      <td>-148</td>\n",
              "      <td>-119</td>\n",
              "      <td>743</td>\n",
              "      <td>716</td>\n",
              "    </tr>\n",
              "  </tbody>\n",
              "</table>\n",
              "<p>4024 rows × 157 columns</p>\n",
              "</div>"
            ],
            "text/plain": [
              "     user_name  raw_timestamp_part_1  ...  magnet_forearm_y magnet_forearm_z\n",
              "0       eurico            1322489729  ...              1400             -876\n",
              "1       eurico            1322489729  ...              1410             -871\n",
              "2       eurico            1322489729  ...              1400             -863\n",
              "3       eurico            1322489729  ...              1400             -855\n",
              "4       eurico            1322489729  ...              1400             -843\n",
              "...        ...                   ...  ...               ...              ...\n",
              "4019     pedro            1323095020  ...               793              829\n",
              "4020     pedro            1323095020  ...               791              804\n",
              "4021     pedro            1323095020  ...               770              759\n",
              "4022     pedro            1323095020  ...               768              750\n",
              "4023     pedro            1323095020  ...               743              716\n",
              "\n",
              "[4024 rows x 157 columns]"
            ]
          },
          "metadata": {
            "tags": []
          },
          "execution_count": 64
        }
      ]
    },
    {
      "cell_type": "markdown",
      "metadata": {
        "id": "t0yWAgtfl_wv"
      },
      "source": [
        "Identificar colunas em formato não numérico"
      ]
    },
    {
      "cell_type": "code",
      "metadata": {
        "colab": {
          "base_uri": "https://localhost:8080/"
        },
        "id": "W2OFoHSJ_tXa",
        "outputId": "a65af6b6-1411-49c2-b362-0d0b4cef4f54"
      },
      "source": [
        "cats = np.array(X.dtypes == \"object\")\n",
        "cats"
      ],
      "execution_count": null,
      "outputs": [
        {
          "output_type": "execute_result",
          "data": {
            "text/plain": [
              "array([ True, False, False,  True, False, False, False, False, False,\n",
              "       False,  True, False, False,  True, False, False, False, False,\n",
              "       False, False, False, False, False, False, False, False, False,\n",
              "       False, False, False, False, False, False, False, False, False,\n",
              "       False, False, False, False, False, False, False, False, False,\n",
              "       False, False, False, False, False, False, False, False, False,\n",
              "       False, False, False, False, False, False, False, False, False,\n",
              "       False, False, False,  True,  True,  True,  True,  True,  True,\n",
              "       False, False, False, False, False, False, False, False, False,\n",
              "       False, False, False, False, False, False, False, False, False,\n",
              "       False, False, False, False, False, False, False, False, False,\n",
              "       False, False, False, False, False, False, False, False, False,\n",
              "       False, False, False, False, False, False, False, False, False,\n",
              "       False, False, False, False, False,  True,  True, False,  True,\n",
              "        True, False, False, False,  True, False, False,  True, False,\n",
              "       False,  True, False, False, False, False, False, False, False,\n",
              "       False, False, False, False, False, False, False, False, False,\n",
              "       False, False, False, False])"
            ]
          },
          "metadata": {
            "tags": []
          },
          "execution_count": 65
        }
      ]
    },
    {
      "cell_type": "code",
      "metadata": {
        "colab": {
          "base_uri": "https://localhost:8080/",
          "height": 439
        },
        "id": "TrVZoCrlAPo5",
        "outputId": "3e1e5bb2-7e96-489d-cb0b-2b22709a0e64"
      },
      "source": [
        "X[X.columns[cats]]"
      ],
      "execution_count": null,
      "outputs": [
        {
          "output_type": "execute_result",
          "data": {
            "text/html": [
              "<div>\n",
              "<style scoped>\n",
              "    .dataframe tbody tr th:only-of-type {\n",
              "        vertical-align: middle;\n",
              "    }\n",
              "\n",
              "    .dataframe tbody tr th {\n",
              "        vertical-align: top;\n",
              "    }\n",
              "\n",
              "    .dataframe thead th {\n",
              "        text-align: right;\n",
              "    }\n",
              "</style>\n",
              "<table border=\"1\" class=\"dataframe\">\n",
              "  <thead>\n",
              "    <tr style=\"text-align: right;\">\n",
              "      <th></th>\n",
              "      <th>user_name</th>\n",
              "      <th>new_window</th>\n",
              "      <th>kurtosis_picth_belt</th>\n",
              "      <th>skewness_roll_belt.1</th>\n",
              "      <th>kurtosis_roll_arm</th>\n",
              "      <th>kurtosis_picth_arm</th>\n",
              "      <th>kurtosis_yaw_arm</th>\n",
              "      <th>skewness_roll_arm</th>\n",
              "      <th>skewness_pitch_arm</th>\n",
              "      <th>skewness_yaw_arm</th>\n",
              "      <th>kurtosis_roll_forearm</th>\n",
              "      <th>kurtosis_picth_forearm</th>\n",
              "      <th>skewness_roll_forearm</th>\n",
              "      <th>skewness_pitch_forearm</th>\n",
              "      <th>max_yaw_forearm</th>\n",
              "      <th>min_yaw_forearm</th>\n",
              "      <th>amplitude_yaw_forearm</th>\n",
              "    </tr>\n",
              "  </thead>\n",
              "  <tbody>\n",
              "    <tr>\n",
              "      <th>0</th>\n",
              "      <td>eurico</td>\n",
              "      <td>no</td>\n",
              "      <td>0</td>\n",
              "      <td>0</td>\n",
              "      <td>0</td>\n",
              "      <td>0</td>\n",
              "      <td>0</td>\n",
              "      <td>0</td>\n",
              "      <td>0</td>\n",
              "      <td>0</td>\n",
              "      <td>0</td>\n",
              "      <td>0</td>\n",
              "      <td>0</td>\n",
              "      <td>0</td>\n",
              "      <td>0</td>\n",
              "      <td>0</td>\n",
              "      <td>0</td>\n",
              "    </tr>\n",
              "    <tr>\n",
              "      <th>1</th>\n",
              "      <td>eurico</td>\n",
              "      <td>no</td>\n",
              "      <td>0</td>\n",
              "      <td>0</td>\n",
              "      <td>0</td>\n",
              "      <td>0</td>\n",
              "      <td>0</td>\n",
              "      <td>0</td>\n",
              "      <td>0</td>\n",
              "      <td>0</td>\n",
              "      <td>0</td>\n",
              "      <td>0</td>\n",
              "      <td>0</td>\n",
              "      <td>0</td>\n",
              "      <td>0</td>\n",
              "      <td>0</td>\n",
              "      <td>0</td>\n",
              "    </tr>\n",
              "    <tr>\n",
              "      <th>2</th>\n",
              "      <td>eurico</td>\n",
              "      <td>no</td>\n",
              "      <td>0</td>\n",
              "      <td>0</td>\n",
              "      <td>0</td>\n",
              "      <td>0</td>\n",
              "      <td>0</td>\n",
              "      <td>0</td>\n",
              "      <td>0</td>\n",
              "      <td>0</td>\n",
              "      <td>0</td>\n",
              "      <td>0</td>\n",
              "      <td>0</td>\n",
              "      <td>0</td>\n",
              "      <td>0</td>\n",
              "      <td>0</td>\n",
              "      <td>0</td>\n",
              "    </tr>\n",
              "    <tr>\n",
              "      <th>3</th>\n",
              "      <td>eurico</td>\n",
              "      <td>no</td>\n",
              "      <td>0</td>\n",
              "      <td>0</td>\n",
              "      <td>0</td>\n",
              "      <td>0</td>\n",
              "      <td>0</td>\n",
              "      <td>0</td>\n",
              "      <td>0</td>\n",
              "      <td>0</td>\n",
              "      <td>0</td>\n",
              "      <td>0</td>\n",
              "      <td>0</td>\n",
              "      <td>0</td>\n",
              "      <td>0</td>\n",
              "      <td>0</td>\n",
              "      <td>0</td>\n",
              "    </tr>\n",
              "    <tr>\n",
              "      <th>4</th>\n",
              "      <td>eurico</td>\n",
              "      <td>no</td>\n",
              "      <td>0</td>\n",
              "      <td>0</td>\n",
              "      <td>0</td>\n",
              "      <td>0</td>\n",
              "      <td>0</td>\n",
              "      <td>0</td>\n",
              "      <td>0</td>\n",
              "      <td>0</td>\n",
              "      <td>0</td>\n",
              "      <td>0</td>\n",
              "      <td>0</td>\n",
              "      <td>0</td>\n",
              "      <td>0</td>\n",
              "      <td>0</td>\n",
              "      <td>0</td>\n",
              "    </tr>\n",
              "    <tr>\n",
              "      <th>...</th>\n",
              "      <td>...</td>\n",
              "      <td>...</td>\n",
              "      <td>...</td>\n",
              "      <td>...</td>\n",
              "      <td>...</td>\n",
              "      <td>...</td>\n",
              "      <td>...</td>\n",
              "      <td>...</td>\n",
              "      <td>...</td>\n",
              "      <td>...</td>\n",
              "      <td>...</td>\n",
              "      <td>...</td>\n",
              "      <td>...</td>\n",
              "      <td>...</td>\n",
              "      <td>...</td>\n",
              "      <td>...</td>\n",
              "      <td>...</td>\n",
              "    </tr>\n",
              "    <tr>\n",
              "      <th>4019</th>\n",
              "      <td>pedro</td>\n",
              "      <td>no</td>\n",
              "      <td>0</td>\n",
              "      <td>0</td>\n",
              "      <td>0</td>\n",
              "      <td>0</td>\n",
              "      <td>0</td>\n",
              "      <td>0</td>\n",
              "      <td>0</td>\n",
              "      <td>0</td>\n",
              "      <td>0</td>\n",
              "      <td>0</td>\n",
              "      <td>0</td>\n",
              "      <td>0</td>\n",
              "      <td>0</td>\n",
              "      <td>0</td>\n",
              "      <td>0</td>\n",
              "    </tr>\n",
              "    <tr>\n",
              "      <th>4020</th>\n",
              "      <td>pedro</td>\n",
              "      <td>no</td>\n",
              "      <td>0</td>\n",
              "      <td>0</td>\n",
              "      <td>0</td>\n",
              "      <td>0</td>\n",
              "      <td>0</td>\n",
              "      <td>0</td>\n",
              "      <td>0</td>\n",
              "      <td>0</td>\n",
              "      <td>0</td>\n",
              "      <td>0</td>\n",
              "      <td>0</td>\n",
              "      <td>0</td>\n",
              "      <td>0</td>\n",
              "      <td>0</td>\n",
              "      <td>0</td>\n",
              "    </tr>\n",
              "    <tr>\n",
              "      <th>4021</th>\n",
              "      <td>pedro</td>\n",
              "      <td>no</td>\n",
              "      <td>0</td>\n",
              "      <td>0</td>\n",
              "      <td>0</td>\n",
              "      <td>0</td>\n",
              "      <td>0</td>\n",
              "      <td>0</td>\n",
              "      <td>0</td>\n",
              "      <td>0</td>\n",
              "      <td>0</td>\n",
              "      <td>0</td>\n",
              "      <td>0</td>\n",
              "      <td>0</td>\n",
              "      <td>0</td>\n",
              "      <td>0</td>\n",
              "      <td>0</td>\n",
              "    </tr>\n",
              "    <tr>\n",
              "      <th>4022</th>\n",
              "      <td>pedro</td>\n",
              "      <td>no</td>\n",
              "      <td>0</td>\n",
              "      <td>0</td>\n",
              "      <td>0</td>\n",
              "      <td>0</td>\n",
              "      <td>0</td>\n",
              "      <td>0</td>\n",
              "      <td>0</td>\n",
              "      <td>0</td>\n",
              "      <td>0</td>\n",
              "      <td>0</td>\n",
              "      <td>0</td>\n",
              "      <td>0</td>\n",
              "      <td>0</td>\n",
              "      <td>0</td>\n",
              "      <td>0</td>\n",
              "    </tr>\n",
              "    <tr>\n",
              "      <th>4023</th>\n",
              "      <td>pedro</td>\n",
              "      <td>yes</td>\n",
              "      <td>1.216445</td>\n",
              "      <td>1.779168</td>\n",
              "      <td>-1.41476</td>\n",
              "      <td>-1.39371</td>\n",
              "      <td>-1.41594</td>\n",
              "      <td>-0.49215</td>\n",
              "      <td>0.14354</td>\n",
              "      <td>-0.08804</td>\n",
              "      <td>-1.1277</td>\n",
              "      <td>-1.8029</td>\n",
              "      <td>-0.5175</td>\n",
              "      <td>-0.0732</td>\n",
              "      <td>-1.1</td>\n",
              "      <td>-1.1</td>\n",
              "      <td>0.00</td>\n",
              "    </tr>\n",
              "  </tbody>\n",
              "</table>\n",
              "<p>4024 rows × 17 columns</p>\n",
              "</div>"
            ],
            "text/plain": [
              "     user_name new_window  ... min_yaw_forearm amplitude_yaw_forearm\n",
              "0       eurico         no  ...               0                     0\n",
              "1       eurico         no  ...               0                     0\n",
              "2       eurico         no  ...               0                     0\n",
              "3       eurico         no  ...               0                     0\n",
              "4       eurico         no  ...               0                     0\n",
              "...        ...        ...  ...             ...                   ...\n",
              "4019     pedro         no  ...               0                     0\n",
              "4020     pedro         no  ...               0                     0\n",
              "4021     pedro         no  ...               0                     0\n",
              "4022     pedro         no  ...               0                     0\n",
              "4023     pedro        yes  ...            -1.1                  0.00\n",
              "\n",
              "[4024 rows x 17 columns]"
            ]
          },
          "metadata": {
            "tags": []
          },
          "execution_count": 66
        }
      ]
    },
    {
      "cell_type": "markdown",
      "metadata": {
        "id": "afJ8n5HDmTFe"
      },
      "source": [
        "Codificar atributos não numéricos (user_name, new_window)"
      ]
    },
    {
      "cell_type": "code",
      "metadata": {
        "id": "4kwd9gRR4RI7"
      },
      "source": [
        "enc = OrdinalEncoder()"
      ],
      "execution_count": null,
      "outputs": []
    },
    {
      "cell_type": "code",
      "metadata": {
        "id": "jVvGwVKQ8-DT"
      },
      "source": [
        "X[['user_name','new_window']] = enc.fit_transform(X[['user_name','new_window']])"
      ],
      "execution_count": null,
      "outputs": []
    },
    {
      "cell_type": "markdown",
      "metadata": {
        "id": "n2sLMXsdmb2W"
      },
      "source": [
        "Eliminar atributos não numéricos com grande quantidade nan e problemáticos que geram erro de tipo"
      ]
    },
    {
      "cell_type": "code",
      "metadata": {
        "id": "D_xbRT1hGkjw"
      },
      "source": [
        "X.drop(X.columns[cats][2:], axis=1, inplace=True)"
      ],
      "execution_count": null,
      "outputs": []
    },
    {
      "cell_type": "code",
      "metadata": {
        "id": "E1BkkxQUbWxH"
      },
      "source": [
        "X.drop('user_name', axis=1, inplace=True)"
      ],
      "execution_count": null,
      "outputs": []
    },
    {
      "cell_type": "code",
      "metadata": {
        "colab": {
          "base_uri": "https://localhost:8080/"
        },
        "id": "6mv0ypKPIOZ5",
        "outputId": "619e9148-b4b2-4d88-a77f-4278197f7678"
      },
      "source": [
        "X.dtypes"
      ],
      "execution_count": null,
      "outputs": [
        {
          "output_type": "execute_result",
          "data": {
            "text/plain": [
              "raw_timestamp_part_1      int64\n",
              "raw_timestamp_part_2      int64\n",
              "new_window              float64\n",
              "num_window                int64\n",
              "roll_belt               float64\n",
              "                         ...   \n",
              "accel_forearm_y           int64\n",
              "accel_forearm_z           int64\n",
              "magnet_forearm_x          int64\n",
              "magnet_forearm_y          int64\n",
              "magnet_forearm_z          int64\n",
              "Length: 141, dtype: object"
            ]
          },
          "metadata": {
            "tags": []
          },
          "execution_count": 71
        }
      ]
    },
    {
      "cell_type": "markdown",
      "metadata": {
        "id": "Vxc2j9juwrM2"
      },
      "source": [
        "Codificar variável dependente"
      ]
    },
    {
      "cell_type": "code",
      "metadata": {
        "id": "PMpDeQ4m5vpz"
      },
      "source": [
        "y = y.replace({'A':1 ,'B':2 ,'C':3 , 'D':4, 'E':5 })"
      ],
      "execution_count": null,
      "outputs": []
    },
    {
      "cell_type": "code",
      "metadata": {
        "id": "3ZFKiN6W4XOq"
      },
      "source": [
        "X_train, X_test, y_train, y_test = train_test_split(X, y,test_size=.33,random_state =123)"
      ],
      "execution_count": null,
      "outputs": []
    },
    {
      "cell_type": "markdown",
      "metadata": {
        "id": "HO9ojLa4Z7dI"
      },
      "source": [
        "# Importância das features"
      ]
    },
    {
      "cell_type": "code",
      "metadata": {
        "id": "fOiFpjMfZ2zs"
      },
      "source": [
        "model = Ridge(alpha=1e-2).fit(X_train, y_train)"
      ],
      "execution_count": null,
      "outputs": []
    },
    {
      "cell_type": "code",
      "metadata": {
        "colab": {
          "base_uri": "https://localhost:8080/"
        },
        "id": "HelAocdvZ6I4",
        "outputId": "d2402eb6-93e2-46be-d280-be4f787dae55"
      },
      "source": [
        "r = permutation_importance(model, X_train, y_train,\n",
        "                           n_repeats=10,\n",
        "                           random_state=0)\n",
        "\n",
        "for i in r.importances_mean.argsort()[::-1]:\n",
        "    if r.importances_mean[i] - 2 * r.importances_std[i] > 0:\n",
        "        print(f\"{X_train.columns[i]:<8} \"\n",
        "              f\"{r.importances_mean[i]:.3f} \"\n",
        "              f\" +/- {r.importances_std[i]:.3f} \")"
      ],
      "execution_count": null,
      "outputs": [
        {
          "output_type": "stream",
          "text": [
            "num_window 0.887  +/- 0.019 \n",
            "magnet_dumbbell_x 0.858  +/- 0.019 \n",
            "raw_timestamp_part_1 0.567  +/- 0.013 \n",
            "pitch_belt 0.281  +/- 0.006 \n",
            "roll_belt 0.276  +/- 0.006 \n",
            "accel_dumbbell_x 0.216  +/- 0.005 \n",
            "avg_roll_belt 0.180  +/- 0.005 \n",
            "var_roll_forearm 0.123  +/- 0.004 \n",
            "stddev_roll_forearm 0.119  +/- 0.003 \n",
            "magnet_arm_z 0.082  +/- 0.001 \n",
            "min_pitch_belt 0.073  +/- 0.001 \n",
            "accel_arm_z 0.064  +/- 0.002 \n",
            "magnet_dumbbell_y 0.060  +/- 0.001 \n",
            "magnet_belt_x 0.059  +/- 0.002 \n",
            "accel_belt_z 0.054  +/- 0.001 \n",
            "stddev_pitch_dumbbell 0.050  +/- 0.001 \n",
            "accel_dumbbell_z 0.049  +/- 0.001 \n",
            "pitch_forearm 0.045  +/- 0.001 \n",
            "max_picth_belt 0.041  +/- 0.001 \n",
            "avg_pitch_forearm 0.035  +/- 0.001 \n",
            "avg_yaw_belt 0.033  +/- 0.001 \n",
            "stddev_yaw_forearm 0.030  +/- 0.001 \n",
            "stddev_pitch_forearm 0.030  +/- 0.001 \n",
            "magnet_forearm_x 0.025  +/- 0.001 \n",
            "accel_dumbbell_y 0.025  +/- 0.001 \n",
            "stddev_yaw_arm 0.024  +/- 0.000 \n",
            "max_roll_belt 0.022  +/- 0.000 \n",
            "magnet_arm_y 0.017  +/- 0.000 \n",
            "roll_dumbbell 0.017  +/- 0.000 \n",
            "min_roll_dumbbell 0.014  +/- 0.000 \n",
            "max_yaw_arm 0.013  +/- 0.001 \n",
            "total_accel_dumbbell 0.013  +/- 0.001 \n",
            "amplitude_roll_forearm 0.012  +/- 0.001 \n",
            "stddev_roll_dumbbell 0.012  +/- 0.000 \n",
            "pitch_arm 0.011  +/- 0.001 \n",
            "pitch_dumbbell 0.011  +/- 0.001 \n",
            "yaw_forearm 0.010  +/- 0.000 \n",
            "amplitude_roll_belt 0.009  +/- 0.000 \n",
            "min_roll_forearm 0.009  +/- 0.000 \n",
            "var_roll_belt 0.009  +/- 0.000 \n",
            "var_accel_arm 0.008  +/- 0.000 \n",
            "var_pitch_dumbbell 0.008  +/- 0.000 \n",
            "amplitude_yaw_arm 0.007  +/- 0.000 \n",
            "var_yaw_forearm 0.007  +/- 0.000 \n",
            "var_yaw_arm 0.006  +/- 0.000 \n",
            "magnet_dumbbell_z 0.006  +/- 0.000 \n",
            "avg_yaw_forearm 0.005  +/- 0.000 \n",
            "max_roll_forearm 0.005  +/- 0.000 \n",
            "stddev_pitch_arm 0.004  +/- 0.000 \n",
            "min_roll_arm 0.004  +/- 0.000 \n",
            "avg_pitch_arm 0.003  +/- 0.000 \n",
            "max_picth_forearm 0.003  +/- 0.000 \n",
            "amplitude_roll_dumbbell 0.003  +/- 0.000 \n",
            "accel_forearm_y 0.003  +/- 0.000 \n",
            "accel_forearm_x 0.003  +/- 0.000 \n",
            "stddev_roll_belt 0.002  +/- 0.000 \n",
            "var_yaw_belt 0.002  +/- 0.000 \n",
            "total_accel_belt 0.002  +/- 0.000 \n",
            "avg_yaw_dumbbell 0.002  +/- 0.000 \n",
            "max_picth_dumbbell 0.002  +/- 0.000 \n",
            "amplitude_pitch_forearm 0.002  +/- 0.000 \n",
            "magnet_forearm_y 0.002  +/- 0.000 \n",
            "var_pitch_belt 0.002  +/- 0.000 \n",
            "total_accel_arm 0.002  +/- 0.000 \n",
            "yaw_arm  0.002  +/- 0.000 \n",
            "stddev_yaw_dumbbell 0.001  +/- 0.000 \n",
            "gyros_belt_z 0.001  +/- 0.000 \n",
            "avg_pitch_dumbbell 0.001  +/- 0.000 \n",
            "magnet_belt_y 0.001  +/- 0.000 \n",
            "amplitude_pitch_arm 0.001  +/- 0.000 \n",
            "max_roll_arm 0.001  +/- 0.000 \n",
            "roll_arm 0.001  +/- 0.000 \n",
            "accel_belt_x 0.001  +/- 0.000 \n",
            "min_roll_belt 0.001  +/- 0.000 \n",
            "stddev_yaw_belt 0.001  +/- 0.000 \n",
            "gyros_belt_y 0.001  +/- 0.000 \n",
            "amplitude_roll_arm 0.001  +/- 0.000 \n",
            "amplitude_pitch_belt 0.001  +/- 0.000 \n",
            "yaw_dumbbell 0.001  +/- 0.000 \n",
            "gyros_arm_y 0.001  +/- 0.000 \n",
            "min_pitch_forearm 0.001  +/- 0.000 \n",
            "gyros_forearm_z 0.001  +/- 0.000 \n",
            "var_pitch_forearm 0.001  +/- 0.000 \n",
            "avg_pitch_belt 0.001  +/- 0.000 \n",
            "avg_yaw_arm 0.001  +/- 0.000 \n",
            "amplitude_pitch_dumbbell 0.001  +/- 0.000 \n",
            "stddev_roll_arm 0.001  +/- 0.000 \n",
            "var_yaw_dumbbell 0.000  +/- 0.000 \n",
            "max_roll_dumbbell 0.000  +/- 0.000 \n",
            "gyros_belt_x 0.000  +/- 0.000 \n",
            "accel_arm_y 0.000  +/- 0.000 \n",
            "var_accel_dumbbell 0.000  +/- 0.000 \n",
            "magnet_belt_z 0.000  +/- 0.000 \n",
            "accel_arm_x 0.000  +/- 0.000 \n",
            "var_total_accel_belt 0.000  +/- 0.000 \n",
            "raw_timestamp_part_2 0.000  +/- 0.000 \n",
            "gyros_arm_z 0.000  +/- 0.000 \n",
            "var_accel_forearm 0.000  +/- 0.000 \n",
            "min_pitch_dumbbell 0.000  +/- 0.000 \n",
            "gyros_dumbbell_y 0.000  +/- 0.000 \n",
            "accel_forearm_z 0.000  +/- 0.000 \n",
            "roll_forearm 0.000  +/- 0.000 \n",
            "avg_roll_dumbbell 0.000  +/- 0.000 \n",
            "kurtosis_picth_dumbbell 0.000  +/- 0.000 \n",
            "gyros_dumbbell_z 0.000  +/- 0.000 \n",
            "magnet_forearm_z 0.000  +/- 0.000 \n",
            "avg_roll_forearm 0.000  +/- 0.000 \n",
            "var_roll_dumbbell 0.000  +/- 0.000 \n",
            "skewness_roll_dumbbell 0.000  +/- 0.000 \n",
            "magnet_arm_x 0.000  +/- 0.000 \n"
          ],
          "name": "stdout"
        }
      ]
    },
    {
      "cell_type": "markdown",
      "metadata": {
        "id": "opEDAd0pi1_W"
      },
      "source": [
        "# Treinamento sem balanceamento e redução de dimensionalidade"
      ]
    },
    {
      "cell_type": "code",
      "metadata": {
        "colab": {
          "base_uri": "https://localhost:8080/"
        },
        "id": "DXtQL7V1GXco",
        "outputId": "017623ac-ac60-485f-aa75-c515fbf1ec9a"
      },
      "source": [
        "clf = LazyClassifier(verbose=1,ignore_warnings=False, custom_metric=None, predictions=True)\n",
        "models, predictions = clf.fit(X_train, X_test, y_train, y_test)"
      ],
      "execution_count": null,
      "outputs": [
        {
          "output_type": "stream",
          "text": [
            "  3%|▎         | 1/29 [00:00<00:26,  1.06it/s]"
          ],
          "name": "stderr"
        },
        {
          "output_type": "stream",
          "text": [
            "ROC AUC couldn't be calculated for AdaBoostClassifier\n",
            "multi_class must be in ('ovo', 'ovr')\n",
            "{'Model': 'AdaBoostClassifier', 'Accuracy': 0.9231927710843374, 'Balanced Accuracy': 0.7995475113122172, 'ROC AUC': None, 'F1 Score': 0.8891787287510327, 'Time taken': 0.9429948329925537}\n"
          ],
          "name": "stdout"
        },
        {
          "output_type": "stream",
          "text": [
            "\r  7%|▋         | 2/29 [00:01<00:17,  1.53it/s]"
          ],
          "name": "stderr"
        },
        {
          "output_type": "stream",
          "text": [
            "ROC AUC couldn't be calculated for BaggingClassifier\n",
            "multi_class must be in ('ovo', 'ovr')\n",
            "{'Model': 'BaggingClassifier', 'Accuracy': 0.9969879518072289, 'Balanced Accuracy': 0.9981693363844393, 'ROC AUC': None, 'F1 Score': 0.9970102707448475, 'Time taken': 0.4520080089569092}\n",
            "ROC AUC couldn't be calculated for BernoulliNB\n",
            "multi_class must be in ('ovo', 'ovr')\n",
            "{'Model': 'BernoulliNB', 'Accuracy': 0.6649096385542169, 'Balanced Accuracy': 0.6549957164977442, 'ROC AUC': None, 'F1 Score': 0.6313531398010005, 'Time taken': 0.05714106559753418}\n"
          ],
          "name": "stdout"
        },
        {
          "output_type": "stream",
          "text": [
            " 21%|██        | 6/29 [00:03<00:11,  1.97it/s]"
          ],
          "name": "stderr"
        },
        {
          "output_type": "stream",
          "text": [
            "ROC AUC couldn't be calculated for CalibratedClassifierCV\n",
            "multi_class must be in ('ovo', 'ovr')\n",
            "{'Model': 'CalibratedClassifierCV', 'Accuracy': 0.9969879518072289, 'Balanced Accuracy': 0.9977911441096257, 'ROC AUC': None, 'F1 Score': 0.9969930663851598, 'Time taken': 1.9972684383392334}\n",
            "CategoricalNB model failed to execute\n",
            "Negative values in data passed to CategoricalNB (input X)\n",
            "ROC AUC couldn't be calculated for DecisionTreeClassifier\n",
            "multi_class must be in ('ovo', 'ovr')\n",
            "{'Model': 'DecisionTreeClassifier', 'Accuracy': 0.990210843373494, 'Balanced Accuracy': 0.9849203277700644, 'ROC AUC': None, 'F1 Score': 0.9901958323699918, 'Time taken': 0.11968302726745605}\n",
            "ROC AUC couldn't be calculated for DummyClassifier\n",
            "multi_class must be in ('ovo', 'ovr')\n",
            "{'Model': 'DummyClassifier', 'Accuracy': 0.28012048192771083, 'Balanced Accuracy': 0.187294272280525, 'ROC AUC': None, 'F1 Score': 0.2762093909851362, 'Time taken': 0.04647493362426758}\n",
            "ROC AUC couldn't be calculated for ExtraTreeClassifier\n",
            "multi_class must be in ('ovo', 'ovr')\n",
            "{'Model': 'ExtraTreeClassifier', 'Accuracy': 0.9917168674698795, 'Balanced Accuracy': 0.9788628941417719, 'ROC AUC': None, 'F1 Score': 0.991689593811964, 'Time taken': 0.04114174842834473}\n"
          ],
          "name": "stdout"
        },
        {
          "output_type": "stream",
          "text": [
            "\r 31%|███       | 9/29 [00:04<00:06,  3.02it/s]"
          ],
          "name": "stderr"
        },
        {
          "output_type": "stream",
          "text": [
            "ROC AUC couldn't be calculated for ExtraTreesClassifier\n",
            "multi_class must be in ('ovo', 'ovr')\n",
            "{'Model': 'ExtraTreesClassifier', 'Accuracy': 0.9977409638554217, 'Balanced Accuracy': 0.9984353175428691, 'ROC AUC': None, 'F1 Score': 0.9977464324602472, 'Time taken': 0.3809657096862793}\n",
            "ROC AUC couldn't be calculated for GaussianNB\n",
            "multi_class must be in ('ovo', 'ovr')\n",
            "{'Model': 'GaussianNB', 'Accuracy': 0.7906626506024096, 'Balanced Accuracy': 0.8590682300684114, 'ROC AUC': None, 'F1 Score': 0.7917978913803647, 'Time taken': 0.05866360664367676}\n"
          ],
          "name": "stdout"
        },
        {
          "output_type": "stream",
          "text": [
            "\r 38%|███▊      | 11/29 [00:05<00:07,  2.50it/s]"
          ],
          "name": "stderr"
        },
        {
          "output_type": "stream",
          "text": [
            "ROC AUC couldn't be calculated for KNeighborsClassifier\n",
            "multi_class must be in ('ovo', 'ovr')\n",
            "{'Model': 'KNeighborsClassifier', 'Accuracy': 0.9864457831325302, 'Balanced Accuracy': 0.9656477956072201, 'ROC AUC': None, 'F1 Score': 0.9863858807196058, 'Time taken': 1.0312340259552002}\n"
          ],
          "name": "stdout"
        },
        {
          "output_type": "stream",
          "text": [
            "\r 41%|████▏     | 12/29 [00:05<00:07,  2.38it/s]"
          ],
          "name": "stderr"
        },
        {
          "output_type": "stream",
          "text": [
            "ROC AUC couldn't be calculated for LabelPropagation\n",
            "multi_class must be in ('ovo', 'ovr')\n",
            "{'Model': 'LabelPropagation', 'Accuracy': 0.9811746987951807, 'Balanced Accuracy': 0.9779201212113241, 'ROC AUC': None, 'F1 Score': 0.9812596634667127, 'Time taken': 0.5047130584716797}\n"
          ],
          "name": "stdout"
        },
        {
          "output_type": "stream",
          "text": [
            " 48%|████▊     | 14/29 [00:06<00:06,  2.48it/s]"
          ],
          "name": "stderr"
        },
        {
          "output_type": "stream",
          "text": [
            "ROC AUC couldn't be calculated for LabelSpreading\n",
            "multi_class must be in ('ovo', 'ovr')\n",
            "{'Model': 'LabelSpreading', 'Accuracy': 0.9811746987951807, 'Balanced Accuracy': 0.9779201212113241, 'ROC AUC': None, 'F1 Score': 0.9812596634667127, 'Time taken': 0.6627233028411865}\n",
            "ROC AUC couldn't be calculated for LinearDiscriminantAnalysis\n",
            "multi_class must be in ('ovo', 'ovr')\n",
            "{'Model': 'LinearDiscriminantAnalysis', 'Accuracy': 0.9796686746987951, 'Balanced Accuracy': 0.985772768085327, 'ROC AUC': None, 'F1 Score': 0.9801732910261254, 'Time taken': 0.17079567909240723}\n"
          ],
          "name": "stdout"
        },
        {
          "output_type": "stream",
          "text": [
            "\r 52%|█████▏    | 15/29 [00:06<00:05,  2.44it/s]"
          ],
          "name": "stderr"
        },
        {
          "output_type": "stream",
          "text": [
            "ROC AUC couldn't be calculated for LinearSVC\n",
            "multi_class must be in ('ovo', 'ovr')\n",
            "{'Model': 'LinearSVC', 'Accuracy': 0.9939759036144579, 'Balanced Accuracy': 0.9959760121423871, 'ROC AUC': None, 'F1 Score': 0.9939916064202154, 'Time taken': 0.43220067024230957}\n"
          ],
          "name": "stdout"
        },
        {
          "output_type": "stream",
          "text": [
            "\r 55%|█████▌    | 16/29 [00:07<00:05,  2.45it/s]"
          ],
          "name": "stderr"
        },
        {
          "output_type": "stream",
          "text": [
            "ROC AUC couldn't be calculated for LogisticRegression\n",
            "multi_class must be in ('ovo', 'ovr')\n",
            "{'Model': 'LogisticRegression', 'Accuracy': 0.9947289156626506, 'Balanced Accuracy': 0.9960399541231416, 'ROC AUC': None, 'F1 Score': 0.9947297560450253, 'Time taken': 0.4011087417602539}\n",
            "ROC AUC couldn't be calculated for NearestCentroid\n",
            "multi_class must be in ('ovo', 'ovr')\n",
            "{'Model': 'NearestCentroid', 'Accuracy': 0.6257530120481928, 'Balanced Accuracy': 0.6749297184225929, 'ROC AUC': None, 'F1 Score': 0.6569036135320264, 'Time taken': 0.057089805603027344}\n",
            "NuSVC model failed to execute\n",
            "specified nu is infeasible\n"
          ],
          "name": "stdout"
        },
        {
          "output_type": "stream",
          "text": [
            " 69%|██████▉   | 20/29 [00:07<00:01,  4.51it/s]"
          ],
          "name": "stderr"
        },
        {
          "output_type": "stream",
          "text": [
            "ROC AUC couldn't be calculated for PassiveAggressiveClassifier\n",
            "multi_class must be in ('ovo', 'ovr')\n",
            "{'Model': 'PassiveAggressiveClassifier', 'Accuracy': 0.9947289156626506, 'Balanced Accuracy': 0.9964285008301699, 'ROC AUC': None, 'F1 Score': 0.9947433541852376, 'Time taken': 0.19235754013061523}\n",
            "ROC AUC couldn't be calculated for Perceptron\n",
            "multi_class must be in ('ovo', 'ovr')\n",
            "{'Model': 'Perceptron', 'Accuracy': 0.9909638554216867, 'Balanced Accuracy': 0.9846773108436858, 'ROC AUC': None, 'F1 Score': 0.9909719691820758, 'Time taken': 0.13018369674682617}\n"
          ],
          "name": "stdout"
        },
        {
          "output_type": "stream",
          "text": [
            "\r 72%|███████▏  | 21/29 [00:07<00:01,  4.96it/s]"
          ],
          "name": "stderr"
        },
        {
          "output_type": "stream",
          "text": [
            "ROC AUC couldn't be calculated for QuadraticDiscriminantAnalysis\n",
            "multi_class must be in ('ovo', 'ovr')\n",
            "{'Model': 'QuadraticDiscriminantAnalysis', 'Accuracy': 0.8328313253012049, 'Balanced Accuracy': 0.7163888526414232, 'ROC AUC': None, 'F1 Score': 0.8300374708662369, 'Time taken': 0.126908540725708}\n"
          ],
          "name": "stdout"
        },
        {
          "output_type": "stream",
          "text": [
            "\r 76%|███████▌  | 22/29 [00:08<00:02,  3.04it/s]"
          ],
          "name": "stderr"
        },
        {
          "output_type": "stream",
          "text": [
            "ROC AUC couldn't be calculated for RandomForestClassifier\n",
            "multi_class must be in ('ovo', 'ovr')\n",
            "{'Model': 'RandomForestClassifier', 'Accuracy': 0.9969879518072289, 'Balanced Accuracy': 0.9981693363844393, 'ROC AUC': None, 'F1 Score': 0.9970102707448475, 'Time taken': 0.7222874164581299}\n",
            "ROC AUC couldn't be calculated for RidgeClassifier\n",
            "multi_class must be in ('ovo', 'ovr')\n",
            "{'Model': 'RidgeClassifier', 'Accuracy': 0.9615963855421686, 'Balanced Accuracy': 0.829998795120615, 'ROC AUC': None, 'F1 Score': 0.9546785861338943, 'Time taken': 0.0646054744720459}\n"
          ],
          "name": "stdout"
        },
        {
          "output_type": "stream",
          "text": [
            " 86%|████████▌ | 25/29 [00:09<00:00,  4.60it/s]"
          ],
          "name": "stderr"
        },
        {
          "output_type": "stream",
          "text": [
            "ROC AUC couldn't be calculated for RidgeClassifierCV\n",
            "multi_class must be in ('ovo', 'ovr')\n",
            "{'Model': 'RidgeClassifierCV', 'Accuracy': 0.9578313253012049, 'Balanced Accuracy': 0.7989391061247006, 'ROC AUC': None, 'F1 Score': 0.946376950874705, 'Time taken': 0.14203977584838867}\n",
            "ROC AUC couldn't be calculated for SGDClassifier\n",
            "multi_class must be in ('ovo', 'ovr')\n",
            "{'Model': 'SGDClassifier', 'Accuracy': 0.9856927710843374, 'Balanced Accuracy': 0.9477610548046383, 'ROC AUC': None, 'F1 Score': 0.9853283384683941, 'Time taken': 0.14905619621276855}\n"
          ],
          "name": "stdout"
        },
        {
          "output_type": "stream",
          "text": [
            "\r 90%|████████▉ | 26/29 [00:09<00:01,  2.79it/s]"
          ],
          "name": "stderr"
        },
        {
          "output_type": "stream",
          "text": [
            "ROC AUC couldn't be calculated for SVC\n",
            "multi_class must be in ('ovo', 'ovr')\n",
            "{'Model': 'SVC', 'Accuracy': 0.9555722891566265, 'Balanced Accuracy': 0.842968772923053, 'ROC AUC': None, 'F1 Score': 0.9508402849972327, 'Time taken': 0.7940108776092529}\n",
            "StackingClassifier model failed to execute\n",
            "__init__() missing 1 required positional argument: 'estimators'\n"
          ],
          "name": "stdout"
        },
        {
          "output_type": "stream",
          "text": [
            "\r 97%|█████████▋| 28/29 [00:12<00:00,  1.30it/s]"
          ],
          "name": "stderr"
        },
        {
          "output_type": "stream",
          "text": [
            "ROC AUC couldn't be calculated for XGBClassifier\n",
            "multi_class must be in ('ovo', 'ovr')\n",
            "{'Model': 'XGBClassifier', 'Accuracy': 0.9969879518072289, 'Balanced Accuracy': 0.9981693363844393, 'ROC AUC': None, 'F1 Score': 0.9970102707448475, 'Time taken': 2.703969955444336}\n"
          ],
          "name": "stdout"
        },
        {
          "output_type": "stream",
          "text": [
            "100%|██████████| 29/29 [00:16<00:00,  1.75it/s]"
          ],
          "name": "stderr"
        },
        {
          "output_type": "stream",
          "text": [
            "ROC AUC couldn't be calculated for LGBMClassifier\n",
            "multi_class must be in ('ovo', 'ovr')\n",
            "{'Model': 'LGBMClassifier', 'Accuracy': 0.9969879518072289, 'Balanced Accuracy': 0.9981693363844393, 'ROC AUC': None, 'F1 Score': 0.9970102707448475, 'Time taken': 4.026094675064087}\n"
          ],
          "name": "stdout"
        },
        {
          "output_type": "stream",
          "text": [
            "\n"
          ],
          "name": "stderr"
        }
      ]
    },
    {
      "cell_type": "code",
      "metadata": {
        "colab": {
          "base_uri": "https://localhost:8080/",
          "height": 886
        },
        "id": "ULev1B0SGR14",
        "outputId": "b31ad77f-356e-4c09-fd62-796473f5c4f5"
      },
      "source": [
        "models"
      ],
      "execution_count": null,
      "outputs": [
        {
          "output_type": "execute_result",
          "data": {
            "text/html": [
              "<div>\n",
              "<style scoped>\n",
              "    .dataframe tbody tr th:only-of-type {\n",
              "        vertical-align: middle;\n",
              "    }\n",
              "\n",
              "    .dataframe tbody tr th {\n",
              "        vertical-align: top;\n",
              "    }\n",
              "\n",
              "    .dataframe thead th {\n",
              "        text-align: right;\n",
              "    }\n",
              "</style>\n",
              "<table border=\"1\" class=\"dataframe\">\n",
              "  <thead>\n",
              "    <tr style=\"text-align: right;\">\n",
              "      <th></th>\n",
              "      <th>Accuracy</th>\n",
              "      <th>Balanced Accuracy</th>\n",
              "      <th>ROC AUC</th>\n",
              "      <th>F1 Score</th>\n",
              "      <th>Time Taken</th>\n",
              "    </tr>\n",
              "    <tr>\n",
              "      <th>Model</th>\n",
              "      <th></th>\n",
              "      <th></th>\n",
              "      <th></th>\n",
              "      <th></th>\n",
              "      <th></th>\n",
              "    </tr>\n",
              "  </thead>\n",
              "  <tbody>\n",
              "    <tr>\n",
              "      <th>ExtraTreesClassifier</th>\n",
              "      <td>1.00</td>\n",
              "      <td>1.00</td>\n",
              "      <td>None</td>\n",
              "      <td>1.00</td>\n",
              "      <td>0.38</td>\n",
              "    </tr>\n",
              "    <tr>\n",
              "      <th>LGBMClassifier</th>\n",
              "      <td>1.00</td>\n",
              "      <td>1.00</td>\n",
              "      <td>None</td>\n",
              "      <td>1.00</td>\n",
              "      <td>4.03</td>\n",
              "    </tr>\n",
              "    <tr>\n",
              "      <th>BaggingClassifier</th>\n",
              "      <td>1.00</td>\n",
              "      <td>1.00</td>\n",
              "      <td>None</td>\n",
              "      <td>1.00</td>\n",
              "      <td>0.45</td>\n",
              "    </tr>\n",
              "    <tr>\n",
              "      <th>XGBClassifier</th>\n",
              "      <td>1.00</td>\n",
              "      <td>1.00</td>\n",
              "      <td>None</td>\n",
              "      <td>1.00</td>\n",
              "      <td>2.70</td>\n",
              "    </tr>\n",
              "    <tr>\n",
              "      <th>RandomForestClassifier</th>\n",
              "      <td>1.00</td>\n",
              "      <td>1.00</td>\n",
              "      <td>None</td>\n",
              "      <td>1.00</td>\n",
              "      <td>0.72</td>\n",
              "    </tr>\n",
              "    <tr>\n",
              "      <th>CalibratedClassifierCV</th>\n",
              "      <td>1.00</td>\n",
              "      <td>1.00</td>\n",
              "      <td>None</td>\n",
              "      <td>1.00</td>\n",
              "      <td>2.00</td>\n",
              "    </tr>\n",
              "    <tr>\n",
              "      <th>PassiveAggressiveClassifier</th>\n",
              "      <td>0.99</td>\n",
              "      <td>1.00</td>\n",
              "      <td>None</td>\n",
              "      <td>0.99</td>\n",
              "      <td>0.19</td>\n",
              "    </tr>\n",
              "    <tr>\n",
              "      <th>LogisticRegression</th>\n",
              "      <td>0.99</td>\n",
              "      <td>1.00</td>\n",
              "      <td>None</td>\n",
              "      <td>0.99</td>\n",
              "      <td>0.40</td>\n",
              "    </tr>\n",
              "    <tr>\n",
              "      <th>LinearSVC</th>\n",
              "      <td>0.99</td>\n",
              "      <td>1.00</td>\n",
              "      <td>None</td>\n",
              "      <td>0.99</td>\n",
              "      <td>0.43</td>\n",
              "    </tr>\n",
              "    <tr>\n",
              "      <th>LinearDiscriminantAnalysis</th>\n",
              "      <td>0.98</td>\n",
              "      <td>0.99</td>\n",
              "      <td>None</td>\n",
              "      <td>0.98</td>\n",
              "      <td>0.17</td>\n",
              "    </tr>\n",
              "    <tr>\n",
              "      <th>DecisionTreeClassifier</th>\n",
              "      <td>0.99</td>\n",
              "      <td>0.98</td>\n",
              "      <td>None</td>\n",
              "      <td>0.99</td>\n",
              "      <td>0.12</td>\n",
              "    </tr>\n",
              "    <tr>\n",
              "      <th>Perceptron</th>\n",
              "      <td>0.99</td>\n",
              "      <td>0.98</td>\n",
              "      <td>None</td>\n",
              "      <td>0.99</td>\n",
              "      <td>0.13</td>\n",
              "    </tr>\n",
              "    <tr>\n",
              "      <th>ExtraTreeClassifier</th>\n",
              "      <td>0.99</td>\n",
              "      <td>0.98</td>\n",
              "      <td>None</td>\n",
              "      <td>0.99</td>\n",
              "      <td>0.04</td>\n",
              "    </tr>\n",
              "    <tr>\n",
              "      <th>LabelPropagation</th>\n",
              "      <td>0.98</td>\n",
              "      <td>0.98</td>\n",
              "      <td>None</td>\n",
              "      <td>0.98</td>\n",
              "      <td>0.50</td>\n",
              "    </tr>\n",
              "    <tr>\n",
              "      <th>LabelSpreading</th>\n",
              "      <td>0.98</td>\n",
              "      <td>0.98</td>\n",
              "      <td>None</td>\n",
              "      <td>0.98</td>\n",
              "      <td>0.66</td>\n",
              "    </tr>\n",
              "    <tr>\n",
              "      <th>KNeighborsClassifier</th>\n",
              "      <td>0.99</td>\n",
              "      <td>0.97</td>\n",
              "      <td>None</td>\n",
              "      <td>0.99</td>\n",
              "      <td>1.03</td>\n",
              "    </tr>\n",
              "    <tr>\n",
              "      <th>SGDClassifier</th>\n",
              "      <td>0.99</td>\n",
              "      <td>0.95</td>\n",
              "      <td>None</td>\n",
              "      <td>0.99</td>\n",
              "      <td>0.15</td>\n",
              "    </tr>\n",
              "    <tr>\n",
              "      <th>GaussianNB</th>\n",
              "      <td>0.79</td>\n",
              "      <td>0.86</td>\n",
              "      <td>None</td>\n",
              "      <td>0.79</td>\n",
              "      <td>0.06</td>\n",
              "    </tr>\n",
              "    <tr>\n",
              "      <th>SVC</th>\n",
              "      <td>0.96</td>\n",
              "      <td>0.84</td>\n",
              "      <td>None</td>\n",
              "      <td>0.95</td>\n",
              "      <td>0.79</td>\n",
              "    </tr>\n",
              "    <tr>\n",
              "      <th>RidgeClassifier</th>\n",
              "      <td>0.96</td>\n",
              "      <td>0.83</td>\n",
              "      <td>None</td>\n",
              "      <td>0.95</td>\n",
              "      <td>0.06</td>\n",
              "    </tr>\n",
              "    <tr>\n",
              "      <th>AdaBoostClassifier</th>\n",
              "      <td>0.92</td>\n",
              "      <td>0.80</td>\n",
              "      <td>None</td>\n",
              "      <td>0.89</td>\n",
              "      <td>0.94</td>\n",
              "    </tr>\n",
              "    <tr>\n",
              "      <th>RidgeClassifierCV</th>\n",
              "      <td>0.96</td>\n",
              "      <td>0.80</td>\n",
              "      <td>None</td>\n",
              "      <td>0.95</td>\n",
              "      <td>0.14</td>\n",
              "    </tr>\n",
              "    <tr>\n",
              "      <th>QuadraticDiscriminantAnalysis</th>\n",
              "      <td>0.83</td>\n",
              "      <td>0.72</td>\n",
              "      <td>None</td>\n",
              "      <td>0.83</td>\n",
              "      <td>0.13</td>\n",
              "    </tr>\n",
              "    <tr>\n",
              "      <th>NearestCentroid</th>\n",
              "      <td>0.63</td>\n",
              "      <td>0.67</td>\n",
              "      <td>None</td>\n",
              "      <td>0.66</td>\n",
              "      <td>0.06</td>\n",
              "    </tr>\n",
              "    <tr>\n",
              "      <th>BernoulliNB</th>\n",
              "      <td>0.66</td>\n",
              "      <td>0.65</td>\n",
              "      <td>None</td>\n",
              "      <td>0.63</td>\n",
              "      <td>0.06</td>\n",
              "    </tr>\n",
              "    <tr>\n",
              "      <th>DummyClassifier</th>\n",
              "      <td>0.28</td>\n",
              "      <td>0.19</td>\n",
              "      <td>None</td>\n",
              "      <td>0.28</td>\n",
              "      <td>0.05</td>\n",
              "    </tr>\n",
              "  </tbody>\n",
              "</table>\n",
              "</div>"
            ],
            "text/plain": [
              "                               Accuracy  ...  Time Taken\n",
              "Model                                    ...            \n",
              "ExtraTreesClassifier               1.00  ...        0.38\n",
              "LGBMClassifier                     1.00  ...        4.03\n",
              "BaggingClassifier                  1.00  ...        0.45\n",
              "XGBClassifier                      1.00  ...        2.70\n",
              "RandomForestClassifier             1.00  ...        0.72\n",
              "CalibratedClassifierCV             1.00  ...        2.00\n",
              "PassiveAggressiveClassifier        0.99  ...        0.19\n",
              "LogisticRegression                 0.99  ...        0.40\n",
              "LinearSVC                          0.99  ...        0.43\n",
              "LinearDiscriminantAnalysis         0.98  ...        0.17\n",
              "DecisionTreeClassifier             0.99  ...        0.12\n",
              "Perceptron                         0.99  ...        0.13\n",
              "ExtraTreeClassifier                0.99  ...        0.04\n",
              "LabelPropagation                   0.98  ...        0.50\n",
              "LabelSpreading                     0.98  ...        0.66\n",
              "KNeighborsClassifier               0.99  ...        1.03\n",
              "SGDClassifier                      0.99  ...        0.15\n",
              "GaussianNB                         0.79  ...        0.06\n",
              "SVC                                0.96  ...        0.79\n",
              "RidgeClassifier                    0.96  ...        0.06\n",
              "AdaBoostClassifier                 0.92  ...        0.94\n",
              "RidgeClassifierCV                  0.96  ...        0.14\n",
              "QuadraticDiscriminantAnalysis      0.83  ...        0.13\n",
              "NearestCentroid                    0.63  ...        0.06\n",
              "BernoulliNB                        0.66  ...        0.06\n",
              "DummyClassifier                    0.28  ...        0.05\n",
              "\n",
              "[26 rows x 5 columns]"
            ]
          },
          "metadata": {
            "tags": []
          },
          "execution_count": 77
        }
      ]
    },
    {
      "cell_type": "markdown",
      "metadata": {
        "id": "ZeywRG1OIOMx"
      },
      "source": [
        "### resultado"
      ]
    },
    {
      "cell_type": "code",
      "metadata": {
        "colab": {
          "base_uri": "https://localhost:8080/"
        },
        "id": "BHbmVpJa0GXq",
        "outputId": "f6410d36-d9dd-4713-ac29-7ed7a8772717"
      },
      "source": [
        "models.mean()"
      ],
      "execution_count": null,
      "outputs": [
        {
          "output_type": "execute_result",
          "data": {
            "text/plain": [
              "Accuracy            0.92\n",
              "Balanced Accuracy   0.89\n",
              "ROC AUC              NaN\n",
              "F1 Score            0.91\n",
              "Time Taken          0.63\n",
              "dtype: float64"
            ]
          },
          "metadata": {
            "tags": []
          },
          "execution_count": 78
        }
      ]
    },
    {
      "cell_type": "markdown",
      "metadata": {
        "id": "DWs8cbJJykXN"
      },
      "source": [
        "Diversos modelos obtiveram bom desempenho apesar do desbalanceamento de classes e alta dimensionalidade, especialmente Ensembles, com um acurácia balancead média 89% e F1 de 92%\n",
        "\n"
      ]
    },
    {
      "cell_type": "code",
      "metadata": {
        "colab": {
          "base_uri": "https://localhost:8080/"
        },
        "id": "F0h10cFSJmg-",
        "outputId": "701d3742-7a3c-4300-a325-459c795afdff"
      },
      "source": [
        "for col in predictions.columns:\n",
        "  print(col)\n",
        "  print(classification_report(y_test, predictions[col]))\n"
      ],
      "execution_count": null,
      "outputs": [
        {
          "output_type": "stream",
          "text": [
            "AdaBoostClassifier\n",
            "              precision    recall  f1-score   support\n",
            "\n",
            "           1       1.00      1.00      1.00       442\n",
            "           2       1.00      1.00      1.00       308\n",
            "           3       1.00      1.00      1.00        40\n",
            "           4       0.00      0.00      0.00       101\n",
            "           5       0.81      1.00      0.90       437\n",
            "\n",
            "    accuracy                           0.92      1328\n",
            "   macro avg       0.76      0.80      0.78      1328\n",
            "weighted avg       0.86      0.92      0.89      1328\n",
            "\n",
            "BaggingClassifier\n",
            "              precision    recall  f1-score   support\n",
            "\n",
            "           1       1.00      1.00      1.00       442\n",
            "           2       1.00      1.00      1.00       308\n",
            "           3       1.00      1.00      1.00        40\n",
            "           4       0.96      1.00      0.98       101\n",
            "           5       1.00      0.99      1.00       437\n",
            "\n",
            "    accuracy                           1.00      1328\n",
            "   macro avg       0.99      1.00      1.00      1328\n",
            "weighted avg       1.00      1.00      1.00      1328\n",
            "\n",
            "BernoulliNB\n",
            "              precision    recall  f1-score   support\n",
            "\n",
            "           1       0.94      0.27      0.42       442\n",
            "           2       0.54      0.86      0.67       308\n",
            "           3       0.20      0.28      0.23        40\n",
            "           4       0.67      0.98      0.80       101\n",
            "           5       0.76      0.89      0.82       437\n",
            "\n",
            "    accuracy                           0.66      1328\n",
            "   macro avg       0.62      0.65      0.59      1328\n",
            "weighted avg       0.75      0.66      0.63      1328\n",
            "\n",
            "CalibratedClassifierCV\n",
            "              precision    recall  f1-score   support\n",
            "\n",
            "           1       1.00      1.00      1.00       442\n",
            "           2       1.00      0.99      1.00       308\n",
            "           3       1.00      1.00      1.00        40\n",
            "           4       0.98      1.00      0.99       101\n",
            "           5       1.00      1.00      1.00       437\n",
            "\n",
            "    accuracy                           1.00      1328\n",
            "   macro avg       1.00      1.00      1.00      1328\n",
            "weighted avg       1.00      1.00      1.00      1328\n",
            "\n",
            "DecisionTreeClassifier\n",
            "              precision    recall  f1-score   support\n",
            "\n",
            "           1       1.00      1.00      1.00       442\n",
            "           2       1.00      1.00      1.00       308\n",
            "           3       1.00      1.00      1.00        40\n",
            "           4       0.95      0.94      0.95       101\n",
            "           5       0.98      0.99      0.99       437\n",
            "\n",
            "    accuracy                           0.99      1328\n",
            "   macro avg       0.99      0.98      0.99      1328\n",
            "weighted avg       0.99      0.99      0.99      1328\n",
            "\n",
            "DummyClassifier\n",
            "              precision    recall  f1-score   support\n",
            "\n",
            "           1       0.32      0.32      0.32       442\n",
            "           2       0.22      0.20      0.21       308\n",
            "           3       0.00      0.00      0.00        40\n",
            "           4       0.05      0.04      0.04       101\n",
            "           5       0.35      0.38      0.36       437\n",
            "\n",
            "    accuracy                           0.28      1328\n",
            "   macro avg       0.18      0.19      0.19      1328\n",
            "weighted avg       0.27      0.28      0.28      1328\n",
            "\n",
            "ExtraTreeClassifier\n",
            "              precision    recall  f1-score   support\n",
            "\n",
            "           1       0.99      1.00      0.99       442\n",
            "           2       0.99      0.98      0.99       308\n",
            "           3       0.95      0.93      0.94        40\n",
            "           4       0.99      0.99      0.99       101\n",
            "           5       1.00      1.00      1.00       437\n",
            "\n",
            "    accuracy                           0.99      1328\n",
            "   macro avg       0.98      0.98      0.98      1328\n",
            "weighted avg       0.99      0.99      0.99      1328\n",
            "\n",
            "ExtraTreesClassifier\n",
            "              precision    recall  f1-score   support\n",
            "\n",
            "           1       1.00      1.00      1.00       442\n",
            "           2       1.00      1.00      1.00       308\n",
            "           3       1.00      1.00      1.00        40\n",
            "           4       0.98      1.00      0.99       101\n",
            "           5       1.00      1.00      1.00       437\n",
            "\n",
            "    accuracy                           1.00      1328\n",
            "   macro avg       1.00      1.00      1.00      1328\n",
            "weighted avg       1.00      1.00      1.00      1328\n",
            "\n",
            "GaussianNB\n",
            "              precision    recall  f1-score   support\n",
            "\n",
            "           1       0.82      0.58      0.68       442\n",
            "           2       0.60      0.91      0.72       308\n",
            "           3       0.63      0.97      0.76        40\n",
            "           4       0.97      0.97      0.97       101\n",
            "           5       0.98      0.87      0.92       437\n",
            "\n",
            "    accuracy                           0.79      1328\n",
            "   macro avg       0.80      0.86      0.81      1328\n",
            "weighted avg       0.83      0.79      0.79      1328\n",
            "\n",
            "KNeighborsClassifier\n",
            "              precision    recall  f1-score   support\n",
            "\n",
            "           1       1.00      0.99      0.99       442\n",
            "           2       0.97      0.99      0.98       308\n",
            "           3       1.00      0.88      0.93        40\n",
            "           4       0.97      0.98      0.98       101\n",
            "           5       1.00      0.99      0.99       437\n",
            "\n",
            "    accuracy                           0.99      1328\n",
            "   macro avg       0.99      0.97      0.97      1328\n",
            "weighted avg       0.99      0.99      0.99      1328\n",
            "\n",
            "LabelPropagation\n",
            "              precision    recall  f1-score   support\n",
            "\n",
            "           1       0.95      1.00      0.97       442\n",
            "           2       1.00      0.97      0.99       308\n",
            "           3       1.00      0.97      0.99        40\n",
            "           4       0.98      0.97      0.98       101\n",
            "           5       1.00      0.97      0.99       437\n",
            "\n",
            "    accuracy                           0.98      1328\n",
            "   macro avg       0.99      0.98      0.98      1328\n",
            "weighted avg       0.98      0.98      0.98      1328\n",
            "\n",
            "LabelSpreading\n",
            "              precision    recall  f1-score   support\n",
            "\n",
            "           1       0.95      1.00      0.97       442\n",
            "           2       1.00      0.97      0.99       308\n",
            "           3       1.00      0.97      0.99        40\n",
            "           4       0.98      0.97      0.98       101\n",
            "           5       1.00      0.97      0.99       437\n",
            "\n",
            "    accuracy                           0.98      1328\n",
            "   macro avg       0.99      0.98      0.98      1328\n",
            "weighted avg       0.98      0.98      0.98      1328\n",
            "\n",
            "LinearDiscriminantAnalysis\n",
            "              precision    recall  f1-score   support\n",
            "\n",
            "           1       1.00      0.98      0.99       442\n",
            "           2       0.97      0.97      0.97       308\n",
            "           3       0.78      1.00      0.88        40\n",
            "           4       0.94      1.00      0.97       101\n",
            "           5       1.00      0.98      0.99       437\n",
            "\n",
            "    accuracy                           0.98      1328\n",
            "   macro avg       0.94      0.99      0.96      1328\n",
            "weighted avg       0.98      0.98      0.98      1328\n",
            "\n",
            "LinearSVC\n",
            "              precision    recall  f1-score   support\n",
            "\n",
            "           1       1.00      0.99      0.99       442\n",
            "           2       0.99      0.99      0.99       308\n",
            "           3       1.00      1.00      1.00        40\n",
            "           4       0.97      1.00      0.99       101\n",
            "           5       1.00      1.00      1.00       437\n",
            "\n",
            "    accuracy                           0.99      1328\n",
            "   macro avg       0.99      1.00      0.99      1328\n",
            "weighted avg       0.99      0.99      0.99      1328\n",
            "\n",
            "LogisticRegression\n",
            "              precision    recall  f1-score   support\n",
            "\n",
            "           1       0.99      1.00      0.99       442\n",
            "           2       0.99      0.99      0.99       308\n",
            "           3       0.98      1.00      0.99        40\n",
            "           4       0.99      1.00      1.00       101\n",
            "           5       1.00      1.00      1.00       437\n",
            "\n",
            "    accuracy                           0.99      1328\n",
            "   macro avg       0.99      1.00      0.99      1328\n",
            "weighted avg       0.99      0.99      0.99      1328\n",
            "\n",
            "NearestCentroid\n",
            "              precision    recall  f1-score   support\n",
            "\n",
            "           1       0.95      0.54      0.69       442\n",
            "           2       0.54      0.69      0.60       308\n",
            "           3       0.17      0.57      0.26        40\n",
            "           4       0.36      0.98      0.52       101\n",
            "           5       0.95      0.59      0.73       437\n",
            "\n",
            "    accuracy                           0.63      1328\n",
            "   macro avg       0.59      0.67      0.56      1328\n",
            "weighted avg       0.79      0.63      0.66      1328\n",
            "\n",
            "PassiveAggressiveClassifier\n",
            "              precision    recall  f1-score   support\n",
            "\n",
            "           1       1.00      0.99      1.00       442\n",
            "           2       0.99      0.99      0.99       308\n",
            "           3       1.00      1.00      1.00        40\n",
            "           4       0.97      1.00      0.99       101\n",
            "           5       1.00      1.00      1.00       437\n",
            "\n",
            "    accuracy                           0.99      1328\n",
            "   macro avg       0.99      1.00      0.99      1328\n",
            "weighted avg       0.99      0.99      0.99      1328\n",
            "\n",
            "Perceptron\n",
            "              precision    recall  f1-score   support\n",
            "\n",
            "           1       0.99      0.99      0.99       442\n",
            "           2       0.97      0.99      0.98       308\n",
            "           3       1.00      0.95      0.97        40\n",
            "           4       1.00      1.00      1.00       101\n",
            "           5       1.00      1.00      1.00       437\n",
            "\n",
            "    accuracy                           0.99      1328\n",
            "   macro avg       0.99      0.98      0.99      1328\n",
            "weighted avg       0.99      0.99      0.99      1328\n",
            "\n",
            "QuadraticDiscriminantAnalysis\n",
            "              precision    recall  f1-score   support\n",
            "\n",
            "           1       1.00      0.62      0.77       442\n",
            "           2       0.60      0.98      0.75       308\n",
            "           3       0.05      0.03      0.03        40\n",
            "           4       0.98      0.97      0.98       101\n",
            "           5       1.00      0.98      0.99       437\n",
            "\n",
            "    accuracy                           0.83      1328\n",
            "   macro avg       0.73      0.72      0.70      1328\n",
            "weighted avg       0.88      0.83      0.83      1328\n",
            "\n",
            "RandomForestClassifier\n",
            "              precision    recall  f1-score   support\n",
            "\n",
            "           1       1.00      1.00      1.00       442\n",
            "           2       1.00      1.00      1.00       308\n",
            "           3       1.00      1.00      1.00        40\n",
            "           4       0.96      1.00      0.98       101\n",
            "           5       1.00      0.99      1.00       437\n",
            "\n",
            "    accuracy                           1.00      1328\n",
            "   macro avg       0.99      1.00      1.00      1328\n",
            "weighted avg       1.00      1.00      1.00      1328\n",
            "\n",
            "RidgeClassifier\n",
            "              precision    recall  f1-score   support\n",
            "\n",
            "           1       0.98      0.98      0.98       442\n",
            "           2       0.88      0.98      0.93       308\n",
            "           3       0.89      0.20      0.33        40\n",
            "           4       0.99      1.00      1.00       101\n",
            "           5       1.00      0.99      0.99       437\n",
            "\n",
            "    accuracy                           0.96      1328\n",
            "   macro avg       0.95      0.83      0.85      1328\n",
            "weighted avg       0.96      0.96      0.95      1328\n",
            "\n",
            "RidgeClassifierCV\n",
            "              precision    recall  f1-score   support\n",
            "\n",
            "           1       0.99      0.98      0.98       442\n",
            "           2       0.87      0.98      0.92       308\n",
            "           3       0.67      0.05      0.09        40\n",
            "           4       0.98      0.99      0.99       101\n",
            "           5       1.00      1.00      1.00       437\n",
            "\n",
            "    accuracy                           0.96      1328\n",
            "   macro avg       0.90      0.80      0.80      1328\n",
            "weighted avg       0.95      0.96      0.95      1328\n",
            "\n",
            "SGDClassifier\n",
            "              precision    recall  f1-score   support\n",
            "\n",
            "           1       0.99      1.00      0.99       442\n",
            "           2       0.96      0.98      0.97       308\n",
            "           3       1.00      0.78      0.87        40\n",
            "           4       0.99      0.99      0.99       101\n",
            "           5       1.00      1.00      1.00       437\n",
            "\n",
            "    accuracy                           0.99      1328\n",
            "   macro avg       0.99      0.95      0.96      1328\n",
            "weighted avg       0.99      0.99      0.99      1328\n",
            "\n",
            "SVC\n",
            "              precision    recall  f1-score   support\n",
            "\n",
            "           1       0.98      0.98      0.98       442\n",
            "           2       0.92      0.95      0.93       308\n",
            "           3       1.00      0.33      0.49        40\n",
            "           4       0.97      0.97      0.97       101\n",
            "           5       0.95      0.99      0.97       437\n",
            "\n",
            "    accuracy                           0.96      1328\n",
            "   macro avg       0.96      0.84      0.87      1328\n",
            "weighted avg       0.96      0.96      0.95      1328\n",
            "\n",
            "XGBClassifier\n",
            "              precision    recall  f1-score   support\n",
            "\n",
            "           1       1.00      1.00      1.00       442\n",
            "           2       1.00      1.00      1.00       308\n",
            "           3       1.00      1.00      1.00        40\n",
            "           4       0.96      1.00      0.98       101\n",
            "           5       1.00      0.99      1.00       437\n",
            "\n",
            "    accuracy                           1.00      1328\n",
            "   macro avg       0.99      1.00      1.00      1328\n",
            "weighted avg       1.00      1.00      1.00      1328\n",
            "\n",
            "LGBMClassifier\n",
            "              precision    recall  f1-score   support\n",
            "\n",
            "           1       1.00      1.00      1.00       442\n",
            "           2       1.00      1.00      1.00       308\n",
            "           3       1.00      1.00      1.00        40\n",
            "           4       0.96      1.00      0.98       101\n",
            "           5       1.00      0.99      1.00       437\n",
            "\n",
            "    accuracy                           1.00      1328\n",
            "   macro avg       0.99      1.00      1.00      1328\n",
            "weighted avg       1.00      1.00      1.00      1328\n",
            "\n"
          ],
          "name": "stdout"
        }
      ]
    },
    {
      "cell_type": "markdown",
      "metadata": {
        "id": "g355iZp1yQPo"
      },
      "source": [
        "# Treinamento com redução de dimensionalidade"
      ]
    },
    {
      "cell_type": "code",
      "metadata": {
        "colab": {
          "base_uri": "https://localhost:8080/"
        },
        "id": "clBd5pM02NjL",
        "outputId": "23bea3cd-da89-412e-cde5-8f10ba6dc658"
      },
      "source": [
        "for i in range(10):\n",
        "  pca = PCA(n_components=i)\n",
        "  pca.fit(X_train)\n",
        "  print('components: '+str(i))\n",
        "  print(sum(pca.explained_variance_ratio_))"
      ],
      "execution_count": null,
      "outputs": [
        {
          "output_type": "stream",
          "text": [
            "components: 0\n",
            "0\n",
            "components: 1\n",
            "0.8690964568785579\n",
            "components: 2\n",
            "0.9999207518613031\n",
            "components: 3\n",
            "0.9999695326369785\n",
            "components: 4\n",
            "0.9999760473252545\n",
            "components: 5\n",
            "0.9999810495045749\n",
            "components: 6\n",
            "0.999984683756741\n",
            "components: 7\n",
            "0.9999879185342372\n",
            "components: 8\n",
            "0.9999908292344285\n",
            "components: 9\n",
            "0.9999933855714213\n"
          ],
          "name": "stdout"
        }
      ]
    },
    {
      "cell_type": "markdown",
      "metadata": {
        "id": "oI0fnP374fNA"
      },
      "source": [
        "A redução para duas dimensões explica 99% da variância dos dados. Então adotou-se essa quantidade de componentes."
      ]
    },
    {
      "cell_type": "code",
      "metadata": {
        "id": "bRkVVe5OyTYw"
      },
      "source": [
        "pca_2 = PCA(n_components=2)\n",
        "pca_2.fit(X_train)\n",
        "X_train_pca, X_test_pca = pca_2.transform(X_train), pca_2.transform(X_test)"
      ],
      "execution_count": null,
      "outputs": []
    },
    {
      "cell_type": "code",
      "metadata": {
        "colab": {
          "base_uri": "https://localhost:8080/",
          "height": 298
        },
        "id": "VJS-F8FS4lk1",
        "outputId": "38c461b6-0c04-4b3d-b29a-a2cf31cad44c"
      },
      "source": [
        "pd.DataFrame(X_train_pca).plot.scatter(x=0,y=1)"
      ],
      "execution_count": null,
      "outputs": [
        {
          "output_type": "execute_result",
          "data": {
            "text/plain": [
              "<matplotlib.axes._subplots.AxesSubplot at 0x7f34c2786510>"
            ]
          },
          "metadata": {
            "tags": []
          },
          "execution_count": 82
        },
        {
          "output_type": "display_data",
          "data": {
            "image/png": "[encoded data removed]",
            "text/plain": [
              "<Figure size 432x288 with 1 Axes>"
            ]
          },
          "metadata": {
            "tags": [],
            "needs_background": "light"
          }
        }
      ]
    },
    {
      "cell_type": "markdown",
      "metadata": {
        "id": "fbAnWA4g5Bo4"
      },
      "source": [
        "O gráfico de dispersão apresenta relações lineares entre os dois componentes gerados com o PCA."
      ]
    },
    {
      "cell_type": "code",
      "metadata": {
        "colab": {
          "base_uri": "https://localhost:8080/"
        },
        "id": "ehZBXSt93HoN",
        "outputId": "c36c9804-92de-4b7d-ad7d-4d0eef02afdc"
      },
      "source": [
        "clf_pca = LazyClassifier(verbose=1,ignore_warnings=False, custom_metric=None, predictions=True)\n",
        "models_pca, predictions_pca = clf_pca.fit(X_train_pca, X_test_pca, y_train, y_test)"
      ],
      "execution_count": null,
      "outputs": [
        {
          "output_type": "stream",
          "text": [
            " 10%|█         | 3/29 [00:00<00:02, 11.31it/s]"
          ],
          "name": "stderr"
        },
        {
          "output_type": "stream",
          "text": [
            "ROC AUC couldn't be calculated for AdaBoostClassifier\n",
            "multi_class must be in ('ovo', 'ovr')\n",
            "{'Model': 'AdaBoostClassifier', 'Accuracy': 0.39683734939759036, 'Balanced Accuracy': 0.2389274879112004, 'ROC AUC': None, 'F1 Score': 0.28490146981302794, 'Time taken': 0.19271492958068848}\n",
            "ROC AUC couldn't be calculated for BaggingClassifier\n",
            "multi_class must be in ('ovo', 'ovr')\n",
            "{'Model': 'BaggingClassifier', 'Accuracy': 0.7228915662650602, 'Balanced Accuracy': 0.5612954462830118, 'ROC AUC': None, 'F1 Score': 0.715094095403083, 'Time taken': 0.08637547492980957}\n",
            "ROC AUC couldn't be calculated for BernoulliNB\n",
            "multi_class must be in ('ovo', 'ovr')\n",
            "{'Model': 'BernoulliNB', 'Accuracy': 0.42620481927710846, 'Balanced Accuracy': 0.25675057208237984, 'ROC AUC': None, 'F1 Score': 0.32421981673975, 'Time taken': 0.0162813663482666}\n"
          ],
          "name": "stdout"
        },
        {
          "output_type": "stream",
          "text": [
            "\r 17%|█▋        | 5/29 [00:00<00:03,  6.50it/s]"
          ],
          "name": "stderr"
        },
        {
          "output_type": "stream",
          "text": [
            "ROC AUC couldn't be calculated for CalibratedClassifierCV\n",
            "multi_class must be in ('ovo', 'ovr')\n",
            "{'Model': 'CalibratedClassifierCV', 'Accuracy': 0.5707831325301205, 'Balanced Accuracy': 0.34524886877828054, 'ROC AUC': None, 'F1 Score': 0.4547415044852916, 'Time taken': 0.4228823184967041}\n",
            "CategoricalNB model failed to execute\n",
            "Negative values in data passed to CategoricalNB (input X)\n",
            "ROC AUC couldn't be calculated for DecisionTreeClassifier\n",
            "multi_class must be in ('ovo', 'ovr')\n",
            "{'Model': 'DecisionTreeClassifier', 'Accuracy': 0.7266566265060241, 'Balanced Accuracy': 0.6137086644878227, 'ROC AUC': None, 'F1 Score': 0.7251501486259976, 'Time taken': 0.026848554611206055}\n",
            "ROC AUC couldn't be calculated for DummyClassifier\n",
            "multi_class must be in ('ovo', 'ovr')\n",
            "{'Model': 'DummyClassifier', 'Accuracy': 0.28012048192771083, 'Balanced Accuracy': 0.187294272280525, 'ROC AUC': None, 'F1 Score': 0.2762093909851362, 'Time taken': 0.014649391174316406}\n",
            "ROC AUC couldn't be calculated for ExtraTreeClassifier\n",
            "multi_class must be in ('ovo', 'ovr')\n",
            "{'Model': 'ExtraTreeClassifier', 'Accuracy': 0.7560240963855421, 'Balanced Accuracy': 0.6455155781154509, 'ROC AUC': None, 'F1 Score': 0.7542487795817031, 'Time taken': 0.01650381088256836}\n"
          ],
          "name": "stdout"
        },
        {
          "output_type": "stream",
          "text": [
            "\r 31%|███       | 9/29 [00:01<00:02,  8.42it/s]"
          ],
          "name": "stderr"
        },
        {
          "output_type": "stream",
          "text": [
            "ROC AUC couldn't be calculated for ExtraTreesClassifier\n",
            "multi_class must be in ('ovo', 'ovr')\n",
            "{'Model': 'ExtraTreesClassifier', 'Accuracy': 0.7914156626506024, 'Balanced Accuracy': 0.6558985428688319, 'ROC AUC': None, 'F1 Score': 0.7865550112488101, 'Time taken': 0.31957507133483887}\n",
            "ROC AUC couldn't be calculated for GaussianNB\n",
            "multi_class must be in ('ovo', 'ovr')\n",
            "{'Model': 'GaussianNB', 'Accuracy': 0.40963855421686746, 'Balanced Accuracy': 0.26707260299264607, 'ROC AUC': None, 'F1 Score': 0.3827359184555523, 'Time taken': 0.02252507209777832}\n",
            "ROC AUC couldn't be calculated for KNeighborsClassifier\n",
            "multi_class must be in ('ovo', 'ovr')\n",
            "{'Model': 'KNeighborsClassifier', 'Accuracy': 0.5835843373493976, 'Balanced Accuracy': 0.418358656759145, 'ROC AUC': None, 'F1 Score': 0.5681475569732444, 'Time taken': 0.0571439266204834}\n"
          ],
          "name": "stdout"
        },
        {
          "output_type": "stream",
          "text": [
            "\r 41%|████▏     | 12/29 [00:01<00:02,  7.25it/s]"
          ],
          "name": "stderr"
        },
        {
          "output_type": "stream",
          "text": [
            "ROC AUC couldn't be calculated for LabelPropagation\n",
            "multi_class must be in ('ovo', 'ovr')\n",
            "{'Model': 'LabelPropagation', 'Accuracy': 0.4269578313253012, 'Balanced Accuracy': 0.25722894685069947, 'ROC AUC': None, 'F1 Score': 0.32645054068935714, 'Time taken': 0.42357397079467773}\n"
          ],
          "name": "stdout"
        },
        {
          "output_type": "stream",
          "text": [
            " 52%|█████▏    | 15/29 [00:02<00:02,  6.56it/s]"
          ],
          "name": "stderr"
        },
        {
          "output_type": "stream",
          "text": [
            "ROC AUC couldn't be calculated for LabelSpreading\n",
            "multi_class must be in ('ovo', 'ovr')\n",
            "{'Model': 'LabelSpreading', 'Accuracy': 0.4269578313253012, 'Balanced Accuracy': 0.25721859241848477, 'ROC AUC': None, 'F1 Score': 0.3258542547636429, 'Time taken': 0.5161609649658203}\n",
            "ROC AUC couldn't be calculated for LinearDiscriminantAnalysis\n",
            "multi_class must be in ('ovo', 'ovr')\n",
            "{'Model': 'LinearDiscriminantAnalysis', 'Accuracy': 0.42620481927710846, 'Balanced Accuracy': 0.25675057208237984, 'ROC AUC': None, 'F1 Score': 0.32421981673975, 'Time taken': 0.026919841766357422}\n",
            "ROC AUC couldn't be calculated for LinearSVC\n",
            "multi_class must be in ('ovo', 'ovr')\n",
            "{'Model': 'LinearSVC', 'Accuracy': 0.5707831325301205, 'Balanced Accuracy': 0.34524886877828054, 'ROC AUC': None, 'F1 Score': 0.4547415044852916, 'Time taken': 0.07602763175964355}\n"
          ],
          "name": "stdout"
        },
        {
          "output_type": "stream",
          "text": [
            "\r 59%|█████▊    | 17/29 [00:02<00:01,  7.80it/s]"
          ],
          "name": "stderr"
        },
        {
          "output_type": "stream",
          "text": [
            "ROC AUC couldn't be calculated for LogisticRegression\n",
            "multi_class must be in ('ovo', 'ovr')\n",
            "{'Model': 'LogisticRegression', 'Accuracy': 0.5707831325301205, 'Balanced Accuracy': 0.34524886877828054, 'ROC AUC': None, 'F1 Score': 0.4547415044852916, 'Time taken': 0.12891745567321777}\n",
            "ROC AUC couldn't be calculated for NearestCentroid\n",
            "multi_class must be in ('ovo', 'ovr')\n",
            "{'Model': 'NearestCentroid', 'Accuracy': 0.19201807228915663, 'Balanced Accuracy': 0.290382441086992, 'ROC AUC': None, 'F1 Score': 0.2307217575109451, 'Time taken': 0.01581287384033203}\n",
            "NuSVC model failed to execute\n",
            "specified nu is infeasible\n",
            "ROC AUC couldn't be calculated for PassiveAggressiveClassifier\n",
            "multi_class must be in ('ovo', 'ovr')\n",
            "{'Model': 'PassiveAggressiveClassifier', 'Accuracy': 0.4036144578313253, 'Balanced Accuracy': 0.259716245499282, 'ROC AUC': None, 'F1 Score': 0.3784109204513266, 'Time taken': 0.024474382400512695}\n",
            "ROC AUC couldn't be calculated for Perceptron\n",
            "multi_class must be in ('ovo', 'ovr')\n",
            "{'Model': 'Perceptron', 'Accuracy': 0.49021084337349397, 'Balanced Accuracy': 0.3418986922352113, 'ROC AUC': None, 'F1 Score': 0.41858688681610484, 'Time taken': 0.02287125587463379}\n",
            "ROC AUC couldn't be calculated for QuadraticDiscriminantAnalysis\n",
            "multi_class must be in ('ovo', 'ovr')\n",
            "{'Model': 'QuadraticDiscriminantAnalysis', 'Accuracy': 0.6641566265060241, 'Balanced Accuracy': 0.7953884048378597, 'ROC AUC': None, 'F1 Score': 0.6298643182909732, 'Time taken': 0.015906572341918945}\n"
          ],
          "name": "stdout"
        },
        {
          "output_type": "stream",
          "text": [
            "\r 76%|███████▌  | 22/29 [00:02<00:00,  8.17it/s]"
          ],
          "name": "stderr"
        },
        {
          "output_type": "stream",
          "text": [
            "ROC AUC couldn't be calculated for RandomForestClassifier\n",
            "multi_class must be in ('ovo', 'ovr')\n",
            "{'Model': 'RandomForestClassifier', 'Accuracy': 0.7198795180722891, 'Balanced Accuracy': 0.5589070991527714, 'ROC AUC': None, 'F1 Score': 0.7088494013419183, 'Time taken': 0.5070171356201172}\n",
            "ROC AUC couldn't be calculated for RidgeClassifier\n",
            "multi_class must be in ('ovo', 'ovr')\n",
            "{'Model': 'RidgeClassifier', 'Accuracy': 0.42620481927710846, 'Balanced Accuracy': 0.25675057208237984, 'ROC AUC': None, 'F1 Score': 0.32421981673975, 'Time taken': 0.02104926109313965}\n",
            "ROC AUC couldn't be calculated for RidgeClassifierCV\n",
            "multi_class must be in ('ovo', 'ovr')\n",
            "{'Model': 'RidgeClassifierCV', 'Accuracy': 0.42620481927710846, 'Balanced Accuracy': 0.25675057208237984, 'ROC AUC': None, 'F1 Score': 0.32421981673975, 'Time taken': 0.018622159957885742}\n",
            "ROC AUC couldn't be calculated for SGDClassifier\n",
            "multi_class must be in ('ovo', 'ovr')\n",
            "{'Model': 'SGDClassifier', 'Accuracy': 0.5504518072289156, 'Balanced Accuracy': 0.376931891637774, 'ROC AUC': None, 'F1 Score': 0.46778379660222436, 'Time taken': 0.040819406509399414}\n"
          ],
          "name": "stdout"
        },
        {
          "output_type": "stream",
          "text": [
            "\r 90%|████████▉ | 26/29 [00:03<00:00,  8.07it/s]"
          ],
          "name": "stderr"
        },
        {
          "output_type": "stream",
          "text": [
            "ROC AUC couldn't be calculated for SVC\n",
            "multi_class must be in ('ovo', 'ovr')\n",
            "{'Model': 'SVC', 'Accuracy': 0.5707831325301205, 'Balanced Accuracy': 0.34524886877828054, 'ROC AUC': None, 'F1 Score': 0.4547415044852916, 'Time taken': 0.4249417781829834}\n",
            "StackingClassifier model failed to execute\n",
            "__init__() missing 1 required positional argument: 'estimators'\n"
          ],
          "name": "stdout"
        },
        {
          "output_type": "stream",
          "text": [
            "\r 97%|█████████▋| 28/29 [00:04<00:00,  6.21it/s]"
          ],
          "name": "stderr"
        },
        {
          "output_type": "stream",
          "text": [
            "ROC AUC couldn't be calculated for XGBClassifier\n",
            "multi_class must be in ('ovo', 'ovr')\n",
            "{'Model': 'XGBClassifier', 'Accuracy': 0.6852409638554217, 'Balanced Accuracy': 0.49777775268795876, 'ROC AUC': None, 'F1 Score': 0.6631347640477483, 'Time taken': 0.5967209339141846}\n"
          ],
          "name": "stdout"
        },
        {
          "output_type": "stream",
          "text": [
            "100%|██████████| 29/29 [00:04<00:00,  6.38it/s]"
          ],
          "name": "stderr"
        },
        {
          "output_type": "stream",
          "text": [
            "ROC AUC couldn't be calculated for LGBMClassifier\n",
            "multi_class must be in ('ovo', 'ovr')\n",
            "{'Model': 'LGBMClassifier', 'Accuracy': 0.5881024096385542, 'Balanced Accuracy': 0.42346313098972266, 'ROC AUC': None, 'F1 Score': 0.5596530924957953, 'Time taken': 0.4685821533203125}\n"
          ],
          "name": "stdout"
        },
        {
          "output_type": "stream",
          "text": [
            "\n"
          ],
          "name": "stderr"
        }
      ]
    },
    {
      "cell_type": "code",
      "metadata": {
        "colab": {
          "base_uri": "https://localhost:8080/",
          "height": 886
        },
        "id": "6bqjiGk_38ei",
        "outputId": "18dca285-b31d-4cdd-c88b-dd0cbb168190"
      },
      "source": [
        "models_pca"
      ],
      "execution_count": null,
      "outputs": [
        {
          "output_type": "execute_result",
          "data": {
            "text/html": [
              "<div>\n",
              "<style scoped>\n",
              "    .dataframe tbody tr th:only-of-type {\n",
              "        vertical-align: middle;\n",
              "    }\n",
              "\n",
              "    .dataframe tbody tr th {\n",
              "        vertical-align: top;\n",
              "    }\n",
              "\n",
              "    .dataframe thead th {\n",
              "        text-align: right;\n",
              "    }\n",
              "</style>\n",
              "<table border=\"1\" class=\"dataframe\">\n",
              "  <thead>\n",
              "    <tr style=\"text-align: right;\">\n",
              "      <th></th>\n",
              "      <th>Accuracy</th>\n",
              "      <th>Balanced Accuracy</th>\n",
              "      <th>ROC AUC</th>\n",
              "      <th>F1 Score</th>\n",
              "      <th>Time Taken</th>\n",
              "    </tr>\n",
              "    <tr>\n",
              "      <th>Model</th>\n",
              "      <th></th>\n",
              "      <th></th>\n",
              "      <th></th>\n",
              "      <th></th>\n",
              "      <th></th>\n",
              "    </tr>\n",
              "  </thead>\n",
              "  <tbody>\n",
              "    <tr>\n",
              "      <th>QuadraticDiscriminantAnalysis</th>\n",
              "      <td>0.66</td>\n",
              "      <td>0.80</td>\n",
              "      <td>None</td>\n",
              "      <td>0.63</td>\n",
              "      <td>0.02</td>\n",
              "    </tr>\n",
              "    <tr>\n",
              "      <th>ExtraTreesClassifier</th>\n",
              "      <td>0.79</td>\n",
              "      <td>0.66</td>\n",
              "      <td>None</td>\n",
              "      <td>0.79</td>\n",
              "      <td>0.32</td>\n",
              "    </tr>\n",
              "    <tr>\n",
              "      <th>ExtraTreeClassifier</th>\n",
              "      <td>0.76</td>\n",
              "      <td>0.65</td>\n",
              "      <td>None</td>\n",
              "      <td>0.75</td>\n",
              "      <td>0.02</td>\n",
              "    </tr>\n",
              "    <tr>\n",
              "      <th>DecisionTreeClassifier</th>\n",
              "      <td>0.73</td>\n",
              "      <td>0.61</td>\n",
              "      <td>None</td>\n",
              "      <td>0.73</td>\n",
              "      <td>0.03</td>\n",
              "    </tr>\n",
              "    <tr>\n",
              "      <th>BaggingClassifier</th>\n",
              "      <td>0.72</td>\n",
              "      <td>0.56</td>\n",
              "      <td>None</td>\n",
              "      <td>0.72</td>\n",
              "      <td>0.09</td>\n",
              "    </tr>\n",
              "    <tr>\n",
              "      <th>RandomForestClassifier</th>\n",
              "      <td>0.72</td>\n",
              "      <td>0.56</td>\n",
              "      <td>None</td>\n",
              "      <td>0.71</td>\n",
              "      <td>0.51</td>\n",
              "    </tr>\n",
              "    <tr>\n",
              "      <th>XGBClassifier</th>\n",
              "      <td>0.69</td>\n",
              "      <td>0.50</td>\n",
              "      <td>None</td>\n",
              "      <td>0.66</td>\n",
              "      <td>0.60</td>\n",
              "    </tr>\n",
              "    <tr>\n",
              "      <th>LGBMClassifier</th>\n",
              "      <td>0.59</td>\n",
              "      <td>0.42</td>\n",
              "      <td>None</td>\n",
              "      <td>0.56</td>\n",
              "      <td>0.47</td>\n",
              "    </tr>\n",
              "    <tr>\n",
              "      <th>KNeighborsClassifier</th>\n",
              "      <td>0.58</td>\n",
              "      <td>0.42</td>\n",
              "      <td>None</td>\n",
              "      <td>0.57</td>\n",
              "      <td>0.06</td>\n",
              "    </tr>\n",
              "    <tr>\n",
              "      <th>SGDClassifier</th>\n",
              "      <td>0.55</td>\n",
              "      <td>0.38</td>\n",
              "      <td>None</td>\n",
              "      <td>0.47</td>\n",
              "      <td>0.04</td>\n",
              "    </tr>\n",
              "    <tr>\n",
              "      <th>SVC</th>\n",
              "      <td>0.57</td>\n",
              "      <td>0.35</td>\n",
              "      <td>None</td>\n",
              "      <td>0.45</td>\n",
              "      <td>0.42</td>\n",
              "    </tr>\n",
              "    <tr>\n",
              "      <th>LogisticRegression</th>\n",
              "      <td>0.57</td>\n",
              "      <td>0.35</td>\n",
              "      <td>None</td>\n",
              "      <td>0.45</td>\n",
              "      <td>0.13</td>\n",
              "    </tr>\n",
              "    <tr>\n",
              "      <th>LinearSVC</th>\n",
              "      <td>0.57</td>\n",
              "      <td>0.35</td>\n",
              "      <td>None</td>\n",
              "      <td>0.45</td>\n",
              "      <td>0.08</td>\n",
              "    </tr>\n",
              "    <tr>\n",
              "      <th>CalibratedClassifierCV</th>\n",
              "      <td>0.57</td>\n",
              "      <td>0.35</td>\n",
              "      <td>None</td>\n",
              "      <td>0.45</td>\n",
              "      <td>0.42</td>\n",
              "    </tr>\n",
              "    <tr>\n",
              "      <th>Perceptron</th>\n",
              "      <td>0.49</td>\n",
              "      <td>0.34</td>\n",
              "      <td>None</td>\n",
              "      <td>0.42</td>\n",
              "      <td>0.02</td>\n",
              "    </tr>\n",
              "    <tr>\n",
              "      <th>NearestCentroid</th>\n",
              "      <td>0.19</td>\n",
              "      <td>0.29</td>\n",
              "      <td>None</td>\n",
              "      <td>0.23</td>\n",
              "      <td>0.02</td>\n",
              "    </tr>\n",
              "    <tr>\n",
              "      <th>GaussianNB</th>\n",
              "      <td>0.41</td>\n",
              "      <td>0.27</td>\n",
              "      <td>None</td>\n",
              "      <td>0.38</td>\n",
              "      <td>0.02</td>\n",
              "    </tr>\n",
              "    <tr>\n",
              "      <th>PassiveAggressiveClassifier</th>\n",
              "      <td>0.40</td>\n",
              "      <td>0.26</td>\n",
              "      <td>None</td>\n",
              "      <td>0.38</td>\n",
              "      <td>0.02</td>\n",
              "    </tr>\n",
              "    <tr>\n",
              "      <th>LabelPropagation</th>\n",
              "      <td>0.43</td>\n",
              "      <td>0.26</td>\n",
              "      <td>None</td>\n",
              "      <td>0.33</td>\n",
              "      <td>0.42</td>\n",
              "    </tr>\n",
              "    <tr>\n",
              "      <th>LabelSpreading</th>\n",
              "      <td>0.43</td>\n",
              "      <td>0.26</td>\n",
              "      <td>None</td>\n",
              "      <td>0.33</td>\n",
              "      <td>0.52</td>\n",
              "    </tr>\n",
              "    <tr>\n",
              "      <th>LinearDiscriminantAnalysis</th>\n",
              "      <td>0.43</td>\n",
              "      <td>0.26</td>\n",
              "      <td>None</td>\n",
              "      <td>0.32</td>\n",
              "      <td>0.03</td>\n",
              "    </tr>\n",
              "    <tr>\n",
              "      <th>RidgeClassifier</th>\n",
              "      <td>0.43</td>\n",
              "      <td>0.26</td>\n",
              "      <td>None</td>\n",
              "      <td>0.32</td>\n",
              "      <td>0.02</td>\n",
              "    </tr>\n",
              "    <tr>\n",
              "      <th>RidgeClassifierCV</th>\n",
              "      <td>0.43</td>\n",
              "      <td>0.26</td>\n",
              "      <td>None</td>\n",
              "      <td>0.32</td>\n",
              "      <td>0.02</td>\n",
              "    </tr>\n",
              "    <tr>\n",
              "      <th>BernoulliNB</th>\n",
              "      <td>0.43</td>\n",
              "      <td>0.26</td>\n",
              "      <td>None</td>\n",
              "      <td>0.32</td>\n",
              "      <td>0.02</td>\n",
              "    </tr>\n",
              "    <tr>\n",
              "      <th>AdaBoostClassifier</th>\n",
              "      <td>0.40</td>\n",
              "      <td>0.24</td>\n",
              "      <td>None</td>\n",
              "      <td>0.28</td>\n",
              "      <td>0.19</td>\n",
              "    </tr>\n",
              "    <tr>\n",
              "      <th>DummyClassifier</th>\n",
              "      <td>0.28</td>\n",
              "      <td>0.19</td>\n",
              "      <td>None</td>\n",
              "      <td>0.28</td>\n",
              "      <td>0.01</td>\n",
              "    </tr>\n",
              "  </tbody>\n",
              "</table>\n",
              "</div>"
            ],
            "text/plain": [
              "                               Accuracy  ...  Time Taken\n",
              "Model                                    ...            \n",
              "QuadraticDiscriminantAnalysis      0.66  ...        0.02\n",
              "ExtraTreesClassifier               0.79  ...        0.32\n",
              "ExtraTreeClassifier                0.76  ...        0.02\n",
              "DecisionTreeClassifier             0.73  ...        0.03\n",
              "BaggingClassifier                  0.72  ...        0.09\n",
              "RandomForestClassifier             0.72  ...        0.51\n",
              "XGBClassifier                      0.69  ...        0.60\n",
              "LGBMClassifier                     0.59  ...        0.47\n",
              "KNeighborsClassifier               0.58  ...        0.06\n",
              "SGDClassifier                      0.55  ...        0.04\n",
              "SVC                                0.57  ...        0.42\n",
              "LogisticRegression                 0.57  ...        0.13\n",
              "LinearSVC                          0.57  ...        0.08\n",
              "CalibratedClassifierCV             0.57  ...        0.42\n",
              "Perceptron                         0.49  ...        0.02\n",
              "NearestCentroid                    0.19  ...        0.02\n",
              "GaussianNB                         0.41  ...        0.02\n",
              "PassiveAggressiveClassifier        0.40  ...        0.02\n",
              "LabelPropagation                   0.43  ...        0.42\n",
              "LabelSpreading                     0.43  ...        0.52\n",
              "LinearDiscriminantAnalysis         0.43  ...        0.03\n",
              "RidgeClassifier                    0.43  ...        0.02\n",
              "RidgeClassifierCV                  0.43  ...        0.02\n",
              "BernoulliNB                        0.43  ...        0.02\n",
              "AdaBoostClassifier                 0.40  ...        0.19\n",
              "DummyClassifier                    0.28  ...        0.01\n",
              "\n",
              "[26 rows x 5 columns]"
            ]
          },
          "metadata": {
            "tags": []
          },
          "execution_count": 84
        }
      ]
    },
    {
      "cell_type": "markdown",
      "metadata": {
        "id": "4lCknXVfIFw1"
      },
      "source": [
        "### resultado"
      ]
    },
    {
      "cell_type": "code",
      "metadata": {
        "colab": {
          "base_uri": "https://localhost:8080/"
        },
        "id": "QpWNaN4b4JA8",
        "outputId": "d3336dd4-2450-462e-81ae-7ceadf256f60"
      },
      "source": [
        "models_pca.mean()"
      ],
      "execution_count": null,
      "outputs": [
        {
          "output_type": "execute_result",
          "data": {
            "text/plain": [
              "Accuracy            0.53\n",
              "Balanced Accuracy   0.39\n",
              "ROC AUC              NaN\n",
              "F1 Score            0.47\n",
              "Time Taken          0.17\n",
              "dtype: float64"
            ]
          },
          "metadata": {
            "tags": []
          },
          "execution_count": 85
        }
      ]
    },
    {
      "cell_type": "markdown",
      "metadata": {
        "id": "N6rUS7Hm4SJo"
      },
      "source": [
        "A redução da dimensionalidade PCA para dois componentes reduziu o desempenho dos modelos para um acurácia balanceada média de 39% (-40%) e F1 de 47% (-45%)."
      ]
    },
    {
      "cell_type": "code",
      "metadata": {
        "colab": {
          "base_uri": "https://localhost:8080/"
        },
        "id": "e1sy7Y_e7ZXJ",
        "outputId": "89a2ac71-dac3-4773-cea7-93a52836228e"
      },
      "source": [
        "for col in predictions_pca.columns:\n",
        "  print(col)\n",
        "  print(classification_report(y_test, predictions_pca[col]))"
      ],
      "execution_count": null,
      "outputs": [
        {
          "output_type": "stream",
          "text": [
            "AdaBoostClassifier\n",
            "              precision    recall  f1-score   support\n",
            "\n",
            "           1       0.35      0.99      0.52       442\n",
            "           2       0.00      0.00      0.00       308\n",
            "           3       0.00      0.00      0.00        40\n",
            "           4       0.00      0.00      0.00       101\n",
            "           5       0.94      0.21      0.34       437\n",
            "\n",
            "    accuracy                           0.40      1328\n",
            "   macro avg       0.26      0.24      0.17      1328\n",
            "weighted avg       0.43      0.40      0.28      1328\n",
            "\n",
            "BaggingClassifier\n",
            "              precision    recall  f1-score   support\n",
            "\n",
            "           1       0.72      0.73      0.72       442\n",
            "           2       0.70      0.65      0.68       308\n",
            "           3       0.47      0.17      0.25        40\n",
            "           4       0.37      0.35      0.36       101\n",
            "           5       0.82      0.90      0.86       437\n",
            "\n",
            "    accuracy                           0.72      1328\n",
            "   macro avg       0.61      0.56      0.57      1328\n",
            "weighted avg       0.71      0.72      0.72      1328\n",
            "\n",
            "BernoulliNB\n",
            "              precision    recall  f1-score   support\n",
            "\n",
            "           1       0.37      1.00      0.54       442\n",
            "           2       0.00      0.00      0.00       308\n",
            "           3       0.00      0.00      0.00        40\n",
            "           4       0.00      0.00      0.00       101\n",
            "           5       1.00      0.28      0.44       437\n",
            "\n",
            "    accuracy                           0.43      1328\n",
            "   macro avg       0.27      0.26      0.20      1328\n",
            "weighted avg       0.45      0.43      0.32      1328\n",
            "\n",
            "CalibratedClassifierCV\n",
            "              precision    recall  f1-score   support\n",
            "\n",
            "           1       0.48      0.73      0.58       442\n",
            "           2       0.00      0.00      0.00       308\n",
            "           3       0.00      0.00      0.00        40\n",
            "           4       0.00      0.00      0.00       101\n",
            "           5       0.66      1.00      0.80       437\n",
            "\n",
            "    accuracy                           0.57      1328\n",
            "   macro avg       0.23      0.35      0.28      1328\n",
            "weighted avg       0.38      0.57      0.45      1328\n",
            "\n",
            "DecisionTreeClassifier\n",
            "              precision    recall  f1-score   support\n",
            "\n",
            "           1       0.74      0.70      0.72       442\n",
            "           2       0.69      0.68      0.68       308\n",
            "           3       0.42      0.38      0.39        40\n",
            "           4       0.41      0.43      0.42       101\n",
            "           5       0.84      0.89      0.86       437\n",
            "\n",
            "    accuracy                           0.73      1328\n",
            "   macro avg       0.62      0.61      0.62      1328\n",
            "weighted avg       0.72      0.73      0.73      1328\n",
            "\n",
            "DummyClassifier\n",
            "              precision    recall  f1-score   support\n",
            "\n",
            "           1       0.32      0.32      0.32       442\n",
            "           2       0.22      0.20      0.21       308\n",
            "           3       0.00      0.00      0.00        40\n",
            "           4       0.05      0.04      0.04       101\n",
            "           5       0.35      0.38      0.36       437\n",
            "\n",
            "    accuracy                           0.28      1328\n",
            "   macro avg       0.18      0.19      0.19      1328\n",
            "weighted avg       0.27      0.28      0.28      1328\n",
            "\n",
            "ExtraTreeClassifier\n",
            "              precision    recall  f1-score   support\n",
            "\n",
            "           1       0.76      0.75      0.75       442\n",
            "           2       0.73      0.71      0.72       308\n",
            "           3       0.50      0.40      0.44        40\n",
            "           4       0.47      0.48      0.47       101\n",
            "           5       0.85      0.89      0.87       437\n",
            "\n",
            "    accuracy                           0.76      1328\n",
            "   macro avg       0.66      0.65      0.65      1328\n",
            "weighted avg       0.75      0.76      0.75      1328\n",
            "\n",
            "ExtraTreesClassifier\n",
            "              precision    recall  f1-score   support\n",
            "\n",
            "           1       0.84      0.80      0.82       442\n",
            "           2       0.77      0.78      0.78       308\n",
            "           3       0.48      0.40      0.44        40\n",
            "           4       0.47      0.38      0.42       101\n",
            "           5       0.83      0.92      0.87       437\n",
            "\n",
            "    accuracy                           0.79      1328\n",
            "   macro avg       0.68      0.66      0.67      1328\n",
            "weighted avg       0.78      0.79      0.79      1328\n",
            "\n",
            "GaussianNB\n",
            "              precision    recall  f1-score   support\n",
            "\n",
            "           1       0.33      0.72      0.45       442\n",
            "           2       0.43      0.33      0.38       308\n",
            "           3       0.00      0.00      0.00        40\n",
            "           4       0.00      0.00      0.00       101\n",
            "           5       1.00      0.28      0.44       437\n",
            "\n",
            "    accuracy                           0.41      1328\n",
            "   macro avg       0.35      0.27      0.25      1328\n",
            "weighted avg       0.54      0.41      0.38      1328\n",
            "\n",
            "KNeighborsClassifier\n",
            "              precision    recall  f1-score   support\n",
            "\n",
            "           1       0.53      0.54      0.54       442\n",
            "           2       0.54      0.48      0.51       308\n",
            "           3       0.00      0.00      0.00        40\n",
            "           4       0.26      0.24      0.25       101\n",
            "           5       0.72      0.83      0.77       437\n",
            "\n",
            "    accuracy                           0.58      1328\n",
            "   macro avg       0.41      0.42      0.41      1328\n",
            "weighted avg       0.56      0.58      0.57      1328\n",
            "\n",
            "LabelPropagation\n",
            "              precision    recall  f1-score   support\n",
            "\n",
            "           1       0.37      0.99      0.54       442\n",
            "           2       0.00      0.00      0.00       308\n",
            "           3       0.00      0.00      0.00        40\n",
            "           4       0.00      0.00      0.00       101\n",
            "           5       0.94      0.30      0.45       437\n",
            "\n",
            "    accuracy                           0.43      1328\n",
            "   macro avg       0.26      0.26      0.20      1328\n",
            "weighted avg       0.43      0.43      0.33      1328\n",
            "\n",
            "LabelSpreading\n",
            "              precision    recall  f1-score   support\n",
            "\n",
            "           1       0.37      1.00      0.54       442\n",
            "           2       0.00      0.00      0.00       308\n",
            "           3       0.00      0.00      0.00        40\n",
            "           4       0.00      0.00      0.00       101\n",
            "           5       0.97      0.29      0.45       437\n",
            "\n",
            "    accuracy                           0.43      1328\n",
            "   macro avg       0.27      0.26      0.20      1328\n",
            "weighted avg       0.44      0.43      0.33      1328\n",
            "\n",
            "LinearDiscriminantAnalysis\n",
            "              precision    recall  f1-score   support\n",
            "\n",
            "           1       0.37      1.00      0.54       442\n",
            "           2       0.00      0.00      0.00       308\n",
            "           3       0.00      0.00      0.00        40\n",
            "           4       0.00      0.00      0.00       101\n",
            "           5       1.00      0.28      0.44       437\n",
            "\n",
            "    accuracy                           0.43      1328\n",
            "   macro avg       0.27      0.26      0.20      1328\n",
            "weighted avg       0.45      0.43      0.32      1328\n",
            "\n",
            "LinearSVC\n",
            "              precision    recall  f1-score   support\n",
            "\n",
            "           1       0.48      0.73      0.58       442\n",
            "           2       0.00      0.00      0.00       308\n",
            "           3       0.00      0.00      0.00        40\n",
            "           4       0.00      0.00      0.00       101\n",
            "           5       0.66      1.00      0.80       437\n",
            "\n",
            "    accuracy                           0.57      1328\n",
            "   macro avg       0.23      0.35      0.28      1328\n",
            "weighted avg       0.38      0.57      0.45      1328\n",
            "\n",
            "LogisticRegression\n",
            "              precision    recall  f1-score   support\n",
            "\n",
            "           1       0.48      0.73      0.58       442\n",
            "           2       0.00      0.00      0.00       308\n",
            "           3       0.00      0.00      0.00        40\n",
            "           4       0.00      0.00      0.00       101\n",
            "           5       0.66      1.00      0.80       437\n",
            "\n",
            "    accuracy                           0.57      1328\n",
            "   macro avg       0.23      0.35      0.28      1328\n",
            "weighted avg       0.38      0.57      0.45      1328\n",
            "\n",
            "NearestCentroid\n",
            "              precision    recall  f1-score   support\n",
            "\n",
            "           1       0.36      0.02      0.04       442\n",
            "           2       0.44      0.17      0.24       308\n",
            "           3       0.03      0.47      0.06        40\n",
            "           4       0.11      0.50      0.18       101\n",
            "           5       1.00      0.28      0.44       437\n",
            "\n",
            "    accuracy                           0.19      1328\n",
            "   macro avg       0.39      0.29      0.19      1328\n",
            "weighted avg       0.56      0.19      0.23      1328\n",
            "\n",
            "PassiveAggressiveClassifier\n",
            "              precision    recall  f1-score   support\n",
            "\n",
            "           1       0.45      0.36      0.40       442\n",
            "           2       0.00      0.00      0.00       308\n",
            "           3       0.00      0.00      0.00        40\n",
            "           4       0.02      0.10      0.04       101\n",
            "           5       0.66      0.84      0.74       437\n",
            "\n",
            "    accuracy                           0.40      1328\n",
            "   macro avg       0.23      0.26      0.24      1328\n",
            "weighted avg       0.37      0.40      0.38      1328\n",
            "\n",
            "Perceptron\n",
            "              precision    recall  f1-score   support\n",
            "\n",
            "           1       0.44      0.64      0.52       442\n",
            "           2       0.00      0.00      0.00       308\n",
            "           3       0.07      0.25      0.11        40\n",
            "           4       0.00      0.00      0.00       101\n",
            "           5       0.67      0.82      0.74       437\n",
            "\n",
            "    accuracy                           0.49      1328\n",
            "   macro avg       0.23      0.34      0.27      1328\n",
            "weighted avg       0.37      0.49      0.42      1328\n",
            "\n",
            "QuadraticDiscriminantAnalysis\n",
            "              precision    recall  f1-score   support\n",
            "\n",
            "           1       0.58      0.71      0.64       442\n",
            "           2       0.70      0.98      0.82       308\n",
            "           3       0.87      1.00      0.93        40\n",
            "           4       0.55      1.00      0.71       101\n",
            "           5       1.00      0.28      0.44       437\n",
            "\n",
            "    accuracy                           0.66      1328\n",
            "   macro avg       0.74      0.80      0.71      1328\n",
            "weighted avg       0.75      0.66      0.63      1328\n",
            "\n",
            "RandomForestClassifier\n",
            "              precision    recall  f1-score   support\n",
            "\n",
            "           1       0.73      0.71      0.72       442\n",
            "           2       0.68      0.67      0.67       308\n",
            "           3       0.47      0.23      0.31        40\n",
            "           4       0.39      0.28      0.32       101\n",
            "           5       0.79      0.92      0.85       437\n",
            "\n",
            "    accuracy                           0.72      1328\n",
            "   macro avg       0.61      0.56      0.57      1328\n",
            "weighted avg       0.71      0.72      0.71      1328\n",
            "\n",
            "RidgeClassifier\n",
            "              precision    recall  f1-score   support\n",
            "\n",
            "           1       0.37      1.00      0.54       442\n",
            "           2       0.00      0.00      0.00       308\n",
            "           3       0.00      0.00      0.00        40\n",
            "           4       0.00      0.00      0.00       101\n",
            "           5       1.00      0.28      0.44       437\n",
            "\n",
            "    accuracy                           0.43      1328\n",
            "   macro avg       0.27      0.26      0.20      1328\n",
            "weighted avg       0.45      0.43      0.32      1328\n",
            "\n",
            "RidgeClassifierCV\n",
            "              precision    recall  f1-score   support\n",
            "\n",
            "           1       0.37      1.00      0.54       442\n",
            "           2       0.00      0.00      0.00       308\n",
            "           3       0.00      0.00      0.00        40\n",
            "           4       0.00      0.00      0.00       101\n",
            "           5       1.00      0.28      0.44       437\n",
            "\n",
            "    accuracy                           0.43      1328\n",
            "   macro avg       0.27      0.26      0.20      1328\n",
            "weighted avg       0.45      0.43      0.32      1328\n",
            "\n",
            "SGDClassifier\n",
            "              precision    recall  f1-score   support\n",
            "\n",
            "           1       0.42      0.16      0.23       442\n",
            "           2       0.45      0.72      0.55       308\n",
            "           3       0.00      0.00      0.00        40\n",
            "           4       0.00      0.00      0.00       101\n",
            "           5       0.66      1.00      0.80       437\n",
            "\n",
            "    accuracy                           0.55      1328\n",
            "   macro avg       0.31      0.38      0.32      1328\n",
            "weighted avg       0.46      0.55      0.47      1328\n",
            "\n",
            "SVC\n",
            "              precision    recall  f1-score   support\n",
            "\n",
            "           1       0.48      0.73      0.58       442\n",
            "           2       0.00      0.00      0.00       308\n",
            "           3       0.00      0.00      0.00        40\n",
            "           4       0.00      0.00      0.00       101\n",
            "           5       0.66      1.00      0.80       437\n",
            "\n",
            "    accuracy                           0.57      1328\n",
            "   macro avg       0.23      0.35      0.28      1328\n",
            "weighted avg       0.38      0.57      0.45      1328\n",
            "\n",
            "XGBClassifier\n",
            "              precision    recall  f1-score   support\n",
            "\n",
            "           1       0.66      0.64      0.65       442\n",
            "           2       0.67      0.63      0.65       308\n",
            "           3       0.50      0.10      0.17        40\n",
            "           4       0.38      0.18      0.24       101\n",
            "           5       0.74      0.94      0.83       437\n",
            "\n",
            "    accuracy                           0.69      1328\n",
            "   macro avg       0.59      0.50      0.51      1328\n",
            "weighted avg       0.66      0.69      0.66      1328\n",
            "\n",
            "LGBMClassifier\n",
            "              precision    recall  f1-score   support\n",
            "\n",
            "           1       0.52      0.46      0.49       442\n",
            "           2       0.49      0.47      0.48       308\n",
            "           3       0.40      0.10      0.16        40\n",
            "           4       0.33      0.14      0.19       101\n",
            "           5       0.70      0.95      0.81       437\n",
            "\n",
            "    accuracy                           0.59      1328\n",
            "   macro avg       0.49      0.42      0.43      1328\n",
            "weighted avg       0.56      0.59      0.56      1328\n",
            "\n"
          ],
          "name": "stdout"
        }
      ]
    },
    {
      "cell_type": "code",
      "metadata": {
        "id": "VmnMQ4AdKIMP"
      },
      "source": [
        "kpca_2 = KernelPCA(n_components=2)\n",
        "kpca_2.fit(X_train)\n",
        "X_train_kpca, X_test_kpca = kpca_2.transform(X_train), kpca_2.transform(X_test)"
      ],
      "execution_count": null,
      "outputs": []
    },
    {
      "cell_type": "code",
      "metadata": {
        "colab": {
          "base_uri": "https://localhost:8080/"
        },
        "id": "G2ac6JoVLoO6",
        "outputId": "46b3c76b-2a41-49bd-fc8b-016cfd4ccfe8"
      },
      "source": [
        "clf_kpca = LazyClassifier(verbose=1,ignore_warnings=False, custom_metric=None, predictions=True)\n",
        "models_kpca, predictions_kpca = clf_kpca.fit(X_train_kpca, X_test_kpca, y_train, y_test)"
      ],
      "execution_count": null,
      "outputs": [
        {
          "output_type": "stream",
          "text": [
            " 10%|█         | 3/29 [00:00<00:02, 10.06it/s]"
          ],
          "name": "stderr"
        },
        {
          "output_type": "stream",
          "text": [
            "ROC AUC couldn't be calculated for AdaBoostClassifier\n",
            "multi_class must be in ('ovo', 'ovr')\n",
            "{'Model': 'AdaBoostClassifier', 'Accuracy': 0.39683734939759036, 'Balanced Accuracy': 0.2389274879112004, 'ROC AUC': None, 'F1 Score': 0.28490146981302794, 'Time taken': 0.23151159286499023}\n",
            "ROC AUC couldn't be calculated for BaggingClassifier\n",
            "multi_class must be in ('ovo', 'ovr')\n",
            "{'Model': 'BaggingClassifier', 'Accuracy': 0.7228915662650602, 'Balanced Accuracy': 0.5612954462830118, 'ROC AUC': None, 'F1 Score': 0.715094095403083, 'Time taken': 0.09025859832763672}\n",
            "ROC AUC couldn't be calculated for BernoulliNB\n",
            "multi_class must be in ('ovo', 'ovr')\n",
            "{'Model': 'BernoulliNB', 'Accuracy': 0.42620481927710846, 'Balanced Accuracy': 0.25675057208237984, 'ROC AUC': None, 'F1 Score': 0.32421981673975, 'Time taken': 0.014878273010253906}\n"
          ],
          "name": "stdout"
        },
        {
          "output_type": "stream",
          "text": [
            "\r 17%|█▋        | 5/29 [00:00<00:03,  7.58it/s]"
          ],
          "name": "stderr"
        },
        {
          "output_type": "stream",
          "text": [
            "ROC AUC couldn't be calculated for CalibratedClassifierCV\n",
            "multi_class must be in ('ovo', 'ovr')\n",
            "{'Model': 'CalibratedClassifierCV', 'Accuracy': 0.5707831325301205, 'Balanced Accuracy': 0.34524886877828054, 'ROC AUC': None, 'F1 Score': 0.4547415044852916, 'Time taken': 0.3147919178009033}\n",
            "CategoricalNB model failed to execute\n",
            "Negative values in data passed to CategoricalNB (input X)\n",
            "ROC AUC couldn't be calculated for DecisionTreeClassifier\n",
            "multi_class must be in ('ovo', 'ovr')\n",
            "{'Model': 'DecisionTreeClassifier', 'Accuracy': 0.7266566265060241, 'Balanced Accuracy': 0.6137086644878227, 'ROC AUC': None, 'F1 Score': 0.7251501486259976, 'Time taken': 0.02816462516784668}\n",
            "ROC AUC couldn't be calculated for DummyClassifier\n",
            "multi_class must be in ('ovo', 'ovr')\n",
            "{'Model': 'DummyClassifier', 'Accuracy': 0.28012048192771083, 'Balanced Accuracy': 0.187294272280525, 'ROC AUC': None, 'F1 Score': 0.2762093909851362, 'Time taken': 0.020864486694335938}\n",
            "ROC AUC couldn't be calculated for ExtraTreeClassifier\n",
            "multi_class must be in ('ovo', 'ovr')\n",
            "{'Model': 'ExtraTreeClassifier', 'Accuracy': 0.7560240963855421, 'Balanced Accuracy': 0.6455155781154509, 'ROC AUC': None, 'F1 Score': 0.7542487795817031, 'Time taken': 0.019762039184570312}\n"
          ],
          "name": "stdout"
        },
        {
          "output_type": "stream",
          "text": [
            "\r 31%|███       | 9/29 [00:01<00:02,  8.94it/s]"
          ],
          "name": "stderr"
        },
        {
          "output_type": "stream",
          "text": [
            "ROC AUC couldn't be calculated for ExtraTreesClassifier\n",
            "multi_class must be in ('ovo', 'ovr')\n",
            "{'Model': 'ExtraTreesClassifier', 'Accuracy': 0.7914156626506024, 'Balanced Accuracy': 0.6558985428688319, 'ROC AUC': None, 'F1 Score': 0.7865550112488101, 'Time taken': 0.32285141944885254}\n",
            "ROC AUC couldn't be calculated for GaussianNB\n",
            "multi_class must be in ('ovo', 'ovr')\n",
            "{'Model': 'GaussianNB', 'Accuracy': 0.40963855421686746, 'Balanced Accuracy': 0.26707260299264607, 'ROC AUC': None, 'F1 Score': 0.3827359184555523, 'Time taken': 0.015950679779052734}\n",
            "ROC AUC couldn't be calculated for KNeighborsClassifier\n",
            "multi_class must be in ('ovo', 'ovr')\n",
            "{'Model': 'KNeighborsClassifier', 'Accuracy': 0.5835843373493976, 'Balanced Accuracy': 0.418358656759145, 'ROC AUC': None, 'F1 Score': 0.5681475569732444, 'Time taken': 0.05690145492553711}\n"
          ],
          "name": "stdout"
        },
        {
          "output_type": "stream",
          "text": [
            "\r 41%|████▏     | 12/29 [00:01<00:02,  7.47it/s]"
          ],
          "name": "stderr"
        },
        {
          "output_type": "stream",
          "text": [
            "ROC AUC couldn't be calculated for LabelPropagation\n",
            "multi_class must be in ('ovo', 'ovr')\n",
            "{'Model': 'LabelPropagation', 'Accuracy': 0.4269578313253012, 'Balanced Accuracy': 0.25722894685069947, 'ROC AUC': None, 'F1 Score': 0.32645054068935714, 'Time taken': 0.42823266983032227}\n"
          ],
          "name": "stdout"
        },
        {
          "output_type": "stream",
          "text": [
            " 52%|█████▏    | 15/29 [00:02<00:02,  6.58it/s]"
          ],
          "name": "stderr"
        },
        {
          "output_type": "stream",
          "text": [
            "ROC AUC couldn't be calculated for LabelSpreading\n",
            "multi_class must be in ('ovo', 'ovr')\n",
            "{'Model': 'LabelSpreading', 'Accuracy': 0.4269578313253012, 'Balanced Accuracy': 0.25721859241848477, 'ROC AUC': None, 'F1 Score': 0.3258542547636429, 'Time taken': 0.5305819511413574}\n",
            "ROC AUC couldn't be calculated for LinearDiscriminantAnalysis\n",
            "multi_class must be in ('ovo', 'ovr')\n",
            "{'Model': 'LinearDiscriminantAnalysis', 'Accuracy': 0.42620481927710846, 'Balanced Accuracy': 0.25675057208237984, 'ROC AUC': None, 'F1 Score': 0.32421981673975, 'Time taken': 0.027615785598754883}\n",
            "ROC AUC couldn't be calculated for LinearSVC\n",
            "multi_class must be in ('ovo', 'ovr')\n",
            "{'Model': 'LinearSVC', 'Accuracy': 0.5707831325301205, 'Balanced Accuracy': 0.34524886877828054, 'ROC AUC': None, 'F1 Score': 0.4547415044852916, 'Time taken': 0.07793426513671875}\n"
          ],
          "name": "stdout"
        },
        {
          "output_type": "stream",
          "text": [
            "\r 59%|█████▊    | 17/29 [00:02<00:01,  7.94it/s]"
          ],
          "name": "stderr"
        },
        {
          "output_type": "stream",
          "text": [
            "ROC AUC couldn't be calculated for LogisticRegression\n",
            "multi_class must be in ('ovo', 'ovr')\n",
            "{'Model': 'LogisticRegression', 'Accuracy': 0.5707831325301205, 'Balanced Accuracy': 0.34524886877828054, 'ROC AUC': None, 'F1 Score': 0.4547415044852916, 'Time taken': 0.11732935905456543}\n",
            "ROC AUC couldn't be calculated for NearestCentroid\n",
            "multi_class must be in ('ovo', 'ovr')\n",
            "{'Model': 'NearestCentroid', 'Accuracy': 0.19201807228915663, 'Balanced Accuracy': 0.290382441086992, 'ROC AUC': None, 'F1 Score': 0.2307217575109451, 'Time taken': 0.01545095443725586}\n",
            "NuSVC model failed to execute\n",
            "specified nu is infeasible\n",
            "ROC AUC couldn't be calculated for PassiveAggressiveClassifier\n",
            "multi_class must be in ('ovo', 'ovr')\n",
            "{'Model': 'PassiveAggressiveClassifier', 'Accuracy': 0.4036144578313253, 'Balanced Accuracy': 0.259716245499282, 'ROC AUC': None, 'F1 Score': 0.3784109204513266, 'Time taken': 0.025031328201293945}\n",
            "ROC AUC couldn't be calculated for Perceptron\n",
            "multi_class must be in ('ovo', 'ovr')\n",
            "{'Model': 'Perceptron', 'Accuracy': 0.49021084337349397, 'Balanced Accuracy': 0.3418986922352113, 'ROC AUC': None, 'F1 Score': 0.41858688681610484, 'Time taken': 0.021443605422973633}\n",
            "ROC AUC couldn't be calculated for QuadraticDiscriminantAnalysis\n",
            "multi_class must be in ('ovo', 'ovr')\n",
            "{'Model': 'QuadraticDiscriminantAnalysis', 'Accuracy': 0.6641566265060241, 'Balanced Accuracy': 0.7953884048378597, 'ROC AUC': None, 'F1 Score': 0.6298643182909732, 'Time taken': 0.017658710479736328}\n"
          ],
          "name": "stdout"
        },
        {
          "output_type": "stream",
          "text": [
            "\r 76%|███████▌  | 22/29 [00:02<00:00,  8.25it/s]"
          ],
          "name": "stderr"
        },
        {
          "output_type": "stream",
          "text": [
            "ROC AUC couldn't be calculated for RandomForestClassifier\n",
            "multi_class must be in ('ovo', 'ovr')\n",
            "{'Model': 'RandomForestClassifier', 'Accuracy': 0.7198795180722891, 'Balanced Accuracy': 0.5589070991527714, 'ROC AUC': None, 'F1 Score': 0.7088494013419183, 'Time taken': 0.506610631942749}\n",
            "ROC AUC couldn't be calculated for RidgeClassifier\n",
            "multi_class must be in ('ovo', 'ovr')\n",
            "{'Model': 'RidgeClassifier', 'Accuracy': 0.42620481927710846, 'Balanced Accuracy': 0.25675057208237984, 'ROC AUC': None, 'F1 Score': 0.32421981673975, 'Time taken': 0.018735647201538086}\n",
            "ROC AUC couldn't be calculated for RidgeClassifierCV\n",
            "multi_class must be in ('ovo', 'ovr')\n",
            "{'Model': 'RidgeClassifierCV', 'Accuracy': 0.42620481927710846, 'Balanced Accuracy': 0.25675057208237984, 'ROC AUC': None, 'F1 Score': 0.32421981673975, 'Time taken': 0.01718449592590332}\n",
            "ROC AUC couldn't be calculated for SGDClassifier\n",
            "multi_class must be in ('ovo', 'ovr')\n",
            "{'Model': 'SGDClassifier', 'Accuracy': 0.5504518072289156, 'Balanced Accuracy': 0.376931891637774, 'ROC AUC': None, 'F1 Score': 0.46778379660222436, 'Time taken': 0.03834724426269531}\n"
          ],
          "name": "stdout"
        },
        {
          "output_type": "stream",
          "text": [
            "\r 90%|████████▉ | 26/29 [00:03<00:00,  8.04it/s]"
          ],
          "name": "stderr"
        },
        {
          "output_type": "stream",
          "text": [
            "ROC AUC couldn't be calculated for SVC\n",
            "multi_class must be in ('ovo', 'ovr')\n",
            "{'Model': 'SVC', 'Accuracy': 0.5707831325301205, 'Balanced Accuracy': 0.34524886877828054, 'ROC AUC': None, 'F1 Score': 0.4547415044852916, 'Time taken': 0.442842960357666}\n",
            "StackingClassifier model failed to execute\n",
            "__init__() missing 1 required positional argument: 'estimators'\n"
          ],
          "name": "stdout"
        },
        {
          "output_type": "stream",
          "text": [
            "\r 97%|█████████▋| 28/29 [00:04<00:00,  6.25it/s]"
          ],
          "name": "stderr"
        },
        {
          "output_type": "stream",
          "text": [
            "ROC AUC couldn't be calculated for XGBClassifier\n",
            "multi_class must be in ('ovo', 'ovr')\n",
            "{'Model': 'XGBClassifier', 'Accuracy': 0.6852409638554217, 'Balanced Accuracy': 0.49777775268795876, 'ROC AUC': None, 'F1 Score': 0.6631347640477483, 'Time taken': 0.5861399173736572}\n"
          ],
          "name": "stdout"
        },
        {
          "output_type": "stream",
          "text": [
            "100%|██████████| 29/29 [00:04<00:00,  6.44it/s]"
          ],
          "name": "stderr"
        },
        {
          "output_type": "stream",
          "text": [
            "ROC AUC couldn't be calculated for LGBMClassifier\n",
            "multi_class must be in ('ovo', 'ovr')\n",
            "{'Model': 'LGBMClassifier', 'Accuracy': 0.5881024096385542, 'Balanced Accuracy': 0.42346313098972266, 'ROC AUC': None, 'F1 Score': 0.5596530924957953, 'Time taken': 0.4798929691314697}\n"
          ],
          "name": "stdout"
        },
        {
          "output_type": "stream",
          "text": [
            "\n"
          ],
          "name": "stderr"
        }
      ]
    },
    {
      "cell_type": "code",
      "metadata": {
        "colab": {
          "base_uri": "https://localhost:8080/"
        },
        "id": "hGIolYHZL1Z4",
        "outputId": "ebcd9d37-5729-46d8-9668-33dd55e67747"
      },
      "source": [
        "models_kpca.mean()"
      ],
      "execution_count": null,
      "outputs": [
        {
          "output_type": "execute_result",
          "data": {
            "text/plain": [
              "Accuracy            0.53\n",
              "Balanced Accuracy   0.39\n",
              "ROC AUC              NaN\n",
              "F1 Score            0.47\n",
              "Time Taken          0.17\n",
              "dtype: float64"
            ]
          },
          "metadata": {
            "tags": []
          },
          "execution_count": 89
        }
      ]
    },
    {
      "cell_type": "markdown",
      "metadata": {
        "id": "HaJsXv-gMSSM"
      },
      "source": [
        "A redução da dimensionalidade KPCA para dois componentes reduziu o desempenho dos modelos para um acurácia balanceada média de 39% (-40%) e F1 de 47% (-45%)."
      ]
    },
    {
      "cell_type": "markdown",
      "metadata": {
        "id": "8DkRJ21T5bx_"
      },
      "source": [
        "# Treinamento com balanceamento de dados"
      ]
    },
    {
      "cell_type": "code",
      "metadata": {
        "id": "MdqeY6_5Fjbc"
      },
      "source": [
        "import six\n",
        "import sys\n",
        "sys.modules['sklearn.externals.six'] = six\n",
        "#import mlrose"
      ],
      "execution_count": null,
      "outputs": []
    },
    {
      "cell_type": "markdown",
      "metadata": {
        "id": "SZvZXM0ZHJQO"
      },
      "source": [
        "Uso da técnica Synthetic Minority Over-sampling (SMOTE) para equilibrar as classes"
      ]
    },
    {
      "cell_type": "code",
      "metadata": {
        "id": "ocw_EQRFE7sE"
      },
      "source": [
        "from imblearn.over_sampling import SMOTE, ADASYN"
      ],
      "execution_count": null,
      "outputs": []
    },
    {
      "cell_type": "code",
      "metadata": {
        "colab": {
          "base_uri": "https://localhost:8080/"
        },
        "id": "_M8p80ME7l2_",
        "outputId": "64b3ed58-c066-43ed-8b79-ed84cb91add7"
      },
      "source": [
        "pd.Series(y_train).value_counts()"
      ],
      "execution_count": null,
      "outputs": [
        {
          "output_type": "execute_result",
          "data": {
            "text/plain": [
              "5    933\n",
              "1    923\n",
              "2    593\n",
              "4    175\n",
              "3     72\n",
              "Name: classe, dtype: int64"
            ]
          },
          "metadata": {
            "tags": []
          },
          "execution_count": 92
        }
      ]
    },
    {
      "cell_type": "code",
      "metadata": {
        "id": "0bNWzbgJ62HG"
      },
      "source": [
        "X_resampled, y_resampled = SMOTE().fit_resample(X, y)"
      ],
      "execution_count": null,
      "outputs": []
    },
    {
      "cell_type": "code",
      "metadata": {
        "colab": {
          "base_uri": "https://localhost:8080/"
        },
        "id": "4s9zcANUJBZ_",
        "outputId": "754fd29e-2856-4174-d5c0-ed7782d6cff6"
      },
      "source": [
        "pd.Series(y_resampled).value_counts()"
      ],
      "execution_count": null,
      "outputs": [
        {
          "output_type": "execute_result",
          "data": {
            "text/plain": [
              "4    1370\n",
              "1    1370\n",
              "5    1370\n",
              "2    1370\n",
              "3    1370\n",
              "dtype: int64"
            ]
          },
          "metadata": {
            "tags": []
          },
          "execution_count": 94
        }
      ]
    },
    {
      "cell_type": "code",
      "metadata": {
        "colab": {
          "base_uri": "https://localhost:8080/"
        },
        "id": "oGeqvBAIGnjU",
        "outputId": "0113b457-df3d-461f-d246-73d79ef3df7c"
      },
      "source": [
        "clf_imb = LazyClassifier(verbose=1,ignore_warnings=False, custom_metric=None, predictions=True)\n",
        "models_imb, predictions_imb = clf_imb.fit(X_resampled, X_test, y_resampled, y_test)"
      ],
      "execution_count": null,
      "outputs": [
        {
          "output_type": "stream",
          "text": [
            "  3%|▎         | 1/29 [00:02<01:17,  2.78s/it]"
          ],
          "name": "stderr"
        },
        {
          "output_type": "stream",
          "text": [
            "ROC AUC couldn't be calculated for AdaBoostClassifier\n",
            "multi_class must be in ('ovo', 'ovr')\n",
            "{'Model': 'AdaBoostClassifier', 'Accuracy': 0.670933734939759, 'Balanced Accuracy': 0.8, 'ROC AUC': None, 'F1 Score': 0.6189216961743688, 'Time taken': 2.778784990310669}\n"
          ],
          "name": "stdout"
        },
        {
          "output_type": "stream",
          "text": [
            "\r  7%|▋         | 2/29 [00:03<00:48,  1.80s/it]"
          ],
          "name": "stderr"
        },
        {
          "output_type": "stream",
          "text": [
            "ROC AUC couldn't be calculated for BaggingClassifier\n",
            "multi_class must be in ('ovo', 'ovr')\n",
            "{'Model': 'BaggingClassifier', 'Accuracy': 1.0, 'Balanced Accuracy': 1.0, 'ROC AUC': None, 'F1 Score': 1.0, 'Time taken': 1.1101057529449463}\n",
            "ROC AUC couldn't be calculated for BernoulliNB\n",
            "multi_class must be in ('ovo', 'ovr')\n",
            "{'Model': 'BernoulliNB', 'Accuracy': 0.6980421686746988, 'Balanced Accuracy': 0.7697081069448525, 'ROC AUC': None, 'F1 Score': 0.6655681532777478, 'Time taken': 0.08348202705383301}\n"
          ],
          "name": "stdout"
        },
        {
          "output_type": "stream",
          "text": [
            "\r 14%|█▍        | 4/29 [00:07<00:45,  1.82s/it]"
          ],
          "name": "stderr"
        },
        {
          "output_type": "stream",
          "text": [
            "ROC AUC couldn't be calculated for CalibratedClassifierCV\n",
            "multi_class must be in ('ovo', 'ovr')\n",
            "{'Model': 'CalibratedClassifierCV', 'Accuracy': 0.9984939759036144, 'Balanced Accuracy': 0.9988981606628666, 'ROC AUC': None, 'F1 Score': 0.9984939759036144, 'Time taken': 3.594770669937134}\n",
            "CategoricalNB model failed to execute\n",
            "Negative values in data passed to CategoricalNB (input X)\n"
          ],
          "name": "stdout"
        },
        {
          "output_type": "stream",
          "text": [
            " 28%|██▊       | 8/29 [00:07<00:13,  1.56it/s]"
          ],
          "name": "stderr"
        },
        {
          "output_type": "stream",
          "text": [
            "ROC AUC couldn't be calculated for DecisionTreeClassifier\n",
            "multi_class must be in ('ovo', 'ovr')\n",
            "{'Model': 'DecisionTreeClassifier', 'Accuracy': 1.0, 'Balanced Accuracy': 1.0, 'ROC AUC': None, 'F1 Score': 1.0, 'Time taken': 0.21980047225952148}\n",
            "ROC AUC couldn't be calculated for DummyClassifier\n",
            "multi_class must be in ('ovo', 'ovr')\n",
            "{'Model': 'DummyClassifier', 'Accuracy': 0.2183734939759036, 'Balanced Accuracy': 0.20509333478807537, 'ROC AUC': None, 'F1 Score': 0.24682492835901187, 'Time taken': 0.06164717674255371}\n",
            "ROC AUC couldn't be calculated for ExtraTreeClassifier\n",
            "multi_class must be in ('ovo', 'ovr')\n",
            "{'Model': 'ExtraTreeClassifier', 'Accuracy': 1.0, 'Balanced Accuracy': 1.0, 'ROC AUC': None, 'F1 Score': 1.0, 'Time taken': 0.06397199630737305}\n"
          ],
          "name": "stdout"
        },
        {
          "output_type": "stream",
          "text": [
            "\r 31%|███       | 9/29 [00:08<00:13,  1.49it/s]"
          ],
          "name": "stderr"
        },
        {
          "output_type": "stream",
          "text": [
            "ROC AUC couldn't be calculated for ExtraTreesClassifier\n",
            "multi_class must be in ('ovo', 'ovr')\n",
            "{'Model': 'ExtraTreesClassifier', 'Accuracy': 1.0, 'Balanced Accuracy': 1.0, 'ROC AUC': None, 'F1 Score': 1.0, 'Time taken': 0.779583215713501}\n",
            "ROC AUC couldn't be calculated for GaussianNB\n",
            "multi_class must be in ('ovo', 'ovr')\n",
            "{'Model': 'GaussianNB', 'Accuracy': 0.7914156626506024, 'Balanced Accuracy': 0.8595362504045161, 'ROC AUC': None, 'F1 Score': 0.7924608274848535, 'Time taken': 0.07749128341674805}\n"
          ],
          "name": "stdout"
        },
        {
          "output_type": "stream",
          "text": [
            "\r 38%|███▊      | 11/29 [00:09<00:10,  1.72it/s]"
          ],
          "name": "stderr"
        },
        {
          "output_type": "stream",
          "text": [
            "ROC AUC couldn't be calculated for KNeighborsClassifier\n",
            "multi_class must be in ('ovo', 'ovr')\n",
            "{'Model': 'KNeighborsClassifier', 'Accuracy': 0.9954819277108434, 'Balanced Accuracy': 0.9966789503402775, 'ROC AUC': None, 'F1 Score': 0.9954953870285235, 'Time taken': 0.7912728786468506}\n"
          ],
          "name": "stdout"
        },
        {
          "output_type": "stream",
          "text": [
            "\r 41%|████▏     | 12/29 [00:11<00:15,  1.13it/s]"
          ],
          "name": "stderr"
        },
        {
          "output_type": "stream",
          "text": [
            "ROC AUC couldn't be calculated for LabelPropagation\n",
            "multi_class must be in ('ovo', 'ovr')\n",
            "{'Model': 'LabelPropagation', 'Accuracy': 1.0, 'Balanced Accuracy': 1.0, 'ROC AUC': None, 'F1 Score': 1.0, 'Time taken': 1.9852864742279053}\n"
          ],
          "name": "stdout"
        },
        {
          "output_type": "stream",
          "text": [
            "\r 45%|████▍     | 13/29 [00:14<00:22,  1.39s/it]"
          ],
          "name": "stderr"
        },
        {
          "output_type": "stream",
          "text": [
            "ROC AUC couldn't be calculated for LabelSpreading\n",
            "multi_class must be in ('ovo', 'ovr')\n",
            "{'Model': 'LabelSpreading', 'Accuracy': 1.0, 'Balanced Accuracy': 1.0, 'ROC AUC': None, 'F1 Score': 1.0, 'Time taken': 2.988546133041382}\n"
          ],
          "name": "stdout"
        },
        {
          "output_type": "stream",
          "text": [
            "\r 48%|████▊     | 14/29 [00:14<00:16,  1.12s/it]"
          ],
          "name": "stderr"
        },
        {
          "output_type": "stream",
          "text": [
            "ROC AUC couldn't be calculated for LinearDiscriminantAnalysis\n",
            "multi_class must be in ('ovo', 'ovr')\n",
            "{'Model': 'LinearDiscriminantAnalysis', 'Accuracy': 0.9668674698795181, 'Balanced Accuracy': 0.977495051724423, 'ROC AUC': None, 'F1 Score': 0.9674444610594886, 'Time taken': 0.31801462173461914}\n"
          ],
          "name": "stdout"
        },
        {
          "output_type": "stream",
          "text": [
            "\r 52%|█████▏    | 15/29 [00:15<00:14,  1.06s/it]"
          ],
          "name": "stderr"
        },
        {
          "output_type": "stream",
          "text": [
            "ROC AUC couldn't be calculated for LinearSVC\n",
            "multi_class must be in ('ovo', 'ovr')\n",
            "{'Model': 'LinearSVC', 'Accuracy': 1.0, 'Balanced Accuracy': 1.0, 'ROC AUC': None, 'F1 Score': 1.0, 'Time taken': 0.8842535018920898}\n"
          ],
          "name": "stdout"
        },
        {
          "output_type": "stream",
          "text": [
            "\r 55%|█████▌    | 16/29 [00:16<00:13,  1.02s/it]"
          ],
          "name": "stderr"
        },
        {
          "output_type": "stream",
          "text": [
            "ROC AUC couldn't be calculated for LogisticRegression\n",
            "multi_class must be in ('ovo', 'ovr')\n",
            "{'Model': 'LogisticRegression', 'Accuracy': 0.9992469879518072, 'Balanced Accuracy': 0.9993506493506494, 'ROC AUC': None, 'F1 Score': 0.9992468011774257, 'Time taken': 0.9094057083129883}\n",
            "ROC AUC couldn't be calculated for NearestCentroid\n",
            "multi_class must be in ('ovo', 'ovr')\n",
            "{'Model': 'NearestCentroid', 'Accuracy': 0.6167168674698795, 'Balanced Accuracy': 0.7230649388301831, 'ROC AUC': None, 'F1 Score': 0.6466013091033936, 'Time taken': 0.08298325538635254}\n"
          ],
          "name": "stdout"
        },
        {
          "output_type": "stream",
          "text": [
            "\r 62%|██████▏   | 18/29 [00:32<00:45,  4.13s/it]"
          ],
          "name": "stderr"
        },
        {
          "output_type": "stream",
          "text": [
            "ROC AUC couldn't be calculated for NuSVC\n",
            "multi_class must be in ('ovo', 'ovr')\n",
            "{'Model': 'NuSVC', 'Accuracy': 0.9329819277108434, 'Balanced Accuracy': 0.9428011750074405, 'ROC AUC': None, 'F1 Score': 0.9341988788328861, 'Time taken': 16.119065284729004}\n"
          ],
          "name": "stdout"
        },
        {
          "output_type": "stream",
          "text": [
            "\r 66%|██████▌   | 19/29 [00:33<00:32,  3.23s/it]"
          ],
          "name": "stderr"
        },
        {
          "output_type": "stream",
          "text": [
            "ROC AUC couldn't be calculated for PassiveAggressiveClassifier\n",
            "multi_class must be in ('ovo', 'ovr')\n",
            "{'Model': 'PassiveAggressiveClassifier', 'Accuracy': 0.9984939759036144, 'Balanced Accuracy': 0.9988929834467593, 'ROC AUC': None, 'F1 Score': 0.998495212560333, 'Time taken': 0.36779165267944336}\n"
          ],
          "name": "stdout"
        },
        {
          "output_type": "stream",
          "text": [
            "\r 69%|██████▉   | 20/29 [00:33<00:22,  2.47s/it]"
          ],
          "name": "stderr"
        },
        {
          "output_type": "stream",
          "text": [
            "ROC AUC couldn't be calculated for Perceptron\n",
            "multi_class must be in ('ovo', 'ovr')\n",
            "{'Model': 'Perceptron', 'Accuracy': 0.9969879518072289, 'Balanced Accuracy': 0.9975994593641652, 'ROC AUC': None, 'F1 Score': 0.9969889707054066, 'Time taken': 0.22233891487121582}\n"
          ],
          "name": "stdout"
        },
        {
          "output_type": "stream",
          "text": [
            "\r 72%|███████▏  | 21/29 [00:33<00:14,  1.86s/it]"
          ],
          "name": "stderr"
        },
        {
          "output_type": "stream",
          "text": [
            "ROC AUC couldn't be calculated for QuadraticDiscriminantAnalysis\n",
            "multi_class must be in ('ovo', 'ovr')\n",
            "{'Model': 'QuadraticDiscriminantAnalysis', 'Accuracy': 0.8350903614457831, 'Balanced Accuracy': 0.8749287415151322, 'ROC AUC': None, 'F1 Score': 0.8309764184509449, 'Time taken': 0.20359015464782715}\n"
          ],
          "name": "stdout"
        },
        {
          "output_type": "stream",
          "text": [
            " 79%|███████▉  | 23/29 [00:35<00:08,  1.34s/it]"
          ],
          "name": "stderr"
        },
        {
          "output_type": "stream",
          "text": [
            "ROC AUC couldn't be calculated for RandomForestClassifier\n",
            "multi_class must be in ('ovo', 'ovr')\n",
            "{'Model': 'RandomForestClassifier', 'Accuracy': 1.0, 'Balanced Accuracy': 1.0, 'ROC AUC': None, 'F1 Score': 1.0, 'Time taken': 1.7221884727478027}\n",
            "ROC AUC couldn't be calculated for RidgeClassifier\n",
            "multi_class must be in ('ovo', 'ovr')\n",
            "{'Model': 'RidgeClassifier', 'Accuracy': 0.9691265060240963, 'Balanced Accuracy': 0.9776609915861497, 'ROC AUC': None, 'F1 Score': 0.9701431647182182, 'Time taken': 0.11304306983947754}\n"
          ],
          "name": "stdout"
        },
        {
          "output_type": "stream",
          "text": [
            "\r 83%|████████▎ | 24/29 [00:35<00:05,  1.04s/it]"
          ],
          "name": "stderr"
        },
        {
          "output_type": "stream",
          "text": [
            "ROC AUC couldn't be calculated for RidgeClassifierCV\n",
            "multi_class must be in ('ovo', 'ovr')\n",
            "{'Model': 'RidgeClassifierCV', 'Accuracy': 0.963855421686747, 'Balanced Accuracy': 0.9738822760225372, 'ROC AUC': None, 'F1 Score': 0.964984834049123, 'Time taken': 0.28719019889831543}\n"
          ],
          "name": "stdout"
        },
        {
          "output_type": "stream",
          "text": [
            "\r 86%|████████▌ | 25/29 [00:36<00:03,  1.19it/s]"
          ],
          "name": "stderr"
        },
        {
          "output_type": "stream",
          "text": [
            "ROC AUC couldn't be calculated for SGDClassifier\n",
            "multi_class must be in ('ovo', 'ovr')\n",
            "{'Model': 'SGDClassifier', 'Accuracy': 0.9939759036144579, 'Balanced Accuracy': 0.9951989187283304, 'ROC AUC': None, 'F1 Score': 0.9939697791443322, 'Time taken': 0.3367183208465576}\n"
          ],
          "name": "stdout"
        },
        {
          "output_type": "stream",
          "text": [
            "\r 90%|████████▉ | 26/29 [00:38<00:03,  1.25s/it]"
          ],
          "name": "stderr"
        },
        {
          "output_type": "stream",
          "text": [
            "ROC AUC couldn't be calculated for SVC\n",
            "multi_class must be in ('ovo', 'ovr')\n",
            "{'Model': 'SVC', 'Accuracy': 0.9947289156626506, 'Balanced Accuracy': 0.9958379149454665, 'ROC AUC': None, 'F1 Score': 0.9947297536301619, 'Time taken': 2.2204160690307617}\n",
            "StackingClassifier model failed to execute\n",
            "__init__() missing 1 required positional argument: 'estimators'\n"
          ],
          "name": "stdout"
        },
        {
          "output_type": "stream",
          "text": [
            "\r 97%|█████████▋| 28/29 [00:45<00:02,  2.30s/it]"
          ],
          "name": "stderr"
        },
        {
          "output_type": "stream",
          "text": [
            "ROC AUC couldn't be calculated for XGBClassifier\n",
            "multi_class must be in ('ovo', 'ovr')\n",
            "{'Model': 'XGBClassifier', 'Accuracy': 1.0, 'Balanced Accuracy': 1.0, 'ROC AUC': None, 'F1 Score': 1.0, 'Time taken': 7.106602907180786}\n"
          ],
          "name": "stdout"
        },
        {
          "output_type": "stream",
          "text": [
            "100%|██████████| 29/29 [00:52<00:00,  1.81s/it]"
          ],
          "name": "stderr"
        },
        {
          "output_type": "stream",
          "text": [
            "ROC AUC couldn't be calculated for LGBMClassifier\n",
            "multi_class must be in ('ovo', 'ovr')\n",
            "{'Model': 'LGBMClassifier', 'Accuracy': 1.0, 'Balanced Accuracy': 1.0, 'ROC AUC': None, 'F1 Score': 1.0, 'Time taken': 6.917102813720703}\n"
          ],
          "name": "stdout"
        },
        {
          "output_type": "stream",
          "text": [
            "\n"
          ],
          "name": "stderr"
        }
      ]
    },
    {
      "cell_type": "code",
      "metadata": {
        "colab": {
          "base_uri": "https://localhost:8080/",
          "height": 917
        },
        "id": "wiXTnKDhG3Ge",
        "outputId": "c501943b-89d5-483a-ba5c-220b68b0d943"
      },
      "source": [
        "models_imb"
      ],
      "execution_count": null,
      "outputs": [
        {
          "output_type": "execute_result",
          "data": {
            "text/html": [
              "<div>\n",
              "<style scoped>\n",
              "    .dataframe tbody tr th:only-of-type {\n",
              "        vertical-align: middle;\n",
              "    }\n",
              "\n",
              "    .dataframe tbody tr th {\n",
              "        vertical-align: top;\n",
              "    }\n",
              "\n",
              "    .dataframe thead th {\n",
              "        text-align: right;\n",
              "    }\n",
              "</style>\n",
              "<table border=\"1\" class=\"dataframe\">\n",
              "  <thead>\n",
              "    <tr style=\"text-align: right;\">\n",
              "      <th></th>\n",
              "      <th>Accuracy</th>\n",
              "      <th>Balanced Accuracy</th>\n",
              "      <th>ROC AUC</th>\n",
              "      <th>F1 Score</th>\n",
              "      <th>Time Taken</th>\n",
              "    </tr>\n",
              "    <tr>\n",
              "      <th>Model</th>\n",
              "      <th></th>\n",
              "      <th></th>\n",
              "      <th></th>\n",
              "      <th></th>\n",
              "      <th></th>\n",
              "    </tr>\n",
              "  </thead>\n",
              "  <tbody>\n",
              "    <tr>\n",
              "      <th>LinearSVC</th>\n",
              "      <td>1.00</td>\n",
              "      <td>1.00</td>\n",
              "      <td>None</td>\n",
              "      <td>1.00</td>\n",
              "      <td>0.88</td>\n",
              "    </tr>\n",
              "    <tr>\n",
              "      <th>ExtraTreesClassifier</th>\n",
              "      <td>1.00</td>\n",
              "      <td>1.00</td>\n",
              "      <td>None</td>\n",
              "      <td>1.00</td>\n",
              "      <td>0.78</td>\n",
              "    </tr>\n",
              "    <tr>\n",
              "      <th>XGBClassifier</th>\n",
              "      <td>1.00</td>\n",
              "      <td>1.00</td>\n",
              "      <td>None</td>\n",
              "      <td>1.00</td>\n",
              "      <td>7.11</td>\n",
              "    </tr>\n",
              "    <tr>\n",
              "      <th>RandomForestClassifier</th>\n",
              "      <td>1.00</td>\n",
              "      <td>1.00</td>\n",
              "      <td>None</td>\n",
              "      <td>1.00</td>\n",
              "      <td>1.72</td>\n",
              "    </tr>\n",
              "    <tr>\n",
              "      <th>BaggingClassifier</th>\n",
              "      <td>1.00</td>\n",
              "      <td>1.00</td>\n",
              "      <td>None</td>\n",
              "      <td>1.00</td>\n",
              "      <td>1.11</td>\n",
              "    </tr>\n",
              "    <tr>\n",
              "      <th>LabelSpreading</th>\n",
              "      <td>1.00</td>\n",
              "      <td>1.00</td>\n",
              "      <td>None</td>\n",
              "      <td>1.00</td>\n",
              "      <td>2.99</td>\n",
              "    </tr>\n",
              "    <tr>\n",
              "      <th>LabelPropagation</th>\n",
              "      <td>1.00</td>\n",
              "      <td>1.00</td>\n",
              "      <td>None</td>\n",
              "      <td>1.00</td>\n",
              "      <td>1.99</td>\n",
              "    </tr>\n",
              "    <tr>\n",
              "      <th>LGBMClassifier</th>\n",
              "      <td>1.00</td>\n",
              "      <td>1.00</td>\n",
              "      <td>None</td>\n",
              "      <td>1.00</td>\n",
              "      <td>6.92</td>\n",
              "    </tr>\n",
              "    <tr>\n",
              "      <th>ExtraTreeClassifier</th>\n",
              "      <td>1.00</td>\n",
              "      <td>1.00</td>\n",
              "      <td>None</td>\n",
              "      <td>1.00</td>\n",
              "      <td>0.06</td>\n",
              "    </tr>\n",
              "    <tr>\n",
              "      <th>DecisionTreeClassifier</th>\n",
              "      <td>1.00</td>\n",
              "      <td>1.00</td>\n",
              "      <td>None</td>\n",
              "      <td>1.00</td>\n",
              "      <td>0.22</td>\n",
              "    </tr>\n",
              "    <tr>\n",
              "      <th>LogisticRegression</th>\n",
              "      <td>1.00</td>\n",
              "      <td>1.00</td>\n",
              "      <td>None</td>\n",
              "      <td>1.00</td>\n",
              "      <td>0.91</td>\n",
              "    </tr>\n",
              "    <tr>\n",
              "      <th>CalibratedClassifierCV</th>\n",
              "      <td>1.00</td>\n",
              "      <td>1.00</td>\n",
              "      <td>None</td>\n",
              "      <td>1.00</td>\n",
              "      <td>3.59</td>\n",
              "    </tr>\n",
              "    <tr>\n",
              "      <th>PassiveAggressiveClassifier</th>\n",
              "      <td>1.00</td>\n",
              "      <td>1.00</td>\n",
              "      <td>None</td>\n",
              "      <td>1.00</td>\n",
              "      <td>0.37</td>\n",
              "    </tr>\n",
              "    <tr>\n",
              "      <th>Perceptron</th>\n",
              "      <td>1.00</td>\n",
              "      <td>1.00</td>\n",
              "      <td>None</td>\n",
              "      <td>1.00</td>\n",
              "      <td>0.22</td>\n",
              "    </tr>\n",
              "    <tr>\n",
              "      <th>KNeighborsClassifier</th>\n",
              "      <td>1.00</td>\n",
              "      <td>1.00</td>\n",
              "      <td>None</td>\n",
              "      <td>1.00</td>\n",
              "      <td>0.79</td>\n",
              "    </tr>\n",
              "    <tr>\n",
              "      <th>SVC</th>\n",
              "      <td>0.99</td>\n",
              "      <td>1.00</td>\n",
              "      <td>None</td>\n",
              "      <td>0.99</td>\n",
              "      <td>2.22</td>\n",
              "    </tr>\n",
              "    <tr>\n",
              "      <th>SGDClassifier</th>\n",
              "      <td>0.99</td>\n",
              "      <td>1.00</td>\n",
              "      <td>None</td>\n",
              "      <td>0.99</td>\n",
              "      <td>0.34</td>\n",
              "    </tr>\n",
              "    <tr>\n",
              "      <th>RidgeClassifier</th>\n",
              "      <td>0.97</td>\n",
              "      <td>0.98</td>\n",
              "      <td>None</td>\n",
              "      <td>0.97</td>\n",
              "      <td>0.11</td>\n",
              "    </tr>\n",
              "    <tr>\n",
              "      <th>LinearDiscriminantAnalysis</th>\n",
              "      <td>0.97</td>\n",
              "      <td>0.98</td>\n",
              "      <td>None</td>\n",
              "      <td>0.97</td>\n",
              "      <td>0.32</td>\n",
              "    </tr>\n",
              "    <tr>\n",
              "      <th>RidgeClassifierCV</th>\n",
              "      <td>0.96</td>\n",
              "      <td>0.97</td>\n",
              "      <td>None</td>\n",
              "      <td>0.96</td>\n",
              "      <td>0.29</td>\n",
              "    </tr>\n",
              "    <tr>\n",
              "      <th>NuSVC</th>\n",
              "      <td>0.93</td>\n",
              "      <td>0.94</td>\n",
              "      <td>None</td>\n",
              "      <td>0.93</td>\n",
              "      <td>16.12</td>\n",
              "    </tr>\n",
              "    <tr>\n",
              "      <th>QuadraticDiscriminantAnalysis</th>\n",
              "      <td>0.84</td>\n",
              "      <td>0.87</td>\n",
              "      <td>None</td>\n",
              "      <td>0.83</td>\n",
              "      <td>0.20</td>\n",
              "    </tr>\n",
              "    <tr>\n",
              "      <th>GaussianNB</th>\n",
              "      <td>0.79</td>\n",
              "      <td>0.86</td>\n",
              "      <td>None</td>\n",
              "      <td>0.79</td>\n",
              "      <td>0.08</td>\n",
              "    </tr>\n",
              "    <tr>\n",
              "      <th>AdaBoostClassifier</th>\n",
              "      <td>0.67</td>\n",
              "      <td>0.80</td>\n",
              "      <td>None</td>\n",
              "      <td>0.62</td>\n",
              "      <td>2.78</td>\n",
              "    </tr>\n",
              "    <tr>\n",
              "      <th>BernoulliNB</th>\n",
              "      <td>0.70</td>\n",
              "      <td>0.77</td>\n",
              "      <td>None</td>\n",
              "      <td>0.67</td>\n",
              "      <td>0.08</td>\n",
              "    </tr>\n",
              "    <tr>\n",
              "      <th>NearestCentroid</th>\n",
              "      <td>0.62</td>\n",
              "      <td>0.72</td>\n",
              "      <td>None</td>\n",
              "      <td>0.65</td>\n",
              "      <td>0.08</td>\n",
              "    </tr>\n",
              "    <tr>\n",
              "      <th>DummyClassifier</th>\n",
              "      <td>0.22</td>\n",
              "      <td>0.21</td>\n",
              "      <td>None</td>\n",
              "      <td>0.25</td>\n",
              "      <td>0.06</td>\n",
              "    </tr>\n",
              "  </tbody>\n",
              "</table>\n",
              "</div>"
            ],
            "text/plain": [
              "                               Accuracy  ...  Time Taken\n",
              "Model                                    ...            \n",
              "LinearSVC                          1.00  ...        0.88\n",
              "ExtraTreesClassifier               1.00  ...        0.78\n",
              "XGBClassifier                      1.00  ...        7.11\n",
              "RandomForestClassifier             1.00  ...        1.72\n",
              "BaggingClassifier                  1.00  ...        1.11\n",
              "LabelSpreading                     1.00  ...        2.99\n",
              "LabelPropagation                   1.00  ...        1.99\n",
              "LGBMClassifier                     1.00  ...        6.92\n",
              "ExtraTreeClassifier                1.00  ...        0.06\n",
              "DecisionTreeClassifier             1.00  ...        0.22\n",
              "LogisticRegression                 1.00  ...        0.91\n",
              "CalibratedClassifierCV             1.00  ...        3.59\n",
              "PassiveAggressiveClassifier        1.00  ...        0.37\n",
              "Perceptron                         1.00  ...        0.22\n",
              "KNeighborsClassifier               1.00  ...        0.79\n",
              "SVC                                0.99  ...        2.22\n",
              "SGDClassifier                      0.99  ...        0.34\n",
              "RidgeClassifier                    0.97  ...        0.11\n",
              "LinearDiscriminantAnalysis         0.97  ...        0.32\n",
              "RidgeClassifierCV                  0.96  ...        0.29\n",
              "NuSVC                              0.93  ...       16.12\n",
              "QuadraticDiscriminantAnalysis      0.84  ...        0.20\n",
              "GaussianNB                         0.79  ...        0.08\n",
              "AdaBoostClassifier                 0.67  ...        2.78\n",
              "BernoulliNB                        0.70  ...        0.08\n",
              "NearestCentroid                    0.62  ...        0.08\n",
              "DummyClassifier                    0.22  ...        0.06\n",
              "\n",
              "[27 rows x 5 columns]"
            ]
          },
          "metadata": {
            "tags": []
          },
          "execution_count": 96
        }
      ]
    },
    {
      "cell_type": "markdown",
      "metadata": {
        "id": "MJqXaxhdIAZH"
      },
      "source": [
        "### resultado"
      ]
    },
    {
      "cell_type": "code",
      "metadata": {
        "colab": {
          "base_uri": "https://localhost:8080/"
        },
        "id": "8s9lr0HaG6c2",
        "outputId": "3dd20b72-5e42-4d05-9aab-baac81b714b9"
      },
      "source": [
        "models_imb.mean()"
      ],
      "execution_count": null,
      "outputs": [
        {
          "output_type": "execute_result",
          "data": {
            "text/plain": [
              "Accuracy            0.91\n",
              "Balanced Accuracy   0.93\n",
              "ROC AUC              NaN\n",
              "F1 Score            0.91\n",
              "Time Taken          1.94\n",
              "dtype: float64"
            ]
          },
          "metadata": {
            "tags": []
          },
          "execution_count": 97
        }
      ]
    },
    {
      "cell_type": "markdown",
      "metadata": {
        "id": "BUQibIqMHYlB"
      },
      "source": [
        "O balanceamento das classes SMOTE aumentou o desempenho dos modelos para uma acurácia balanceada média de 93% (+4%) e F1 de 91% (0%).\n"
      ]
    },
    {
      "cell_type": "code",
      "metadata": {
        "colab": {
          "base_uri": "https://localhost:8080/"
        },
        "id": "mknHjiwH7mwK",
        "outputId": "364aa556-5b1d-4af5-c5f8-0304987421ad"
      },
      "source": [
        "for col in predictions_imb.columns:\n",
        "  print(col)\n",
        "  print(classification_report(y_test, predictions_imb[col]))"
      ],
      "execution_count": null,
      "outputs": [
        {
          "output_type": "stream",
          "text": [
            "AdaBoostClassifier\n",
            "              precision    recall  f1-score   support\n",
            "\n",
            "           1       1.00      1.00      1.00       442\n",
            "           2       1.00      1.00      1.00       308\n",
            "           3       1.00      1.00      1.00        40\n",
            "           4       0.19      1.00      0.32       101\n",
            "           5       0.00      0.00      0.00       437\n",
            "\n",
            "    accuracy                           0.67      1328\n",
            "   macro avg       0.64      0.80      0.66      1328\n",
            "weighted avg       0.61      0.67      0.62      1328\n",
            "\n",
            "BaggingClassifier\n",
            "              precision    recall  f1-score   support\n",
            "\n",
            "           1       1.00      1.00      1.00       442\n",
            "           2       1.00      1.00      1.00       308\n",
            "           3       1.00      1.00      1.00        40\n",
            "           4       1.00      1.00      1.00       101\n",
            "           5       1.00      1.00      1.00       437\n",
            "\n",
            "    accuracy                           1.00      1328\n",
            "   macro avg       1.00      1.00      1.00      1328\n",
            "weighted avg       1.00      1.00      1.00      1328\n",
            "\n",
            "BernoulliNB\n",
            "              precision    recall  f1-score   support\n",
            "\n",
            "           1       0.93      0.29      0.44       442\n",
            "           2       0.57      0.82      0.67       308\n",
            "           3       0.36      0.80      0.49        40\n",
            "           4       0.83      0.99      0.90       101\n",
            "           5       0.77      0.95      0.85       437\n",
            "\n",
            "    accuracy                           0.70      1328\n",
            "   macro avg       0.69      0.77      0.67      1328\n",
            "weighted avg       0.77      0.70      0.67      1328\n",
            "\n",
            "CalibratedClassifierCV\n",
            "              precision    recall  f1-score   support\n",
            "\n",
            "           1       1.00      1.00      1.00       442\n",
            "           2       1.00      1.00      1.00       308\n",
            "           3       1.00      1.00      1.00        40\n",
            "           4       1.00      1.00      1.00       101\n",
            "           5       1.00      1.00      1.00       437\n",
            "\n",
            "    accuracy                           1.00      1328\n",
            "   macro avg       1.00      1.00      1.00      1328\n",
            "weighted avg       1.00      1.00      1.00      1328\n",
            "\n",
            "DecisionTreeClassifier\n",
            "              precision    recall  f1-score   support\n",
            "\n",
            "           1       1.00      1.00      1.00       442\n",
            "           2       1.00      1.00      1.00       308\n",
            "           3       1.00      1.00      1.00        40\n",
            "           4       1.00      1.00      1.00       101\n",
            "           5       1.00      1.00      1.00       437\n",
            "\n",
            "    accuracy                           1.00      1328\n",
            "   macro avg       1.00      1.00      1.00      1328\n",
            "weighted avg       1.00      1.00      1.00      1328\n",
            "\n",
            "DummyClassifier\n",
            "              precision    recall  f1-score   support\n",
            "\n",
            "           1       0.34      0.21      0.26       442\n",
            "           2       0.28      0.23      0.25       308\n",
            "           3       0.02      0.12      0.03        40\n",
            "           4       0.09      0.24      0.13       101\n",
            "           5       0.36      0.22      0.27       437\n",
            "\n",
            "    accuracy                           0.22      1328\n",
            "   macro avg       0.22      0.21      0.19      1328\n",
            "weighted avg       0.31      0.22      0.25      1328\n",
            "\n",
            "ExtraTreeClassifier\n",
            "              precision    recall  f1-score   support\n",
            "\n",
            "           1       1.00      1.00      1.00       442\n",
            "           2       1.00      1.00      1.00       308\n",
            "           3       1.00      1.00      1.00        40\n",
            "           4       1.00      1.00      1.00       101\n",
            "           5       1.00      1.00      1.00       437\n",
            "\n",
            "    accuracy                           1.00      1328\n",
            "   macro avg       1.00      1.00      1.00      1328\n",
            "weighted avg       1.00      1.00      1.00      1328\n",
            "\n",
            "ExtraTreesClassifier\n",
            "              precision    recall  f1-score   support\n",
            "\n",
            "           1       1.00      1.00      1.00       442\n",
            "           2       1.00      1.00      1.00       308\n",
            "           3       1.00      1.00      1.00        40\n",
            "           4       1.00      1.00      1.00       101\n",
            "           5       1.00      1.00      1.00       437\n",
            "\n",
            "    accuracy                           1.00      1328\n",
            "   macro avg       1.00      1.00      1.00      1328\n",
            "weighted avg       1.00      1.00      1.00      1328\n",
            "\n",
            "GaussianNB\n",
            "              precision    recall  f1-score   support\n",
            "\n",
            "           1       0.83      0.57      0.68       442\n",
            "           2       0.60      0.91      0.72       308\n",
            "           3       0.62      0.97      0.76        40\n",
            "           4       0.97      0.97      0.97       101\n",
            "           5       0.98      0.87      0.92       437\n",
            "\n",
            "    accuracy                           0.79      1328\n",
            "   macro avg       0.80      0.86      0.81      1328\n",
            "weighted avg       0.83      0.79      0.79      1328\n",
            "\n",
            "KNeighborsClassifier\n",
            "              precision    recall  f1-score   support\n",
            "\n",
            "           1       1.00      1.00      1.00       442\n",
            "           2       1.00      0.99      1.00       308\n",
            "           3       0.98      1.00      0.99        40\n",
            "           4       0.97      1.00      0.99       101\n",
            "           5       1.00      0.99      1.00       437\n",
            "\n",
            "    accuracy                           1.00      1328\n",
            "   macro avg       0.99      1.00      0.99      1328\n",
            "weighted avg       1.00      1.00      1.00      1328\n",
            "\n",
            "LabelPropagation\n",
            "              precision    recall  f1-score   support\n",
            "\n",
            "           1       1.00      1.00      1.00       442\n",
            "           2       1.00      1.00      1.00       308\n",
            "           3       1.00      1.00      1.00        40\n",
            "           4       1.00      1.00      1.00       101\n",
            "           5       1.00      1.00      1.00       437\n",
            "\n",
            "    accuracy                           1.00      1328\n",
            "   macro avg       1.00      1.00      1.00      1328\n",
            "weighted avg       1.00      1.00      1.00      1328\n",
            "\n",
            "LabelSpreading\n",
            "              precision    recall  f1-score   support\n",
            "\n",
            "           1       1.00      1.00      1.00       442\n",
            "           2       1.00      1.00      1.00       308\n",
            "           3       1.00      1.00      1.00        40\n",
            "           4       1.00      1.00      1.00       101\n",
            "           5       1.00      1.00      1.00       437\n",
            "\n",
            "    accuracy                           1.00      1328\n",
            "   macro avg       1.00      1.00      1.00      1328\n",
            "weighted avg       1.00      1.00      1.00      1328\n",
            "\n",
            "LinearDiscriminantAnalysis\n",
            "              precision    recall  f1-score   support\n",
            "\n",
            "           1       1.00      0.95      0.97       442\n",
            "           2       0.95      0.96      0.96       308\n",
            "           3       0.75      1.00      0.86        40\n",
            "           4       0.93      1.00      0.96       101\n",
            "           5       0.98      0.98      0.98       437\n",
            "\n",
            "    accuracy                           0.97      1328\n",
            "   macro avg       0.92      0.98      0.95      1328\n",
            "weighted avg       0.97      0.97      0.97      1328\n",
            "\n",
            "LinearSVC\n",
            "              precision    recall  f1-score   support\n",
            "\n",
            "           1       1.00      1.00      1.00       442\n",
            "           2       1.00      1.00      1.00       308\n",
            "           3       1.00      1.00      1.00        40\n",
            "           4       1.00      1.00      1.00       101\n",
            "           5       1.00      1.00      1.00       437\n",
            "\n",
            "    accuracy                           1.00      1328\n",
            "   macro avg       1.00      1.00      1.00      1328\n",
            "weighted avg       1.00      1.00      1.00      1328\n",
            "\n",
            "LogisticRegression\n",
            "              precision    recall  f1-score   support\n",
            "\n",
            "           1       1.00      1.00      1.00       442\n",
            "           2       1.00      1.00      1.00       308\n",
            "           3       1.00      1.00      1.00        40\n",
            "           4       1.00      1.00      1.00       101\n",
            "           5       1.00      1.00      1.00       437\n",
            "\n",
            "    accuracy                           1.00      1328\n",
            "   macro avg       1.00      1.00      1.00      1328\n",
            "weighted avg       1.00      1.00      1.00      1328\n",
            "\n",
            "NearestCentroid\n",
            "              precision    recall  f1-score   support\n",
            "\n",
            "           1       0.96      0.52      0.67       442\n",
            "           2       0.56      0.70      0.62       308\n",
            "           3       0.22      0.85      0.35        40\n",
            "           4       0.34      1.00      0.51       101\n",
            "           5       0.96      0.55      0.70       437\n",
            "\n",
            "    accuracy                           0.62      1328\n",
            "   macro avg       0.61      0.72      0.57      1328\n",
            "weighted avg       0.80      0.62      0.65      1328\n",
            "\n",
            "NuSVC\n",
            "              precision    recall  f1-score   support\n",
            "\n",
            "           1       0.97      0.95      0.96       442\n",
            "           2       0.99      0.87      0.93       308\n",
            "           3       0.68      0.97      0.80        40\n",
            "           4       0.81      0.97      0.88       101\n",
            "           5       0.93      0.95      0.94       437\n",
            "\n",
            "    accuracy                           0.93      1328\n",
            "   macro avg       0.88      0.94      0.90      1328\n",
            "weighted avg       0.94      0.93      0.93      1328\n",
            "\n",
            "PassiveAggressiveClassifier\n",
            "              precision    recall  f1-score   support\n",
            "\n",
            "           1       1.00      1.00      1.00       442\n",
            "           2       1.00      1.00      1.00       308\n",
            "           3       1.00      1.00      1.00        40\n",
            "           4       0.99      1.00      1.00       101\n",
            "           5       1.00      1.00      1.00       437\n",
            "\n",
            "    accuracy                           1.00      1328\n",
            "   macro avg       1.00      1.00      1.00      1328\n",
            "weighted avg       1.00      1.00      1.00      1328\n",
            "\n",
            "Perceptron\n",
            "              precision    recall  f1-score   support\n",
            "\n",
            "           1       1.00      1.00      1.00       442\n",
            "           2       1.00      0.99      0.99       308\n",
            "           3       0.98      1.00      0.99        40\n",
            "           4       1.00      1.00      1.00       101\n",
            "           5       1.00      1.00      1.00       437\n",
            "\n",
            "    accuracy                           1.00      1328\n",
            "   macro avg       0.99      1.00      1.00      1328\n",
            "weighted avg       1.00      1.00      1.00      1328\n",
            "\n",
            "QuadraticDiscriminantAnalysis\n",
            "              precision    recall  f1-score   support\n",
            "\n",
            "           1       1.00      0.55      0.71       442\n",
            "           2       0.61      1.00      0.75       308\n",
            "           3       1.00      1.00      1.00        40\n",
            "           4       0.99      0.83      0.90       101\n",
            "           5       0.96      1.00      0.98       437\n",
            "\n",
            "    accuracy                           0.84      1328\n",
            "   macro avg       0.91      0.87      0.87      1328\n",
            "weighted avg       0.90      0.84      0.83      1328\n",
            "\n",
            "RandomForestClassifier\n",
            "              precision    recall  f1-score   support\n",
            "\n",
            "           1       1.00      1.00      1.00       442\n",
            "           2       1.00      1.00      1.00       308\n",
            "           3       1.00      1.00      1.00        40\n",
            "           4       1.00      1.00      1.00       101\n",
            "           5       1.00      1.00      1.00       437\n",
            "\n",
            "    accuracy                           1.00      1328\n",
            "   macro avg       1.00      1.00      1.00      1328\n",
            "weighted avg       1.00      1.00      1.00      1328\n",
            "\n",
            "RidgeClassifier\n",
            "              precision    recall  f1-score   support\n",
            "\n",
            "           1       1.00      0.97      0.98       442\n",
            "           2       0.94      0.94      0.94       308\n",
            "           3       0.70      1.00      0.82        40\n",
            "           4       0.95      1.00      0.98       101\n",
            "           5       1.00      0.98      0.99       437\n",
            "\n",
            "    accuracy                           0.97      1328\n",
            "   macro avg       0.92      0.98      0.94      1328\n",
            "weighted avg       0.97      0.97      0.97      1328\n",
            "\n",
            "RidgeClassifierCV\n",
            "              precision    recall  f1-score   support\n",
            "\n",
            "           1       0.99      0.97      0.98       442\n",
            "           2       0.94      0.93      0.94       308\n",
            "           3       0.69      1.00      0.82        40\n",
            "           4       0.92      1.00      0.96       101\n",
            "           5       1.00      0.97      0.98       437\n",
            "\n",
            "    accuracy                           0.96      1328\n",
            "   macro avg       0.91      0.97      0.94      1328\n",
            "weighted avg       0.97      0.96      0.96      1328\n",
            "\n",
            "SGDClassifier\n",
            "              precision    recall  f1-score   support\n",
            "\n",
            "           1       0.99      1.00      0.99       442\n",
            "           2       0.99      0.98      0.99       308\n",
            "           3       0.98      1.00      0.99        40\n",
            "           4       1.00      1.00      1.00       101\n",
            "           5       1.00      1.00      1.00       437\n",
            "\n",
            "    accuracy                           0.99      1328\n",
            "   macro avg       0.99      1.00      0.99      1328\n",
            "weighted avg       0.99      0.99      0.99      1328\n",
            "\n",
            "SVC\n",
            "              precision    recall  f1-score   support\n",
            "\n",
            "           1       0.99      1.00      0.99       442\n",
            "           2       1.00      0.98      0.99       308\n",
            "           3       1.00      1.00      1.00        40\n",
            "           4       0.98      1.00      0.99       101\n",
            "           5       1.00      1.00      1.00       437\n",
            "\n",
            "    accuracy                           0.99      1328\n",
            "   macro avg       0.99      1.00      0.99      1328\n",
            "weighted avg       0.99      0.99      0.99      1328\n",
            "\n",
            "XGBClassifier\n",
            "              precision    recall  f1-score   support\n",
            "\n",
            "           1       1.00      1.00      1.00       442\n",
            "           2       1.00      1.00      1.00       308\n",
            "           3       1.00      1.00      1.00        40\n",
            "           4       1.00      1.00      1.00       101\n",
            "           5       1.00      1.00      1.00       437\n",
            "\n",
            "    accuracy                           1.00      1328\n",
            "   macro avg       1.00      1.00      1.00      1328\n",
            "weighted avg       1.00      1.00      1.00      1328\n",
            "\n",
            "LGBMClassifier\n",
            "              precision    recall  f1-score   support\n",
            "\n",
            "           1       1.00      1.00      1.00       442\n",
            "           2       1.00      1.00      1.00       308\n",
            "           3       1.00      1.00      1.00        40\n",
            "           4       1.00      1.00      1.00       101\n",
            "           5       1.00      1.00      1.00       437\n",
            "\n",
            "    accuracy                           1.00      1328\n",
            "   macro avg       1.00      1.00      1.00      1328\n",
            "weighted avg       1.00      1.00      1.00      1328\n",
            "\n"
          ],
          "name": "stdout"
        }
      ]
    },
    {
      "cell_type": "code",
      "metadata": {
        "id": "oGfjwfYnFSqE"
      },
      "source": [
        " X_resampled_2, y_resampled_2 = ADASYN(sampling_strategy='minority').fit_resample(X, y)"
      ],
      "execution_count": null,
      "outputs": []
    },
    {
      "cell_type": "code",
      "metadata": {
        "colab": {
          "base_uri": "https://localhost:8080/"
        },
        "id": "X-DVhKXsJtqY",
        "outputId": "9995ad8b-e485-4cc5-b0a4-ec73427db862"
      },
      "source": [
        "clf_imb_2 = LazyClassifier(verbose=1,ignore_warnings=False, custom_metric=None, predictions=True)\n",
        "models_imb_2, predictions_imb_2 = clf_imb_2.fit(X_resampled_2, X_test, y_resampled_2, y_test)"
      ],
      "execution_count": null,
      "outputs": [
        {
          "output_type": "stream",
          "text": [
            "  3%|▎         | 1/29 [00:01<00:54,  1.94s/it]"
          ],
          "name": "stderr"
        },
        {
          "output_type": "stream",
          "text": [
            "ROC AUC couldn't be calculated for AdaBoostClassifier\n",
            "multi_class must be in ('ovo', 'ovr')\n",
            "{'Model': 'AdaBoostClassifier', 'Accuracy': 0.9239457831325302, 'Balanced Accuracy': 0.8, 'ROC AUC': None, 'F1 Score': 0.8898578931109051, 'Time taken': 1.9378950595855713}\n"
          ],
          "name": "stdout"
        },
        {
          "output_type": "stream",
          "text": [
            "\r  7%|▋         | 2/29 [00:02<00:34,  1.29s/it]"
          ],
          "name": "stderr"
        },
        {
          "output_type": "stream",
          "text": [
            "ROC AUC couldn't be calculated for BaggingClassifier\n",
            "multi_class must be in ('ovo', 'ovr')\n",
            "{'Model': 'BaggingClassifier', 'Accuracy': 1.0, 'Balanced Accuracy': 1.0, 'ROC AUC': None, 'F1 Score': 1.0, 'Time taken': 0.8362200260162354}\n",
            "ROC AUC couldn't be calculated for BernoulliNB\n",
            "multi_class must be in ('ovo', 'ovr')\n",
            "{'Model': 'BernoulliNB', 'Accuracy': 0.7010542168674698, 'Balanced Accuracy': 0.798915541989307, 'ROC AUC': None, 'F1 Score': 0.6852380355490465, 'Time taken': 0.07008981704711914}\n"
          ],
          "name": "stdout"
        },
        {
          "output_type": "stream",
          "text": [
            "\r 14%|█▍        | 4/29 [00:05<00:37,  1.48s/it]"
          ],
          "name": "stderr"
        },
        {
          "output_type": "stream",
          "text": [
            "ROC AUC couldn't be calculated for CalibratedClassifierCV\n",
            "multi_class must be in ('ovo', 'ovr')\n",
            "{'Model': 'CalibratedClassifierCV', 'Accuracy': 0.9992469879518072, 'Balanced Accuracy': 0.9993506493506494, 'ROC AUC': None, 'F1 Score': 0.9992468011774257, 'Time taken': 3.116318464279175}\n",
            "CategoricalNB model failed to execute\n",
            "Negative values in data passed to CategoricalNB (input X)\n"
          ],
          "name": "stdout"
        },
        {
          "output_type": "stream",
          "text": [
            " 28%|██▊       | 8/29 [00:06<00:10,  1.92it/s]"
          ],
          "name": "stderr"
        },
        {
          "output_type": "stream",
          "text": [
            "ROC AUC couldn't be calculated for DecisionTreeClassifier\n",
            "multi_class must be in ('ovo', 'ovr')\n",
            "{'Model': 'DecisionTreeClassifier', 'Accuracy': 1.0, 'Balanced Accuracy': 1.0, 'ROC AUC': None, 'F1 Score': 1.0, 'Time taken': 0.17952299118041992}\n",
            "ROC AUC couldn't be calculated for DummyClassifier\n",
            "multi_class must be in ('ovo', 'ovr')\n",
            "{'Model': 'DummyClassifier', 'Accuracy': 0.21159638554216867, 'Balanced Accuracy': 0.2048828066402557, 'ROC AUC': None, 'F1 Score': 0.22993006425441975, 'Time taken': 0.05172467231750488}\n",
            "ROC AUC couldn't be calculated for ExtraTreeClassifier\n",
            "multi_class must be in ('ovo', 'ovr')\n",
            "{'Model': 'ExtraTreeClassifier', 'Accuracy': 1.0, 'Balanced Accuracy': 1.0, 'ROC AUC': None, 'F1 Score': 1.0, 'Time taken': 0.05294179916381836}\n"
          ],
          "name": "stdout"
        },
        {
          "output_type": "stream",
          "text": [
            "\r 31%|███       | 9/29 [00:06<00:10,  1.86it/s]"
          ],
          "name": "stderr"
        },
        {
          "output_type": "stream",
          "text": [
            "ROC AUC couldn't be calculated for ExtraTreesClassifier\n",
            "multi_class must be in ('ovo', 'ovr')\n",
            "{'Model': 'ExtraTreesClassifier', 'Accuracy': 1.0, 'Balanced Accuracy': 1.0, 'ROC AUC': None, 'F1 Score': 1.0, 'Time taken': 0.596259593963623}\n",
            "ROC AUC couldn't be calculated for GaussianNB\n",
            "multi_class must be in ('ovo', 'ovr')\n",
            "{'Model': 'GaussianNB', 'Accuracy': 0.7966867469879518, 'Balanced Accuracy': 0.8626564848584722, 'ROC AUC': None, 'F1 Score': 0.8001626036225541, 'Time taken': 0.06539583206176758}\n"
          ],
          "name": "stdout"
        },
        {
          "output_type": "stream",
          "text": [
            "\r 38%|███▊      | 11/29 [00:07<00:08,  2.16it/s]"
          ],
          "name": "stderr"
        },
        {
          "output_type": "stream",
          "text": [
            "ROC AUC couldn't be calculated for KNeighborsClassifier\n",
            "multi_class must be in ('ovo', 'ovr')\n",
            "{'Model': 'KNeighborsClassifier', 'Accuracy': 0.9932228915662651, 'Balanced Accuracy': 0.9951246223153613, 'ROC AUC': None, 'F1 Score': 0.9932888860174801, 'Time taken': 0.6285791397094727}\n"
          ],
          "name": "stdout"
        },
        {
          "output_type": "stream",
          "text": [
            "\r 41%|████▏     | 12/29 [00:08<00:11,  1.54it/s]"
          ],
          "name": "stderr"
        },
        {
          "output_type": "stream",
          "text": [
            "ROC AUC couldn't be calculated for LabelPropagation\n",
            "multi_class must be in ('ovo', 'ovr')\n",
            "{'Model': 'LabelPropagation', 'Accuracy': 1.0, 'Balanced Accuracy': 1.0, 'ROC AUC': None, 'F1 Score': 1.0, 'Time taken': 1.3221838474273682}\n"
          ],
          "name": "stdout"
        },
        {
          "output_type": "stream",
          "text": [
            "\r 45%|████▍     | 13/29 [00:10<00:15,  1.03it/s]"
          ],
          "name": "stderr"
        },
        {
          "output_type": "stream",
          "text": [
            "ROC AUC couldn't be calculated for LabelSpreading\n",
            "multi_class must be in ('ovo', 'ovr')\n",
            "{'Model': 'LabelSpreading', 'Accuracy': 1.0, 'Balanced Accuracy': 1.0, 'ROC AUC': None, 'F1 Score': 1.0, 'Time taken': 1.985893964767456}\n"
          ],
          "name": "stdout"
        },
        {
          "output_type": "stream",
          "text": [
            "\r 48%|████▊     | 14/29 [00:11<00:11,  1.27it/s]"
          ],
          "name": "stderr"
        },
        {
          "output_type": "stream",
          "text": [
            "ROC AUC couldn't be calculated for LinearDiscriminantAnalysis\n",
            "multi_class must be in ('ovo', 'ovr')\n",
            "{'Model': 'LinearDiscriminantAnalysis', 'Accuracy': 0.9774096385542169, 'Balanced Accuracy': 0.9834465238624615, 'ROC AUC': None, 'F1 Score': 0.9782158984083107, 'Time taken': 0.25234508514404297}\n"
          ],
          "name": "stdout"
        },
        {
          "output_type": "stream",
          "text": [
            "\r 52%|█████▏    | 15/29 [00:11<00:11,  1.27it/s]"
          ],
          "name": "stderr"
        },
        {
          "output_type": "stream",
          "text": [
            "ROC AUC couldn't be calculated for LinearSVC\n",
            "multi_class must be in ('ovo', 'ovr')\n",
            "{'Model': 'LinearSVC', 'Accuracy': 0.9992469879518072, 'Balanced Accuracy': 0.9993506493506494, 'ROC AUC': None, 'F1 Score': 0.9992468011774257, 'Time taken': 0.7815523147583008}\n"
          ],
          "name": "stdout"
        },
        {
          "output_type": "stream",
          "text": [
            " 62%|██████▏   | 18/29 [00:12<00:04,  2.22it/s]"
          ],
          "name": "stderr"
        },
        {
          "output_type": "stream",
          "text": [
            "ROC AUC couldn't be calculated for LogisticRegression\n",
            "multi_class must be in ('ovo', 'ovr')\n",
            "{'Model': 'LogisticRegression', 'Accuracy': 0.9992469879518072, 'Balanced Accuracy': 0.9993506493506494, 'ROC AUC': None, 'F1 Score': 0.9992468011774257, 'Time taken': 0.6606001853942871}\n",
            "ROC AUC couldn't be calculated for NearestCentroid\n",
            "multi_class must be in ('ovo', 'ovr')\n",
            "{'Model': 'NearestCentroid', 'Accuracy': 0.6227409638554217, 'Balanced Accuracy': 0.7259543498633552, 'ROC AUC': None, 'F1 Score': 0.6543516716980387, 'Time taken': 0.07419586181640625}\n",
            "NuSVC model failed to execute\n",
            "specified nu is infeasible\n"
          ],
          "name": "stdout"
        },
        {
          "output_type": "stream",
          "text": [
            "\r 66%|██████▌   | 19/29 [00:13<00:04,  2.41it/s]"
          ],
          "name": "stderr"
        },
        {
          "output_type": "stream",
          "text": [
            "ROC AUC couldn't be calculated for PassiveAggressiveClassifier\n",
            "multi_class must be in ('ovo', 'ovr')\n",
            "{'Model': 'PassiveAggressiveClassifier', 'Accuracy': 1.0, 'Balanced Accuracy': 1.0, 'ROC AUC': None, 'F1 Score': 1.0, 'Time taken': 0.30152249336242676}\n"
          ],
          "name": "stdout"
        },
        {
          "output_type": "stream",
          "text": [
            " 72%|███████▏  | 21/29 [00:13<00:02,  3.17it/s]"
          ],
          "name": "stderr"
        },
        {
          "output_type": "stream",
          "text": [
            "ROC AUC couldn't be calculated for Perceptron\n",
            "multi_class must be in ('ovo', 'ovr')\n",
            "{'Model': 'Perceptron', 'Accuracy': 0.9977409638554217, 'Balanced Accuracy': 0.9938981606628665, 'ROC AUC': None, 'F1 Score': 0.9977380286177638, 'Time taken': 0.22884917259216309}\n",
            "ROC AUC couldn't be calculated for QuadraticDiscriminantAnalysis\n",
            "multi_class must be in ('ovo', 'ovr')\n",
            "{'Model': 'QuadraticDiscriminantAnalysis', 'Accuracy': 0.9329819277108434, 'Balanced Accuracy': 0.9560669705902664, 'ROC AUC': None, 'F1 Score': 0.9334829793287454, 'Time taken': 0.17045950889587402}\n"
          ],
          "name": "stdout"
        },
        {
          "output_type": "stream",
          "text": [
            "\r 76%|███████▌  | 22/29 [00:14<00:04,  1.71it/s]"
          ],
          "name": "stderr"
        },
        {
          "output_type": "stream",
          "text": [
            "ROC AUC couldn't be calculated for RandomForestClassifier\n",
            "multi_class must be in ('ovo', 'ovr')\n",
            "{'Model': 'RandomForestClassifier', 'Accuracy': 1.0, 'Balanced Accuracy': 1.0, 'ROC AUC': None, 'F1 Score': 1.0, 'Time taken': 1.29140305519104}\n",
            "ROC AUC couldn't be calculated for RidgeClassifier\n",
            "multi_class must be in ('ovo', 'ovr')\n",
            "{'Model': 'RidgeClassifier', 'Accuracy': 0.9706325301204819, 'Balanced Accuracy': 0.9752975652722297, 'ROC AUC': None, 'F1 Score': 0.971829671642649, 'Time taken': 0.08063125610351562}\n"
          ],
          "name": "stdout"
        },
        {
          "output_type": "stream",
          "text": [
            "\r 83%|████████▎ | 24/29 [00:15<00:01,  2.55it/s]"
          ],
          "name": "stderr"
        },
        {
          "output_type": "stream",
          "text": [
            "ROC AUC couldn't be calculated for RidgeClassifierCV\n",
            "multi_class must be in ('ovo', 'ovr')\n",
            "{'Model': 'RidgeClassifierCV', 'Accuracy': 0.9691265060240963, 'Balanced Accuracy': 0.9739936867574212, 'ROC AUC': None, 'F1 Score': 0.9705349250485557, 'Time taken': 0.21075057983398438}\n"
          ],
          "name": "stdout"
        },
        {
          "output_type": "stream",
          "text": [
            "\r 86%|████████▌ | 25/29 [00:15<00:01,  2.76it/s]"
          ],
          "name": "stderr"
        },
        {
          "output_type": "stream",
          "text": [
            "ROC AUC couldn't be calculated for SGDClassifier\n",
            "multi_class must be in ('ovo', 'ovr')\n",
            "{'Model': 'SGDClassifier', 'Accuracy': 0.9939759036144579, 'Balanced Accuracy': 0.993868071357879, 'ROC AUC': None, 'F1 Score': 0.9939704763908215, 'Time taken': 0.26462817192077637}\n"
          ],
          "name": "stdout"
        },
        {
          "output_type": "stream",
          "text": [
            "\r 90%|████████▉ | 26/29 [00:16<00:02,  1.43it/s]"
          ],
          "name": "stderr"
        },
        {
          "output_type": "stream",
          "text": [
            "ROC AUC couldn't be calculated for SVC\n",
            "multi_class must be in ('ovo', 'ovr')\n",
            "{'Model': 'SVC', 'Accuracy': 0.990210843373494, 'Balanced Accuracy': 0.9875658994470875, 'ROC AUC': None, 'F1 Score': 0.9901809295904075, 'Time taken': 1.672408103942871}\n",
            "StackingClassifier model failed to execute\n",
            "__init__() missing 1 required positional argument: 'estimators'\n"
          ],
          "name": "stdout"
        },
        {
          "output_type": "stream",
          "text": [
            "\r 97%|█████████▋| 28/29 [00:22<00:01,  1.50s/it]"
          ],
          "name": "stderr"
        },
        {
          "output_type": "stream",
          "text": [
            "ROC AUC couldn't be calculated for XGBClassifier\n",
            "multi_class must be in ('ovo', 'ovr')\n",
            "{'Model': 'XGBClassifier', 'Accuracy': 1.0, 'Balanced Accuracy': 1.0, 'ROC AUC': None, 'F1 Score': 1.0, 'Time taken': 5.199817895889282}\n"
          ],
          "name": "stdout"
        },
        {
          "output_type": "stream",
          "text": [
            "100%|██████████| 29/29 [00:28<00:00,  1.02it/s]"
          ],
          "name": "stderr"
        },
        {
          "output_type": "stream",
          "text": [
            "ROC AUC couldn't be calculated for LGBMClassifier\n",
            "multi_class must be in ('ovo', 'ovr')\n",
            "{'Model': 'LGBMClassifier', 'Accuracy': 1.0, 'Balanced Accuracy': 1.0, 'ROC AUC': None, 'F1 Score': 1.0, 'Time taken': 6.231931209564209}\n"
          ],
          "name": "stdout"
        },
        {
          "output_type": "stream",
          "text": [
            "\n"
          ],
          "name": "stderr"
        }
      ]
    },
    {
      "cell_type": "code",
      "metadata": {
        "colab": {
          "base_uri": "https://localhost:8080/"
        },
        "id": "mvdm3T80J2QP",
        "outputId": "11d646ae-5eae-4f1b-b600-df3bef7a6e81"
      },
      "source": [
        "models_imb_2.mean()"
      ],
      "execution_count": null,
      "outputs": [
        {
          "output_type": "execute_result",
          "data": {
            "text/plain": [
              "Accuracy            0.93\n",
              "Balanced Accuracy   0.93\n",
              "ROC AUC              NaN\n",
              "F1 Score            0.93\n",
              "Time Taken          1.09\n",
              "dtype: float64"
            ]
          },
          "metadata": {
            "tags": []
          },
          "execution_count": 101
        }
      ]
    },
    {
      "cell_type": "markdown",
      "metadata": {
        "id": "ud36oyvaJ32A"
      },
      "source": [
        "O balanceamento das classes ADASYN aumentou o desempenho dos modelos para uma acurácia balanceada média de 93% (+4%) e F1 de 93% (+2%).\n"
      ]
    },
    {
      "cell_type": "markdown",
      "metadata": {
        "id": "iY_9-rObPGDS"
      },
      "source": [
        "# Comparações"
      ]
    },
    {
      "cell_type": "markdown",
      "metadata": {
        "id": "picb-V0nPWMD"
      },
      "source": [
        "## PCA x Original"
      ]
    },
    {
      "cell_type": "code",
      "metadata": {
        "colab": {
          "base_uri": "https://localhost:8080/",
          "height": 886
        },
        "id": "0N75hV0WPFuZ",
        "outputId": "7bac8aca-3edf-45fb-baed-2aa2d72cd9f8"
      },
      "source": [
        "(models_pca - models).sort_values(by='F1 Score', ascending=False)"
      ],
      "execution_count": null,
      "outputs": [
        {
          "output_type": "execute_result",
          "data": {
            "text/html": [
              "<div>\n",
              "<style scoped>\n",
              "    .dataframe tbody tr th:only-of-type {\n",
              "        vertical-align: middle;\n",
              "    }\n",
              "\n",
              "    .dataframe tbody tr th {\n",
              "        vertical-align: top;\n",
              "    }\n",
              "\n",
              "    .dataframe thead th {\n",
              "        text-align: right;\n",
              "    }\n",
              "</style>\n",
              "<table border=\"1\" class=\"dataframe\">\n",
              "  <thead>\n",
              "    <tr style=\"text-align: right;\">\n",
              "      <th></th>\n",
              "      <th>Accuracy</th>\n",
              "      <th>Balanced Accuracy</th>\n",
              "      <th>ROC AUC</th>\n",
              "      <th>F1 Score</th>\n",
              "      <th>Time Taken</th>\n",
              "    </tr>\n",
              "    <tr>\n",
              "      <th>Model</th>\n",
              "      <th></th>\n",
              "      <th></th>\n",
              "      <th></th>\n",
              "      <th></th>\n",
              "      <th></th>\n",
              "    </tr>\n",
              "  </thead>\n",
              "  <tbody>\n",
              "    <tr>\n",
              "      <th>DummyClassifier</th>\n",
              "      <td>0.00</td>\n",
              "      <td>0.00</td>\n",
              "      <td>NaN</td>\n",
              "      <td>0.00</td>\n",
              "      <td>-0.03</td>\n",
              "    </tr>\n",
              "    <tr>\n",
              "      <th>QuadraticDiscriminantAnalysis</th>\n",
              "      <td>-0.17</td>\n",
              "      <td>0.08</td>\n",
              "      <td>NaN</td>\n",
              "      <td>-0.20</td>\n",
              "      <td>-0.11</td>\n",
              "    </tr>\n",
              "    <tr>\n",
              "      <th>ExtraTreesClassifier</th>\n",
              "      <td>-0.21</td>\n",
              "      <td>-0.34</td>\n",
              "      <td>NaN</td>\n",
              "      <td>-0.21</td>\n",
              "      <td>-0.06</td>\n",
              "    </tr>\n",
              "    <tr>\n",
              "      <th>ExtraTreeClassifier</th>\n",
              "      <td>-0.24</td>\n",
              "      <td>-0.33</td>\n",
              "      <td>NaN</td>\n",
              "      <td>-0.24</td>\n",
              "      <td>-0.02</td>\n",
              "    </tr>\n",
              "    <tr>\n",
              "      <th>DecisionTreeClassifier</th>\n",
              "      <td>-0.26</td>\n",
              "      <td>-0.37</td>\n",
              "      <td>NaN</td>\n",
              "      <td>-0.27</td>\n",
              "      <td>-0.09</td>\n",
              "    </tr>\n",
              "    <tr>\n",
              "      <th>BaggingClassifier</th>\n",
              "      <td>-0.27</td>\n",
              "      <td>-0.44</td>\n",
              "      <td>NaN</td>\n",
              "      <td>-0.28</td>\n",
              "      <td>-0.37</td>\n",
              "    </tr>\n",
              "    <tr>\n",
              "      <th>RandomForestClassifier</th>\n",
              "      <td>-0.28</td>\n",
              "      <td>-0.44</td>\n",
              "      <td>NaN</td>\n",
              "      <td>-0.29</td>\n",
              "      <td>-0.22</td>\n",
              "    </tr>\n",
              "    <tr>\n",
              "      <th>BernoulliNB</th>\n",
              "      <td>-0.24</td>\n",
              "      <td>-0.40</td>\n",
              "      <td>NaN</td>\n",
              "      <td>-0.31</td>\n",
              "      <td>-0.04</td>\n",
              "    </tr>\n",
              "    <tr>\n",
              "      <th>XGBClassifier</th>\n",
              "      <td>-0.31</td>\n",
              "      <td>-0.50</td>\n",
              "      <td>NaN</td>\n",
              "      <td>-0.33</td>\n",
              "      <td>-2.11</td>\n",
              "    </tr>\n",
              "    <tr>\n",
              "      <th>GaussianNB</th>\n",
              "      <td>-0.38</td>\n",
              "      <td>-0.59</td>\n",
              "      <td>NaN</td>\n",
              "      <td>-0.41</td>\n",
              "      <td>-0.04</td>\n",
              "    </tr>\n",
              "    <tr>\n",
              "      <th>KNeighborsClassifier</th>\n",
              "      <td>-0.40</td>\n",
              "      <td>-0.55</td>\n",
              "      <td>NaN</td>\n",
              "      <td>-0.42</td>\n",
              "      <td>-0.97</td>\n",
              "    </tr>\n",
              "    <tr>\n",
              "      <th>NearestCentroid</th>\n",
              "      <td>-0.43</td>\n",
              "      <td>-0.38</td>\n",
              "      <td>NaN</td>\n",
              "      <td>-0.43</td>\n",
              "      <td>-0.04</td>\n",
              "    </tr>\n",
              "    <tr>\n",
              "      <th>LGBMClassifier</th>\n",
              "      <td>-0.41</td>\n",
              "      <td>-0.57</td>\n",
              "      <td>NaN</td>\n",
              "      <td>-0.44</td>\n",
              "      <td>-3.56</td>\n",
              "    </tr>\n",
              "    <tr>\n",
              "      <th>SVC</th>\n",
              "      <td>-0.38</td>\n",
              "      <td>-0.50</td>\n",
              "      <td>NaN</td>\n",
              "      <td>-0.50</td>\n",
              "      <td>-0.37</td>\n",
              "    </tr>\n",
              "    <tr>\n",
              "      <th>SGDClassifier</th>\n",
              "      <td>-0.44</td>\n",
              "      <td>-0.57</td>\n",
              "      <td>NaN</td>\n",
              "      <td>-0.52</td>\n",
              "      <td>-0.11</td>\n",
              "    </tr>\n",
              "    <tr>\n",
              "      <th>LinearSVC</th>\n",
              "      <td>-0.42</td>\n",
              "      <td>-0.65</td>\n",
              "      <td>NaN</td>\n",
              "      <td>-0.54</td>\n",
              "      <td>-0.36</td>\n",
              "    </tr>\n",
              "    <tr>\n",
              "      <th>LogisticRegression</th>\n",
              "      <td>-0.42</td>\n",
              "      <td>-0.65</td>\n",
              "      <td>NaN</td>\n",
              "      <td>-0.54</td>\n",
              "      <td>-0.27</td>\n",
              "    </tr>\n",
              "    <tr>\n",
              "      <th>CalibratedClassifierCV</th>\n",
              "      <td>-0.43</td>\n",
              "      <td>-0.65</td>\n",
              "      <td>NaN</td>\n",
              "      <td>-0.54</td>\n",
              "      <td>-1.57</td>\n",
              "    </tr>\n",
              "    <tr>\n",
              "      <th>Perceptron</th>\n",
              "      <td>-0.50</td>\n",
              "      <td>-0.64</td>\n",
              "      <td>NaN</td>\n",
              "      <td>-0.57</td>\n",
              "      <td>-0.11</td>\n",
              "    </tr>\n",
              "    <tr>\n",
              "      <th>AdaBoostClassifier</th>\n",
              "      <td>-0.53</td>\n",
              "      <td>-0.56</td>\n",
              "      <td>NaN</td>\n",
              "      <td>-0.60</td>\n",
              "      <td>-0.75</td>\n",
              "    </tr>\n",
              "    <tr>\n",
              "      <th>PassiveAggressiveClassifier</th>\n",
              "      <td>-0.59</td>\n",
              "      <td>-0.74</td>\n",
              "      <td>NaN</td>\n",
              "      <td>-0.62</td>\n",
              "      <td>-0.17</td>\n",
              "    </tr>\n",
              "    <tr>\n",
              "      <th>RidgeClassifierCV</th>\n",
              "      <td>-0.53</td>\n",
              "      <td>-0.54</td>\n",
              "      <td>NaN</td>\n",
              "      <td>-0.62</td>\n",
              "      <td>-0.12</td>\n",
              "    </tr>\n",
              "    <tr>\n",
              "      <th>RidgeClassifier</th>\n",
              "      <td>-0.54</td>\n",
              "      <td>-0.57</td>\n",
              "      <td>NaN</td>\n",
              "      <td>-0.63</td>\n",
              "      <td>-0.04</td>\n",
              "    </tr>\n",
              "    <tr>\n",
              "      <th>LabelPropagation</th>\n",
              "      <td>-0.55</td>\n",
              "      <td>-0.72</td>\n",
              "      <td>NaN</td>\n",
              "      <td>-0.65</td>\n",
              "      <td>-0.08</td>\n",
              "    </tr>\n",
              "    <tr>\n",
              "      <th>LabelSpreading</th>\n",
              "      <td>-0.55</td>\n",
              "      <td>-0.72</td>\n",
              "      <td>NaN</td>\n",
              "      <td>-0.66</td>\n",
              "      <td>-0.15</td>\n",
              "    </tr>\n",
              "    <tr>\n",
              "      <th>LinearDiscriminantAnalysis</th>\n",
              "      <td>-0.55</td>\n",
              "      <td>-0.73</td>\n",
              "      <td>NaN</td>\n",
              "      <td>-0.66</td>\n",
              "      <td>-0.14</td>\n",
              "    </tr>\n",
              "  </tbody>\n",
              "</table>\n",
              "</div>"
            ],
            "text/plain": [
              "                               Accuracy  ...  Time Taken\n",
              "Model                                    ...            \n",
              "DummyClassifier                    0.00  ...       -0.03\n",
              "QuadraticDiscriminantAnalysis     -0.17  ...       -0.11\n",
              "ExtraTreesClassifier              -0.21  ...       -0.06\n",
              "ExtraTreeClassifier               -0.24  ...       -0.02\n",
              "DecisionTreeClassifier            -0.26  ...       -0.09\n",
              "BaggingClassifier                 -0.27  ...       -0.37\n",
              "RandomForestClassifier            -0.28  ...       -0.22\n",
              "BernoulliNB                       -0.24  ...       -0.04\n",
              "XGBClassifier                     -0.31  ...       -2.11\n",
              "GaussianNB                        -0.38  ...       -0.04\n",
              "KNeighborsClassifier              -0.40  ...       -0.97\n",
              "NearestCentroid                   -0.43  ...       -0.04\n",
              "LGBMClassifier                    -0.41  ...       -3.56\n",
              "SVC                               -0.38  ...       -0.37\n",
              "SGDClassifier                     -0.44  ...       -0.11\n",
              "LinearSVC                         -0.42  ...       -0.36\n",
              "LogisticRegression                -0.42  ...       -0.27\n",
              "CalibratedClassifierCV            -0.43  ...       -1.57\n",
              "Perceptron                        -0.50  ...       -0.11\n",
              "AdaBoostClassifier                -0.53  ...       -0.75\n",
              "PassiveAggressiveClassifier       -0.59  ...       -0.17\n",
              "RidgeClassifierCV                 -0.53  ...       -0.12\n",
              "RidgeClassifier                   -0.54  ...       -0.04\n",
              "LabelPropagation                  -0.55  ...       -0.08\n",
              "LabelSpreading                    -0.55  ...       -0.15\n",
              "LinearDiscriminantAnalysis        -0.55  ...       -0.14\n",
              "\n",
              "[26 rows x 5 columns]"
            ]
          },
          "metadata": {
            "tags": []
          },
          "execution_count": 102
        }
      ]
    },
    {
      "cell_type": "markdown",
      "metadata": {
        "id": "J-MNGiXWP8-S"
      },
      "source": [
        "O modelo dummy classifier não mudou com o uso do PCA, enquanto todos demais tiveram perda de desempenho, especialmente modelos lineares."
      ]
    },
    {
      "cell_type": "markdown",
      "metadata": {
        "id": "Zkh1vrBNPdl4"
      },
      "source": [
        "## SMOTE x Original"
      ]
    },
    {
      "cell_type": "code",
      "metadata": {
        "colab": {
          "base_uri": "https://localhost:8080/",
          "height": 917
        },
        "id": "pEpSamkWPaOB",
        "outputId": "2f7f3795-845e-45a9-bc8d-9fd039cdf2a7"
      },
      "source": [
        "(models_imb - models).sort_values(by='F1 Score', ascending=False)"
      ],
      "execution_count": null,
      "outputs": [
        {
          "output_type": "execute_result",
          "data": {
            "text/html": [
              "<div>\n",
              "<style scoped>\n",
              "    .dataframe tbody tr th:only-of-type {\n",
              "        vertical-align: middle;\n",
              "    }\n",
              "\n",
              "    .dataframe tbody tr th {\n",
              "        vertical-align: top;\n",
              "    }\n",
              "\n",
              "    .dataframe thead th {\n",
              "        text-align: right;\n",
              "    }\n",
              "</style>\n",
              "<table border=\"1\" class=\"dataframe\">\n",
              "  <thead>\n",
              "    <tr style=\"text-align: right;\">\n",
              "      <th></th>\n",
              "      <th>Accuracy</th>\n",
              "      <th>Balanced Accuracy</th>\n",
              "      <th>ROC AUC</th>\n",
              "      <th>F1 Score</th>\n",
              "      <th>Time Taken</th>\n",
              "    </tr>\n",
              "    <tr>\n",
              "      <th>Model</th>\n",
              "      <th></th>\n",
              "      <th></th>\n",
              "      <th></th>\n",
              "      <th></th>\n",
              "      <th></th>\n",
              "    </tr>\n",
              "  </thead>\n",
              "  <tbody>\n",
              "    <tr>\n",
              "      <th>SVC</th>\n",
              "      <td>0.04</td>\n",
              "      <td>0.15</td>\n",
              "      <td>NaN</td>\n",
              "      <td>0.04</td>\n",
              "      <td>1.43</td>\n",
              "    </tr>\n",
              "    <tr>\n",
              "      <th>BernoulliNB</th>\n",
              "      <td>0.03</td>\n",
              "      <td>0.11</td>\n",
              "      <td>NaN</td>\n",
              "      <td>0.03</td>\n",
              "      <td>0.03</td>\n",
              "    </tr>\n",
              "    <tr>\n",
              "      <th>LabelPropagation</th>\n",
              "      <td>0.02</td>\n",
              "      <td>0.02</td>\n",
              "      <td>NaN</td>\n",
              "      <td>0.02</td>\n",
              "      <td>1.48</td>\n",
              "    </tr>\n",
              "    <tr>\n",
              "      <th>LabelSpreading</th>\n",
              "      <td>0.02</td>\n",
              "      <td>0.02</td>\n",
              "      <td>NaN</td>\n",
              "      <td>0.02</td>\n",
              "      <td>2.33</td>\n",
              "    </tr>\n",
              "    <tr>\n",
              "      <th>RidgeClassifierCV</th>\n",
              "      <td>0.01</td>\n",
              "      <td>0.17</td>\n",
              "      <td>NaN</td>\n",
              "      <td>0.02</td>\n",
              "      <td>0.15</td>\n",
              "    </tr>\n",
              "    <tr>\n",
              "      <th>RidgeClassifier</th>\n",
              "      <td>0.01</td>\n",
              "      <td>0.15</td>\n",
              "      <td>NaN</td>\n",
              "      <td>0.02</td>\n",
              "      <td>0.05</td>\n",
              "    </tr>\n",
              "    <tr>\n",
              "      <th>DecisionTreeClassifier</th>\n",
              "      <td>0.01</td>\n",
              "      <td>0.02</td>\n",
              "      <td>NaN</td>\n",
              "      <td>0.01</td>\n",
              "      <td>0.10</td>\n",
              "    </tr>\n",
              "    <tr>\n",
              "      <th>KNeighborsClassifier</th>\n",
              "      <td>0.01</td>\n",
              "      <td>0.03</td>\n",
              "      <td>NaN</td>\n",
              "      <td>0.01</td>\n",
              "      <td>-0.24</td>\n",
              "    </tr>\n",
              "    <tr>\n",
              "      <th>SGDClassifier</th>\n",
              "      <td>0.01</td>\n",
              "      <td>0.05</td>\n",
              "      <td>NaN</td>\n",
              "      <td>0.01</td>\n",
              "      <td>0.19</td>\n",
              "    </tr>\n",
              "    <tr>\n",
              "      <th>ExtraTreeClassifier</th>\n",
              "      <td>0.01</td>\n",
              "      <td>0.02</td>\n",
              "      <td>NaN</td>\n",
              "      <td>0.01</td>\n",
              "      <td>0.02</td>\n",
              "    </tr>\n",
              "    <tr>\n",
              "      <th>Perceptron</th>\n",
              "      <td>0.01</td>\n",
              "      <td>0.01</td>\n",
              "      <td>NaN</td>\n",
              "      <td>0.01</td>\n",
              "      <td>0.09</td>\n",
              "    </tr>\n",
              "    <tr>\n",
              "      <th>LinearSVC</th>\n",
              "      <td>0.01</td>\n",
              "      <td>0.00</td>\n",
              "      <td>NaN</td>\n",
              "      <td>0.01</td>\n",
              "      <td>0.45</td>\n",
              "    </tr>\n",
              "    <tr>\n",
              "      <th>LogisticRegression</th>\n",
              "      <td>0.00</td>\n",
              "      <td>0.00</td>\n",
              "      <td>NaN</td>\n",
              "      <td>0.00</td>\n",
              "      <td>0.51</td>\n",
              "    </tr>\n",
              "    <tr>\n",
              "      <th>PassiveAggressiveClassifier</th>\n",
              "      <td>0.00</td>\n",
              "      <td>0.00</td>\n",
              "      <td>NaN</td>\n",
              "      <td>0.00</td>\n",
              "      <td>0.18</td>\n",
              "    </tr>\n",
              "    <tr>\n",
              "      <th>BaggingClassifier</th>\n",
              "      <td>0.00</td>\n",
              "      <td>0.00</td>\n",
              "      <td>NaN</td>\n",
              "      <td>0.00</td>\n",
              "      <td>0.66</td>\n",
              "    </tr>\n",
              "    <tr>\n",
              "      <th>LGBMClassifier</th>\n",
              "      <td>0.00</td>\n",
              "      <td>0.00</td>\n",
              "      <td>NaN</td>\n",
              "      <td>0.00</td>\n",
              "      <td>2.89</td>\n",
              "    </tr>\n",
              "    <tr>\n",
              "      <th>RandomForestClassifier</th>\n",
              "      <td>0.00</td>\n",
              "      <td>0.00</td>\n",
              "      <td>NaN</td>\n",
              "      <td>0.00</td>\n",
              "      <td>1.00</td>\n",
              "    </tr>\n",
              "    <tr>\n",
              "      <th>XGBClassifier</th>\n",
              "      <td>0.00</td>\n",
              "      <td>0.00</td>\n",
              "      <td>NaN</td>\n",
              "      <td>0.00</td>\n",
              "      <td>4.40</td>\n",
              "    </tr>\n",
              "    <tr>\n",
              "      <th>ExtraTreesClassifier</th>\n",
              "      <td>0.00</td>\n",
              "      <td>0.00</td>\n",
              "      <td>NaN</td>\n",
              "      <td>0.00</td>\n",
              "      <td>0.40</td>\n",
              "    </tr>\n",
              "    <tr>\n",
              "      <th>CalibratedClassifierCV</th>\n",
              "      <td>0.00</td>\n",
              "      <td>0.00</td>\n",
              "      <td>NaN</td>\n",
              "      <td>0.00</td>\n",
              "      <td>1.60</td>\n",
              "    </tr>\n",
              "    <tr>\n",
              "      <th>QuadraticDiscriminantAnalysis</th>\n",
              "      <td>0.00</td>\n",
              "      <td>0.16</td>\n",
              "      <td>NaN</td>\n",
              "      <td>0.00</td>\n",
              "      <td>0.08</td>\n",
              "    </tr>\n",
              "    <tr>\n",
              "      <th>GaussianNB</th>\n",
              "      <td>0.00</td>\n",
              "      <td>0.00</td>\n",
              "      <td>NaN</td>\n",
              "      <td>0.00</td>\n",
              "      <td>0.02</td>\n",
              "    </tr>\n",
              "    <tr>\n",
              "      <th>NearestCentroid</th>\n",
              "      <td>-0.01</td>\n",
              "      <td>0.05</td>\n",
              "      <td>NaN</td>\n",
              "      <td>-0.01</td>\n",
              "      <td>0.03</td>\n",
              "    </tr>\n",
              "    <tr>\n",
              "      <th>LinearDiscriminantAnalysis</th>\n",
              "      <td>-0.01</td>\n",
              "      <td>-0.01</td>\n",
              "      <td>NaN</td>\n",
              "      <td>-0.01</td>\n",
              "      <td>0.15</td>\n",
              "    </tr>\n",
              "    <tr>\n",
              "      <th>DummyClassifier</th>\n",
              "      <td>-0.06</td>\n",
              "      <td>0.02</td>\n",
              "      <td>NaN</td>\n",
              "      <td>-0.03</td>\n",
              "      <td>0.02</td>\n",
              "    </tr>\n",
              "    <tr>\n",
              "      <th>AdaBoostClassifier</th>\n",
              "      <td>-0.25</td>\n",
              "      <td>0.00</td>\n",
              "      <td>NaN</td>\n",
              "      <td>-0.27</td>\n",
              "      <td>1.84</td>\n",
              "    </tr>\n",
              "    <tr>\n",
              "      <th>NuSVC</th>\n",
              "      <td>NaN</td>\n",
              "      <td>NaN</td>\n",
              "      <td>NaN</td>\n",
              "      <td>NaN</td>\n",
              "      <td>NaN</td>\n",
              "    </tr>\n",
              "  </tbody>\n",
              "</table>\n",
              "</div>"
            ],
            "text/plain": [
              "                               Accuracy  ...  Time Taken\n",
              "Model                                    ...            \n",
              "SVC                                0.04  ...        1.43\n",
              "BernoulliNB                        0.03  ...        0.03\n",
              "LabelPropagation                   0.02  ...        1.48\n",
              "LabelSpreading                     0.02  ...        2.33\n",
              "RidgeClassifierCV                  0.01  ...        0.15\n",
              "RidgeClassifier                    0.01  ...        0.05\n",
              "DecisionTreeClassifier             0.01  ...        0.10\n",
              "KNeighborsClassifier               0.01  ...       -0.24\n",
              "SGDClassifier                      0.01  ...        0.19\n",
              "ExtraTreeClassifier                0.01  ...        0.02\n",
              "Perceptron                         0.01  ...        0.09\n",
              "LinearSVC                          0.01  ...        0.45\n",
              "LogisticRegression                 0.00  ...        0.51\n",
              "PassiveAggressiveClassifier        0.00  ...        0.18\n",
              "BaggingClassifier                  0.00  ...        0.66\n",
              "LGBMClassifier                     0.00  ...        2.89\n",
              "RandomForestClassifier             0.00  ...        1.00\n",
              "XGBClassifier                      0.00  ...        4.40\n",
              "ExtraTreesClassifier               0.00  ...        0.40\n",
              "CalibratedClassifierCV             0.00  ...        1.60\n",
              "QuadraticDiscriminantAnalysis      0.00  ...        0.08\n",
              "GaussianNB                         0.00  ...        0.02\n",
              "NearestCentroid                   -0.01  ...        0.03\n",
              "LinearDiscriminantAnalysis        -0.01  ...        0.15\n",
              "DummyClassifier                   -0.06  ...        0.02\n",
              "AdaBoostClassifier                -0.25  ...        1.84\n",
              "NuSVC                               NaN  ...         NaN\n",
              "\n",
              "[27 rows x 5 columns]"
            ]
          },
          "metadata": {
            "tags": []
          },
          "execution_count": 103
        }
      ]
    },
    {
      "cell_type": "markdown",
      "metadata": {
        "id": "6tV1StDdQRRY"
      },
      "source": [
        "O modelo NearestCentroid foi o mais beneficiado  com o uso do SMOTE aumentando 10% no F1 score, enquanto a maioria não mudou o desempenho, e alguns modelos tiveram uma perda pequena."
      ]
    }
  ]
}