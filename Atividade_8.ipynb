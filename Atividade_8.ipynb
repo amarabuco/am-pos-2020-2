{
  "nbformat": 4,
  "nbformat_minor": 0,
  "metadata": {
    "colab": {
      "name": "Atividade 8",
      "provenance": [],
      "collapsed_sections": [],
      "toc_visible": true,
      "include_colab_link": true
    },
    "kernelspec": {
      "name": "python3",
      "display_name": "Python 3"
    },
    "language_info": {
      "name": "python"
    }
  },
  "cells": [
    {
      "cell_type": "markdown",
      "metadata": {
        "id": "view-in-github",
        "colab_type": "text"
      },
      "source": [
        "<a href=\"https://colab.research.google.com/github/amarabuco/am-pos-2020-2/blob/main/Atividade_8.ipynb\" target=\"_parent\"><img src=\"https://colab.research.google.com/assets/colab-badge.svg\" alt=\"Open In Colab\"/></a>"
      ]
    },
    {
      "cell_type": "markdown",
      "metadata": {
        "id": "-NSzJiSd8nF2"
      },
      "source": [
        "### 08 - Ensembles - Realizar a implementação do bagging, boosting e stacking para a base de dados do Glass\n",
        "\n",
        "Realizar experimento com a implementação de comitês bagging, boosting e stacking para base de dados do Glass. Os modelos base para formação do comitê poderão ser KNN, SVM, Árvore de Decisão e/ou Redes Neurais Artificiais. Realizar uma busca de tal modo que os comitês apresentem desempenho superior ao desempenho solo dos classificadores. Apresentar análise, os principais desafios encontrados para a construção dos comitês e conclusões."
      ]
    },
    {
      "cell_type": "markdown",
      "metadata": {
        "id": "fDBlmRGgHP94"
      },
      "source": [
        "Entende-se por classificador ensemble (também chamado de comitê de learners, mistura de especialistas ou sistema de classificadores múltiplo), consiste em um conjunto de classificadores treinados individualmente, classificadores de base, cujas decisões são de alguma forma combinadas (Marques et al., 2012)."
      ]
    },
    {
      "cell_type": "code",
      "metadata": {
        "colab": {
          "base_uri": "https://localhost:8080/"
        },
        "id": "q4VGsIrTij7V",
        "outputId": "c7a0ef96-321a-4860-9149-f5d627b379d4"
      },
      "source": [
        "!pip install -U mlens"
      ],
      "execution_count": null,
      "outputs": [
        {
          "output_type": "stream",
          "text": [
            "Collecting mlens\n",
            "\u001b[?25l  Downloading https://files.pythonhosted.org/packages/0b/f7/c04bda423ac93ddb54bc4c3a21c79c9a24bc83844efc30dc4c11c289e894/mlens-0.2.3-py2.py3-none-any.whl (227kB)\n",
            "\r\u001b[K     |█▍                              | 10kB 16.4MB/s eta 0:00:01\r\u001b[K     |██▉                             | 20kB 16.5MB/s eta 0:00:01\r\u001b[K     |████▎                           | 30kB 12.9MB/s eta 0:00:01\r\u001b[K     |█████▊                          | 40kB 10.2MB/s eta 0:00:01\r\u001b[K     |███████▏                        | 51kB 4.4MB/s eta 0:00:01\r\u001b[K     |████████▋                       | 61kB 5.0MB/s eta 0:00:01\r\u001b[K     |██████████                      | 71kB 5.2MB/s eta 0:00:01\r\u001b[K     |███████████▌                    | 81kB 5.5MB/s eta 0:00:01\r\u001b[K     |█████████████                   | 92kB 5.8MB/s eta 0:00:01\r\u001b[K     |██████████████▍                 | 102kB 6.0MB/s eta 0:00:01\r\u001b[K     |███████████████▉                | 112kB 6.0MB/s eta 0:00:01\r\u001b[K     |█████████████████▎              | 122kB 6.0MB/s eta 0:00:01\r\u001b[K     |██████████████████▊             | 133kB 6.0MB/s eta 0:00:01\r\u001b[K     |████████████████████▏           | 143kB 6.0MB/s eta 0:00:01\r\u001b[K     |█████████████████████▋          | 153kB 6.0MB/s eta 0:00:01\r\u001b[K     |███████████████████████         | 163kB 6.0MB/s eta 0:00:01\r\u001b[K     |████████████████████████▌       | 174kB 6.0MB/s eta 0:00:01\r\u001b[K     |██████████████████████████      | 184kB 6.0MB/s eta 0:00:01\r\u001b[K     |███████████████████████████▍    | 194kB 6.0MB/s eta 0:00:01\r\u001b[K     |████████████████████████████▉   | 204kB 6.0MB/s eta 0:00:01\r\u001b[K     |██████████████████████████████▎ | 215kB 6.0MB/s eta 0:00:01\r\u001b[K     |███████████████████████████████▋| 225kB 6.0MB/s eta 0:00:01\r\u001b[K     |████████████████████████████████| 235kB 6.0MB/s \n",
            "\u001b[?25hRequirement already satisfied, skipping upgrade: numpy>=1.11 in /usr/local/lib/python3.7/dist-packages (from mlens) (1.19.5)\n",
            "Requirement already satisfied, skipping upgrade: scipy>=0.17 in /usr/local/lib/python3.7/dist-packages (from mlens) (1.4.1)\n",
            "Installing collected packages: mlens\n",
            "Successfully installed mlens-0.2.3\n"
          ],
          "name": "stdout"
        }
      ]
    },
    {
      "cell_type": "code",
      "metadata": {
        "id": "oNUzfml27_Tm"
      },
      "source": [
        "import numpy as np\n",
        "import pandas as pd\n",
        "\n",
        "#pre-processing\n",
        "from sklearn.preprocessing import StandardScaler\n",
        "\n",
        "\n",
        "# cross validation\n",
        "from sklearn.model_selection import RepeatedStratifiedKFold, train_test_split\n",
        "\n",
        "# gridsearch\n",
        "from sklearn.model_selection import GridSearchCV, cross_validate, learning_curve\n",
        "\n",
        "# models\n",
        "from sklearn import svm\n",
        "from sklearn.neighbors import KNeighborsClassifier\n",
        "from sklearn.tree import DecisionTreeClassifier, ExtraTreeClassifier\n",
        "from sklearn.neural_network import MLPClassifier\n",
        "\n",
        "#ensembles\n",
        "from sklearn.experimental import enable_hist_gradient_boosting\n",
        "from sklearn.ensemble import BaggingClassifier, GradientBoostingClassifier, HistGradientBoostingClassifier, AdaBoostClassifier, StackingClassifier, VotingClassifier\n",
        "from mlens.ensemble import SuperLearner\n",
        "from xgboost import XGBClassifier\n",
        "\n",
        "#dimensionality reduction\n",
        "from sklearn.decomposition import PCA\n",
        "\n",
        "# metrics\n",
        "from sklearn import metrics\n",
        "from sklearn.metrics import accuracy_score\n",
        "from sklearn.metrics import f1_score\n",
        "from sklearn.metrics import classification_report\n",
        "\n",
        "\n",
        "# visualization\n",
        "import matplotlib.pyplot as plt\n",
        "import seaborn as sns\n",
        "\n",
        "sns.set_theme()"
      ],
      "execution_count": null,
      "outputs": []
    },
    {
      "cell_type": "code",
      "metadata": {
        "id": "MLAY835V8jjb"
      },
      "source": [
        "cols = [\"id\",\"RI\",\"Na\",\"Mg\",\"Al\",\"Si\",\"K\",\"Ca\",\"Ba\",\"Fe\",\"Type\"]\n",
        "glass = pd.read_table('https://archive.ics.uci.edu/ml/machine-learning-databases/glass/glass.data', sep=',', names=cols, index_col=\"id\")"
      ],
      "execution_count": null,
      "outputs": []
    },
    {
      "cell_type": "markdown",
      "metadata": {
        "id": "qOpRHzNqV5ly"
      },
      "source": [
        "# Pré-processamento"
      ]
    },
    {
      "cell_type": "markdown",
      "metadata": {
        "id": "2_rkqpkRX8Hl"
      },
      "source": [
        "Na etapa de pré-processamento foi feita a separação entre o conjuunto de treinamento e de teste, bem como a normalização dos dados de entrada dos modelos."
      ]
    },
    {
      "cell_type": "code",
      "metadata": {
        "colab": {
          "base_uri": "https://localhost:8080/",
          "height": 235
        },
        "id": "_yvdMajSV9FL",
        "outputId": "8213423e-d0e6-45b6-e2bb-65f14d13ca03"
      },
      "source": [
        "glass.tail()"
      ],
      "execution_count": null,
      "outputs": [
        {
          "output_type": "execute_result",
          "data": {
            "text/html": [
              "<div>\n",
              "<style scoped>\n",
              "    .dataframe tbody tr th:only-of-type {\n",
              "        vertical-align: middle;\n",
              "    }\n",
              "\n",
              "    .dataframe tbody tr th {\n",
              "        vertical-align: top;\n",
              "    }\n",
              "\n",
              "    .dataframe thead th {\n",
              "        text-align: right;\n",
              "    }\n",
              "</style>\n",
              "<table border=\"1\" class=\"dataframe\">\n",
              "  <thead>\n",
              "    <tr style=\"text-align: right;\">\n",
              "      <th></th>\n",
              "      <th>RI</th>\n",
              "      <th>Na</th>\n",
              "      <th>Mg</th>\n",
              "      <th>Al</th>\n",
              "      <th>Si</th>\n",
              "      <th>K</th>\n",
              "      <th>Ca</th>\n",
              "      <th>Ba</th>\n",
              "      <th>Fe</th>\n",
              "      <th>Type</th>\n",
              "    </tr>\n",
              "    <tr>\n",
              "      <th>id</th>\n",
              "      <th></th>\n",
              "      <th></th>\n",
              "      <th></th>\n",
              "      <th></th>\n",
              "      <th></th>\n",
              "      <th></th>\n",
              "      <th></th>\n",
              "      <th></th>\n",
              "      <th></th>\n",
              "      <th></th>\n",
              "    </tr>\n",
              "  </thead>\n",
              "  <tbody>\n",
              "    <tr>\n",
              "      <th>210</th>\n",
              "      <td>1.51623</td>\n",
              "      <td>14.14</td>\n",
              "      <td>0.0</td>\n",
              "      <td>2.88</td>\n",
              "      <td>72.61</td>\n",
              "      <td>0.08</td>\n",
              "      <td>9.18</td>\n",
              "      <td>1.06</td>\n",
              "      <td>0.0</td>\n",
              "      <td>7</td>\n",
              "    </tr>\n",
              "    <tr>\n",
              "      <th>211</th>\n",
              "      <td>1.51685</td>\n",
              "      <td>14.92</td>\n",
              "      <td>0.0</td>\n",
              "      <td>1.99</td>\n",
              "      <td>73.06</td>\n",
              "      <td>0.00</td>\n",
              "      <td>8.40</td>\n",
              "      <td>1.59</td>\n",
              "      <td>0.0</td>\n",
              "      <td>7</td>\n",
              "    </tr>\n",
              "    <tr>\n",
              "      <th>212</th>\n",
              "      <td>1.52065</td>\n",
              "      <td>14.36</td>\n",
              "      <td>0.0</td>\n",
              "      <td>2.02</td>\n",
              "      <td>73.42</td>\n",
              "      <td>0.00</td>\n",
              "      <td>8.44</td>\n",
              "      <td>1.64</td>\n",
              "      <td>0.0</td>\n",
              "      <td>7</td>\n",
              "    </tr>\n",
              "    <tr>\n",
              "      <th>213</th>\n",
              "      <td>1.51651</td>\n",
              "      <td>14.38</td>\n",
              "      <td>0.0</td>\n",
              "      <td>1.94</td>\n",
              "      <td>73.61</td>\n",
              "      <td>0.00</td>\n",
              "      <td>8.48</td>\n",
              "      <td>1.57</td>\n",
              "      <td>0.0</td>\n",
              "      <td>7</td>\n",
              "    </tr>\n",
              "    <tr>\n",
              "      <th>214</th>\n",
              "      <td>1.51711</td>\n",
              "      <td>14.23</td>\n",
              "      <td>0.0</td>\n",
              "      <td>2.08</td>\n",
              "      <td>73.36</td>\n",
              "      <td>0.00</td>\n",
              "      <td>8.62</td>\n",
              "      <td>1.67</td>\n",
              "      <td>0.0</td>\n",
              "      <td>7</td>\n",
              "    </tr>\n",
              "  </tbody>\n",
              "</table>\n",
              "</div>"
            ],
            "text/plain": [
              "          RI     Na   Mg    Al     Si     K    Ca    Ba   Fe  Type\n",
              "id                                                                \n",
              "210  1.51623  14.14  0.0  2.88  72.61  0.08  9.18  1.06  0.0     7\n",
              "211  1.51685  14.92  0.0  1.99  73.06  0.00  8.40  1.59  0.0     7\n",
              "212  1.52065  14.36  0.0  2.02  73.42  0.00  8.44  1.64  0.0     7\n",
              "213  1.51651  14.38  0.0  1.94  73.61  0.00  8.48  1.57  0.0     7\n",
              "214  1.51711  14.23  0.0  2.08  73.36  0.00  8.62  1.67  0.0     7"
            ]
          },
          "metadata": {
            "tags": []
          },
          "execution_count": 4
        }
      ]
    },
    {
      "cell_type": "code",
      "metadata": {
        "id": "VAsD8j3LWF9j"
      },
      "source": [
        "X = glass[glass.columns[:-1]]\n",
        "y = glass[glass.columns[-1]]"
      ],
      "execution_count": null,
      "outputs": []
    },
    {
      "cell_type": "code",
      "metadata": {
        "colab": {
          "base_uri": "https://localhost:8080/",
          "height": 285
        },
        "id": "wwlSElwwsquf",
        "outputId": "1b6a66c4-65f0-4b91-95c6-2cf378c911b5"
      },
      "source": [
        "y.plot.hist()"
      ],
      "execution_count": null,
      "outputs": [
        {
          "output_type": "execute_result",
          "data": {
            "text/plain": [
              "<matplotlib.axes._subplots.AxesSubplot at 0x7fa8fa4d1f50>"
            ]
          },
          "metadata": {
            "tags": []
          },
          "execution_count": 6
        },
        {
          "output_type": "display_data",
          "data": {
            "image/png": "[encoded data removed]",
            "text/plain": [
              "<Figure size 432x288 with 1 Axes>"
            ]
          },
          "metadata": {
            "tags": []
          }
        }
      ]
    },
    {
      "cell_type": "code",
      "metadata": {
        "id": "Vo9-SjpvWr2I"
      },
      "source": [
        "X_train, X_test, y_train, y_test = train_test_split(X, y, random_state=40, test_size=0.8)"
      ],
      "execution_count": null,
      "outputs": []
    },
    {
      "cell_type": "code",
      "metadata": {
        "id": "gSrXis3LWS7d"
      },
      "source": [
        "scaler = StandardScaler()\n",
        "X_norm = pd.DataFrame(scaler.fit_transform(X_train), columns = X.columns)\n",
        "Xt_norm = pd.DataFrame(scaler.transform(X_test), columns = X.columns)"
      ],
      "execution_count": null,
      "outputs": []
    },
    {
      "cell_type": "markdown",
      "metadata": {
        "id": "6OtMzZC1VHFr"
      },
      "source": [
        "# EDA"
      ]
    },
    {
      "cell_type": "code",
      "metadata": {
        "id": "RYECirDkVInF"
      },
      "source": [
        "pca = PCA(n_components=2, svd_solver='full')"
      ],
      "execution_count": null,
      "outputs": []
    },
    {
      "cell_type": "code",
      "metadata": {
        "id": "NLxTiHzkVche"
      },
      "source": [
        "X_pca = pd.DataFrame(pca.fit_transform(X_norm), index=X_train.index)"
      ],
      "execution_count": null,
      "outputs": []
    },
    {
      "cell_type": "code",
      "metadata": {
        "colab": {
          "base_uri": "https://localhost:8080/"
        },
        "id": "Zawx8HF5Wgw8",
        "outputId": "494ab25c-5e3d-4c0a-b5d5-3f6d9b064ba9"
      },
      "source": [
        "pca.explained_variance_ratio_"
      ],
      "execution_count": null,
      "outputs": [
        {
          "output_type": "execute_result",
          "data": {
            "text/plain": [
              "array([0.29399938, 0.20531257])"
            ]
          },
          "metadata": {
            "tags": []
          },
          "execution_count": 11
        }
      ]
    },
    {
      "cell_type": "code",
      "metadata": {
        "colab": {
          "base_uri": "https://localhost:8080/",
          "height": 1000
        },
        "id": "29Cr_fFhWOdN",
        "outputId": "8cd18ecc-a4fe-487e-f724-5713eeea2936"
      },
      "source": [
        "train_pca = X_pca.join(y_train)\n",
        "train_pca"
      ],
      "execution_count": null,
      "outputs": [
        {
          "output_type": "execute_result",
          "data": {
            "text/html": [
              "<div>\n",
              "<style scoped>\n",
              "    .dataframe tbody tr th:only-of-type {\n",
              "        vertical-align: middle;\n",
              "    }\n",
              "\n",
              "    .dataframe tbody tr th {\n",
              "        vertical-align: top;\n",
              "    }\n",
              "\n",
              "    .dataframe thead th {\n",
              "        text-align: right;\n",
              "    }\n",
              "</style>\n",
              "<table border=\"1\" class=\"dataframe\">\n",
              "  <thead>\n",
              "    <tr style=\"text-align: right;\">\n",
              "      <th></th>\n",
              "      <th>0</th>\n",
              "      <th>1</th>\n",
              "      <th>Type</th>\n",
              "    </tr>\n",
              "    <tr>\n",
              "      <th>id</th>\n",
              "      <th></th>\n",
              "      <th></th>\n",
              "      <th></th>\n",
              "    </tr>\n",
              "  </thead>\n",
              "  <tbody>\n",
              "    <tr>\n",
              "      <th>32</th>\n",
              "      <td>-0.726013</td>\n",
              "      <td>0.663606</td>\n",
              "      <td>1</td>\n",
              "    </tr>\n",
              "    <tr>\n",
              "      <th>164</th>\n",
              "      <td>5.575985</td>\n",
              "      <td>-2.316368</td>\n",
              "      <td>5</td>\n",
              "    </tr>\n",
              "    <tr>\n",
              "      <th>172</th>\n",
              "      <td>4.915642</td>\n",
              "      <td>-2.150096</td>\n",
              "      <td>5</td>\n",
              "    </tr>\n",
              "    <tr>\n",
              "      <th>88</th>\n",
              "      <td>-0.000666</td>\n",
              "      <td>0.370786</td>\n",
              "      <td>2</td>\n",
              "    </tr>\n",
              "    <tr>\n",
              "      <th>175</th>\n",
              "      <td>-0.635514</td>\n",
              "      <td>-2.267951</td>\n",
              "      <td>5</td>\n",
              "    </tr>\n",
              "    <tr>\n",
              "      <th>45</th>\n",
              "      <td>-1.198206</td>\n",
              "      <td>-0.143024</td>\n",
              "      <td>1</td>\n",
              "    </tr>\n",
              "    <tr>\n",
              "      <th>61</th>\n",
              "      <td>-0.922299</td>\n",
              "      <td>0.325026</td>\n",
              "      <td>1</td>\n",
              "    </tr>\n",
              "    <tr>\n",
              "      <th>31</th>\n",
              "      <td>-0.880001</td>\n",
              "      <td>0.116136</td>\n",
              "      <td>1</td>\n",
              "    </tr>\n",
              "    <tr>\n",
              "      <th>179</th>\n",
              "      <td>-0.127265</td>\n",
              "      <td>0.162008</td>\n",
              "      <td>6</td>\n",
              "    </tr>\n",
              "    <tr>\n",
              "      <th>212</th>\n",
              "      <td>1.744233</td>\n",
              "      <td>-0.289327</td>\n",
              "      <td>7</td>\n",
              "    </tr>\n",
              "    <tr>\n",
              "      <th>142</th>\n",
              "      <td>-0.927161</td>\n",
              "      <td>0.148642</td>\n",
              "      <td>2</td>\n",
              "    </tr>\n",
              "    <tr>\n",
              "      <th>157</th>\n",
              "      <td>-0.295797</td>\n",
              "      <td>0.534060</td>\n",
              "      <td>3</td>\n",
              "    </tr>\n",
              "    <tr>\n",
              "      <th>202</th>\n",
              "      <td>0.141986</td>\n",
              "      <td>1.055554</td>\n",
              "      <td>7</td>\n",
              "    </tr>\n",
              "    <tr>\n",
              "      <th>100</th>\n",
              "      <td>-0.340659</td>\n",
              "      <td>0.093498</td>\n",
              "      <td>2</td>\n",
              "    </tr>\n",
              "    <tr>\n",
              "      <th>132</th>\n",
              "      <td>-2.492436</td>\n",
              "      <td>-3.127992</td>\n",
              "      <td>2</td>\n",
              "    </tr>\n",
              "    <tr>\n",
              "      <th>23</th>\n",
              "      <td>-0.588982</td>\n",
              "      <td>0.251635</td>\n",
              "      <td>1</td>\n",
              "    </tr>\n",
              "    <tr>\n",
              "      <th>187</th>\n",
              "      <td>3.318554</td>\n",
              "      <td>-0.935430</td>\n",
              "      <td>7</td>\n",
              "    </tr>\n",
              "    <tr>\n",
              "      <th>105</th>\n",
              "      <td>-1.839574</td>\n",
              "      <td>-1.849469</td>\n",
              "      <td>2</td>\n",
              "    </tr>\n",
              "    <tr>\n",
              "      <th>93</th>\n",
              "      <td>-0.448525</td>\n",
              "      <td>0.618750</td>\n",
              "      <td>2</td>\n",
              "    </tr>\n",
              "    <tr>\n",
              "      <th>15</th>\n",
              "      <td>-0.645752</td>\n",
              "      <td>0.478484</td>\n",
              "      <td>1</td>\n",
              "    </tr>\n",
              "    <tr>\n",
              "      <th>159</th>\n",
              "      <td>-0.160989</td>\n",
              "      <td>-0.177012</td>\n",
              "      <td>3</td>\n",
              "    </tr>\n",
              "    <tr>\n",
              "      <th>181</th>\n",
              "      <td>0.815119</td>\n",
              "      <td>2.757483</td>\n",
              "      <td>6</td>\n",
              "    </tr>\n",
              "    <tr>\n",
              "      <th>9</th>\n",
              "      <td>-0.231889</td>\n",
              "      <td>-0.020174</td>\n",
              "      <td>1</td>\n",
              "    </tr>\n",
              "    <tr>\n",
              "      <th>199</th>\n",
              "      <td>2.018200</td>\n",
              "      <td>0.227661</td>\n",
              "      <td>7</td>\n",
              "    </tr>\n",
              "    <tr>\n",
              "      <th>182</th>\n",
              "      <td>0.022075</td>\n",
              "      <td>0.048315</td>\n",
              "      <td>6</td>\n",
              "    </tr>\n",
              "    <tr>\n",
              "      <th>50</th>\n",
              "      <td>-0.590755</td>\n",
              "      <td>-0.199319</td>\n",
              "      <td>1</td>\n",
              "    </tr>\n",
              "    <tr>\n",
              "      <th>74</th>\n",
              "      <td>0.195882</td>\n",
              "      <td>0.673028</td>\n",
              "      <td>2</td>\n",
              "    </tr>\n",
              "    <tr>\n",
              "      <th>92</th>\n",
              "      <td>-0.164891</td>\n",
              "      <td>0.706499</td>\n",
              "      <td>2</td>\n",
              "    </tr>\n",
              "    <tr>\n",
              "      <th>188</th>\n",
              "      <td>-1.166556</td>\n",
              "      <td>-0.768031</td>\n",
              "      <td>7</td>\n",
              "    </tr>\n",
              "    <tr>\n",
              "      <th>56</th>\n",
              "      <td>-1.167892</td>\n",
              "      <td>0.190580</td>\n",
              "      <td>1</td>\n",
              "    </tr>\n",
              "    <tr>\n",
              "      <th>75</th>\n",
              "      <td>0.142229</td>\n",
              "      <td>0.763721</td>\n",
              "      <td>2</td>\n",
              "    </tr>\n",
              "    <tr>\n",
              "      <th>160</th>\n",
              "      <td>-0.218959</td>\n",
              "      <td>-0.477129</td>\n",
              "      <td>3</td>\n",
              "    </tr>\n",
              "    <tr>\n",
              "      <th>20</th>\n",
              "      <td>-0.195126</td>\n",
              "      <td>0.020521</td>\n",
              "      <td>1</td>\n",
              "    </tr>\n",
              "    <tr>\n",
              "      <th>115</th>\n",
              "      <td>-0.660728</td>\n",
              "      <td>0.086987</td>\n",
              "      <td>2</td>\n",
              "    </tr>\n",
              "    <tr>\n",
              "      <th>72</th>\n",
              "      <td>-0.842741</td>\n",
              "      <td>-0.486379</td>\n",
              "      <td>2</td>\n",
              "    </tr>\n",
              "    <tr>\n",
              "      <th>13</th>\n",
              "      <td>-0.422125</td>\n",
              "      <td>0.545277</td>\n",
              "      <td>1</td>\n",
              "    </tr>\n",
              "    <tr>\n",
              "      <th>194</th>\n",
              "      <td>2.124777</td>\n",
              "      <td>0.089695</td>\n",
              "      <td>7</td>\n",
              "    </tr>\n",
              "    <tr>\n",
              "      <th>51</th>\n",
              "      <td>-2.536113</td>\n",
              "      <td>-1.023123</td>\n",
              "      <td>1</td>\n",
              "    </tr>\n",
              "    <tr>\n",
              "      <th>185</th>\n",
              "      <td>1.183315</td>\n",
              "      <td>5.469801</td>\n",
              "      <td>6</td>\n",
              "    </tr>\n",
              "    <tr>\n",
              "      <th>166</th>\n",
              "      <td>-1.860276</td>\n",
              "      <td>-1.645630</td>\n",
              "      <td>5</td>\n",
              "    </tr>\n",
              "    <tr>\n",
              "      <th>8</th>\n",
              "      <td>-0.651162</td>\n",
              "      <td>0.857777</td>\n",
              "      <td>1</td>\n",
              "    </tr>\n",
              "    <tr>\n",
              "      <th>71</th>\n",
              "      <td>0.741053</td>\n",
              "      <td>0.620922</td>\n",
              "      <td>2</td>\n",
              "    </tr>\n",
              "  </tbody>\n",
              "</table>\n",
              "</div>"
            ],
            "text/plain": [
              "            0         1  Type\n",
              "id                           \n",
              "32  -0.726013  0.663606     1\n",
              "164  5.575985 -2.316368     5\n",
              "172  4.915642 -2.150096     5\n",
              "88  -0.000666  0.370786     2\n",
              "175 -0.635514 -2.267951     5\n",
              "45  -1.198206 -0.143024     1\n",
              "61  -0.922299  0.325026     1\n",
              "31  -0.880001  0.116136     1\n",
              "179 -0.127265  0.162008     6\n",
              "212  1.744233 -0.289327     7\n",
              "142 -0.927161  0.148642     2\n",
              "157 -0.295797  0.534060     3\n",
              "202  0.141986  1.055554     7\n",
              "100 -0.340659  0.093498     2\n",
              "132 -2.492436 -3.127992     2\n",
              "23  -0.588982  0.251635     1\n",
              "187  3.318554 -0.935430     7\n",
              "105 -1.839574 -1.849469     2\n",
              "93  -0.448525  0.618750     2\n",
              "15  -0.645752  0.478484     1\n",
              "159 -0.160989 -0.177012     3\n",
              "181  0.815119  2.757483     6\n",
              "9   -0.231889 -0.020174     1\n",
              "199  2.018200  0.227661     7\n",
              "182  0.022075  0.048315     6\n",
              "50  -0.590755 -0.199319     1\n",
              "74   0.195882  0.673028     2\n",
              "92  -0.164891  0.706499     2\n",
              "188 -1.166556 -0.768031     7\n",
              "56  -1.167892  0.190580     1\n",
              "75   0.142229  0.763721     2\n",
              "160 -0.218959 -0.477129     3\n",
              "20  -0.195126  0.020521     1\n",
              "115 -0.660728  0.086987     2\n",
              "72  -0.842741 -0.486379     2\n",
              "13  -0.422125  0.545277     1\n",
              "194  2.124777  0.089695     7\n",
              "51  -2.536113 -1.023123     1\n",
              "185  1.183315  5.469801     6\n",
              "166 -1.860276 -1.645630     5\n",
              "8   -0.651162  0.857777     1\n",
              "71   0.741053  0.620922     2"
            ]
          },
          "metadata": {
            "tags": []
          },
          "execution_count": 12
        }
      ]
    },
    {
      "cell_type": "code",
      "metadata": {
        "colab": {
          "base_uri": "https://localhost:8080/",
          "height": 519
        },
        "id": "__WZhCpJWHae",
        "outputId": "c15e2be4-a594-4466-e992-6c156d7db419"
      },
      "source": [
        "fig = plt.subplots(figsize=(8,8))\n",
        "sns.scatterplot(data=train_pca, x=0,y=1, hue='Type')"
      ],
      "execution_count": null,
      "outputs": [
        {
          "output_type": "execute_result",
          "data": {
            "text/plain": [
              "<matplotlib.axes._subplots.AxesSubplot at 0x7fa8fa3b9290>"
            ]
          },
          "metadata": {
            "tags": []
          },
          "execution_count": 13
        },
        {
          "output_type": "display_data",
          "data": {
            "image/png": "[encoded data removed]",
            "text/plain": [
              "<Figure size 576x576 with 1 Axes>"
            ]
          },
          "metadata": {
            "tags": []
          }
        }
      ]
    },
    {
      "cell_type": "markdown",
      "metadata": {
        "id": "8dA7h1R1Xb6C"
      },
      "source": [
        "# Bagging"
      ]
    },
    {
      "cell_type": "markdown",
      "metadata": {
        "id": "rMbh15AUH-b7"
      },
      "source": [
        "No Bagging os classificadores são treinados de forma independente por diferentes conjuntos de treinamento através do método de inicialização. Para construí-los é necessário montar k conjuntos de treinamento idênticos e replicar esses dados de treinamento de forma aleatória para construir k redes independentes por re-amostragem com reposição. Em seguida, deve-se agregar as k redes através de um método de combinação apropriada, tal como a maioria de votos (Breiman, 1996).\n",
        "\n",
        "Para garantir que há amostras de treinamento suficientes em cada subconjunto, grandes porções de amostras (75-100%) são colocadas em cada subconjunto. Com isso, os subconjuntos individuais de formação se sobrepõem de forma significativa, com muitos casos fazendo parte da maioria dos subconjuntos e podendo até mesmo aparecer várias vezes num mesmo subconjunto. A fim de assegurar a diversidade de situações, um learner de base relativamente instável é usado para que limites de decisão diferentes possam ser obtidos, considerando-se pequenas perturbações em diferentes amostras de treinamento (Wang, 2011).\n"
      ]
    },
    {
      "cell_type": "markdown",
      "metadata": {
        "id": "MHNSmSgUX61W"
      },
      "source": [
        "A construção do comitê bagging utilizou a class BaggingClassifier, e realizou-se em três etapas para cada um dos modelos base: tree, svm, knn e rna.\n",
        "\n",
        "1. Criação e configuração do comitê\n",
        "2. Validação cruzada (Treinamento x Validação)\n",
        "3. Teste"
      ]
    },
    {
      "cell_type": "code",
      "metadata": {
        "colab": {
          "base_uri": "https://localhost:8080/"
        },
        "id": "fJL44xmla-KT",
        "outputId": "5231066a-a40f-41f1-c9e3-03724be0c3e7"
      },
      "source": [
        "bag_clf_tree = BaggingClassifier(n_estimators=10, random_state=5)\n",
        "bag_cv_tree = pd.DataFrame(cross_validate(bag_clf_tree, X_norm, y_train, cv=5, return_train_score=True))\n",
        "bag_clf_tree.fit(X_norm, y_train)\n",
        "bag_pred_tree = bag_clf_tree.predict(Xt_norm)             "
      ],
      "execution_count": null,
      "outputs": [
        {
          "output_type": "stream",
          "text": [
            "/usr/local/lib/python3.7/dist-packages/sklearn/model_selection/_split.py:667: UserWarning: The least populated class in y has only 3 members, which is less than n_splits=5.\n",
            "  % (min_groups, self.n_splits)), UserWarning)\n"
          ],
          "name": "stderr"
        }
      ]
    },
    {
      "cell_type": "code",
      "metadata": {
        "colab": {
          "base_uri": "https://localhost:8080/"
        },
        "id": "hPJkq67uXYNE",
        "outputId": "68c24944-63f6-4fbd-9159-edbca23495fe"
      },
      "source": [
        "bag_clf_svm = BaggingClassifier(base_estimator=svm.SVC(), n_estimators=10, random_state=5)\n",
        "bag_cv_svm = pd.DataFrame(cross_validate(bag_clf_svm, X_norm, y_train, cv=5, return_train_score=True))\n",
        "bag_clf_svm.fit(X_norm, y_train)\n",
        "bag_pred_svm = bag_clf_svm.predict(Xt_norm)             "
      ],
      "execution_count": null,
      "outputs": [
        {
          "output_type": "stream",
          "text": [
            "/usr/local/lib/python3.7/dist-packages/sklearn/model_selection/_split.py:667: UserWarning: The least populated class in y has only 3 members, which is less than n_splits=5.\n",
            "  % (min_groups, self.n_splits)), UserWarning)\n"
          ],
          "name": "stderr"
        }
      ]
    },
    {
      "cell_type": "code",
      "metadata": {
        "colab": {
          "base_uri": "https://localhost:8080/"
        },
        "id": "AMZ6a8OMa7lw",
        "outputId": "0e5b234c-14a4-4422-b0b5-7ae1f69851c0"
      },
      "source": [
        "bag_clf_knn = BaggingClassifier(base_estimator=KNeighborsClassifier(),\n",
        "                        n_estimators=10, random_state=5)\n",
        "bag_cv_knn = pd.DataFrame(cross_validate(bag_clf_knn, X_norm, y_train, cv=5, return_train_score=True))\n",
        "bag_clf_knn.fit(X_norm, y_train)\n",
        "bag_pred_knn = bag_clf_knn.predict(Xt_norm)             "
      ],
      "execution_count": null,
      "outputs": [
        {
          "output_type": "stream",
          "text": [
            "/usr/local/lib/python3.7/dist-packages/sklearn/model_selection/_split.py:667: UserWarning: The least populated class in y has only 3 members, which is less than n_splits=5.\n",
            "  % (min_groups, self.n_splits)), UserWarning)\n"
          ],
          "name": "stderr"
        }
      ]
    },
    {
      "cell_type": "code",
      "metadata": {
        "colab": {
          "base_uri": "https://localhost:8080/"
        },
        "id": "6wlRyGvHbDSt",
        "outputId": "1c4bc433-6184-4b57-b99f-a9a8f8e6d68f"
      },
      "source": [
        "bag_clf_rna = BaggingClassifier(base_estimator=MLPClassifier(solver='lbfgs', alpha=1e-5,hidden_layer_sizes=(5, 2), random_state=1, max_iter=800,),\n",
        "                        n_estimators=10, random_state=5)\n",
        "bag_cv_rna = pd.DataFrame(cross_validate(bag_clf_rna, X_norm, y_train, cv=5, return_train_score=True))\n",
        "bag_clf_rna.fit(X_norm, y_train)\n",
        "bag_pred_rna = bag_clf_rna.predict(Xt_norm)             "
      ],
      "execution_count": null,
      "outputs": [
        {
          "output_type": "stream",
          "text": [
            "/usr/local/lib/python3.7/dist-packages/sklearn/model_selection/_split.py:667: UserWarning: The least populated class in y has only 3 members, which is less than n_splits=5.\n",
            "  % (min_groups, self.n_splits)), UserWarning)\n"
          ],
          "name": "stderr"
        }
      ]
    },
    {
      "cell_type": "markdown",
      "metadata": {
        "id": "xQmrzRqdfgGg"
      },
      "source": [
        "## Resultados da Validação Cruzada"
      ]
    },
    {
      "cell_type": "code",
      "metadata": {
        "id": "P5v_fct2fB2e"
      },
      "source": [
        "cv_bagging_mean = pd.DataFrame({'tree': bag_cv_tree.mean(), 'svm': bag_cv_svm.mean(), 'knn': bag_cv_knn.mean(), 'rna': bag_cv_rna.mean()})"
      ],
      "execution_count": null,
      "outputs": []
    },
    {
      "cell_type": "code",
      "metadata": {
        "colab": {
          "base_uri": "https://localhost:8080/",
          "height": 173
        },
        "id": "EAg_8wBWi4gs",
        "outputId": "51a25bc6-2b88-4111-c093-fd85ba8bb691"
      },
      "source": [
        "cv_bagging_mean"
      ],
      "execution_count": null,
      "outputs": [
        {
          "output_type": "execute_result",
          "data": {
            "text/html": [
              "<div>\n",
              "<style scoped>\n",
              "    .dataframe tbody tr th:only-of-type {\n",
              "        vertical-align: middle;\n",
              "    }\n",
              "\n",
              "    .dataframe tbody tr th {\n",
              "        vertical-align: top;\n",
              "    }\n",
              "\n",
              "    .dataframe thead th {\n",
              "        text-align: right;\n",
              "    }\n",
              "</style>\n",
              "<table border=\"1\" class=\"dataframe\">\n",
              "  <thead>\n",
              "    <tr style=\"text-align: right;\">\n",
              "      <th></th>\n",
              "      <th>tree</th>\n",
              "      <th>svm</th>\n",
              "      <th>knn</th>\n",
              "      <th>rna</th>\n",
              "    </tr>\n",
              "  </thead>\n",
              "  <tbody>\n",
              "    <tr>\n",
              "      <th>fit_time</th>\n",
              "      <td>0.017649</td>\n",
              "      <td>0.019599</td>\n",
              "      <td>0.012388</td>\n",
              "      <td>0.725184</td>\n",
              "    </tr>\n",
              "    <tr>\n",
              "      <th>score_time</th>\n",
              "      <td>0.002458</td>\n",
              "      <td>0.003073</td>\n",
              "      <td>0.007367</td>\n",
              "      <td>0.003550</td>\n",
              "    </tr>\n",
              "    <tr>\n",
              "      <th>test_score</th>\n",
              "      <td>0.466667</td>\n",
              "      <td>0.333333</td>\n",
              "      <td>0.308333</td>\n",
              "      <td>0.505556</td>\n",
              "    </tr>\n",
              "    <tr>\n",
              "      <th>train_score</th>\n",
              "      <td>0.976114</td>\n",
              "      <td>0.696435</td>\n",
              "      <td>0.547059</td>\n",
              "      <td>0.904456</td>\n",
              "    </tr>\n",
              "  </tbody>\n",
              "</table>\n",
              "</div>"
            ],
            "text/plain": [
              "                 tree       svm       knn       rna\n",
              "fit_time     0.017649  0.019599  0.012388  0.725184\n",
              "score_time   0.002458  0.003073  0.007367  0.003550\n",
              "test_score   0.466667  0.333333  0.308333  0.505556\n",
              "train_score  0.976114  0.696435  0.547059  0.904456"
            ]
          },
          "metadata": {
            "tags": []
          },
          "execution_count": 19
        }
      ]
    },
    {
      "cell_type": "code",
      "metadata": {
        "colab": {
          "base_uri": "https://localhost:8080/",
          "height": 298
        },
        "id": "kJpOorV6ftUn",
        "outputId": "a0601c80-338f-48df-a610-f3e22d8923d4"
      },
      "source": [
        "cv_bagging_mean.loc[['train_score','test_score']].T.plot.bar()"
      ],
      "execution_count": null,
      "outputs": [
        {
          "output_type": "execute_result",
          "data": {
            "text/plain": [
              "<matplotlib.axes._subplots.AxesSubplot at 0x7fa8f735d3d0>"
            ]
          },
          "metadata": {
            "tags": []
          },
          "execution_count": 20
        },
        {
          "output_type": "display_data",
          "data": {
            "image/png": "[encoded data removed]",
            "text/plain": [
              "<Figure size 432x288 with 1 Axes>"
            ]
          },
          "metadata": {
            "tags": []
          }
        }
      ]
    },
    {
      "cell_type": "code",
      "metadata": {
        "id": "6zf7VwFLiDI3"
      },
      "source": [
        "cv_bagging_std = pd.DataFrame({'tree': bag_cv_tree.std(), 'svm': bag_cv_svm.std(), 'knn': bag_cv_knn.std(), 'rna': bag_cv_rna.std()})"
      ],
      "execution_count": null,
      "outputs": []
    },
    {
      "cell_type": "code",
      "metadata": {
        "colab": {
          "base_uri": "https://localhost:8080/",
          "height": 173
        },
        "id": "d016J9Exi8Uj",
        "outputId": "d184074c-d544-4669-9c52-90c30e8a0924"
      },
      "source": [
        "cv_bagging_std"
      ],
      "execution_count": null,
      "outputs": [
        {
          "output_type": "execute_result",
          "data": {
            "text/html": [
              "<div>\n",
              "<style scoped>\n",
              "    .dataframe tbody tr th:only-of-type {\n",
              "        vertical-align: middle;\n",
              "    }\n",
              "\n",
              "    .dataframe tbody tr th {\n",
              "        vertical-align: top;\n",
              "    }\n",
              "\n",
              "    .dataframe thead th {\n",
              "        text-align: right;\n",
              "    }\n",
              "</style>\n",
              "<table border=\"1\" class=\"dataframe\">\n",
              "  <thead>\n",
              "    <tr style=\"text-align: right;\">\n",
              "      <th></th>\n",
              "      <th>tree</th>\n",
              "      <th>svm</th>\n",
              "      <th>knn</th>\n",
              "      <th>rna</th>\n",
              "    </tr>\n",
              "  </thead>\n",
              "  <tbody>\n",
              "    <tr>\n",
              "      <th>fit_time</th>\n",
              "      <td>0.002154</td>\n",
              "      <td>0.003308</td>\n",
              "      <td>0.002600</td>\n",
              "      <td>0.170075</td>\n",
              "    </tr>\n",
              "    <tr>\n",
              "      <th>score_time</th>\n",
              "      <td>0.000179</td>\n",
              "      <td>0.001095</td>\n",
              "      <td>0.001141</td>\n",
              "      <td>0.000080</td>\n",
              "    </tr>\n",
              "    <tr>\n",
              "      <th>test_score</th>\n",
              "      <td>0.227074</td>\n",
              "      <td>0.093686</td>\n",
              "      <td>0.157870</td>\n",
              "      <td>0.176394</td>\n",
              "    </tr>\n",
              "    <tr>\n",
              "      <th>train_score</th>\n",
              "      <td>0.013360</td>\n",
              "      <td>0.049127</td>\n",
              "      <td>0.050368</td>\n",
              "      <td>0.033947</td>\n",
              "    </tr>\n",
              "  </tbody>\n",
              "</table>\n",
              "</div>"
            ],
            "text/plain": [
              "                 tree       svm       knn       rna\n",
              "fit_time     0.002154  0.003308  0.002600  0.170075\n",
              "score_time   0.000179  0.001095  0.001141  0.000080\n",
              "test_score   0.227074  0.093686  0.157870  0.176394\n",
              "train_score  0.013360  0.049127  0.050368  0.033947"
            ]
          },
          "metadata": {
            "tags": []
          },
          "execution_count": 22
        }
      ]
    },
    {
      "cell_type": "code",
      "metadata": {
        "colab": {
          "base_uri": "https://localhost:8080/",
          "height": 298
        },
        "id": "kMeoFTNHiWgO",
        "outputId": "e255d65e-e758-466f-9134-dffea18d39d0"
      },
      "source": [
        "cv_bagging_std.loc[['train_score','test_score']].T.plot.bar()"
      ],
      "execution_count": null,
      "outputs": [
        {
          "output_type": "execute_result",
          "data": {
            "text/plain": [
              "<matplotlib.axes._subplots.AxesSubplot at 0x7fa8f72f7850>"
            ]
          },
          "metadata": {
            "tags": []
          },
          "execution_count": 23
        },
        {
          "output_type": "display_data",
          "data": {
            "image/png": "[encoded data removed]",
            "text/plain": [
              "<Figure size 432x288 with 1 Axes>"
            ]
          },
          "metadata": {
            "tags": []
          }
        }
      ]
    },
    {
      "cell_type": "markdown",
      "metadata": {
        "id": "zmNBu4gGibYa"
      },
      "source": [
        "* A análise da acurácia média dos comitês bagging evidenciou a ocorrência do overfitting em todos os modelos, pois há uma grande perda de performance no conjunto de validação em relação ao treinamento, especialment nos casos do comitê de árvores de decisão e redes neurais, que atingiram mais 90% no treinamento e menos de 51% do conjunto de validação. Sendo o comitê de redes neurais, o que obteve a melhor acurácia do quatro modelos base testados.\n",
        "\n",
        "* A análise do desvio padrão revela que o comitê de árvores de decisão e redes neurais apresentaram uma grande variância no conjunto de validação quando comparado ao conjunto de treinamento, o que indica que tais modelos são mais sensíveis aos dados recebidos no treinamento, acarretando maior instabilidade na construção dos comitês, do que os comitês de knn e svm."
      ]
    },
    {
      "cell_type": "markdown",
      "metadata": {
        "id": "oQtEw-l1fphG"
      },
      "source": [
        "## Resultados do Teste"
      ]
    },
    {
      "cell_type": "code",
      "metadata": {
        "id": "CQCs6iwIcvwg"
      },
      "source": [
        "pred_bagging = pd.DataFrame({'tree': bag_pred_tree, 'svm': bag_pred_svm, 'knn': bag_pred_knn, 'rna': bag_pred_rna})"
      ],
      "execution_count": null,
      "outputs": []
    },
    {
      "cell_type": "code",
      "metadata": {
        "colab": {
          "base_uri": "https://localhost:8080/",
          "height": 289
        },
        "id": "J2ILvh49c2SG",
        "outputId": "a2e7b8a1-6927-4581-daec-db3b638a11a6"
      },
      "source": [
        "sns.heatmap(pred_bagging.corr(), annot=True)"
      ],
      "execution_count": null,
      "outputs": [
        {
          "output_type": "execute_result",
          "data": {
            "text/plain": [
              "<matplotlib.axes._subplots.AxesSubplot at 0x7fa8f7273890>"
            ]
          },
          "metadata": {
            "tags": []
          },
          "execution_count": 25
        },
        {
          "output_type": "display_data",
          "data": {
            "image/png": "[encoded data removed]",
            "text/plain": [
              "<Figure size 432x288 with 2 Axes>"
            ]
          },
          "metadata": {
            "tags": []
          }
        }
      ]
    },
    {
      "cell_type": "code",
      "metadata": {
        "id": "GRH3iXwOrcS4"
      },
      "source": [
        "pred_bagging_score = pd.Series({'tree': accuracy_score(y_test, bag_pred_tree), 'svm': accuracy_score(y_test, bag_pred_svm), 'knn': accuracy_score(y_test, bag_pred_knn), 'rna': accuracy_score(y_test, bag_pred_rna)})"
      ],
      "execution_count": null,
      "outputs": []
    },
    {
      "cell_type": "code",
      "metadata": {
        "id": "Z55XsAmsu1lF"
      },
      "source": [
        "pred_bagging = pd.Series({'tree': f1_score(y_test, bag_pred_tree, average='micro'), 'svm': f1_score(y_test, bag_pred_svm, average='micro'), 'knn': f1_score(y_test, bag_pred_knn, average='micro'), 'rna': f1_score(y_test, bag_pred_rna, average='micro')})"
      ],
      "execution_count": null,
      "outputs": []
    },
    {
      "cell_type": "code",
      "metadata": {
        "colab": {
          "base_uri": "https://localhost:8080/",
          "height": 301
        },
        "id": "a88pNwI5Hc82",
        "outputId": "7ac714fb-47d6-47aa-908e-6fc8e96aa0b7"
      },
      "source": [
        "classes = {}\n",
        "pred_bagging_hm = pred_bagging.set_index(y_test.index).join(y_test)\n",
        "for col in pred_bagging_hm.columns:\n",
        "  classes[col] = pred_bagging_hm[col].value_counts(normalize=True)\n",
        "sns.heatmap(pd.DataFrame(classes).fillna(0),annot=True).set_title('Classes x Models')\n"
      ],
      "execution_count": null,
      "outputs": [
        {
          "output_type": "execute_result",
          "data": {
            "text/plain": [
              "Text(0.5, 1.0, 'Classes x Models')"
            ]
          },
          "metadata": {
            "tags": []
          },
          "execution_count": 27
        },
        {
          "output_type": "display_data",
          "data": {
            "image/png": "[encoded data removed]",
            "text/plain": [
              "<Figure size 432x288 with 2 Axes>"
            ]
          },
          "metadata": {
            "tags": []
          }
        }
      ]
    },
    {
      "cell_type": "code",
      "metadata": {
        "colab": {
          "base_uri": "https://localhost:8080/"
        },
        "id": "zeUkx6bfttxe",
        "outputId": "bb30639c-db1a-4c0a-b2ef-d2ffb83ca5a1"
      },
      "source": [
        "pred_bagging_score"
      ],
      "execution_count": null,
      "outputs": [
        {
          "output_type": "execute_result",
          "data": {
            "text/plain": [
              "tree    0.639535\n",
              "svm     0.563953\n",
              "knn     0.639535\n",
              "rna     0.575581\n",
              "dtype: float64"
            ]
          },
          "metadata": {
            "tags": []
          },
          "execution_count": 28
        }
      ]
    },
    {
      "cell_type": "code",
      "metadata": {
        "colab": {
          "base_uri": "https://localhost:8080/",
          "height": 298
        },
        "id": "YiPQ2FlstTA9",
        "outputId": "671a7fbc-ae40-4d2d-83cc-47c0ede75b76"
      },
      "source": [
        "pred_bagging_score.plot.bar()"
      ],
      "execution_count": null,
      "outputs": [
        {
          "output_type": "execute_result",
          "data": {
            "text/plain": [
              "<matplotlib.axes._subplots.AxesSubplot at 0x7fa8ee8b80d0>"
            ]
          },
          "metadata": {
            "tags": []
          },
          "execution_count": 29
        },
        {
          "output_type": "display_data",
          "data": {
            "image/png": "[encoded data removed]",
            "text/plain": [
              "<Figure size 432x288 with 1 Axes>"
            ]
          },
          "metadata": {
            "tags": []
          }
        }
      ]
    },
    {
      "cell_type": "markdown",
      "metadata": {
        "id": "EseCBMtzwdnK"
      },
      "source": [
        "* A acurácia média da previsão no conjunto de teste apresentou resultados distintos da validação cruzada. As métricas dos diferentes comitês foram semelhantes entre 56% - 63%, diferente dos resultados da validação cruzada que foram díspares. Além disso, o comitê de KNN teve um resultado melhor que o de rede neural, igualando com a acurácia das árvores de decisão. A análise da correlação entre as previsões dos comitês indica que eles possuem alta correlação entre si."
      ]
    },
    {
      "cell_type": "code",
      "metadata": {
        "colab": {
          "base_uri": "https://localhost:8080/",
          "height": 227
        },
        "id": "SWIdfWzvvinj",
        "outputId": "ace7782e-5da5-419a-9d60-e76a3db7cdd4"
      },
      "source": [
        "report = {}\n",
        "for pred in pred_bagging:\n",
        "  report[pred] = classification_report(y_test, pred_bagging[pred], output_dict=True)['weighted avg']\n",
        "report = pd.DataFrame(report)\n",
        "report"
      ],
      "execution_count": null,
      "outputs": [
        {
          "output_type": "stream",
          "text": [
            "/usr/local/lib/python3.7/dist-packages/sklearn/metrics/_classification.py:1272: UndefinedMetricWarning: Precision and F-score are ill-defined and being set to 0.0 in labels with no predicted samples. Use `zero_division` parameter to control this behavior.\n",
            "  _warn_prf(average, modifier, msg_start, len(result))\n"
          ],
          "name": "stderr"
        },
        {
          "output_type": "execute_result",
          "data": {
            "text/html": [
              "<div>\n",
              "<style scoped>\n",
              "    .dataframe tbody tr th:only-of-type {\n",
              "        vertical-align: middle;\n",
              "    }\n",
              "\n",
              "    .dataframe tbody tr th {\n",
              "        vertical-align: top;\n",
              "    }\n",
              "\n",
              "    .dataframe thead th {\n",
              "        text-align: right;\n",
              "    }\n",
              "</style>\n",
              "<table border=\"1\" class=\"dataframe\">\n",
              "  <thead>\n",
              "    <tr style=\"text-align: right;\">\n",
              "      <th></th>\n",
              "      <th>tree</th>\n",
              "      <th>svm</th>\n",
              "      <th>knn</th>\n",
              "      <th>rna</th>\n",
              "    </tr>\n",
              "  </thead>\n",
              "  <tbody>\n",
              "    <tr>\n",
              "      <th>precision</th>\n",
              "      <td>0.628349</td>\n",
              "      <td>0.582398</td>\n",
              "      <td>0.622678</td>\n",
              "      <td>0.584600</td>\n",
              "    </tr>\n",
              "    <tr>\n",
              "      <th>recall</th>\n",
              "      <td>0.639535</td>\n",
              "      <td>0.563953</td>\n",
              "      <td>0.639535</td>\n",
              "      <td>0.575581</td>\n",
              "    </tr>\n",
              "    <tr>\n",
              "      <th>f1-score</th>\n",
              "      <td>0.617410</td>\n",
              "      <td>0.493330</td>\n",
              "      <td>0.614312</td>\n",
              "      <td>0.549580</td>\n",
              "    </tr>\n",
              "    <tr>\n",
              "      <th>support</th>\n",
              "      <td>172.000000</td>\n",
              "      <td>172.000000</td>\n",
              "      <td>172.000000</td>\n",
              "      <td>172.000000</td>\n",
              "    </tr>\n",
              "  </tbody>\n",
              "</table>\n",
              "</div>"
            ],
            "text/plain": [
              "                 tree         svm         knn         rna\n",
              "precision    0.628349    0.582398    0.622678    0.584600\n",
              "recall       0.639535    0.563953    0.639535    0.575581\n",
              "f1-score     0.617410    0.493330    0.614312    0.549580\n",
              "support    172.000000  172.000000  172.000000  172.000000"
            ]
          },
          "metadata": {
            "tags": []
          },
          "execution_count": 105
        }
      ]
    },
    {
      "cell_type": "code",
      "metadata": {
        "colab": {
          "base_uri": "https://localhost:8080/",
          "height": 298
        },
        "id": "3zE4SFv-ve9k",
        "outputId": "b8527927-0072-4300-fd07-697bcaf2ce30"
      },
      "source": [
        "report.T['f1-score'].plot.bar()"
      ],
      "execution_count": null,
      "outputs": [
        {
          "output_type": "execute_result",
          "data": {
            "text/plain": [
              "<matplotlib.axes._subplots.AxesSubplot at 0x7fa8e75dc3d0>"
            ]
          },
          "metadata": {
            "tags": []
          },
          "execution_count": 106
        },
        {
          "output_type": "display_data",
          "data": {
            "image/png": "[encoded data removed]",
            "text/plain": [
              "<Figure size 432x288 with 1 Axes>"
            ]
          },
          "metadata": {
            "tags": []
          }
        }
      ]
    },
    {
      "cell_type": "markdown",
      "metadata": {
        "id": "8t_KnO9B0Fp_"
      },
      "source": [
        "A análise do f1-score revelou resultados semelhantes para o knn e tree, enquanto o svm obteve um pior desempenho em virtude do viés para classe 1."
      ]
    },
    {
      "cell_type": "code",
      "metadata": {
        "colab": {
          "base_uri": "https://localhost:8080/",
          "height": 52
        },
        "id": "qjq3TwkWfl9r",
        "outputId": "10ad9514-6bdf-4fb5-c65a-8d6835a979ce"
      },
      "source": [
        "# learning curve\n",
        "\"\"\"\n",
        "train_sizes, train_scores, valid_scores = learning_curve(\n",
        "    BaggingClassifier(base_estimator=svm.SVC(), n_estimators=10, random_state=5), X, y, cv=5)\n",
        "\"\"\""
      ],
      "execution_count": null,
      "outputs": [
        {
          "output_type": "execute_result",
          "data": {
            "application/vnd.google.colaboratory.intrinsic+json": {
              "type": "string"
            },
            "text/plain": [
              "'\\ntrain_sizes, train_scores, valid_scores = learning_curve(\\n    BaggingClassifier(base_estimator=svm.SVC(), n_estimators=10, random_state=5), X, y, cv=5)\\n'"
            ]
          },
          "metadata": {
            "tags": []
          },
          "execution_count": 30
        }
      ]
    },
    {
      "cell_type": "markdown",
      "metadata": {
        "id": "ZNdKlYVBIaJV"
      },
      "source": [
        "# Voting "
      ]
    },
    {
      "cell_type": "markdown",
      "metadata": {
        "id": "lX1MggMhQ5Ea"
      },
      "source": [
        "Um Classificador Voting é um modelo de aprendizado de máquina que treina em um conjunto de inúmeros modelos e prevê uma saída com base em sua maior probabilidade de classe escolhida como a saída.\n",
        "Ele agrega os resultados de cada classificador aprovado no Classificador de Votação e prevê a classe de saída com base na maior maioria dos votos. A ideia é, em vez de criar modelos dedicados separados e encontrar a precisão para cada um deles, criamos um único modelo que treina por esses modelos e prevê a saída com base em sua maioria combinada de votação para cada classe de saída."
      ]
    },
    {
      "cell_type": "markdown",
      "metadata": {
        "id": "JAdeIhF3KJ5w"
      },
      "source": [
        "A construção do comitê de voto majoritário utilizou a class VotingClassifier, e combinou os quatros comitê bagging usando o voto soft, cuja regra de decisão é a soma das probabilidades das previsões."
      ]
    },
    {
      "cell_type": "code",
      "metadata": {
        "colab": {
          "base_uri": "https://localhost:8080/"
        },
        "id": "F8W5420N1K9x",
        "outputId": "9a787cc4-bfab-4835-fa55-96b7975b1efa"
      },
      "source": [
        "eclf1 = VotingClassifier(estimators=[('tree',BaggingClassifier(n_estimators=10, random_state=5)),('svm',BaggingClassifier(base_estimator=svm.SVC(), n_estimators=10, random_state=5)),('knn',BaggingClassifier(base_estimator=KNeighborsClassifier(),\n",
        "                        n_estimators=10, random_state=5)),('rna',BaggingClassifier(base_estimator=MLPClassifier(solver='lbfgs', alpha=1e-5,hidden_layer_sizes=(5, 2), random_state=1, max_iter=800,),\n",
        "                        n_estimators=10, random_state=5))], voting='soft')\n",
        "eclf1.fit(X_norm,y_train)"
      ],
      "execution_count": null,
      "outputs": [
        {
          "output_type": "execute_result",
          "data": {
            "text/plain": [
              "VotingClassifier(estimators=[('tree',\n",
              "                              BaggingClassifier(base_estimator=None,\n",
              "                                                bootstrap=True,\n",
              "                                                bootstrap_features=False,\n",
              "                                                max_features=1.0,\n",
              "                                                max_samples=1.0,\n",
              "                                                n_estimators=10, n_jobs=None,\n",
              "                                                oob_score=False, random_state=5,\n",
              "                                                verbose=0, warm_start=False)),\n",
              "                             ('svm',\n",
              "                              BaggingClassifier(base_estimator=SVC(C=1.0,\n",
              "                                                                   break_ties=False,\n",
              "                                                                   cache_size=200,\n",
              "                                                                   class_weight=None,\n",
              "                                                                   coef0=0.0,\n",
              "                                                                   deci...\n",
              "                                                                             nesterovs_momentum=True,\n",
              "                                                                             power_t=0.5,\n",
              "                                                                             random_state=1,\n",
              "                                                                             shuffle=True,\n",
              "                                                                             solver='lbfgs',\n",
              "                                                                             tol=0.0001,\n",
              "                                                                             validation_fraction=0.1,\n",
              "                                                                             verbose=False,\n",
              "                                                                             warm_start=False),\n",
              "                                                bootstrap=True,\n",
              "                                                bootstrap_features=False,\n",
              "                                                max_features=1.0,\n",
              "                                                max_samples=1.0,\n",
              "                                                n_estimators=10, n_jobs=None,\n",
              "                                                oob_score=False, random_state=5,\n",
              "                                                verbose=0, warm_start=False))],\n",
              "                 flatten_transform=True, n_jobs=None, voting='soft',\n",
              "                 weights=None)"
            ]
          },
          "metadata": {
            "tags": []
          },
          "execution_count": 31
        }
      ]
    },
    {
      "cell_type": "code",
      "metadata": {
        "colab": {
          "base_uri": "https://localhost:8080/"
        },
        "id": "OQdI_LeK3VAt",
        "outputId": "acb40dad-8925-4bec-d0d5-dd21e12cfbed"
      },
      "source": [
        "accuracy_score(y_test,eclf1.predict(Xt_norm))"
      ],
      "execution_count": null,
      "outputs": [
        {
          "output_type": "execute_result",
          "data": {
            "text/plain": [
              "0.7209302325581395"
            ]
          },
          "metadata": {
            "tags": []
          },
          "execution_count": 32
        }
      ]
    },
    {
      "cell_type": "markdown",
      "metadata": {
        "id": "CQhHBDvvDyTv"
      },
      "source": [
        "O uso do voto majoritário soft combinando os comitês bagging levou a uma melhora na performance do melhor comitê bagging de 63% para 72% de acurácia no conjunto de teste."
      ]
    },
    {
      "cell_type": "markdown",
      "metadata": {
        "id": "0GMxhgmCzq16"
      },
      "source": [
        "# Boosting"
      ]
    },
    {
      "cell_type": "markdown",
      "metadata": {
        "id": "Seg01s8WQhW_"
      },
      "source": [
        "No Boosting, de forma semelhante ao Bagging, cada classificador é treinado usando um conjunto de treinamento diferente. A abordagem por Boosting original foi proposta por Schapire em 1990. A principal diferença em relação ao Bagging é que os conjuntos de dados re-amostrados são construídos especificamente para gerar aprendizados complementares e a importância do voto é ponderado com base no desempenho de cada modelo, em vez da atribuição de mesmo peso para todos os votos. Essencialmente, esse procedimento permite aumentar o desempenho de um limiar arbitrário simplesmente adicionando learners mais fracos. Dada a utilidade desse achado, Boosting é considerado uma das descobertas mais significativas em aprendizado de máquina (LANTZ, 2013)."
      ]
    },
    {
      "cell_type": "markdown",
      "metadata": {
        "id": "Sy_Yn3qNKCui"
      },
      "source": [
        "A construção do comitê boosting utilizou as classes AdaBoostClassifier, GradientBoostingClassifier e HistGradientBoostingClassifier, e o ExtremeGadrientBoostingClassifier do framework xgboost e realizou-se em três etapas.\n",
        "\n",
        "1. Criação e configuração do comitê\n",
        "2. Validação cruzada (Treinamento x Validação)\n",
        "3. Teste"
      ]
    },
    {
      "cell_type": "code",
      "metadata": {
        "colab": {
          "base_uri": "https://localhost:8080/"
        },
        "id": "L60su1qjIOkW",
        "outputId": "5edd3b47-037f-4318-8ad8-7d91b4bad9cb"
      },
      "source": [
        "%time\n",
        "bst_clf_ada = AdaBoostClassifier(n_estimators=100, random_state=4)\n",
        "bst_cv_ada = pd.DataFrame(cross_validate(bst_clf_ada, X_norm, y_train, cv=5, return_train_score=True))\n",
        "bst_clf_ada.fit(X_norm, y_train)\n",
        "bst_pred_ada = bst_clf_ada.predict(Xt_norm)          "
      ],
      "execution_count": null,
      "outputs": [
        {
          "output_type": "stream",
          "text": [
            "CPU times: user 2 µs, sys: 0 ns, total: 2 µs\n",
            "Wall time: 5.72 µs\n"
          ],
          "name": "stdout"
        },
        {
          "output_type": "stream",
          "text": [
            "/usr/local/lib/python3.7/dist-packages/sklearn/model_selection/_split.py:667: UserWarning: The least populated class in y has only 3 members, which is less than n_splits=5.\n",
            "  % (min_groups, self.n_splits)), UserWarning)\n"
          ],
          "name": "stderr"
        }
      ]
    },
    {
      "cell_type": "code",
      "metadata": {
        "colab": {
          "base_uri": "https://localhost:8080/"
        },
        "id": "2uqYE_XGLe7A",
        "outputId": "ce4d1698-60c4-437d-becb-4c754ad16c50"
      },
      "source": [
        "%time\n",
        "bst_clf_gb = GradientBoostingClassifier()\n",
        "bst_cv_gb = pd.DataFrame(cross_validate(bst_clf_gb, X_norm, y_train, cv=5, return_train_score=True))\n",
        "bst_clf_gb.fit(X_norm, y_train)\n",
        "bst_pred_gb = bst_clf_gb.predict(Xt_norm)             "
      ],
      "execution_count": null,
      "outputs": [
        {
          "output_type": "stream",
          "text": [
            "CPU times: user 4 µs, sys: 0 ns, total: 4 µs\n",
            "Wall time: 9.3 µs\n"
          ],
          "name": "stdout"
        },
        {
          "output_type": "stream",
          "text": [
            "/usr/local/lib/python3.7/dist-packages/sklearn/model_selection/_split.py:667: UserWarning: The least populated class in y has only 3 members, which is less than n_splits=5.\n",
            "  % (min_groups, self.n_splits)), UserWarning)\n"
          ],
          "name": "stderr"
        }
      ]
    },
    {
      "cell_type": "code",
      "metadata": {
        "colab": {
          "base_uri": "https://localhost:8080/"
        },
        "id": "g8jNxcpaDvGC",
        "outputId": "8e0670b7-be9c-4a39-c915-e06cd0d3eb1f"
      },
      "source": [
        "%time\n",
        "bst_clf_hist = HistGradientBoostingClassifier(max_iter=100)\n",
        "bst_cv_hist = pd.DataFrame(cross_validate(bst_clf_hist, X_norm, y_train, cv=5, return_train_score=True))\n",
        "bst_clf_hist.fit(X_norm, y_train)\n",
        "bst_pred_hist = bst_clf_hist.predict(Xt_norm)             "
      ],
      "execution_count": null,
      "outputs": [
        {
          "output_type": "stream",
          "text": [
            "CPU times: user 3 µs, sys: 0 ns, total: 3 µs\n",
            "Wall time: 8.11 µs\n"
          ],
          "name": "stdout"
        },
        {
          "output_type": "stream",
          "text": [
            "/usr/local/lib/python3.7/dist-packages/sklearn/model_selection/_split.py:667: UserWarning: The least populated class in y has only 3 members, which is less than n_splits=5.\n",
            "  % (min_groups, self.n_splits)), UserWarning)\n"
          ],
          "name": "stderr"
        }
      ]
    },
    {
      "cell_type": "code",
      "metadata": {
        "colab": {
          "base_uri": "https://localhost:8080/"
        },
        "id": "v4QT_bpol88T",
        "outputId": "9c01906f-204c-46b7-a981-2ce51dc7b821"
      },
      "source": [
        "%time\n",
        "bst_clf_xgb = XGBClassifier(n_estimators=100, random_state=4)\n",
        "bst_cv_xgb = pd.DataFrame(cross_validate(bst_clf_xgb, X_norm, y_train, cv=5, return_train_score=True))\n",
        "bst_clf_xgb.fit(X_norm, y_train)\n",
        "bst_pred_xgb = bst_clf_xgb.predict(Xt_norm)          "
      ],
      "execution_count": null,
      "outputs": [
        {
          "output_type": "stream",
          "text": [
            "CPU times: user 4 µs, sys: 0 ns, total: 4 µs\n",
            "Wall time: 8.11 µs\n"
          ],
          "name": "stdout"
        },
        {
          "output_type": "stream",
          "text": [
            "/usr/local/lib/python3.7/dist-packages/sklearn/model_selection/_split.py:667: UserWarning: The least populated class in y has only 3 members, which is less than n_splits=5.\n",
            "  % (min_groups, self.n_splits)), UserWarning)\n"
          ],
          "name": "stderr"
        }
      ]
    },
    {
      "cell_type": "markdown",
      "metadata": {
        "id": "QCIEbsNDT_YN"
      },
      "source": [
        "## Resultados da Validação Cruzada"
      ]
    },
    {
      "cell_type": "code",
      "metadata": {
        "id": "JzkQa3ExK_AQ"
      },
      "source": [
        "cv_boosting_mean = pd.DataFrame({'ada': bst_cv_ada.mean(), 'gb': bst_cv_gb.mean(), 'xgb': bst_cv_xgb.mean(), 'hist': bst_cv_hist.mean()})"
      ],
      "execution_count": null,
      "outputs": []
    },
    {
      "cell_type": "code",
      "metadata": {
        "colab": {
          "base_uri": "https://localhost:8080/",
          "height": 173
        },
        "id": "eTK2icT0MKRG",
        "outputId": "c9e25855-6222-4f35-8af4-3f79993f4ecb"
      },
      "source": [
        "cv_boosting_mean"
      ],
      "execution_count": null,
      "outputs": [
        {
          "output_type": "execute_result",
          "data": {
            "text/html": [
              "<div>\n",
              "<style scoped>\n",
              "    .dataframe tbody tr th:only-of-type {\n",
              "        vertical-align: middle;\n",
              "    }\n",
              "\n",
              "    .dataframe tbody tr th {\n",
              "        vertical-align: top;\n",
              "    }\n",
              "\n",
              "    .dataframe thead th {\n",
              "        text-align: right;\n",
              "    }\n",
              "</style>\n",
              "<table border=\"1\" class=\"dataframe\">\n",
              "  <thead>\n",
              "    <tr style=\"text-align: right;\">\n",
              "      <th></th>\n",
              "      <th>ada</th>\n",
              "      <th>gb</th>\n",
              "      <th>xgb</th>\n",
              "      <th>hist</th>\n",
              "    </tr>\n",
              "  </thead>\n",
              "  <tbody>\n",
              "    <tr>\n",
              "      <th>fit_time</th>\n",
              "      <td>0.138436</td>\n",
              "      <td>0.315500</td>\n",
              "      <td>0.056765</td>\n",
              "      <td>0.060385</td>\n",
              "    </tr>\n",
              "    <tr>\n",
              "      <th>score_time</th>\n",
              "      <td>0.017105</td>\n",
              "      <td>0.001589</td>\n",
              "      <td>0.001844</td>\n",
              "      <td>0.008963</td>\n",
              "    </tr>\n",
              "    <tr>\n",
              "      <th>test_score</th>\n",
              "      <td>0.375000</td>\n",
              "      <td>0.538889</td>\n",
              "      <td>0.444444</td>\n",
              "      <td>0.308333</td>\n",
              "    </tr>\n",
              "    <tr>\n",
              "      <th>train_score</th>\n",
              "      <td>0.534759</td>\n",
              "      <td>1.000000</td>\n",
              "      <td>1.000000</td>\n",
              "      <td>0.309447</td>\n",
              "    </tr>\n",
              "  </tbody>\n",
              "</table>\n",
              "</div>"
            ],
            "text/plain": [
              "                  ada        gb       xgb      hist\n",
              "fit_time     0.138436  0.315500  0.056765  0.060385\n",
              "score_time   0.017105  0.001589  0.001844  0.008963\n",
              "test_score   0.375000  0.538889  0.444444  0.308333\n",
              "train_score  0.534759  1.000000  1.000000  0.309447"
            ]
          },
          "metadata": {
            "tags": []
          },
          "execution_count": 38
        }
      ]
    },
    {
      "cell_type": "code",
      "metadata": {
        "colab": {
          "base_uri": "https://localhost:8080/",
          "height": 295
        },
        "id": "sUL9ZkskMY3m",
        "outputId": "474f458e-6de7-4b6a-8a72-75185edb80f0"
      },
      "source": [
        "cv_boosting_mean.loc[['train_score','test_score']].T.plot.bar()"
      ],
      "execution_count": null,
      "outputs": [
        {
          "output_type": "execute_result",
          "data": {
            "text/plain": [
              "<matplotlib.axes._subplots.AxesSubplot at 0x7fa8ee79b810>"
            ]
          },
          "metadata": {
            "tags": []
          },
          "execution_count": 39
        },
        {
          "output_type": "display_data",
          "data": {
            "image/png": "[encoded data removed]",
            "text/plain": [
              "<Figure size 432x288 with 1 Axes>"
            ]
          },
          "metadata": {
            "tags": []
          }
        }
      ]
    },
    {
      "cell_type": "code",
      "metadata": {
        "id": "Jx5xE9kDJ7u-"
      },
      "source": [
        "cv_boosting_std = pd.DataFrame({'ada': bst_cv_ada.std(), 'gb': bst_cv_gb.std(), 'xgb': bst_cv_xgb.std(), 'hist': bst_cv_hist.std()})"
      ],
      "execution_count": null,
      "outputs": []
    },
    {
      "cell_type": "code",
      "metadata": {
        "colab": {
          "base_uri": "https://localhost:8080/",
          "height": 173
        },
        "id": "g2Xxp8j9MQoY",
        "outputId": "825a9c1e-f68c-4443-d90e-91e6a4953ed8"
      },
      "source": [
        "cv_boosting_std"
      ],
      "execution_count": null,
      "outputs": [
        {
          "output_type": "execute_result",
          "data": {
            "text/html": [
              "<div>\n",
              "<style scoped>\n",
              "    .dataframe tbody tr th:only-of-type {\n",
              "        vertical-align: middle;\n",
              "    }\n",
              "\n",
              "    .dataframe tbody tr th {\n",
              "        vertical-align: top;\n",
              "    }\n",
              "\n",
              "    .dataframe thead th {\n",
              "        text-align: right;\n",
              "    }\n",
              "</style>\n",
              "<table border=\"1\" class=\"dataframe\">\n",
              "  <thead>\n",
              "    <tr style=\"text-align: right;\">\n",
              "      <th></th>\n",
              "      <th>ada</th>\n",
              "      <th>gb</th>\n",
              "      <th>xgb</th>\n",
              "      <th>hist</th>\n",
              "    </tr>\n",
              "  </thead>\n",
              "  <tbody>\n",
              "    <tr>\n",
              "      <th>fit_time</th>\n",
              "      <td>0.007631</td>\n",
              "      <td>0.013509</td>\n",
              "      <td>0.042552</td>\n",
              "      <td>0.006361</td>\n",
              "    </tr>\n",
              "    <tr>\n",
              "      <th>score_time</th>\n",
              "      <td>0.005526</td>\n",
              "      <td>0.000045</td>\n",
              "      <td>0.000049</td>\n",
              "      <td>0.000256</td>\n",
              "    </tr>\n",
              "    <tr>\n",
              "      <th>test_score</th>\n",
              "      <td>0.131028</td>\n",
              "      <td>0.199923</td>\n",
              "      <td>0.165214</td>\n",
              "      <td>0.055902</td>\n",
              "    </tr>\n",
              "    <tr>\n",
              "      <th>train_score</th>\n",
              "      <td>0.094068</td>\n",
              "      <td>0.000000</td>\n",
              "      <td>0.000000</td>\n",
              "      <td>0.013360</td>\n",
              "    </tr>\n",
              "  </tbody>\n",
              "</table>\n",
              "</div>"
            ],
            "text/plain": [
              "                  ada        gb       xgb      hist\n",
              "fit_time     0.007631  0.013509  0.042552  0.006361\n",
              "score_time   0.005526  0.000045  0.000049  0.000256\n",
              "test_score   0.131028  0.199923  0.165214  0.055902\n",
              "train_score  0.094068  0.000000  0.000000  0.013360"
            ]
          },
          "metadata": {
            "tags": []
          },
          "execution_count": 41
        }
      ]
    },
    {
      "cell_type": "code",
      "metadata": {
        "colab": {
          "base_uri": "https://localhost:8080/",
          "height": 295
        },
        "id": "6MS-9m_CMqx4",
        "outputId": "57134d31-a09e-4a82-f327-046b7f20ff93"
      },
      "source": [
        "cv_boosting_std.loc[['train_score','test_score']].T.plot.bar()"
      ],
      "execution_count": null,
      "outputs": [
        {
          "output_type": "execute_result",
          "data": {
            "text/plain": [
              "<matplotlib.axes._subplots.AxesSubplot at 0x7fa8edefd1d0>"
            ]
          },
          "metadata": {
            "tags": []
          },
          "execution_count": 42
        },
        {
          "output_type": "display_data",
          "data": {
            "image/png": "[encoded data removed]",
            "text/plain": [
              "<Figure size 432x288 with 1 Axes>"
            ]
          },
          "metadata": {
            "tags": []
          }
        }
      ]
    },
    {
      "cell_type": "markdown",
      "metadata": {
        "id": "7XGmCabsNqIv"
      },
      "source": [
        "* A análise da acurácia média indicou a ocorrência de overfitting no caso gradientboosting e extremegradientboosting, pois os comitês obtiveram 100% acurácia no conjunto de treinamento e no de validação reduziu-se para 53% e 44%. Esse é um problema comum ao se utilizar árvores de decisão, que é estimador base dos comitês boosting utilizados. O desempenho do adaboosting e histgradientboosting foi próximo no conjunto de validação. Curioso notar que no hisgradientboosting a performance foi idêntica no treinamento e validação.\n",
        "* A análise do desvio padrão em virtude do overfitting registrou variância zero no gradientboosting no conjunto de treinamento, enquanto na validação foi o maior desvio dentre os três comitês avaliados, e o menor desvio na validação foi do histgradientboosting."
      ]
    },
    {
      "cell_type": "markdown",
      "metadata": {
        "id": "xu8yGY7HUC8z"
      },
      "source": [
        "## Resultados do Teste"
      ]
    },
    {
      "cell_type": "code",
      "metadata": {
        "id": "Oui1QNRsbj2B"
      },
      "source": [
        "pred_boosting = pd.DataFrame({'ada': bst_pred_ada, 'gb': bst_pred_gb, 'xgb': bst_pred_xgb, 'hist':  bst_pred_hist})"
      ],
      "execution_count": null,
      "outputs": []
    },
    {
      "cell_type": "code",
      "metadata": {
        "colab": {
          "base_uri": "https://localhost:8080/",
          "height": 301
        },
        "id": "lUABuCiRbSaT",
        "outputId": "6e341f1c-d6d7-47c3-e215-c03e007296fe"
      },
      "source": [
        "sns.heatmap(pred_boosting.corr(), annot=True).set_title('Correlation Models')"
      ],
      "execution_count": null,
      "outputs": [
        {
          "output_type": "execute_result",
          "data": {
            "text/plain": [
              "Text(0.5, 1.0, 'Correlation Models')"
            ]
          },
          "metadata": {
            "tags": []
          },
          "execution_count": 44
        },
        {
          "output_type": "display_data",
          "data": {
            "image/png": "[encoded data removed]",
            "text/plain": [
              "<Figure size 432x288 with 2 Axes>"
            ]
          },
          "metadata": {
            "tags": []
          }
        }
      ]
    },
    {
      "cell_type": "code",
      "metadata": {
        "id": "kZ6Q8fPUJftN"
      },
      "source": [
        "pred_boosting_score = pd.Series({'ada': accuracy_score(y_test, bst_pred_ada), 'gb': accuracy_score(y_test, bst_pred_gb), 'xgb': accuracy_score(y_test, bst_pred_xgb), 'hist': accuracy_score(y_test, bst_pred_hist)})"
      ],
      "execution_count": null,
      "outputs": []
    },
    {
      "cell_type": "code",
      "metadata": {
        "id": "iQpdZGi7wAp8"
      },
      "source": [
        "pred_boosting_f1_score = pd.Series({'ada': f1_score(y_test, bst_pred_ada, average='micro'), 'gb': f1_score(y_test, bst_pred_gb, average='micro'), 'xgb': f1_score(y_test, bst_pred_xgb, average='micro'), 'hist': f1_score(y_test, bst_pred_hist, average='micro')})"
      ],
      "execution_count": null,
      "outputs": []
    },
    {
      "cell_type": "code",
      "metadata": {
        "colab": {
          "base_uri": "https://localhost:8080/",
          "height": 301
        },
        "id": "Mu14txIGCxGJ",
        "outputId": "2c2e0e8d-d5e2-4b9b-80ab-5561b4d0bea9"
      },
      "source": [
        "classes = {}\n",
        "pred_boosting_hm = pred_boosting.set_index(y_test.index).join(y_test)\n",
        "for col in pred_boosting_hm.columns:\n",
        "  classes[col] = pred_boosting_hm[col].value_counts(normalize=True)\n",
        "sns.heatmap(pd.DataFrame(classes).fillna(0),annot=True).set_title('Classes x Models')\n"
      ],
      "execution_count": null,
      "outputs": [
        {
          "output_type": "execute_result",
          "data": {
            "text/plain": [
              "Text(0.5, 1.0, 'Classes x Models')"
            ]
          },
          "metadata": {
            "tags": []
          },
          "execution_count": 46
        },
        {
          "output_type": "display_data",
          "data": {
            "image/png": "[encoded data removed]",
            "text/plain": [
              "<Figure size 432x288 with 2 Axes>"
            ]
          },
          "metadata": {
            "tags": []
          }
        }
      ]
    },
    {
      "cell_type": "code",
      "metadata": {
        "colab": {
          "base_uri": "https://localhost:8080/"
        },
        "id": "9VNLd191cSva",
        "outputId": "8282efa4-4d24-464b-b488-31dc26fba43c"
      },
      "source": [
        "pred_boosting_score"
      ],
      "execution_count": null,
      "outputs": [
        {
          "output_type": "execute_result",
          "data": {
            "text/plain": [
              "ada     0.430233\n",
              "gb      0.686047\n",
              "xgb     0.720930\n",
              "hist    0.639535\n",
              "dtype: float64"
            ]
          },
          "metadata": {
            "tags": []
          },
          "execution_count": 47
        }
      ]
    },
    {
      "cell_type": "code",
      "metadata": {
        "colab": {
          "base_uri": "https://localhost:8080/",
          "height": 295
        },
        "id": "YuvbIP7FMRH1",
        "outputId": "3e5a900e-c2c1-4aa8-ae15-b9d565e28950"
      },
      "source": [
        "pred_boosting_score.plot.bar()"
      ],
      "execution_count": null,
      "outputs": [
        {
          "output_type": "execute_result",
          "data": {
            "text/plain": [
              "<matplotlib.axes._subplots.AxesSubplot at 0x7fa8edd15ad0>"
            ]
          },
          "metadata": {
            "tags": []
          },
          "execution_count": 48
        },
        {
          "output_type": "display_data",
          "data": {
            "image/png": "[encoded data removed]",
            "text/plain": [
              "<Figure size 432x288 with 1 Axes>"
            ]
          },
          "metadata": {
            "tags": []
          }
        }
      ]
    },
    {
      "cell_type": "markdown",
      "metadata": {
        "id": "WyrmYX4UQc1K"
      },
      "source": [
        "No conjunto de teste o modelo **extremegradientboosting obteve a melhor performance**, enquanto no caso do adaboosting sua performance foi inferior ao histgradientboosting, invertendo a posição obtida no conjunto de validação. Analisando a correlação entre as previsões dos comitês, observa-se que possuem alta correlação entre si."
      ]
    },
    {
      "cell_type": "code",
      "metadata": {
        "colab": {
          "base_uri": "https://localhost:8080/"
        },
        "id": "YpYtBqWTwPhM",
        "outputId": "6cb42c49-5ad5-4e66-967c-3c98b7908765"
      },
      "source": [
        "pred_boosting_f1_score"
      ],
      "execution_count": null,
      "outputs": [
        {
          "output_type": "execute_result",
          "data": {
            "text/plain": [
              "ada     0.430233\n",
              "gb      0.686047\n",
              "xgb     0.720930\n",
              "hist    0.639535\n",
              "dtype: float64"
            ]
          },
          "metadata": {
            "tags": []
          },
          "execution_count": 78
        }
      ]
    },
    {
      "cell_type": "code",
      "metadata": {
        "colab": {
          "base_uri": "https://localhost:8080/",
          "height": 227
        },
        "id": "B3yRq_wwzfff",
        "outputId": "bf994b0a-72f9-44a9-fb38-648a636d9539"
      },
      "source": [
        "report = {}\n",
        "for pred in pred_boosting:\n",
        "  report[pred] = classification_report(y_test, pred_boosting[pred], output_dict=True)['weighted avg']\n",
        "report = pd.DataFrame(report)\n",
        "report"
      ],
      "execution_count": null,
      "outputs": [
        {
          "output_type": "stream",
          "text": [
            "/usr/local/lib/python3.7/dist-packages/sklearn/metrics/_classification.py:1272: UndefinedMetricWarning: Precision and F-score are ill-defined and being set to 0.0 in labels with no predicted samples. Use `zero_division` parameter to control this behavior.\n",
            "  _warn_prf(average, modifier, msg_start, len(result))\n"
          ],
          "name": "stderr"
        },
        {
          "output_type": "execute_result",
          "data": {
            "text/html": [
              "<div>\n",
              "<style scoped>\n",
              "    .dataframe tbody tr th:only-of-type {\n",
              "        vertical-align: middle;\n",
              "    }\n",
              "\n",
              "    .dataframe tbody tr th {\n",
              "        vertical-align: top;\n",
              "    }\n",
              "\n",
              "    .dataframe thead th {\n",
              "        text-align: right;\n",
              "    }\n",
              "</style>\n",
              "<table border=\"1\" class=\"dataframe\">\n",
              "  <thead>\n",
              "    <tr style=\"text-align: right;\">\n",
              "      <th></th>\n",
              "      <th>ada</th>\n",
              "      <th>gb</th>\n",
              "      <th>xgb</th>\n",
              "      <th>hist</th>\n",
              "    </tr>\n",
              "  </thead>\n",
              "  <tbody>\n",
              "    <tr>\n",
              "      <th>precision</th>\n",
              "      <td>0.217328</td>\n",
              "      <td>0.670895</td>\n",
              "      <td>0.661410</td>\n",
              "      <td>0.632669</td>\n",
              "    </tr>\n",
              "    <tr>\n",
              "      <th>recall</th>\n",
              "      <td>0.430233</td>\n",
              "      <td>0.686047</td>\n",
              "      <td>0.720930</td>\n",
              "      <td>0.639535</td>\n",
              "    </tr>\n",
              "    <tr>\n",
              "      <th>f1-score</th>\n",
              "      <td>0.288708</td>\n",
              "      <td>0.672847</td>\n",
              "      <td>0.688889</td>\n",
              "      <td>0.625802</td>\n",
              "    </tr>\n",
              "    <tr>\n",
              "      <th>support</th>\n",
              "      <td>172.000000</td>\n",
              "      <td>172.000000</td>\n",
              "      <td>172.000000</td>\n",
              "      <td>172.000000</td>\n",
              "    </tr>\n",
              "  </tbody>\n",
              "</table>\n",
              "</div>"
            ],
            "text/plain": [
              "                  ada          gb         xgb        hist\n",
              "precision    0.217328    0.670895    0.661410    0.632669\n",
              "recall       0.430233    0.686047    0.720930    0.639535\n",
              "f1-score     0.288708    0.672847    0.688889    0.625802\n",
              "support    172.000000  172.000000  172.000000  172.000000"
            ]
          },
          "metadata": {
            "tags": []
          },
          "execution_count": 108
        }
      ]
    },
    {
      "cell_type": "code",
      "metadata": {
        "colab": {
          "base_uri": "https://localhost:8080/",
          "height": 295
        },
        "id": "Y1Fcxcr-zl3x",
        "outputId": "8115f068-619e-4c55-bc73-9cae46990584"
      },
      "source": [
        "report.T['f1-score'].plot.bar()"
      ],
      "execution_count": null,
      "outputs": [
        {
          "output_type": "execute_result",
          "data": {
            "text/plain": [
              "<matplotlib.axes._subplots.AxesSubplot at 0x7fa8e70e3210>"
            ]
          },
          "metadata": {
            "tags": []
          },
          "execution_count": 109
        },
        {
          "output_type": "display_data",
          "data": {
            "image/png": "[encoded data removed]",
            "text/plain": [
              "<Figure size 432x288 with 1 Axes>"
            ]
          },
          "metadata": {
            "tags": []
          }
        }
      ]
    },
    {
      "cell_type": "markdown",
      "metadata": {
        "id": "bNsukVOU3NDP"
      },
      "source": [
        "A análise do f1-score revelou a pontuação do xgb foi próxima a do gb, enquanto a pontuação do adaboosting foi bastante reduzida em relação a acurácia, em virtude do desbalanceamento das previsões que só apontaram as classes 2 e 7, ignorando as demais classes."
      ]
    },
    {
      "cell_type": "markdown",
      "metadata": {
        "id": "wSIkNUweNaBe"
      },
      "source": [
        "# Stacking"
      ]
    },
    {
      "cell_type": "markdown",
      "metadata": {
        "id": "HToXhpkSQLqk"
      },
      "source": [
        "O stacking consiste em empilhar a saída do estimador individual e usar um classificador para calcular a previsão final. O empilhamento permite usar a força de cada estimador individual usando sua saída como entrada de um estimador final. É uma técnica de aprendizagem de conjunto para combinar múltiplos modelos de classificação através de um metaclassificador. Os modelos de classificação individual são treinados com base no conjunto completo de treinamento; em seguida, o metaclassificador é montado com base nas saídas - meta-características - dos modelos de classificação individual no conjunto. O meta-classificador pode ser treinado nos rótulos de classe previstos ou probabilidades do conjunto."
      ]
    },
    {
      "cell_type": "markdown",
      "metadata": {
        "id": "w-msJAl_NeW6"
      },
      "source": [
        "A construção do comitê stacking utilizou a class StackingClassifier e ensemble do framework ML-Ensemble, e realizou-se em três etapas usando os modelos base: tree, svm, knn e rna.\n",
        "\n",
        "1. Criação e configuração do comitê\n",
        "2. Validação cruzada (Treinamento x Validação)\n",
        "3. Teste"
      ]
    },
    {
      "cell_type": "markdown",
      "metadata": {
        "id": "eYmUaZr5i6QK"
      },
      "source": [
        "## StackingClassifier"
      ]
    },
    {
      "cell_type": "code",
      "metadata": {
        "id": "JaCK1G09TtUY"
      },
      "source": [
        "estimators = [\n",
        "    ('rna', MLPClassifier(solver='lbfgs', alpha=1e-5,hidden_layer_sizes=(5, 2), random_state=1, max_iter=800)),\n",
        "    ('knn', KNeighborsClassifier()),\n",
        "    ('tree', DecisionTreeClassifier())\n",
        "]"
      ],
      "execution_count": null,
      "outputs": []
    },
    {
      "cell_type": "code",
      "metadata": {
        "colab": {
          "base_uri": "https://localhost:8080/"
        },
        "id": "qN6utjRWT1rd",
        "outputId": "882a17ca-f46e-4f79-86d5-099043ef09c2"
      },
      "source": [
        "stk_clf_sk = StackingClassifier(\n",
        "    estimators=estimators, final_estimator=svm.SVC(random_state=42))\n",
        "stk_cv_sk = pd.DataFrame(cross_validate(stk_clf_sk, X_norm, y_train, cv=5, return_train_score=True))\n",
        "stk_clf_sk.fit(X_norm, y_train)\n",
        "stk_pred_sk = stk_clf_sk.predict(Xt_norm)             "
      ],
      "execution_count": null,
      "outputs": [
        {
          "output_type": "stream",
          "text": [
            "/usr/local/lib/python3.7/dist-packages/sklearn/model_selection/_split.py:667: UserWarning: The least populated class in y has only 3 members, which is less than n_splits=5.\n",
            "  % (min_groups, self.n_splits)), UserWarning)\n",
            "/usr/local/lib/python3.7/dist-packages/sklearn/model_selection/_split.py:667: UserWarning: The least populated class in y has only 2 members, which is less than n_splits=5.\n",
            "  % (min_groups, self.n_splits)), UserWarning)\n",
            "/usr/local/lib/python3.7/dist-packages/sklearn/model_selection/_split.py:667: UserWarning: The least populated class in y has only 2 members, which is less than n_splits=5.\n",
            "  % (min_groups, self.n_splits)), UserWarning)\n",
            "/usr/local/lib/python3.7/dist-packages/sklearn/model_selection/_split.py:667: UserWarning: The least populated class in y has only 2 members, which is less than n_splits=5.\n",
            "  % (min_groups, self.n_splits)), UserWarning)\n",
            "/usr/local/lib/python3.7/dist-packages/sklearn/model_selection/_split.py:667: UserWarning: The least populated class in y has only 2 members, which is less than n_splits=5.\n",
            "  % (min_groups, self.n_splits)), UserWarning)\n",
            "/usr/local/lib/python3.7/dist-packages/sklearn/model_selection/_split.py:667: UserWarning: The least populated class in y has only 2 members, which is less than n_splits=5.\n",
            "  % (min_groups, self.n_splits)), UserWarning)\n",
            "/usr/local/lib/python3.7/dist-packages/sklearn/model_selection/_split.py:667: UserWarning: The least populated class in y has only 2 members, which is less than n_splits=5.\n",
            "  % (min_groups, self.n_splits)), UserWarning)\n",
            "/usr/local/lib/python3.7/dist-packages/sklearn/model_selection/_split.py:667: UserWarning: The least populated class in y has only 3 members, which is less than n_splits=5.\n",
            "  % (min_groups, self.n_splits)), UserWarning)\n",
            "/usr/local/lib/python3.7/dist-packages/sklearn/model_selection/_split.py:667: UserWarning: The least populated class in y has only 3 members, which is less than n_splits=5.\n",
            "  % (min_groups, self.n_splits)), UserWarning)\n",
            "/usr/local/lib/python3.7/dist-packages/sklearn/model_selection/_split.py:667: UserWarning: The least populated class in y has only 3 members, which is less than n_splits=5.\n",
            "  % (min_groups, self.n_splits)), UserWarning)\n",
            "/usr/local/lib/python3.7/dist-packages/sklearn/model_selection/_split.py:667: UserWarning: The least populated class in y has only 3 members, which is less than n_splits=5.\n",
            "  % (min_groups, self.n_splits)), UserWarning)\n",
            "/usr/local/lib/python3.7/dist-packages/sklearn/model_selection/_split.py:667: UserWarning: The least populated class in y has only 3 members, which is less than n_splits=5.\n",
            "  % (min_groups, self.n_splits)), UserWarning)\n",
            "/usr/local/lib/python3.7/dist-packages/sklearn/model_selection/_split.py:667: UserWarning: The least populated class in y has only 3 members, which is less than n_splits=5.\n",
            "  % (min_groups, self.n_splits)), UserWarning)\n",
            "/usr/local/lib/python3.7/dist-packages/sklearn/model_selection/_split.py:667: UserWarning: The least populated class in y has only 2 members, which is less than n_splits=5.\n",
            "  % (min_groups, self.n_splits)), UserWarning)\n",
            "/usr/local/lib/python3.7/dist-packages/sklearn/model_selection/_split.py:667: UserWarning: The least populated class in y has only 2 members, which is less than n_splits=5.\n",
            "  % (min_groups, self.n_splits)), UserWarning)\n",
            "/usr/local/lib/python3.7/dist-packages/sklearn/model_selection/_split.py:667: UserWarning: The least populated class in y has only 2 members, which is less than n_splits=5.\n",
            "  % (min_groups, self.n_splits)), UserWarning)\n",
            "/usr/local/lib/python3.7/dist-packages/sklearn/model_selection/_split.py:667: UserWarning: The least populated class in y has only 3 members, which is less than n_splits=5.\n",
            "  % (min_groups, self.n_splits)), UserWarning)\n",
            "/usr/local/lib/python3.7/dist-packages/sklearn/model_selection/_split.py:667: UserWarning: The least populated class in y has only 3 members, which is less than n_splits=5.\n",
            "  % (min_groups, self.n_splits)), UserWarning)\n",
            "/usr/local/lib/python3.7/dist-packages/sklearn/model_selection/_split.py:667: UserWarning: The least populated class in y has only 3 members, which is less than n_splits=5.\n",
            "  % (min_groups, self.n_splits)), UserWarning)\n"
          ],
          "name": "stderr"
        }
      ]
    },
    {
      "cell_type": "code",
      "metadata": {
        "colab": {
          "base_uri": "https://localhost:8080/"
        },
        "id": "4CrbS7SiexHT",
        "outputId": "e41026be-4148-42fe-ebd5-9a795ef918a6"
      },
      "source": [
        "stk_cv_sk.mean()"
      ],
      "execution_count": null,
      "outputs": [
        {
          "output_type": "execute_result",
          "data": {
            "text/plain": [
              "fit_time       0.398337\n",
              "score_time     0.003468\n",
              "test_score     0.261111\n",
              "train_score    0.641533\n",
              "dtype: float64"
            ]
          },
          "metadata": {
            "tags": []
          },
          "execution_count": 51
        }
      ]
    },
    {
      "cell_type": "code",
      "metadata": {
        "colab": {
          "base_uri": "https://localhost:8080/"
        },
        "id": "puyWvggmffC2",
        "outputId": "239e083b-4fd4-4180-f334-f0a79be304bf"
      },
      "source": [
        "metrics.accuracy_score(y_test,stk_pred_sk)"
      ],
      "execution_count": null,
      "outputs": [
        {
          "output_type": "execute_result",
          "data": {
            "text/plain": [
              "0.5523255813953488"
            ]
          },
          "metadata": {
            "tags": []
          },
          "execution_count": 52
        }
      ]
    },
    {
      "cell_type": "code",
      "metadata": {
        "id": "S-QEWndboVFA"
      },
      "source": [
        "estimators2 = [\n",
        "    ('rna', MLPClassifier(solver='lbfgs', alpha=1e-5,hidden_layer_sizes=(5, 2), random_state=1, max_iter=800)),\n",
        "    ('svm',svm.SVC(random_state=42)),\n",
        "    ('tree', DecisionTreeClassifier())\n",
        "]"
      ],
      "execution_count": null,
      "outputs": []
    },
    {
      "cell_type": "code",
      "metadata": {
        "colab": {
          "base_uri": "https://localhost:8080/"
        },
        "id": "989Mu8AKoYnE",
        "outputId": "9b5ef446-f2b3-4b36-874e-d0f4aa1f7ab3"
      },
      "source": [
        "stk_clf_sk2 = StackingClassifier(\n",
        "    estimators=estimators2, final_estimator=KNeighborsClassifier())\n",
        "stk_cv_sk2 = pd.DataFrame(cross_validate(stk_clf_sk2, X_norm, y_train, cv=5, return_train_score=True))\n",
        "stk_clf_sk2.fit(X_norm, y_train)\n",
        "stk_pred_sk2 = stk_clf_sk2.predict(Xt_norm)             "
      ],
      "execution_count": null,
      "outputs": [
        {
          "output_type": "stream",
          "text": [
            "/usr/local/lib/python3.7/dist-packages/sklearn/model_selection/_split.py:667: UserWarning: The least populated class in y has only 3 members, which is less than n_splits=5.\n",
            "  % (min_groups, self.n_splits)), UserWarning)\n",
            "/usr/local/lib/python3.7/dist-packages/sklearn/model_selection/_split.py:667: UserWarning: The least populated class in y has only 2 members, which is less than n_splits=5.\n",
            "  % (min_groups, self.n_splits)), UserWarning)\n",
            "/usr/local/lib/python3.7/dist-packages/sklearn/model_selection/_split.py:667: UserWarning: The least populated class in y has only 2 members, which is less than n_splits=5.\n",
            "  % (min_groups, self.n_splits)), UserWarning)\n",
            "/usr/local/lib/python3.7/dist-packages/sklearn/model_selection/_split.py:667: UserWarning: The least populated class in y has only 2 members, which is less than n_splits=5.\n",
            "  % (min_groups, self.n_splits)), UserWarning)\n",
            "/usr/local/lib/python3.7/dist-packages/sklearn/model_selection/_split.py:667: UserWarning: The least populated class in y has only 2 members, which is less than n_splits=5.\n",
            "  % (min_groups, self.n_splits)), UserWarning)\n",
            "/usr/local/lib/python3.7/dist-packages/sklearn/model_selection/_split.py:667: UserWarning: The least populated class in y has only 2 members, which is less than n_splits=5.\n",
            "  % (min_groups, self.n_splits)), UserWarning)\n",
            "/usr/local/lib/python3.7/dist-packages/sklearn/model_selection/_split.py:667: UserWarning: The least populated class in y has only 2 members, which is less than n_splits=5.\n",
            "  % (min_groups, self.n_splits)), UserWarning)\n",
            "/usr/local/lib/python3.7/dist-packages/sklearn/model_selection/_split.py:667: UserWarning: The least populated class in y has only 3 members, which is less than n_splits=5.\n",
            "  % (min_groups, self.n_splits)), UserWarning)\n",
            "/usr/local/lib/python3.7/dist-packages/sklearn/model_selection/_split.py:667: UserWarning: The least populated class in y has only 3 members, which is less than n_splits=5.\n",
            "  % (min_groups, self.n_splits)), UserWarning)\n",
            "/usr/local/lib/python3.7/dist-packages/sklearn/model_selection/_split.py:667: UserWarning: The least populated class in y has only 3 members, which is less than n_splits=5.\n",
            "  % (min_groups, self.n_splits)), UserWarning)\n",
            "/usr/local/lib/python3.7/dist-packages/sklearn/model_selection/_split.py:667: UserWarning: The least populated class in y has only 3 members, which is less than n_splits=5.\n",
            "  % (min_groups, self.n_splits)), UserWarning)\n",
            "/usr/local/lib/python3.7/dist-packages/sklearn/model_selection/_split.py:667: UserWarning: The least populated class in y has only 3 members, which is less than n_splits=5.\n",
            "  % (min_groups, self.n_splits)), UserWarning)\n",
            "/usr/local/lib/python3.7/dist-packages/sklearn/model_selection/_split.py:667: UserWarning: The least populated class in y has only 3 members, which is less than n_splits=5.\n",
            "  % (min_groups, self.n_splits)), UserWarning)\n",
            "/usr/local/lib/python3.7/dist-packages/sklearn/model_selection/_split.py:667: UserWarning: The least populated class in y has only 2 members, which is less than n_splits=5.\n",
            "  % (min_groups, self.n_splits)), UserWarning)\n",
            "/usr/local/lib/python3.7/dist-packages/sklearn/model_selection/_split.py:667: UserWarning: The least populated class in y has only 2 members, which is less than n_splits=5.\n",
            "  % (min_groups, self.n_splits)), UserWarning)\n",
            "/usr/local/lib/python3.7/dist-packages/sklearn/model_selection/_split.py:667: UserWarning: The least populated class in y has only 2 members, which is less than n_splits=5.\n",
            "  % (min_groups, self.n_splits)), UserWarning)\n",
            "/usr/local/lib/python3.7/dist-packages/sklearn/model_selection/_split.py:667: UserWarning: The least populated class in y has only 3 members, which is less than n_splits=5.\n",
            "  % (min_groups, self.n_splits)), UserWarning)\n",
            "/usr/local/lib/python3.7/dist-packages/sklearn/model_selection/_split.py:667: UserWarning: The least populated class in y has only 3 members, which is less than n_splits=5.\n",
            "  % (min_groups, self.n_splits)), UserWarning)\n",
            "/usr/local/lib/python3.7/dist-packages/sklearn/model_selection/_split.py:667: UserWarning: The least populated class in y has only 3 members, which is less than n_splits=5.\n",
            "  % (min_groups, self.n_splits)), UserWarning)\n"
          ],
          "name": "stderr"
        }
      ]
    },
    {
      "cell_type": "code",
      "metadata": {
        "colab": {
          "base_uri": "https://localhost:8080/"
        },
        "id": "gO5KDMoaoxWo",
        "outputId": "6066842b-046b-4a31-f368-23b3289cf7f6"
      },
      "source": [
        "stk_cv_sk2.mean()"
      ],
      "execution_count": null,
      "outputs": [
        {
          "output_type": "execute_result",
          "data": {
            "text/plain": [
              "fit_time       0.377539\n",
              "score_time     0.005160\n",
              "test_score     0.361111\n",
              "train_score    0.475223\n",
              "dtype: float64"
            ]
          },
          "metadata": {
            "tags": []
          },
          "execution_count": 55
        }
      ]
    },
    {
      "cell_type": "code",
      "metadata": {
        "colab": {
          "base_uri": "https://localhost:8080/"
        },
        "id": "EFWcc4z3o0Me",
        "outputId": "2952a02a-4aed-4ad9-ead8-6952c9ca9297"
      },
      "source": [
        "metrics.accuracy_score(y_test,stk_pred_sk2)"
      ],
      "execution_count": null,
      "outputs": [
        {
          "output_type": "execute_result",
          "data": {
            "text/plain": [
              "0.5"
            ]
          },
          "metadata": {
            "tags": []
          },
          "execution_count": 56
        }
      ]
    },
    {
      "cell_type": "markdown",
      "metadata": {
        "id": "bb4Ws4_94B8K"
      },
      "source": [
        "### Resultados do teste"
      ]
    },
    {
      "cell_type": "code",
      "metadata": {
        "id": "yLIXNVjKHswE"
      },
      "source": [
        "pred_stacking = pd.DataFrame({'svm': stk_pred_sk, 'knn': stk_pred_sk2})"
      ],
      "execution_count": null,
      "outputs": []
    },
    {
      "cell_type": "code",
      "metadata": {
        "colab": {
          "base_uri": "https://localhost:8080/",
          "height": 301
        },
        "id": "qdXNPauvH_jL",
        "outputId": "5cb5b3f6-30fd-40b0-daf2-5f801716ccae"
      },
      "source": [
        "sns.heatmap(pred_boosting.corr(), annot=True).set_title('Correlation Models')"
      ],
      "execution_count": null,
      "outputs": [
        {
          "output_type": "execute_result",
          "data": {
            "text/plain": [
              "Text(0.5, 1.0, 'Correlation Models')"
            ]
          },
          "metadata": {
            "tags": []
          },
          "execution_count": 58
        },
        {
          "output_type": "display_data",
          "data": {
            "image/png": "[encoded data removed]",
            "text/plain": [
              "<Figure size 432x288 with 2 Axes>"
            ]
          },
          "metadata": {
            "tags": []
          }
        }
      ]
    },
    {
      "cell_type": "code",
      "metadata": {
        "colab": {
          "base_uri": "https://localhost:8080/",
          "height": 301
        },
        "id": "GXjM7C4_IEyj",
        "outputId": "4a18078c-3506-414e-d226-05a9831be920"
      },
      "source": [
        "classes = {}\n",
        "pred_stacking_hm = pred_stacking.set_index(y_test.index).join(y_test)\n",
        "for col in pred_stacking_hm.columns:\n",
        "  classes[col] = pred_stacking_hm[col].value_counts(normalize=True)\n",
        "sns.heatmap(pd.DataFrame(classes).fillna(0),annot=True).set_title('Classes x Models')"
      ],
      "execution_count": null,
      "outputs": [
        {
          "output_type": "execute_result",
          "data": {
            "text/plain": [
              "Text(0.5, 1.0, 'Classes x Models')"
            ]
          },
          "metadata": {
            "tags": []
          },
          "execution_count": 59
        },
        {
          "output_type": "display_data",
          "data": {
            "image/png": "[encoded data removed]",
            "text/plain": [
              "<Figure size 432x288 with 2 Axes>"
            ]
          },
          "metadata": {
            "tags": []
          }
        }
      ]
    },
    {
      "cell_type": "code",
      "metadata": {
        "id": "H4Jua7SFIOHX"
      },
      "source": [
        "pred_stacking_score = pd.Series({'svm': accuracy_score(y_test, stk_pred_sk), 'knn': accuracy_score(y_test, stk_pred_sk2)})"
      ],
      "execution_count": null,
      "outputs": []
    },
    {
      "cell_type": "code",
      "metadata": {
        "colab": {
          "base_uri": "https://localhost:8080/"
        },
        "id": "2EoU3obqIjoe",
        "outputId": "f34e4bfb-ce93-4a85-ceb2-75dd08a069e8"
      },
      "source": [
        "pred_stacking_score"
      ],
      "execution_count": null,
      "outputs": [
        {
          "output_type": "execute_result",
          "data": {
            "text/plain": [
              "svm    0.552326\n",
              "knn    0.500000\n",
              "dtype: float64"
            ]
          },
          "metadata": {
            "tags": []
          },
          "execution_count": 61
        }
      ]
    },
    {
      "cell_type": "code",
      "metadata": {
        "colab": {
          "base_uri": "https://localhost:8080/",
          "height": 298
        },
        "id": "hcNWJaFC4ImQ",
        "outputId": "6ef9e1ed-74c1-45ec-f6af-a87213a18232"
      },
      "source": [
        "pred_stacking_score.plot.bar()"
      ],
      "execution_count": null,
      "outputs": [
        {
          "output_type": "execute_result",
          "data": {
            "text/plain": [
              "<matplotlib.axes._subplots.AxesSubplot at 0x7fa8e6ffdcd0>"
            ]
          },
          "metadata": {
            "tags": []
          },
          "execution_count": 114
        },
        {
          "output_type": "display_data",
          "data": {
            "image/png": "[encoded data removed]",
            "text/plain": [
              "<Figure size 432x288 with 1 Axes>"
            ]
          },
          "metadata": {
            "tags": []
          }
        }
      ]
    },
    {
      "cell_type": "markdown",
      "metadata": {
        "id": "yJilb0-SoB4Z"
      },
      "source": [
        "Foram feitos diversas simulações para definir qual seria o melhor estimador final da stack.\n",
        "* No conjunto de validação foi o KNN, \n",
        "* No conjunto de teste foi o SVM."
      ]
    },
    {
      "cell_type": "code",
      "metadata": {
        "colab": {
          "base_uri": "https://localhost:8080/",
          "height": 227
        },
        "id": "wkjCUUfozxGA",
        "outputId": "3b8362d8-a46b-4d88-a3d9-849e9b63c16e"
      },
      "source": [
        "report = {}\n",
        "for pred in pred_stacking:\n",
        "  report[pred] = classification_report(y_test, pred_stacking[pred], output_dict=True)['weighted avg']\n",
        "report = pd.DataFrame(report)\n",
        "report"
      ],
      "execution_count": null,
      "outputs": [
        {
          "output_type": "stream",
          "text": [
            "/usr/local/lib/python3.7/dist-packages/sklearn/metrics/_classification.py:1272: UndefinedMetricWarning: Precision and F-score are ill-defined and being set to 0.0 in labels with no predicted samples. Use `zero_division` parameter to control this behavior.\n",
            "  _warn_prf(average, modifier, msg_start, len(result))\n"
          ],
          "name": "stderr"
        },
        {
          "output_type": "execute_result",
          "data": {
            "text/html": [
              "<div>\n",
              "<style scoped>\n",
              "    .dataframe tbody tr th:only-of-type {\n",
              "        vertical-align: middle;\n",
              "    }\n",
              "\n",
              "    .dataframe tbody tr th {\n",
              "        vertical-align: top;\n",
              "    }\n",
              "\n",
              "    .dataframe thead th {\n",
              "        text-align: right;\n",
              "    }\n",
              "</style>\n",
              "<table border=\"1\" class=\"dataframe\">\n",
              "  <thead>\n",
              "    <tr style=\"text-align: right;\">\n",
              "      <th></th>\n",
              "      <th>svm</th>\n",
              "      <th>knn</th>\n",
              "    </tr>\n",
              "  </thead>\n",
              "  <tbody>\n",
              "    <tr>\n",
              "      <th>precision</th>\n",
              "      <td>0.487278</td>\n",
              "      <td>0.501379</td>\n",
              "    </tr>\n",
              "    <tr>\n",
              "      <th>recall</th>\n",
              "      <td>0.552326</td>\n",
              "      <td>0.500000</td>\n",
              "    </tr>\n",
              "    <tr>\n",
              "      <th>f1-score</th>\n",
              "      <td>0.498247</td>\n",
              "      <td>0.441979</td>\n",
              "    </tr>\n",
              "    <tr>\n",
              "      <th>support</th>\n",
              "      <td>172.000000</td>\n",
              "      <td>172.000000</td>\n",
              "    </tr>\n",
              "  </tbody>\n",
              "</table>\n",
              "</div>"
            ],
            "text/plain": [
              "                  svm         knn\n",
              "precision    0.487278    0.501379\n",
              "recall       0.552326    0.500000\n",
              "f1-score     0.498247    0.441979\n",
              "support    172.000000  172.000000"
            ]
          },
          "metadata": {
            "tags": []
          },
          "execution_count": 110
        }
      ]
    },
    {
      "cell_type": "code",
      "metadata": {
        "colab": {
          "base_uri": "https://localhost:8080/",
          "height": 298
        },
        "id": "J8UMOGnKz1ie",
        "outputId": "738d799f-7e56-4ddc-cca8-2f50fff6528e"
      },
      "source": [
        "report.T['f1-score'].plot.bar()"
      ],
      "execution_count": null,
      "outputs": [
        {
          "output_type": "execute_result",
          "data": {
            "text/plain": [
              "<matplotlib.axes._subplots.AxesSubplot at 0x7fa8e6fbe510>"
            ]
          },
          "metadata": {
            "tags": []
          },
          "execution_count": 113
        },
        {
          "output_type": "display_data",
          "data": {
            "image/png": "[encoded data removed]",
            "text/plain": [
              "<Figure size 432x288 with 1 Axes>"
            ]
          },
          "metadata": {
            "tags": []
          }
        }
      ]
    },
    {
      "cell_type": "markdown",
      "metadata": {
        "id": "SkTQUj1F4Vn9"
      },
      "source": [
        "A análise do f1-score revelou resultados semelhantes aos da acurácia, haja vista que as previsões foram consideraram as diferentes classes e em proporções próximas entre os dois comitês."
      ]
    },
    {
      "cell_type": "markdown",
      "metadata": {
        "id": "LV9m0mfoi28X"
      },
      "source": [
        "## ML-Ensemble"
      ]
    },
    {
      "cell_type": "code",
      "metadata": {
        "colab": {
          "base_uri": "https://localhost:8080/"
        },
        "id": "eZid-mXMippz",
        "outputId": "fc528b08-2573-4bf4-d500-2d4c7d9af57e"
      },
      "source": [
        "#ensemble = SuperLearner(scorer=accuracy_score, random_state=42, verbose=2)\n",
        "ensemble = SuperLearner( random_state=42, verbose=2)\n",
        "# Build layers\n",
        "ensemble.add(MLPClassifier(solver='lbfgs', alpha=1e-5,hidden_layer_sizes=(5, 2), random_state=1, max_iter=800)),\n",
        "ensemble.add(KNeighborsClassifier()),\n",
        "ensemble.add(DecisionTreeClassifier()),\n",
        "\n",
        "# Attach the final meta estimator\n",
        "ensemble.add_meta(svm.SVC())\n",
        "\n",
        "#stk_cv_ml = pd.DataFrame(cross_validate(ensemble, X_norm, y_train, cv=5, return_train_score=True))\n",
        "ensemble.fit(X_norm, y_train)\n",
        "stk_pred_ml = ensemble.predict(Xt_norm)             "
      ],
      "execution_count": null,
      "outputs": [
        {
          "output_type": "stream",
          "text": [
            "\n",
            "Fitting 4 layers\n",
            "Processing layer-1             done | 00:00:00\n",
            "Processing layer-2             done | 00:00:00\n",
            "Processing layer-3             done | 00:00:00\n",
            "Processing layer-4             done | 00:00:00\n",
            "Fit complete                        | 00:00:00\n",
            "\n",
            "Predicting 4 layers\n",
            "Processing layer-1             done | 00:00:00\n",
            "Processing layer-2             done | 00:00:00\n",
            "Processing layer-3             done | 00:00:00\n",
            "Processing layer-4             done | 00:00:00\n",
            "Predict complete                    | 00:00:00\n"
          ],
          "name": "stdout"
        }
      ]
    },
    {
      "cell_type": "code",
      "metadata": {
        "colab": {
          "base_uri": "https://localhost:8080/"
        },
        "id": "oG2ET5GYjAJx",
        "outputId": "97de9451-8128-41ce-efa2-02b71e7af3bf"
      },
      "source": [
        "metrics.accuracy_score(y_test, stk_pred_ml)"
      ],
      "execution_count": null,
      "outputs": [
        {
          "output_type": "execute_result",
          "data": {
            "text/plain": [
              "0.3313953488372093"
            ]
          },
          "metadata": {
            "tags": []
          },
          "execution_count": 63
        }
      ]
    },
    {
      "cell_type": "markdown",
      "metadata": {
        "id": "Tbpf4Onznzg6"
      },
      "source": [
        "Utilizou-se o framework ML-ensemble para construir comitês stacking mais complexos com múltiplas camadas.\n",
        "\n",
        "Os resultados obtidos indicam que o uso de múltiplas camadas tende a aumentar o viés dos classificadores, levando ao underfitting.\n",
        "\n",
        "Assim, como nos modelos de aprendizado profundo a arquitetura da rede deve ser configurada para que o modelo possa apresentar bons resultados, sendo este tipo de comitê mais suceptível a falhas de implementação do que os demais."
      ]
    },
    {
      "cell_type": "markdown",
      "metadata": {
        "id": "Nf37LgqAPD3O"
      },
      "source": [
        "REFERÊNCIAS \n",
        "\n",
        "[Breiman(1996)] Breiman, L., 1996. Bagging Predictors. Machine Learning 24 (2), 123–140.\n",
        "\n",
        "[Lantz(2013)] Lantz, B., 2013. Machine Learning with R. Packt Publishing Ltd.\n",
        "\n",
        "[Marques et al.(2012)] Marques, A., Garcia, V., Sanchez, J., Sep 2012. Exploring the behaviour of base classifiers in credit scoring ensembles. Expert Systems with Applications 39 (11), 10244–10250.\n",
        "\n",
        "[Schapire(1990)] Schapire, R. E., Jun 1990. http://dx.doi.org/10.1007/BF00116037 The strength of weak learnability. Mach Learn 5 (2), 197–227.\n",
        "\n",
        "[Tsai et al.(2014) Tsai, Hsu, and Yen] Tsai, C.-F., Hsu, Y.-F., Yen, D. C., Nov 2014. A comparative study of classifier ensembles for bankruptcy prediction. Applied Soft Computing 24, 977–984.\n",
        "\n",
        "[Wang et al.(2011) Wang, Hao, Ma, and Jiang] Wang, G., Hao, J., Ma, J., Jiang, H., Jan 2011. A comparative assessment of ensemble learning for credit scoring. Expert Systems with Applications 38 (1), 223–230."
      ]
    }
  ]
}